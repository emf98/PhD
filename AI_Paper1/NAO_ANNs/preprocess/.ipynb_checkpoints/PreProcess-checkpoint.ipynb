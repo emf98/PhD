{
 "cells": [
  {
   "cell_type": "markdown",
   "id": "1a0c93f5-e2f5-49fc-9398-601be1cf9219",
   "metadata": {},
   "source": [
    "## Data pre-processing to conduct harmonics on gph data and calculate daily anomalies of temperature data. "
   ]
  },
  {
   "cell_type": "code",
   "execution_count": 1,
   "id": "eea338da-8ae4-47a2-a220-718dfb0b4b53",
   "metadata": {},
   "outputs": [
    {
     "name": "stderr",
     "output_type": "stream",
     "text": [
      "/knight/anaconda_jan21/envs/aug21/lib/python3.8/site-packages/scipy/__init__.py:146: UserWarning: A NumPy version >=1.16.5 and <1.23.0 is required for this version of SciPy (detected version 1.24.3\n",
      "  warnings.warn(f\"A NumPy version >={np_minversion} and <{np_maxversion}\"\n"
     ]
    }
   ],
   "source": [
    "#import statements\n",
    "import datetime as dt\n",
    "import numpy as np\n",
    "import xarray as xr\n",
    "import pickle"
   ]
  },
  {
   "cell_type": "code",
   "execution_count": 2,
   "id": "52499610-18e6-4c9f-83ff-6f9eeffa2ecd",
   "metadata": {},
   "outputs": [],
   "source": [
    "##GPH and temperature data from within this folder\n",
    "##regridded 2.5 degree gph data\n",
    "infile = open(\"./GPH_reduced/gph500_NAO25deg.p\", 'rb') \n",
    "gph = pickle.load(infile)\n",
    "infile.close()\n",
    "# weighted, temperature at 1000hPa over the area in europe\n",
    "infile = open(\"eur1000_temp.p\", 'rb') \n",
    "temp = pickle.load(infile)\n",
    "infile.close()"
   ]
  },
  {
   "cell_type": "code",
   "execution_count": 3,
   "id": "3e550c8f-e903-447f-ae42-3889b72bc1b4",
   "metadata": {},
   "outputs": [
    {
     "data": {
      "text/plain": [
       "(63, 151)"
      ]
     },
     "execution_count": 3,
     "metadata": {},
     "output_type": "execute_result"
    }
   ],
   "source": [
    "##remove leap days now\n",
    "temp = np.delete(temp,[120],1)\n",
    "temp.shape"
   ]
  },
  {
   "cell_type": "code",
   "execution_count": 4,
   "id": "0fef88d8-dc2c-49db-a821-ec94328b0718",
   "metadata": {},
   "outputs": [],
   "source": [
    "#lat\n",
    "lats = np.arange(80, 29.5, -2.5)\n",
    "#lon\n",
    "lons = np.arange(-100, -9.5, 2.5)\n",
    "#time\n",
    "infile = open(\"era5_timeindex.p\", 'rb') \n",
    "time = pickle.load(infile)\n",
    "infile.close()"
   ]
  },
  {
   "cell_type": "code",
   "execution_count": 5,
   "id": "c394ed49-50d8-4f2a-acec-18373705eb60",
   "metadata": {},
   "outputs": [],
   "source": [
    "##save year index\n",
    "year = [i for i in range(1959,2022)] #indicate years for data, needed for opening files"
   ]
  },
  {
   "cell_type": "code",
   "execution_count": 6,
   "id": "eaf56831-63dd-4fbe-b24e-ab7990a4ed1a",
   "metadata": {},
   "outputs": [
    {
     "data": {
      "text/plain": [
       "array([80. , 77.5, 75. , 72.5, 70. , 67.5, 65. , 62.5, 60. , 57.5, 55. ,\n",
       "       52.5, 50. , 47.5, 45. , 42.5, 40. , 37.5, 35. , 32.5, 30. ])"
      ]
     },
     "execution_count": 6,
     "metadata": {},
     "output_type": "execute_result"
    }
   ],
   "source": [
    "lats"
   ]
  },
  {
   "cell_type": "code",
   "execution_count": 7,
   "id": "119b2ede-b7c7-417c-8cab-46cf8c1f6b66",
   "metadata": {
    "scrolled": true
   },
   "outputs": [
    {
     "data": {
      "text/html": [
       "<div><svg style=\"position: absolute; width: 0; height: 0; overflow: hidden\">\n",
       "<defs>\n",
       "<symbol id=\"icon-database\" viewBox=\"0 0 32 32\">\n",
       "<path d=\"M16 0c-8.837 0-16 2.239-16 5v4c0 2.761 7.163 5 16 5s16-2.239 16-5v-4c0-2.761-7.163-5-16-5z\"></path>\n",
       "<path d=\"M16 17c-8.837 0-16-2.239-16-5v6c0 2.761 7.163 5 16 5s16-2.239 16-5v-6c0 2.761-7.163 5-16 5z\"></path>\n",
       "<path d=\"M16 26c-8.837 0-16-2.239-16-5v6c0 2.761 7.163 5 16 5s16-2.239 16-5v-6c0 2.761-7.163 5-16 5z\"></path>\n",
       "</symbol>\n",
       "<symbol id=\"icon-file-text2\" viewBox=\"0 0 32 32\">\n",
       "<path d=\"M28.681 7.159c-0.694-0.947-1.662-2.053-2.724-3.116s-2.169-2.030-3.116-2.724c-1.612-1.182-2.393-1.319-2.841-1.319h-15.5c-1.378 0-2.5 1.121-2.5 2.5v27c0 1.378 1.122 2.5 2.5 2.5h23c1.378 0 2.5-1.122 2.5-2.5v-19.5c0-0.448-0.137-1.23-1.319-2.841zM24.543 5.457c0.959 0.959 1.712 1.825 2.268 2.543h-4.811v-4.811c0.718 0.556 1.584 1.309 2.543 2.268zM28 29.5c0 0.271-0.229 0.5-0.5 0.5h-23c-0.271 0-0.5-0.229-0.5-0.5v-27c0-0.271 0.229-0.5 0.5-0.5 0 0 15.499-0 15.5 0v7c0 0.552 0.448 1 1 1h7v19.5z\"></path>\n",
       "<path d=\"M23 26h-14c-0.552 0-1-0.448-1-1s0.448-1 1-1h14c0.552 0 1 0.448 1 1s-0.448 1-1 1z\"></path>\n",
       "<path d=\"M23 22h-14c-0.552 0-1-0.448-1-1s0.448-1 1-1h14c0.552 0 1 0.448 1 1s-0.448 1-1 1z\"></path>\n",
       "<path d=\"M23 18h-14c-0.552 0-1-0.448-1-1s0.448-1 1-1h14c0.552 0 1 0.448 1 1s-0.448 1-1 1z\"></path>\n",
       "</symbol>\n",
       "</defs>\n",
       "</svg>\n",
       "<style>/* CSS stylesheet for displaying xarray objects in jupyterlab.\n",
       " *\n",
       " */\n",
       "\n",
       ":root {\n",
       "  --xr-font-color0: var(--jp-content-font-color0, rgba(0, 0, 0, 1));\n",
       "  --xr-font-color2: var(--jp-content-font-color2, rgba(0, 0, 0, 0.54));\n",
       "  --xr-font-color3: var(--jp-content-font-color3, rgba(0, 0, 0, 0.38));\n",
       "  --xr-border-color: var(--jp-border-color2, #e0e0e0);\n",
       "  --xr-disabled-color: var(--jp-layout-color3, #bdbdbd);\n",
       "  --xr-background-color: var(--jp-layout-color0, white);\n",
       "  --xr-background-color-row-even: var(--jp-layout-color1, white);\n",
       "  --xr-background-color-row-odd: var(--jp-layout-color2, #eeeeee);\n",
       "}\n",
       "\n",
       "html[theme=dark],\n",
       "body.vscode-dark {\n",
       "  --xr-font-color0: rgba(255, 255, 255, 1);\n",
       "  --xr-font-color2: rgba(255, 255, 255, 0.54);\n",
       "  --xr-font-color3: rgba(255, 255, 255, 0.38);\n",
       "  --xr-border-color: #1F1F1F;\n",
       "  --xr-disabled-color: #515151;\n",
       "  --xr-background-color: #111111;\n",
       "  --xr-background-color-row-even: #111111;\n",
       "  --xr-background-color-row-odd: #313131;\n",
       "}\n",
       "\n",
       ".xr-wrap {\n",
       "  display: block;\n",
       "  min-width: 300px;\n",
       "  max-width: 700px;\n",
       "}\n",
       "\n",
       ".xr-text-repr-fallback {\n",
       "  /* fallback to plain text repr when CSS is not injected (untrusted notebook) */\n",
       "  display: none;\n",
       "}\n",
       "\n",
       ".xr-header {\n",
       "  padding-top: 6px;\n",
       "  padding-bottom: 6px;\n",
       "  margin-bottom: 4px;\n",
       "  border-bottom: solid 1px var(--xr-border-color);\n",
       "}\n",
       "\n",
       ".xr-header > div,\n",
       ".xr-header > ul {\n",
       "  display: inline;\n",
       "  margin-top: 0;\n",
       "  margin-bottom: 0;\n",
       "}\n",
       "\n",
       ".xr-obj-type,\n",
       ".xr-array-name {\n",
       "  margin-left: 2px;\n",
       "  margin-right: 10px;\n",
       "}\n",
       "\n",
       ".xr-obj-type {\n",
       "  color: var(--xr-font-color2);\n",
       "}\n",
       "\n",
       ".xr-sections {\n",
       "  padding-left: 0 !important;\n",
       "  display: grid;\n",
       "  grid-template-columns: 150px auto auto 1fr 20px 20px;\n",
       "}\n",
       "\n",
       ".xr-section-item {\n",
       "  display: contents;\n",
       "}\n",
       "\n",
       ".xr-section-item input {\n",
       "  display: none;\n",
       "}\n",
       "\n",
       ".xr-section-item input + label {\n",
       "  color: var(--xr-disabled-color);\n",
       "}\n",
       "\n",
       ".xr-section-item input:enabled + label {\n",
       "  cursor: pointer;\n",
       "  color: var(--xr-font-color2);\n",
       "}\n",
       "\n",
       ".xr-section-item input:enabled + label:hover {\n",
       "  color: var(--xr-font-color0);\n",
       "}\n",
       "\n",
       ".xr-section-summary {\n",
       "  grid-column: 1;\n",
       "  color: var(--xr-font-color2);\n",
       "  font-weight: 500;\n",
       "}\n",
       "\n",
       ".xr-section-summary > span {\n",
       "  display: inline-block;\n",
       "  padding-left: 0.5em;\n",
       "}\n",
       "\n",
       ".xr-section-summary-in:disabled + label {\n",
       "  color: var(--xr-font-color2);\n",
       "}\n",
       "\n",
       ".xr-section-summary-in + label:before {\n",
       "  display: inline-block;\n",
       "  content: '►';\n",
       "  font-size: 11px;\n",
       "  width: 15px;\n",
       "  text-align: center;\n",
       "}\n",
       "\n",
       ".xr-section-summary-in:disabled + label:before {\n",
       "  color: var(--xr-disabled-color);\n",
       "}\n",
       "\n",
       ".xr-section-summary-in:checked + label:before {\n",
       "  content: '▼';\n",
       "}\n",
       "\n",
       ".xr-section-summary-in:checked + label > span {\n",
       "  display: none;\n",
       "}\n",
       "\n",
       ".xr-section-summary,\n",
       ".xr-section-inline-details {\n",
       "  padding-top: 4px;\n",
       "  padding-bottom: 4px;\n",
       "}\n",
       "\n",
       ".xr-section-inline-details {\n",
       "  grid-column: 2 / -1;\n",
       "}\n",
       "\n",
       ".xr-section-details {\n",
       "  display: none;\n",
       "  grid-column: 1 / -1;\n",
       "  margin-bottom: 5px;\n",
       "}\n",
       "\n",
       ".xr-section-summary-in:checked ~ .xr-section-details {\n",
       "  display: contents;\n",
       "}\n",
       "\n",
       ".xr-array-wrap {\n",
       "  grid-column: 1 / -1;\n",
       "  display: grid;\n",
       "  grid-template-columns: 20px auto;\n",
       "}\n",
       "\n",
       ".xr-array-wrap > label {\n",
       "  grid-column: 1;\n",
       "  vertical-align: top;\n",
       "}\n",
       "\n",
       ".xr-preview {\n",
       "  color: var(--xr-font-color3);\n",
       "}\n",
       "\n",
       ".xr-array-preview,\n",
       ".xr-array-data {\n",
       "  padding: 0 5px !important;\n",
       "  grid-column: 2;\n",
       "}\n",
       "\n",
       ".xr-array-data,\n",
       ".xr-array-in:checked ~ .xr-array-preview {\n",
       "  display: none;\n",
       "}\n",
       "\n",
       ".xr-array-in:checked ~ .xr-array-data,\n",
       ".xr-array-preview {\n",
       "  display: inline-block;\n",
       "}\n",
       "\n",
       ".xr-dim-list {\n",
       "  display: inline-block !important;\n",
       "  list-style: none;\n",
       "  padding: 0 !important;\n",
       "  margin: 0;\n",
       "}\n",
       "\n",
       ".xr-dim-list li {\n",
       "  display: inline-block;\n",
       "  padding: 0;\n",
       "  margin: 0;\n",
       "}\n",
       "\n",
       ".xr-dim-list:before {\n",
       "  content: '(';\n",
       "}\n",
       "\n",
       ".xr-dim-list:after {\n",
       "  content: ')';\n",
       "}\n",
       "\n",
       ".xr-dim-list li:not(:last-child):after {\n",
       "  content: ',';\n",
       "  padding-right: 5px;\n",
       "}\n",
       "\n",
       ".xr-has-index {\n",
       "  font-weight: bold;\n",
       "}\n",
       "\n",
       ".xr-var-list,\n",
       ".xr-var-item {\n",
       "  display: contents;\n",
       "}\n",
       "\n",
       ".xr-var-item > div,\n",
       ".xr-var-item label,\n",
       ".xr-var-item > .xr-var-name span {\n",
       "  background-color: var(--xr-background-color-row-even);\n",
       "  margin-bottom: 0;\n",
       "}\n",
       "\n",
       ".xr-var-item > .xr-var-name:hover span {\n",
       "  padding-right: 5px;\n",
       "}\n",
       "\n",
       ".xr-var-list > li:nth-child(odd) > div,\n",
       ".xr-var-list > li:nth-child(odd) > label,\n",
       ".xr-var-list > li:nth-child(odd) > .xr-var-name span {\n",
       "  background-color: var(--xr-background-color-row-odd);\n",
       "}\n",
       "\n",
       ".xr-var-name {\n",
       "  grid-column: 1;\n",
       "}\n",
       "\n",
       ".xr-var-dims {\n",
       "  grid-column: 2;\n",
       "}\n",
       "\n",
       ".xr-var-dtype {\n",
       "  grid-column: 3;\n",
       "  text-align: right;\n",
       "  color: var(--xr-font-color2);\n",
       "}\n",
       "\n",
       ".xr-var-preview {\n",
       "  grid-column: 4;\n",
       "}\n",
       "\n",
       ".xr-var-name,\n",
       ".xr-var-dims,\n",
       ".xr-var-dtype,\n",
       ".xr-preview,\n",
       ".xr-attrs dt {\n",
       "  white-space: nowrap;\n",
       "  overflow: hidden;\n",
       "  text-overflow: ellipsis;\n",
       "  padding-right: 10px;\n",
       "}\n",
       "\n",
       ".xr-var-name:hover,\n",
       ".xr-var-dims:hover,\n",
       ".xr-var-dtype:hover,\n",
       ".xr-attrs dt:hover {\n",
       "  overflow: visible;\n",
       "  width: auto;\n",
       "  z-index: 1;\n",
       "}\n",
       "\n",
       ".xr-var-attrs,\n",
       ".xr-var-data {\n",
       "  display: none;\n",
       "  background-color: var(--xr-background-color) !important;\n",
       "  padding-bottom: 5px !important;\n",
       "}\n",
       "\n",
       ".xr-var-attrs-in:checked ~ .xr-var-attrs,\n",
       ".xr-var-data-in:checked ~ .xr-var-data {\n",
       "  display: block;\n",
       "}\n",
       "\n",
       ".xr-var-data > table {\n",
       "  float: right;\n",
       "}\n",
       "\n",
       ".xr-var-name span,\n",
       ".xr-var-data,\n",
       ".xr-attrs {\n",
       "  padding-left: 25px !important;\n",
       "}\n",
       "\n",
       ".xr-attrs,\n",
       ".xr-var-attrs,\n",
       ".xr-var-data {\n",
       "  grid-column: 1 / -1;\n",
       "}\n",
       "\n",
       "dl.xr-attrs {\n",
       "  padding: 0;\n",
       "  margin: 0;\n",
       "  display: grid;\n",
       "  grid-template-columns: 125px auto;\n",
       "}\n",
       "\n",
       ".xr-attrs dt,\n",
       ".xr-attrs dd {\n",
       "  padding: 0;\n",
       "  margin: 0;\n",
       "  float: left;\n",
       "  padding-right: 10px;\n",
       "  width: auto;\n",
       "}\n",
       "\n",
       ".xr-attrs dt {\n",
       "  font-weight: normal;\n",
       "  grid-column: 1;\n",
       "}\n",
       "\n",
       ".xr-attrs dt:hover span {\n",
       "  display: inline-block;\n",
       "  background: var(--xr-background-color);\n",
       "  padding-right: 10px;\n",
       "}\n",
       "\n",
       ".xr-attrs dd {\n",
       "  grid-column: 2;\n",
       "  white-space: pre-wrap;\n",
       "  word-break: break-all;\n",
       "}\n",
       "\n",
       ".xr-icon-database,\n",
       ".xr-icon-file-text2 {\n",
       "  display: inline-block;\n",
       "  vertical-align: middle;\n",
       "  width: 1em;\n",
       "  height: 1.5em !important;\n",
       "  stroke-width: 0;\n",
       "  stroke: currentColor;\n",
       "  fill: currentColor;\n",
       "}\n",
       "</style><pre class='xr-text-repr-fallback'>&lt;xarray.DataArray (year: 63, day: 152, lat: 21, lon: 37)&gt;\n",
       "array([[[[5078.91341743, 5070.58167686, 5063.76624618, ...,\n",
       "          5082.69941386, 5084.21413099, 5089.51484455],\n",
       "         [5009.24120795, 4997.12347095, 4984.24917176, ...,\n",
       "          5064.52440112, 5062.25152905, 5061.49496687],\n",
       "         [4966.83231397, 4957.74401121, 4947.89914628, ...,\n",
       "          5069.06695973, 5070.58167686, 5071.3398318 ],\n",
       "         ...,\n",
       "         [5854.39283894, 5861.96642457, 5861.96642457, ...,\n",
       "          5819.55753058, 5800.6243629 , 5789.26478084],\n",
       "         [5862.72298675, 5877.11200306, 5886.95686799, ...,\n",
       "          5824.85824414, 5808.19794852, 5791.53606014],\n",
       "         [5877.11200306, 5894.53045362, 5905.13188073, ...,\n",
       "          5826.37296126, 5821.07065494, 5801.38092508]],\n",
       "\n",
       "        [[5124.35174567, 5115.26344292, 5107.68985729, ...,\n",
       "          5046.34938838, 5043.31995413, 5040.29051988],\n",
       "         [5034.23165138, 5009.24120795, 4991.82275739, ...,\n",
       "          5050.13538481, 5046.34938838, 5044.07651631],\n",
       "         [4969.10359327, 4941.84027778, 4922.15054791, ...,\n",
       "          5053.16481906, 5047.86251274, 5043.31995413],\n",
       "...\n",
       "         [5526.5752421 , 5516.08212283, 5488.35053517, ...,\n",
       "          5714.69960499, 5683.97043833, 5647.2445209 ],\n",
       "         [5573.04408767, 5566.29873853, 5562.5509684 , ...,\n",
       "          5737.9332314 , 5710.20323649, 5680.2226682 ],\n",
       "         [5626.25828236, 5624.75949286, 5643.49675076, ...,\n",
       "          5758.17087156, 5735.68584353, 5711.70202599]],\n",
       "\n",
       "        [[5044.64831804, 5040.90054791, 5039.40175841, ...,\n",
       "          5250.76134047, 5254.50751784, 5256.75649847],\n",
       "         [4998.92966361, 4991.43412334, 4988.43654434, ...,\n",
       "          5278.49133537, 5282.98929664, 5287.48566514],\n",
       "         [4953.95960754, 4944.21667941, 4938.97011978, ...,\n",
       "          5297.23018603, 5303.22534404, 5309.97069317],\n",
       "         ...,\n",
       "         [5709.45304536, 5711.70202599, 5716.1983945 , ...,\n",
       "          5833.11990316, 5828.62353466, 5827.87334353],\n",
       "         [5724.44253313, 5738.68342253, 5750.67533129, ...,\n",
       "          5863.84906983, 5860.10129969, 5854.85474006],\n",
       "         [5749.17654179, 5769.41258919, 5785.90245923, ...,\n",
       "          5878.84015036, 5876.59116972, 5869.84582059]]]])\n",
       "Coordinates:\n",
       "  * year     (year) int64 1959 1960 1961 1962 1963 ... 2017 2018 2019 2020 2021\n",
       "  * day      (day) &lt;U5 &#x27;11-01&#x27; &#x27;11-02&#x27; &#x27;11-03&#x27; ... &#x27;03-29&#x27; &#x27;03-30&#x27; &#x27;03-31&#x27;\n",
       "  * lat      (lat) float64 80.0 77.5 75.0 72.5 70.0 ... 40.0 37.5 35.0 32.5 30.0\n",
       "  * lon      (lon) float64 -100.0 -97.5 -95.0 -92.5 ... -17.5 -15.0 -12.5 -10.0</pre><div class='xr-wrap' hidden><div class='xr-header'><div class='xr-obj-type'>xarray.DataArray</div><div class='xr-array-name'></div><ul class='xr-dim-list'><li><span class='xr-has-index'>year</span>: 63</li><li><span class='xr-has-index'>day</span>: 152</li><li><span class='xr-has-index'>lat</span>: 21</li><li><span class='xr-has-index'>lon</span>: 37</li></ul></div><ul class='xr-sections'><li class='xr-section-item'><div class='xr-array-wrap'><input id='section-0d0be41e-90d6-4104-9b52-568b0904f04e' class='xr-array-in' type='checkbox' checked><label for='section-0d0be41e-90d6-4104-9b52-568b0904f04e' title='Show/hide data repr'><svg class='icon xr-icon-database'><use xlink:href='#icon-database'></use></svg></label><div class='xr-array-preview xr-preview'><span>5.079e+03 5.071e+03 5.064e+03 ... 5.879e+03 5.877e+03 5.87e+03</span></div><div class='xr-array-data'><pre>array([[[[5078.91341743, 5070.58167686, 5063.76624618, ...,\n",
       "          5082.69941386, 5084.21413099, 5089.51484455],\n",
       "         [5009.24120795, 4997.12347095, 4984.24917176, ...,\n",
       "          5064.52440112, 5062.25152905, 5061.49496687],\n",
       "         [4966.83231397, 4957.74401121, 4947.89914628, ...,\n",
       "          5069.06695973, 5070.58167686, 5071.3398318 ],\n",
       "         ...,\n",
       "         [5854.39283894, 5861.96642457, 5861.96642457, ...,\n",
       "          5819.55753058, 5800.6243629 , 5789.26478084],\n",
       "         [5862.72298675, 5877.11200306, 5886.95686799, ...,\n",
       "          5824.85824414, 5808.19794852, 5791.53606014],\n",
       "         [5877.11200306, 5894.53045362, 5905.13188073, ...,\n",
       "          5826.37296126, 5821.07065494, 5801.38092508]],\n",
       "\n",
       "        [[5124.35174567, 5115.26344292, 5107.68985729, ...,\n",
       "          5046.34938838, 5043.31995413, 5040.29051988],\n",
       "         [5034.23165138, 5009.24120795, 4991.82275739, ...,\n",
       "          5050.13538481, 5046.34938838, 5044.07651631],\n",
       "         [4969.10359327, 4941.84027778, 4922.15054791, ...,\n",
       "          5053.16481906, 5047.86251274, 5043.31995413],\n",
       "...\n",
       "         [5526.5752421 , 5516.08212283, 5488.35053517, ...,\n",
       "          5714.69960499, 5683.97043833, 5647.2445209 ],\n",
       "         [5573.04408767, 5566.29873853, 5562.5509684 , ...,\n",
       "          5737.9332314 , 5710.20323649, 5680.2226682 ],\n",
       "         [5626.25828236, 5624.75949286, 5643.49675076, ...,\n",
       "          5758.17087156, 5735.68584353, 5711.70202599]],\n",
       "\n",
       "        [[5044.64831804, 5040.90054791, 5039.40175841, ...,\n",
       "          5250.76134047, 5254.50751784, 5256.75649847],\n",
       "         [4998.92966361, 4991.43412334, 4988.43654434, ...,\n",
       "          5278.49133537, 5282.98929664, 5287.48566514],\n",
       "         [4953.95960754, 4944.21667941, 4938.97011978, ...,\n",
       "          5297.23018603, 5303.22534404, 5309.97069317],\n",
       "         ...,\n",
       "         [5709.45304536, 5711.70202599, 5716.1983945 , ...,\n",
       "          5833.11990316, 5828.62353466, 5827.87334353],\n",
       "         [5724.44253313, 5738.68342253, 5750.67533129, ...,\n",
       "          5863.84906983, 5860.10129969, 5854.85474006],\n",
       "         [5749.17654179, 5769.41258919, 5785.90245923, ...,\n",
       "          5878.84015036, 5876.59116972, 5869.84582059]]]])</pre></div></div></li><li class='xr-section-item'><input id='section-c54838db-2770-4968-a63b-106438c0d25e' class='xr-section-summary-in' type='checkbox'  checked><label for='section-c54838db-2770-4968-a63b-106438c0d25e' class='xr-section-summary' >Coordinates: <span>(4)</span></label><div class='xr-section-inline-details'></div><div class='xr-section-details'><ul class='xr-var-list'><li class='xr-var-item'><div class='xr-var-name'><span class='xr-has-index'>year</span></div><div class='xr-var-dims'>(year)</div><div class='xr-var-dtype'>int64</div><div class='xr-var-preview xr-preview'>1959 1960 1961 ... 2019 2020 2021</div><input id='attrs-ad74958f-b27f-4637-b509-d8d8d4ae0b8f' class='xr-var-attrs-in' type='checkbox' disabled><label for='attrs-ad74958f-b27f-4637-b509-d8d8d4ae0b8f' title='Show/Hide attributes'><svg class='icon xr-icon-file-text2'><use xlink:href='#icon-file-text2'></use></svg></label><input id='data-a0e2dac3-9670-4d2c-b6fb-285ed8215603' class='xr-var-data-in' type='checkbox'><label for='data-a0e2dac3-9670-4d2c-b6fb-285ed8215603' title='Show/Hide data repr'><svg class='icon xr-icon-database'><use xlink:href='#icon-database'></use></svg></label><div class='xr-var-attrs'><dl class='xr-attrs'></dl></div><div class='xr-var-data'><pre>array([1959, 1960, 1961, 1962, 1963, 1964, 1965, 1966, 1967, 1968, 1969, 1970,\n",
       "       1971, 1972, 1973, 1974, 1975, 1976, 1977, 1978, 1979, 1980, 1981, 1982,\n",
       "       1983, 1984, 1985, 1986, 1987, 1988, 1989, 1990, 1991, 1992, 1993, 1994,\n",
       "       1995, 1996, 1997, 1998, 1999, 2000, 2001, 2002, 2003, 2004, 2005, 2006,\n",
       "       2007, 2008, 2009, 2010, 2011, 2012, 2013, 2014, 2015, 2016, 2017, 2018,\n",
       "       2019, 2020, 2021])</pre></div></li><li class='xr-var-item'><div class='xr-var-name'><span class='xr-has-index'>day</span></div><div class='xr-var-dims'>(day)</div><div class='xr-var-dtype'>&lt;U5</div><div class='xr-var-preview xr-preview'>&#x27;11-01&#x27; &#x27;11-02&#x27; ... &#x27;03-30&#x27; &#x27;03-31&#x27;</div><input id='attrs-e86cdc46-db42-478a-9d72-95800d402e71' class='xr-var-attrs-in' type='checkbox' disabled><label for='attrs-e86cdc46-db42-478a-9d72-95800d402e71' title='Show/Hide attributes'><svg class='icon xr-icon-file-text2'><use xlink:href='#icon-file-text2'></use></svg></label><input id='data-715a2c83-d276-4ca3-91b9-80f231b918e5' class='xr-var-data-in' type='checkbox'><label for='data-715a2c83-d276-4ca3-91b9-80f231b918e5' title='Show/Hide data repr'><svg class='icon xr-icon-database'><use xlink:href='#icon-database'></use></svg></label><div class='xr-var-attrs'><dl class='xr-attrs'></dl></div><div class='xr-var-data'><pre>array([&#x27;11-01&#x27;, &#x27;11-02&#x27;, &#x27;11-03&#x27;, &#x27;11-04&#x27;, &#x27;11-05&#x27;, &#x27;11-06&#x27;, &#x27;11-07&#x27;, &#x27;11-08&#x27;,\n",
       "       &#x27;11-09&#x27;, &#x27;11-10&#x27;, &#x27;11-11&#x27;, &#x27;11-12&#x27;, &#x27;11-13&#x27;, &#x27;11-14&#x27;, &#x27;11-15&#x27;, &#x27;11-16&#x27;,\n",
       "       &#x27;11-17&#x27;, &#x27;11-18&#x27;, &#x27;11-19&#x27;, &#x27;11-20&#x27;, &#x27;11-21&#x27;, &#x27;11-22&#x27;, &#x27;11-23&#x27;, &#x27;11-24&#x27;,\n",
       "       &#x27;11-25&#x27;, &#x27;11-26&#x27;, &#x27;11-27&#x27;, &#x27;11-28&#x27;, &#x27;11-29&#x27;, &#x27;11-30&#x27;, &#x27;12-01&#x27;, &#x27;12-02&#x27;,\n",
       "       &#x27;12-03&#x27;, &#x27;12-04&#x27;, &#x27;12-05&#x27;, &#x27;12-06&#x27;, &#x27;12-07&#x27;, &#x27;12-08&#x27;, &#x27;12-09&#x27;, &#x27;12-10&#x27;,\n",
       "       &#x27;12-11&#x27;, &#x27;12-12&#x27;, &#x27;12-13&#x27;, &#x27;12-14&#x27;, &#x27;12-15&#x27;, &#x27;12-16&#x27;, &#x27;12-17&#x27;, &#x27;12-18&#x27;,\n",
       "       &#x27;12-19&#x27;, &#x27;12-20&#x27;, &#x27;12-21&#x27;, &#x27;12-22&#x27;, &#x27;12-23&#x27;, &#x27;12-24&#x27;, &#x27;12-25&#x27;, &#x27;12-26&#x27;,\n",
       "       &#x27;12-27&#x27;, &#x27;12-28&#x27;, &#x27;12-29&#x27;, &#x27;12-30&#x27;, &#x27;12-31&#x27;, &#x27;01-01&#x27;, &#x27;01-02&#x27;, &#x27;01-03&#x27;,\n",
       "       &#x27;01-04&#x27;, &#x27;01-05&#x27;, &#x27;01-06&#x27;, &#x27;01-07&#x27;, &#x27;01-08&#x27;, &#x27;01-09&#x27;, &#x27;01-10&#x27;, &#x27;01-11&#x27;,\n",
       "       &#x27;01-12&#x27;, &#x27;01-13&#x27;, &#x27;01-14&#x27;, &#x27;01-15&#x27;, &#x27;01-16&#x27;, &#x27;01-17&#x27;, &#x27;01-18&#x27;, &#x27;01-19&#x27;,\n",
       "       &#x27;01-20&#x27;, &#x27;01-21&#x27;, &#x27;01-22&#x27;, &#x27;01-23&#x27;, &#x27;01-24&#x27;, &#x27;01-25&#x27;, &#x27;01-26&#x27;, &#x27;01-27&#x27;,\n",
       "       &#x27;01-28&#x27;, &#x27;01-29&#x27;, &#x27;01-30&#x27;, &#x27;01-31&#x27;, &#x27;02-01&#x27;, &#x27;02-02&#x27;, &#x27;02-03&#x27;, &#x27;02-04&#x27;,\n",
       "       &#x27;02-05&#x27;, &#x27;02-06&#x27;, &#x27;02-07&#x27;, &#x27;02-08&#x27;, &#x27;02-09&#x27;, &#x27;02-10&#x27;, &#x27;02-11&#x27;, &#x27;02-12&#x27;,\n",
       "       &#x27;02-13&#x27;, &#x27;02-14&#x27;, &#x27;02-15&#x27;, &#x27;02-16&#x27;, &#x27;02-17&#x27;, &#x27;02-18&#x27;, &#x27;02-19&#x27;, &#x27;02-20&#x27;,\n",
       "       &#x27;02-21&#x27;, &#x27;02-22&#x27;, &#x27;02-23&#x27;, &#x27;02-24&#x27;, &#x27;02-25&#x27;, &#x27;02-26&#x27;, &#x27;02-27&#x27;, &#x27;02-28&#x27;,\n",
       "       &#x27;02-29&#x27;, &#x27;03-01&#x27;, &#x27;03-02&#x27;, &#x27;03-03&#x27;, &#x27;03-04&#x27;, &#x27;03-05&#x27;, &#x27;03-06&#x27;, &#x27;03-07&#x27;,\n",
       "       &#x27;03-08&#x27;, &#x27;03-09&#x27;, &#x27;03-10&#x27;, &#x27;03-11&#x27;, &#x27;03-12&#x27;, &#x27;03-13&#x27;, &#x27;03-14&#x27;, &#x27;03-15&#x27;,\n",
       "       &#x27;03-16&#x27;, &#x27;03-17&#x27;, &#x27;03-18&#x27;, &#x27;03-19&#x27;, &#x27;03-20&#x27;, &#x27;03-21&#x27;, &#x27;03-22&#x27;, &#x27;03-23&#x27;,\n",
       "       &#x27;03-24&#x27;, &#x27;03-25&#x27;, &#x27;03-26&#x27;, &#x27;03-27&#x27;, &#x27;03-28&#x27;, &#x27;03-29&#x27;, &#x27;03-30&#x27;, &#x27;03-31&#x27;],\n",
       "      dtype=&#x27;&lt;U5&#x27;)</pre></div></li><li class='xr-var-item'><div class='xr-var-name'><span class='xr-has-index'>lat</span></div><div class='xr-var-dims'>(lat)</div><div class='xr-var-dtype'>float64</div><div class='xr-var-preview xr-preview'>80.0 77.5 75.0 ... 35.0 32.5 30.0</div><input id='attrs-eef2bb5a-2ecb-4aa6-a083-e982fc7c850d' class='xr-var-attrs-in' type='checkbox' disabled><label for='attrs-eef2bb5a-2ecb-4aa6-a083-e982fc7c850d' title='Show/Hide attributes'><svg class='icon xr-icon-file-text2'><use xlink:href='#icon-file-text2'></use></svg></label><input id='data-af93e547-8ea0-4499-aec7-1a2d6f9baf0d' class='xr-var-data-in' type='checkbox'><label for='data-af93e547-8ea0-4499-aec7-1a2d6f9baf0d' title='Show/Hide data repr'><svg class='icon xr-icon-database'><use xlink:href='#icon-database'></use></svg></label><div class='xr-var-attrs'><dl class='xr-attrs'></dl></div><div class='xr-var-data'><pre>array([80. , 77.5, 75. , 72.5, 70. , 67.5, 65. , 62.5, 60. , 57.5, 55. , 52.5,\n",
       "       50. , 47.5, 45. , 42.5, 40. , 37.5, 35. , 32.5, 30. ])</pre></div></li><li class='xr-var-item'><div class='xr-var-name'><span class='xr-has-index'>lon</span></div><div class='xr-var-dims'>(lon)</div><div class='xr-var-dtype'>float64</div><div class='xr-var-preview xr-preview'>-100.0 -97.5 -95.0 ... -12.5 -10.0</div><input id='attrs-350d8514-8887-452e-bd50-6d15ddd84431' class='xr-var-attrs-in' type='checkbox' disabled><label for='attrs-350d8514-8887-452e-bd50-6d15ddd84431' title='Show/Hide attributes'><svg class='icon xr-icon-file-text2'><use xlink:href='#icon-file-text2'></use></svg></label><input id='data-e5f8ac54-b91f-4aa8-8ee8-afed281817e8' class='xr-var-data-in' type='checkbox'><label for='data-e5f8ac54-b91f-4aa8-8ee8-afed281817e8' title='Show/Hide data repr'><svg class='icon xr-icon-database'><use xlink:href='#icon-database'></use></svg></label><div class='xr-var-attrs'><dl class='xr-attrs'></dl></div><div class='xr-var-data'><pre>array([-100. ,  -97.5,  -95. ,  -92.5,  -90. ,  -87.5,  -85. ,  -82.5,  -80. ,\n",
       "        -77.5,  -75. ,  -72.5,  -70. ,  -67.5,  -65. ,  -62.5,  -60. ,  -57.5,\n",
       "        -55. ,  -52.5,  -50. ,  -47.5,  -45. ,  -42.5,  -40. ,  -37.5,  -35. ,\n",
       "        -32.5,  -30. ,  -27.5,  -25. ,  -22.5,  -20. ,  -17.5,  -15. ,  -12.5,\n",
       "        -10. ])</pre></div></li></ul></div></li><li class='xr-section-item'><input id='section-355c115e-15aa-465e-a9fc-e62219e33d1f' class='xr-section-summary-in' type='checkbox' disabled ><label for='section-355c115e-15aa-465e-a9fc-e62219e33d1f' class='xr-section-summary'  title='Expand/collapse section'>Attributes: <span>(0)</span></label><div class='xr-section-inline-details'></div><div class='xr-section-details'><dl class='xr-attrs'></dl></div></li></ul></div></div>"
      ],
      "text/plain": [
       "<xarray.DataArray (year: 63, day: 152, lat: 21, lon: 37)>\n",
       "array([[[[5078.91341743, 5070.58167686, 5063.76624618, ...,\n",
       "          5082.69941386, 5084.21413099, 5089.51484455],\n",
       "         [5009.24120795, 4997.12347095, 4984.24917176, ...,\n",
       "          5064.52440112, 5062.25152905, 5061.49496687],\n",
       "         [4966.83231397, 4957.74401121, 4947.89914628, ...,\n",
       "          5069.06695973, 5070.58167686, 5071.3398318 ],\n",
       "         ...,\n",
       "         [5854.39283894, 5861.96642457, 5861.96642457, ...,\n",
       "          5819.55753058, 5800.6243629 , 5789.26478084],\n",
       "         [5862.72298675, 5877.11200306, 5886.95686799, ...,\n",
       "          5824.85824414, 5808.19794852, 5791.53606014],\n",
       "         [5877.11200306, 5894.53045362, 5905.13188073, ...,\n",
       "          5826.37296126, 5821.07065494, 5801.38092508]],\n",
       "\n",
       "        [[5124.35174567, 5115.26344292, 5107.68985729, ...,\n",
       "          5046.34938838, 5043.31995413, 5040.29051988],\n",
       "         [5034.23165138, 5009.24120795, 4991.82275739, ...,\n",
       "          5050.13538481, 5046.34938838, 5044.07651631],\n",
       "         [4969.10359327, 4941.84027778, 4922.15054791, ...,\n",
       "          5053.16481906, 5047.86251274, 5043.31995413],\n",
       "...\n",
       "         [5526.5752421 , 5516.08212283, 5488.35053517, ...,\n",
       "          5714.69960499, 5683.97043833, 5647.2445209 ],\n",
       "         [5573.04408767, 5566.29873853, 5562.5509684 , ...,\n",
       "          5737.9332314 , 5710.20323649, 5680.2226682 ],\n",
       "         [5626.25828236, 5624.75949286, 5643.49675076, ...,\n",
       "          5758.17087156, 5735.68584353, 5711.70202599]],\n",
       "\n",
       "        [[5044.64831804, 5040.90054791, 5039.40175841, ...,\n",
       "          5250.76134047, 5254.50751784, 5256.75649847],\n",
       "         [4998.92966361, 4991.43412334, 4988.43654434, ...,\n",
       "          5278.49133537, 5282.98929664, 5287.48566514],\n",
       "         [4953.95960754, 4944.21667941, 4938.97011978, ...,\n",
       "          5297.23018603, 5303.22534404, 5309.97069317],\n",
       "         ...,\n",
       "         [5709.45304536, 5711.70202599, 5716.1983945 , ...,\n",
       "          5833.11990316, 5828.62353466, 5827.87334353],\n",
       "         [5724.44253313, 5738.68342253, 5750.67533129, ...,\n",
       "          5863.84906983, 5860.10129969, 5854.85474006],\n",
       "         [5749.17654179, 5769.41258919, 5785.90245923, ...,\n",
       "          5878.84015036, 5876.59116972, 5869.84582059]]]])\n",
       "Coordinates:\n",
       "  * year     (year) int64 1959 1960 1961 1962 1963 ... 2017 2018 2019 2020 2021\n",
       "  * day      (day) <U5 '11-01' '11-02' '11-03' ... '03-29' '03-30' '03-31'\n",
       "  * lat      (lat) float64 80.0 77.5 75.0 72.5 70.0 ... 40.0 37.5 35.0 32.5 30.0\n",
       "  * lon      (lon) float64 -100.0 -97.5 -95.0 -92.5 ... -17.5 -15.0 -12.5 -10.0"
      ]
     },
     "execution_count": 7,
     "metadata": {},
     "output_type": "execute_result"
    }
   ],
   "source": [
    "##create array for gph ... \n",
    "g = xr.DataArray(data= gph, dims = [\"year\",\"day\",\"lat\",\"lon\"],coords = dict(year = year,\n",
    "                                                                                day = time,\n",
    "                                                                                lat = lats,\n",
    "                                                                                lon = lons))\n",
    "g"
   ]
  },
  {
   "cell_type": "code",
   "execution_count": 8,
   "id": "b6c4ed90-0b45-4737-98b7-08afc0379e52",
   "metadata": {},
   "outputs": [
    {
     "data": {
      "text/plain": [
       "(63, 151, 21, 37)"
      ]
     },
     "execution_count": 8,
     "metadata": {},
     "output_type": "execute_result"
    }
   ],
   "source": [
    "##need to calculate 60-year daily anomalies of values \n",
    "##conduct FFT smoothing on gph daily anomalies\n",
    "\n",
    "gph = g.values\n",
    "##remove leap days now\n",
    "gph = np.delete(gph,[120],1)\n",
    "\n",
    "dailymean_gph = np.nanmean(gph,axis=1)\n",
    "anom_g=np.zeros_like(gph)\n",
    "for t in np.arange(gph.shape[1]):\n",
    "     anom_g[:,t,:,:] = gph[:,t,:,:] - dailymean_gph\n",
    "anom_g.shape"
   ]
  },
  {
   "cell_type": "code",
   "execution_count": 9,
   "id": "f9767f01-b0aa-47bb-8539-4cf4b5e8c296",
   "metadata": {},
   "outputs": [],
   "source": [
    "if np.any(np.isnan(anom_g)) or np.any(np.isinf(anom_g)):\n",
    "    print(\"NaN or Inf values found in anom_g!\")"
   ]
  },
  {
   "cell_type": "code",
   "execution_count": 11,
   "id": "2b049275-0cf7-4920-89aa-38fc60d77dce",
   "metadata": {},
   "outputs": [],
   "source": [
    "##thank you paul roundy for helping me code this FFT \n",
    "gphfil=np.zeros_like(anom_g)\n",
    "\n",
    "for y in np.arange(anom_g.shape[0]):\n",
    "    d=anom_g[y,:,:,:] #extracts data for each year\n",
    "    fftout=np.fft.fft(d,axis=0) #compute fast fourier over the days axis\n",
    "    pers=d.shape[0]/np.arange(1, d.shape[0] + 1) ##calculating the period in days for frequency\n",
    "    #Ifil=np.where(np.logical_and(pers>=14,pers<=60))[0] ##select subseasonal fluctuation\n",
    "    Ifil=np.where(np.logical_and(pers>=10,pers<=50))[0] \n",
    "    fftfil=np.zeros_like(fftout)\n",
    "    fftfil[Ifil,:,:]=fftout[Ifil,:,:] #copy into array\n",
    "    fftfil[-Ifil,:,:]=fftout[-Ifil,:,:] #conjugate symmetry\n",
    "    gphfil[y,:,:,:]=np.fft.ifft(fftfil,axis=0).real"
   ]
  },
  {
   "cell_type": "code",
   "execution_count": 12,
   "id": "8b44497e-b5de-4aaa-9d9b-90ff674ff1bf",
   "metadata": {},
   "outputs": [],
   "source": [
    "import matplotlib.pyplot as plt "
   ]
  },
  {
   "cell_type": "code",
   "execution_count": 13,
   "id": "b84aee4b-e68c-4310-a4ec-41b08939c1cf",
   "metadata": {},
   "outputs": [
    {
     "data": {
      "text/plain": [
       "(63, 151, 21, 37)"
      ]
     },
     "execution_count": 13,
     "metadata": {},
     "output_type": "execute_result"
    }
   ],
   "source": [
    "gphfil.shape"
   ]
  },
  {
   "cell_type": "code",
   "execution_count": 14,
   "id": "5c11bbc8-9a6c-410a-9bc3-df67245655a2",
   "metadata": {},
   "outputs": [
    {
     "data": {
      "text/plain": [
       "[<matplotlib.lines.Line2D at 0x7f5f0dd3b1c0>]"
      ]
     },
     "execution_count": 14,
     "metadata": {},
     "output_type": "execute_result"
    },
    {
     "data": {
      "image/png": "[encoded data removed]",
      "text/plain": [
       "<Figure size 432x288 with 1 Axes>"
      ]
     },
     "metadata": {
      "needs_background": "light"
     },
     "output_type": "display_data"
    }
   ],
   "source": [
    "plt.plot(anom_g[60,:,10,10])\n",
    "plt.plot(gphfil[60,:,10,10])"
   ]
  },
  {
   "cell_type": "code",
   "execution_count": 15,
   "id": "587bf3e4-948d-45b0-ba52-ba6e928ea33c",
   "metadata": {},
   "outputs": [
    {
     "data": {
      "text/plain": [
       "(63, 151)"
      ]
     },
     "execution_count": 15,
     "metadata": {},
     "output_type": "execute_result"
    }
   ],
   "source": [
    "dailymean_t = np.nanmean(temp,axis=1)\n",
    "anom_t=np.zeros_like(temp)\n",
    "for t in np.arange(temp.shape[1]):\n",
    "     anom_t[:,t] = temp[:,t] - dailymean_t\n",
    "anom_t.shape"
   ]
  },
  {
   "cell_type": "code",
   "execution_count": 16,
   "id": "03f4100f-5925-45d7-9e6f-37acd3f784e7",
   "metadata": {},
   "outputs": [],
   "source": [
    "if np.any(np.isnan(anom_t)) or np.any(np.isinf(anom_t)):\n",
    "    print(\"NaN or Inf values found in anom_t!\")"
   ]
  },
  {
   "cell_type": "code",
   "execution_count": 19,
   "id": "98e0fd59-aa3d-4490-9368-3fcbbeee436a",
   "metadata": {},
   "outputs": [
    {
     "name": "stderr",
     "output_type": "stream",
     "text": [
      "/tmp/ipykernel_4173/2151871385.py:6: RuntimeWarning: divide by zero encountered in divide\n",
      "  pers=d.shape[0]/np.arange(d.shape[0])\n"
     ]
    }
   ],
   "source": [
    "tempfil=np.zeros_like(anom_t)\n",
    "\n",
    "for y in np.arange(anom_t.shape[0]):\n",
    "    d=anom_t[y,:]\n",
    "    fftout=np.fft.fft(d,axis=0)\n",
    "    pers=d.shape[0]/np.arange(d.shape[0])\n",
    "    #Ifil=np.where(np.logical_and(pers>=14,pers<=60))[0]\n",
    "    Ifil=np.where(np.logical_and(pers>=10,pers<=50))[0]\n",
    "    fftfil=np.zeros_like(fftout)\n",
    "    fftfil[Ifil]=fftout[Ifil]\n",
    "    fftfil[-Ifil]=fftout[-Ifil]\n",
    "    tempfil[y,:]=np.fft.ifft(fftfil,axis=0).real"
   ]
  },
  {
   "cell_type": "code",
   "execution_count": 20,
   "id": "a4479e60-b407-45db-a745-437aa597e982",
   "metadata": {},
   "outputs": [
    {
     "data": {
      "text/plain": [
       "[<matplotlib.lines.Line2D at 0x7f5f0dbb5f40>]"
      ]
     },
     "execution_count": 20,
     "metadata": {},
     "output_type": "execute_result"
    },
    {
     "data": {
      "image/png": "[encoded data removed]",
      "text/plain": [
       "<Figure size 432x288 with 1 Axes>"
      ]
     },
     "metadata": {
      "needs_background": "light"
     },
     "output_type": "display_data"
    }
   ],
   "source": [
    "plt.plot(anom_t[0,:])\n",
    "plt.plot(tempfil[0,:])"
   ]
  },
  {
   "cell_type": "code",
   "execution_count": 21,
   "id": "028fafd5-87e7-4ff7-8e60-0a3749760969",
   "metadata": {},
   "outputs": [
    {
     "data": {
      "text/plain": [
       "(63, 151)"
      ]
     },
     "execution_count": 21,
     "metadata": {},
     "output_type": "execute_result"
    }
   ],
   "source": [
    "dailymed_t = np.nanmedian(tempfil,axis=1)\n",
    "med_t=np.zeros_like(tempfil)\n",
    "for t in np.arange(tempfil.shape[1]):\n",
    "     med_t[:,t] = tempfil[:,t] - dailymed_t\n",
    "med_t.shape"
   ]
  },
  {
   "cell_type": "code",
   "execution_count": 24,
   "id": "9a82fa5a-cbe1-414c-8595-433837245da9",
   "metadata": {},
   "outputs": [
    {
     "data": {
      "text/plain": [
       "array([-2.22040687, -1.65878617, -0.60121799,  0.89352909,  2.63400978,\n",
       "        4.32663487,  5.63886324,  6.27931577,  6.07346212,  5.01404224,\n",
       "        3.2718528 ,  1.16303978, -0.91943757, -2.59318882, -3.57100195,\n",
       "       -3.72218419, -3.09647756, -1.90605034, -0.47138964,  0.85473167,\n",
       "        1.76661241,  2.07000792,  1.71785826,  0.81116744, -0.43278263,\n",
       "       -1.73545915, -2.82139363, -3.47682281, -3.59014381, -3.16674634,\n",
       "       -2.31713185])"
      ]
     },
     "execution_count": 24,
     "metadata": {},
     "output_type": "execute_result"
    }
   ],
   "source": [
    "tempfil[0,120:]"
   ]
  },
  {
   "cell_type": "code",
   "execution_count": 23,
   "id": "bee1c76f-524f-4a81-a49f-f110b2326f4d",
   "metadata": {},
   "outputs": [
    {
     "data": {
      "text/plain": [
       "array([-1.86026065, -1.29863995, -0.24107177,  1.25367531,  2.994156  ,\n",
       "        4.68678109,  5.99900946,  6.63946199,  6.43360834,  5.37418846,\n",
       "        3.63199902,  1.523186  , -0.55929135, -2.2330426 , -3.21085573,\n",
       "       -3.36203797, -2.73633134, -1.54590413, -0.11124342,  1.21487789,\n",
       "        2.12675863,  2.43015414,  2.07800448,  1.17131365, -0.07263641,\n",
       "       -1.37531294, -2.46124741, -3.11667659, -3.22999759, -2.80660013,\n",
       "       -1.95698563])"
      ]
     },
     "execution_count": 23,
     "metadata": {},
     "output_type": "execute_result"
    }
   ],
   "source": [
    "med_t[0,120:]"
   ]
  },
  {
   "cell_type": "code",
   "execution_count": 42,
   "id": "a94a2fe9-129a-4edb-81b6-73dac03a60da",
   "metadata": {},
   "outputs": [],
   "source": [
    "pickle.dump(gphfil, open(\"1118_filtered_gph.p\", 'wb'))"
   ]
  },
  {
   "cell_type": "code",
   "execution_count": 45,
   "id": "4e876304-788d-41a0-bbf9-b1f0db596bff",
   "metadata": {},
   "outputs": [],
   "source": [
    "pickle.dump(tempfil, open(\"1118_filtered_t.p\", 'wb'))"
   ]
  },
  {
   "cell_type": "code",
   "execution_count": null,
   "id": "caf1c855-ec38-427a-aef4-2a4d80e41f08",
   "metadata": {},
   "outputs": [],
   "source": []
  }
 ],
 "metadata": {
  "kernelspec": {
   "display_name": "Python 3 August 2021 Environment",
   "language": "python",
   "name": "aug21"
  },
  "language_info": {
   "codemirror_mode": {
    "name": "ipython",
    "version": 3
   },
   "file_extension": ".py",
   "mimetype": "text/x-python",
   "name": "python",
   "nbconvert_exporter": "python",
   "pygments_lexer": "ipython3",
   "version": "3.8.10"
  }
 },
 "nbformat": 4,
 "nbformat_minor": 5
}
