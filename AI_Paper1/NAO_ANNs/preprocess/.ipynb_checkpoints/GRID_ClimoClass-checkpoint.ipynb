{
 "cells": [
  {
   "cell_type": "markdown",
   "id": "b3e80d52-eeb0-4e3f-afe6-51c458c5bac2",
   "metadata": {},
   "source": [
    "This should be a file that does the probabilistic climatological calculations for each day ... right? \n",
    "\n",
    "End goal of each of this is the daily probabilities of each quartile per day.\n",
    "\n",
    "So in my case here, I am just going to be doing the climo probability  of a cold anomaly or warm anomaly at each grid point per day. \n",
    "\n",
    "This is based off the results from the QUARTILE CLASS file. "
   ]
  },
  {
   "cell_type": "code",
   "execution_count": 25,
   "id": "4cfd8ab5-a6d8-4b61-bdd9-acbcf1129bea",
   "metadata": {},
   "outputs": [],
   "source": [
    "import datetime as dt\n",
    "import numpy as np\n",
    "import xarray as xr\n",
    "import pickle"
   ]
  },
  {
   "cell_type": "code",
   "execution_count": 26,
   "id": "ccb47e49-57aa-4f74-9df4-5dad562bd582",
   "metadata": {},
   "outputs": [],
   "source": [
    "#upload temperature region files\n",
    "infile = open(\"shift_class_filt.p\", 'rb')\n",
    "eur = pickle.load(infile)\n",
    "infile.close()"
   ]
  },
  {
   "cell_type": "code",
   "execution_count": 27,
   "id": "d325340a-2228-49ea-88c6-c4a2efea1702",
   "metadata": {},
   "outputs": [
    {
     "data": {
      "text/plain": [
       "(9513,)"
      ]
     },
     "execution_count": 27,
     "metadata": {},
     "output_type": "execute_result"
    }
   ],
   "source": [
    "eur.shape"
   ]
  },
  {
   "cell_type": "code",
   "execution_count": 28,
   "id": "c5d31b4d-47a8-4ef9-99f8-869ab939e28b",
   "metadata": {},
   "outputs": [],
   "source": [
    "eur_R = eur.reshape((63,151))"
   ]
  },
  {
   "cell_type": "code",
   "execution_count": 29,
   "id": "b58134c9-592b-4c81-bac2-61116688fdf3",
   "metadata": {},
   "outputs": [],
   "source": [
    "##create empty list\n",
    "daily_eur = np.empty((151,2))"
   ]
  },
  {
   "cell_type": "code",
   "execution_count": 30,
   "id": "8931ae83-b54f-44fd-8121-85d778b8f267",
   "metadata": {},
   "outputs": [],
   "source": [
    "##daily probability of each category per area\n",
    "\n",
    "##cap\n",
    "for i in range(0,151):\n",
    "    day0 = []\n",
    "    day1 = []\n",
    "\n",
    "    for j in range(0,63):\n",
    "        if eur_R[j,i] == 0:\n",
    "            day0.append(1)\n",
    "        if eur_R[j,i] == 1:\n",
    "            day1.append(1)\n",
    "    \n",
    "        prob0 = len(day0)/63\n",
    "        #print(prob0)\n",
    "        prob1 = len(day1)/63\n",
    "        #list = [prob0,prob1,prob2,prob3]\n",
    "        list = [prob0,prob1]\n",
    "    \n",
    "        daily_eur[i,:] = list"
   ]
  },
  {
   "cell_type": "markdown",
   "id": "648a9794-7ff2-4238-aefd-5a868de857a1",
   "metadata": {},
   "source": [
    "##daily probability of each category per area\n",
    "\n",
    "##cap\n",
    "for k in range(0,16):\n",
    "    for l in range(0,36):\n",
    "        for i in range(0,151):\n",
    "            day0 = []\n",
    "            day1 = []\n",
    "    \n",
    "            for j in range(0,63):\n",
    "                if eur_R[j,i,k,l] == 0:\n",
    "                    day0.append(1)\n",
    "                if eur_R[j,i,k,l] == 1:\n",
    "                    day1.append(1)\n",
    "    \n",
    "            prob0 = len(day0)/63\n",
    "            #print(prob0)\n",
    "            prob1 = len(day1)/63\n",
    "            #list = [prob0,prob1,prob2,prob3]\n",
    "            list = [prob0,prob1]\n",
    "    \n",
    "            daily_eur[i,k,l,:] = list"
   ]
  },
  {
   "cell_type": "code",
   "execution_count": 31,
   "id": "778fff33-ad44-4348-895b-21a6dffe5304",
   "metadata": {},
   "outputs": [
    {
     "data": {
      "text/plain": [
       "(151, 2)"
      ]
     },
     "execution_count": 31,
     "metadata": {},
     "output_type": "execute_result"
    }
   ],
   "source": [
    "daily_eur.shape"
   ]
  },
  {
   "cell_type": "code",
   "execution_count": 32,
   "id": "a6000753-b506-4bd5-98d0-89c6e359f6a3",
   "metadata": {},
   "outputs": [],
   "source": [
    "##now i need to reiterate this 43 times lol \n",
    "full_eur = np.empty((63,151,2))"
   ]
  },
  {
   "cell_type": "code",
   "execution_count": 33,
   "id": "8276c856-06b8-4ee4-bc7f-de06c39da6a3",
   "metadata": {},
   "outputs": [],
   "source": [
    "for i in range(0,63):\n",
    "    full_eur[i] = daily_eur"
   ]
  },
  {
   "cell_type": "code",
   "execution_count": 34,
   "id": "e3c88a4b-b227-4898-86cb-e6a9f935b34d",
   "metadata": {},
   "outputs": [],
   "source": [
    "fe = full_eur.reshape((9513,2))"
   ]
  },
  {
   "cell_type": "code",
   "execution_count": 35,
   "id": "9100ad71-340a-4eb8-801d-2293fcdaef91",
   "metadata": {},
   "outputs": [
    {
     "data": {
      "text/plain": [
       "array([[0.68253968, 0.31746032],\n",
       "       [0.6031746 , 0.3968254 ],\n",
       "       [0.61904762, 0.38095238],\n",
       "       ...,\n",
       "       [0.36507937, 0.63492063],\n",
       "       [0.42857143, 0.57142857],\n",
       "       [0.52380952, 0.47619048]])"
      ]
     },
     "execution_count": 35,
     "metadata": {},
     "output_type": "execute_result"
    }
   ],
   "source": [
    "fe"
   ]
  },
  {
   "cell_type": "code",
   "execution_count": 36,
   "id": "9bac4661-ee41-4520-aead-505f11641b0b",
   "metadata": {},
   "outputs": [],
   "source": [
    "pickle.dump(fe, open(\"shift_climoprob_filt.p\", 'wb'))"
   ]
  },
  {
   "cell_type": "code",
   "execution_count": null,
   "id": "214ae659-19bc-41f7-b7ab-e9582d7a8481",
   "metadata": {},
   "outputs": [],
   "source": []
  }
 ],
 "metadata": {
  "kernelspec": {
   "display_name": "Python 3 August 2021 Environment",
   "language": "python",
   "name": "aug21"
  },
  "language_info": {
   "codemirror_mode": {
    "name": "ipython",
    "version": 3
   },
   "file_extension": ".py",
   "mimetype": "text/x-python",
   "name": "python",
   "nbconvert_exporter": "python",
   "pygments_lexer": "ipython3",
   "version": "3.8.10"
  }
 },
 "nbformat": 4,
 "nbformat_minor": 5
}
