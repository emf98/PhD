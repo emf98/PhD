{
 "cells": [
  {
   "cell_type": "markdown",
   "id": "a2fcc4b6-51d4-4276-84e7-43b9f9f46695",
   "metadata": {},
   "source": [
    "### Climatology of temperature classification. "
   ]
  },
  {
   "cell_type": "code",
   "execution_count": 11,
   "id": "181fb0ec-33df-4b92-9bd9-e1efcf527bfe",
   "metadata": {},
   "outputs": [],
   "source": [
    "import datetime as dt\n",
    "import numpy as np\n",
    "import xarray as xr\n",
    "import pickle"
   ]
  },
  {
   "cell_type": "code",
   "execution_count": 23,
   "id": "03120d35-0d52-4b79-bff0-097d9f74a5f1",
   "metadata": {},
   "outputs": [],
   "source": [
    "#upload temperature region files, for full area from regridded\n",
    "infile = open(\"../1118_filtered_t.p\", 'rb')\n",
    "eur = pickle.load(infile)\n",
    "infile.close()"
   ]
  },
  {
   "cell_type": "code",
   "execution_count": null,
   "id": "481a8ff1-a34c-49be-9612-aedda02b61ae",
   "metadata": {},
   "outputs": [],
   "source": [
    "#upload temperature region files, for averaged from temp\n",
    "infile = open(\"../Temp/AVGeur1000_tempANOMs.p\", 'rb')\n",
    "eur = pickle.load(infile)\n",
    "infile.close()"
   ]
  },
  {
   "cell_type": "code",
   "execution_count": 24,
   "id": "10d4247d-1e62-4abf-b56f-97b4db564c17",
   "metadata": {},
   "outputs": [
    {
     "name": "stdout",
     "output_type": "stream",
     "text": [
      "(63, 151)\n"
     ]
    }
   ],
   "source": [
    "print(eur.shape)"
   ]
  },
  {
   "cell_type": "raw",
   "id": "a0ca3222-e459-4cf0-b008-cf0816305080",
   "metadata": {},
   "source": [
    "eur = np.delete(eur,[120],1)"
   ]
  },
  {
   "cell_type": "code",
   "execution_count": 25,
   "id": "9b21425e-280b-4307-a0bd-80e209dacbf6",
   "metadata": {},
   "outputs": [],
   "source": [
    "##flatten\n",
    "te1 = eur\n",
    "\n",
    "te1 = np.reshape(te1, (9513))\n",
    "#te2 = np.nanmean(te1, axis = 1) #average along latitude dimension\n",
    "#te3 = np.nanmean(te2, axis = 1) #average alone longitude dimension\n",
    "e_st = np.empty((9513))"
   ]
  },
  {
   "cell_type": "markdown",
   "id": "7c3fab87-b397-40ed-9f55-0286ada759ec",
   "metadata": {},
   "source": [
    "temp = te1.reshape((63,151))\n",
    "test = np.empty((63,149))"
   ]
  },
  {
   "cell_type": "markdown",
   "id": "11f099f4-af29-40b1-9ee6-161f362e92e9",
   "metadata": {},
   "source": [
    "for i in range(0,63):\n",
    "    for j in range(1,150):\n",
    "        avg = (temp[i,j-1] + temp[i,j] + temp[i,j+1])/3\n",
    "        test[i,j-1] = avg "
   ]
  },
  {
   "cell_type": "code",
   "execution_count": 26,
   "id": "bd8752ba-80af-4301-ab93-b59517e580ba",
   "metadata": {},
   "outputs": [],
   "source": [
    "if np.any(np.isnan(te1)) or np.any(np.isinf(te1)):\n",
    "    print(\"NaN or Inf values found in te3!\")"
   ]
  },
  {
   "cell_type": "markdown",
   "id": "40e9711e-1d86-4d02-8ea2-1872eefba7c3",
   "metadata": {},
   "source": [
    "te4 = test.reshape((9387))"
   ]
  },
  {
   "cell_type": "code",
   "execution_count": 27,
   "id": "fa02055f-1c75-4384-8b53-88471ce6c294",
   "metadata": {},
   "outputs": [],
   "source": [
    "pos = []\n",
    "neg = []"
   ]
  },
  {
   "cell_type": "code",
   "execution_count": 28,
   "id": "654fa5ac-858d-4850-9dcd-7007fee8eceb",
   "metadata": {
    "scrolled": true
   },
   "outputs": [],
   "source": [
    "for i in range(0,9513):\n",
    "        if te1[i] > 0:\n",
    "            e_st[i] = 1\n",
    "            pos.append(1)\n",
    "            \n",
    "        elif te1[i] < 0:\n",
    "            #print(\"negative\")\n",
    "            e_st[i] = 0\n",
    "            neg.append(0)\n",
    "            \n",
    "        elif te1[i] == 0:\n",
    "            if len(pos) <= len(neg):\n",
    "                e_st[i] = 1\n",
    "                pos.append(1)\n",
    "            else:\n",
    "                e_st[i] = 0\n",
    "                neg.append(0)"
   ]
  },
  {
   "cell_type": "code",
   "execution_count": 29,
   "id": "129c5562-c723-49c0-a4e6-d7b1f7218e93",
   "metadata": {},
   "outputs": [
    {
     "data": {
      "text/plain": [
       "array([0., 0., 1., ..., 0., 0., 1.])"
      ]
     },
     "execution_count": 29,
     "metadata": {},
     "output_type": "execute_result"
    }
   ],
   "source": [
    "e_st"
   ]
  },
  {
   "cell_type": "code",
   "execution_count": 30,
   "id": "4f07452f-b6c9-4f67-ac72-75d07fbfcf7a",
   "metadata": {},
   "outputs": [
    {
     "data": {
      "text/plain": [
       "4871"
      ]
     },
     "execution_count": 30,
     "metadata": {},
     "output_type": "execute_result"
    }
   ],
   "source": [
    "len(pos)"
   ]
  },
  {
   "cell_type": "code",
   "execution_count": 31,
   "id": "6edbe908-023f-420b-ad49-166f7cba5e06",
   "metadata": {},
   "outputs": [],
   "source": [
    "pickle.dump(e_st, open(\"1118_class_filt.p\", 'wb'))"
   ]
  },
  {
   "cell_type": "code",
   "execution_count": null,
   "id": "4689804f-3e08-4d4d-9e8d-768c6eaa66f5",
   "metadata": {},
   "outputs": [],
   "source": []
  }
 ],
 "metadata": {
  "kernelspec": {
   "display_name": "Python 3 August 2021 Environment",
   "language": "python",
   "name": "aug21"
  },
  "language_info": {
   "codemirror_mode": {
    "name": "ipython",
    "version": 3
   },
   "file_extension": ".py",
   "mimetype": "text/x-python",
   "name": "python",
   "nbconvert_exporter": "python",
   "pygments_lexer": "ipython3",
   "version": "3.8.10"
  }
 },
 "nbformat": 4,
 "nbformat_minor": 5
}
