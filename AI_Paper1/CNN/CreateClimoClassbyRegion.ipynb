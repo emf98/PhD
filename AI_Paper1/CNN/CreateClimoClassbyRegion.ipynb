{
 "cells": [
  {
   "cell_type": "markdown",
   "id": "b3e80d52-eeb0-4e3f-afe6-51c458c5bac2",
   "metadata": {},
   "source": [
    "### Take daily classification for the full POR and turn it into a climatology. \n",
    "\n",
    "This should be a file that does the probabilistic climatological calculations for each day.\n",
    "\n",
    "End goal of each of this is the daily probabilities of each range of quantile per day. "
   ]
  },
  {
   "cell_type": "code",
   "execution_count": 1,
   "id": "4cfd8ab5-a6d8-4b61-bdd9-acbcf1129bea",
   "metadata": {},
   "outputs": [
    {
     "name": "stderr",
     "output_type": "stream",
     "text": [
      "/knight/anaconda_jan21/envs/aug21/lib/python3.8/site-packages/scipy/__init__.py:146: UserWarning: A NumPy version >=1.16.5 and <1.23.0 is required for this version of SciPy (detected version 1.24.3\n",
      "  warnings.warn(f\"A NumPy version >={np_minversion} and <{np_maxversion}\"\n"
     ]
    }
   ],
   "source": [
    "import datetime as dt\n",
    "import numpy as np\n",
    "import xarray as xr\n",
    "import pickle"
   ]
  },
  {
   "cell_type": "code",
   "execution_count": 2,
   "id": "ccb47e49-57aa-4f74-9df4-5dad562bd582",
   "metadata": {},
   "outputs": [],
   "source": [
    "#upload temperature region files\n",
    "infile = open(\"./ClassFiles/1959wncANOM_class.p\", 'rb')\n",
    "wnc = pickle.load(infile)\n",
    "infile.close()"
   ]
  },
  {
   "cell_type": "code",
   "execution_count": 3,
   "id": "f7a4fe11-a21f-403b-b671-0289e7fd1902",
   "metadata": {},
   "outputs": [],
   "source": [
    "##reshape the arrays to be year, day\n",
    "wnc_R = wnc.reshape((63,152))"
   ]
  },
  {
   "cell_type": "code",
   "execution_count": 4,
   "id": "faf937a3-96c9-4e4b-81e1-c47e1d1526eb",
   "metadata": {},
   "outputs": [
    {
     "data": {
      "text/plain": [
       "array([[0., 1., 1., ..., 0., 0., 0.],\n",
       "       [1., 1., 1., ..., 1., 2., 2.],\n",
       "       [1., 1., 1., ..., 2., 2., 1.],\n",
       "       ...,\n",
       "       [2., 2., 1., ..., 2., 2., 0.],\n",
       "       [2., 2., 2., ..., 2., 1., 2.],\n",
       "       [1., 1., 1., ..., 1., 1., 2.]])"
      ]
     },
     "execution_count": 4,
     "metadata": {},
     "output_type": "execute_result"
    }
   ],
   "source": [
    "wnc_R"
   ]
  },
  {
   "cell_type": "code",
   "execution_count": 5,
   "id": "b58134c9-592b-4c81-bac2-61116688fdf3",
   "metadata": {},
   "outputs": [],
   "source": [
    "##create empty lists \n",
    "daily_wnc = np.empty((152,3))"
   ]
  },
  {
   "cell_type": "code",
   "execution_count": 6,
   "id": "44d2e336-9c8f-4b0d-816d-aa6868ec48ad",
   "metadata": {},
   "outputs": [],
   "source": [
    "##daily probability of each category per area\n",
    "\n",
    "##west north central\n",
    "for i in range(0,152):\n",
    "    day0 = []\n",
    "    day1 = []\n",
    "    day2 = []\n",
    "    day3 = []\n",
    "    \n",
    "    for j in range(0,63):\n",
    "        if wnc_R[j,i] == 0:\n",
    "            day0.append(1)\n",
    "        if wnc_R[j,i] == 1:\n",
    "            day1.append(1)\n",
    "        if wnc_R[j,i] == 2:\n",
    "            day2.append(1)\n",
    "        if wnc_R[j,i] == 3:\n",
    "            day3.append(3)\n",
    "    \n",
    "    prob0 = len(day0)/63\n",
    "    #print(prob0)\n",
    "    prob1 = len(day1)/63\n",
    "    prob2 = len(day2)/63\n",
    "    prob3 = len(day3)/63\n",
    "    #list = [prob0,prob1,prob2,prob3]\n",
    "    list = [prob0,prob1,prob2]\n",
    "    #list = [prob0,prob2]\n",
    "    \n",
    "    daily_wnc[i,:] = list\n"
   ]
  },
  {
   "cell_type": "code",
   "execution_count": 7,
   "id": "778fff33-ad44-4348-895b-21a6dffe5304",
   "metadata": {},
   "outputs": [
    {
     "data": {
      "text/plain": [
       "(152, 3)"
      ]
     },
     "execution_count": 7,
     "metadata": {},
     "output_type": "execute_result"
    }
   ],
   "source": [
    "daily_wnc.shape"
   ]
  },
  {
   "cell_type": "code",
   "execution_count": 8,
   "id": "a6000753-b506-4bd5-98d0-89c6e359f6a3",
   "metadata": {},
   "outputs": [],
   "source": [
    "##now i need to reiterate this 43 times lol \n",
    "full_wnc = np.empty((63,152,3))"
   ]
  },
  {
   "cell_type": "code",
   "execution_count": 9,
   "id": "8276c856-06b8-4ee4-bc7f-de06c39da6a3",
   "metadata": {},
   "outputs": [],
   "source": [
    "for i in range(0,63):\n",
    "    full_wnc[i] = daily_wnc\n",
    "    #print(full_cap[i,:,:])"
   ]
  },
  {
   "cell_type": "code",
   "execution_count": 11,
   "id": "e3c88a4b-b227-4898-86cb-e6a9f935b34d",
   "metadata": {},
   "outputs": [],
   "source": [
    "fwnc = full_wnc.reshape((9576,3))"
   ]
  },
  {
   "cell_type": "code",
   "execution_count": 12,
   "id": "7bf2eece-a44f-48f8-8107-7c9ed164719f",
   "metadata": {},
   "outputs": [
    {
     "data": {
      "text/plain": [
       "array([[0.33333333, 0.3968254 , 0.26984127],\n",
       "       [0.26984127, 0.49206349, 0.23809524],\n",
       "       [0.23809524, 0.57142857, 0.19047619],\n",
       "       ...,\n",
       "       [0.23809524, 0.46031746, 0.3015873 ],\n",
       "       [0.26984127, 0.46031746, 0.26984127],\n",
       "       [0.26984127, 0.31746032, 0.41269841]])"
      ]
     },
     "execution_count": 12,
     "metadata": {},
     "output_type": "execute_result"
    }
   ],
   "source": [
    "fwnc"
   ]
  },
  {
   "cell_type": "code",
   "execution_count": 14,
   "id": "9bac4661-ee41-4520-aead-505f11641b0b",
   "metadata": {},
   "outputs": [],
   "source": [
    "pickle.dump(fwnc, open(\"1959wnc_3climoprob.p\", 'wb'))"
   ]
  },
  {
   "cell_type": "code",
   "execution_count": null,
   "id": "214ae659-19bc-41f7-b7ab-e9582d7a8481",
   "metadata": {},
   "outputs": [],
   "source": []
  }
 ],
 "metadata": {
  "kernelspec": {
   "display_name": "Python 3 August 2021 Environment",
   "language": "python",
   "name": "aug21"
  },
  "language_info": {
   "codemirror_mode": {
    "name": "ipython",
    "version": 3
   },
   "file_extension": ".py",
   "mimetype": "text/x-python",
   "name": "python",
   "nbconvert_exporter": "python",
   "pygments_lexer": "ipython3",
   "version": "3.8.10"
  }
 },
 "nbformat": 4,
 "nbformat_minor": 5
}
