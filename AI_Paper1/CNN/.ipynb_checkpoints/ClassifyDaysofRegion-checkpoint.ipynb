{
 "cells": [
  {
   "cell_type": "markdown",
   "id": "a2fcc4b6-51d4-4276-84e7-43b9f9f46695",
   "metadata": {},
   "source": [
    "### Classify temperature regions daily into the 3 desired categories. "
   ]
  },
  {
   "cell_type": "code",
   "execution_count": 1,
   "id": "181fb0ec-33df-4b92-9bd9-e1efcf527bfe",
   "metadata": {},
   "outputs": [
    {
     "name": "stderr",
     "output_type": "stream",
     "text": [
      "/knight/anaconda_jan21/envs/aug21/lib/python3.8/site-packages/scipy/__init__.py:146: UserWarning: A NumPy version >=1.16.5 and <1.23.0 is required for this version of SciPy (detected version 1.24.3\n",
      "  warnings.warn(f\"A NumPy version >={np_minversion} and <{np_maxversion}\"\n"
     ]
    }
   ],
   "source": [
    "import datetime as dt\n",
    "import numpy as np\n",
    "import xarray as xr\n",
    "import pickle"
   ]
  },
  {
   "cell_type": "code",
   "execution_count": 2,
   "id": "03120d35-0d52-4b79-bff0-097d9f74a5f1",
   "metadata": {},
   "outputs": [
    {
     "data": {
      "text/plain": [
       "(63, 152)"
      ]
     },
     "execution_count": 2,
     "metadata": {},
     "output_type": "execute_result"
    }
   ],
   "source": [
    "#upload temperature region files\n",
    "infile = open(\"./DataProcess/1959weightedANOMwnc_temp1000.p\", 'rb')\n",
    "wnc = pickle.load(infile)\n",
    "infile.close()\n",
    "\n",
    "wnc.shape"
   ]
  },
  {
   "cell_type": "markdown",
   "id": "2f0ef92d-e510-49a7-8bd7-fd2bf34c7cb4",
   "metadata": {},
   "source": [
    "wnc = np.delete(wnc,[120],1)\n",
    "wnc.shape"
   ]
  },
  {
   "cell_type": "code",
   "execution_count": 3,
   "id": "18b64c21-9f34-49e6-8785-e912a3a22081",
   "metadata": {},
   "outputs": [
    {
     "data": {
      "text/plain": [
       "array([[-0.95450774, -0.37524512, -0.60321717, ..., -1.60799343,\n",
       "        -1.61959925, -3.53061232],\n",
       "       [ 0.06395332, -0.15728977,  0.16992226, ...,  0.54775425,\n",
       "         0.86619689,  1.05627813],\n",
       "       [ 0.47666526,  0.082295  , -0.53439349, ...,  1.23221095,\n",
       "         0.78585705, -0.52904715],\n",
       "       ...,\n",
       "       [ 1.14726808,  0.85338981,  0.51485662, ...,  1.77840748,\n",
       "         0.97162814, -1.42681115],\n",
       "       [ 1.27380295,  1.35808811,  1.66822949, ...,  0.69652119,\n",
       "         0.39504664,  1.13797253],\n",
       "       [ 0.55835966,  0.4944823 ,  0.11496454, ...,  0.38211247,\n",
       "         0.63132008,  2.98727899]])"
      ]
     },
     "execution_count": 3,
     "metadata": {},
     "output_type": "execute_result"
    }
   ],
   "source": [
    "wnc"
   ]
  },
  {
   "cell_type": "code",
   "execution_count": 4,
   "id": "3364dafd-7d25-40e8-bf6a-17499046b166",
   "metadata": {},
   "outputs": [],
   "source": [
    "##designate quartiles of values \n",
    "##wnc\n",
    "c_mx = np.nanquantile(wnc,1) #maximum\n",
    "c_q75 = np.nanquantile(wnc,0.75) #seventy\n",
    "c_q70 = np.nanquantile(wnc,0.70)\n",
    "c_q50 = np.nanquantile(wnc,0.5) \n",
    "c_q30 = np.nanquantile(wnc,0.3) \n",
    "c_q25 = np.nanquantile(wnc,0.25)\n",
    "c_mn = np.nanquantile(wnc,0) #minimum\""
   ]
  },
  {
   "cell_type": "code",
   "execution_count": 7,
   "id": "9b21425e-280b-4307-a0bd-80e209dacbf6",
   "metadata": {},
   "outputs": [],
   "source": [
    "##flatten\n",
    "tc = wnc\n",
    "\n",
    "tc = np.reshape(tc, (9576,))"
   ]
  },
  {
   "cell_type": "code",
   "execution_count": 8,
   "id": "8a62a818-f7d0-47bb-b88a-a7033a12c6ae",
   "metadata": {},
   "outputs": [],
   "source": [
    "c_st = np.empty((9576,))"
   ]
  },
  {
   "cell_type": "code",
   "execution_count": 9,
   "id": "654fa5ac-858d-4850-9dcd-7007fee8eceb",
   "metadata": {},
   "outputs": [],
   "source": [
    "for i in range(0,9576):\n",
    "    if tc[i] >= c_mn and tc[i] < c_q30:\n",
    "        c_st[i] = 0\n",
    "    if tc[i] >= c_q30 and tc[i] < c_q70:\n",
    "        c_st[i] = 1\n",
    "    if tc[i] >= c_q70 and tc[i] < c_mx:\n",
    "        c_st[i] = 2"
   ]
  },
  {
   "cell_type": "code",
   "execution_count": 10,
   "id": "d2a78cad-e753-4669-8553-0817ee5fb65a",
   "metadata": {},
   "outputs": [
    {
     "data": {
      "text/plain": [
       "(9576,)"
      ]
     },
     "execution_count": 10,
     "metadata": {},
     "output_type": "execute_result"
    }
   ],
   "source": [
    "c_st.shape"
   ]
  },
  {
   "cell_type": "code",
   "execution_count": 11,
   "id": "6edbe908-023f-420b-ad49-166f7cba5e06",
   "metadata": {},
   "outputs": [],
   "source": [
    "pickle.dump(c_st, open(\"./ClassFiles/1959wncANOM_class.p\", 'wb'))"
   ]
  },
  {
   "cell_type": "code",
   "execution_count": null,
   "id": "ad7faa46-f3b5-4367-9ea2-05d211cd698d",
   "metadata": {},
   "outputs": [],
   "source": []
  }
 ],
 "metadata": {
  "kernelspec": {
   "display_name": "Python 3 August 2021 Environment",
   "language": "python",
   "name": "aug21"
  },
  "language_info": {
   "codemirror_mode": {
    "name": "ipython",
    "version": 3
   },
   "file_extension": ".py",
   "mimetype": "text/x-python",
   "name": "python",
   "nbconvert_exporter": "python",
   "pygments_lexer": "ipython3",
   "version": "3.8.10"
  }
 },
 "nbformat": 4,
 "nbformat_minor": 5
}
