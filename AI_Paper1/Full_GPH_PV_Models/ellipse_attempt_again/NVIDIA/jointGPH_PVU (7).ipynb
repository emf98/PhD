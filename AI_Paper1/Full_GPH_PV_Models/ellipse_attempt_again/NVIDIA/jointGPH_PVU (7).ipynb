{
 "cells": [
  {
   "cell_type": "code",
   "execution_count": 1,
   "id": "5a7797d4-822d-49cd-aaea-e7288a139fae",
   "metadata": {},
   "outputs": [],
   "source": [
    "##PV and GPH joint"
   ]
  },
  {
   "cell_type": "code",
   "execution_count": 2,
   "id": "1c6a9159-890b-47f2-a080-f67b5e39f21c",
   "metadata": {
    "jupyter": {
     "source_hidden": true
    },
    "scrolled": true
   },
   "outputs": [
    {
     "name": "stderr",
     "output_type": "stream",
     "text": [
      "/tmp/ipykernel_201340/3801934532.py:6: DeprecationWarning: \n",
      "Pyarrow will become a required dependency of pandas in the next major release of pandas (pandas 3.0),\n",
      "(to allow more performant data types, such as the Arrow string type, and better interoperability with other libraries)\n",
      "but was not found to be installed on your system.\n",
      "If this would cause problems for you,\n",
      "please provide us feedback at https://github.com/pandas-dev/pandas/issues/54466\n",
      "        \n",
      "  import pandas as pd\n"
     ]
    }
   ],
   "source": [
    "%matplotlib inline\n",
    "##so-called \"math\" related imports\n",
    "from netCDF4 import Dataset as ncread\n",
    "import numpy as np\n",
    "from scipy.io import loadmat\n",
    "import pandas as pd\n",
    "import h5py\n",
    "import math\n",
    "from random import seed\n",
    "from random import randint\n",
    "from random import sample\n",
    "from scipy.ndimage import gaussian_filter\n",
    "from sklearn.metrics import brier_score_loss\n",
    "import xarray as xr\n",
    "\n",
    "import pickle\n",
    "\n",
    "##plotting related imports\n",
    "import matplotlib.pyplot as plt\n",
    "from matplotlib import rcParams #For changing text properties\n",
    "import cmocean #A package with beautiful colormaps\n",
    "from cartopy import crs as ccrs #Useful for plotting maps\n",
    "import cartopy.util #Requires separate import\n",
    "from cartopy.util import add_cyclic_point\n",
    "import cartopy.feature as cf\n",
    "from cartopy.mpl.ticker import LongitudeFormatter, LatitudeFormatter\n",
    "import matplotlib.path as mpath\n",
    "import matplotlib.colors as mcolors"
   ]
  },
  {
   "cell_type": "code",
   "execution_count": 3,
   "id": "40dfe88c-378d-4367-a65a-c17eb283aaee",
   "metadata": {
    "jupyter": {
     "source_hidden": true
    }
   },
   "outputs": [
    {
     "name": "stderr",
     "output_type": "stream",
     "text": [
      "2024-12-03 22:53:57.615261: E tensorflow/compiler/xla/stream_executor/cuda/cuda_dnn.cc:9342] Unable to register cuDNN factory: Attempting to register factory for plugin cuDNN when one has already been registered\n",
      "2024-12-03 22:53:57.615331: E tensorflow/compiler/xla/stream_executor/cuda/cuda_fft.cc:609] Unable to register cuFFT factory: Attempting to register factory for plugin cuFFT when one has already been registered\n",
      "2024-12-03 22:53:57.615370: E tensorflow/compiler/xla/stream_executor/cuda/cuda_blas.cc:1518] Unable to register cuBLAS factory: Attempting to register factory for plugin cuBLAS when one has already been registered\n",
      "2024-12-03 22:53:57.621316: I tensorflow/core/platform/cpu_feature_guard.cc:182] This TensorFlow binary is optimized to use available CPU instructions in performance-critical operations.\n",
      "To enable the following instructions: AVX2 FMA, in other operations, rebuild TensorFlow with the appropriate compiler flags.\n"
     ]
    }
   ],
   "source": [
    "##import tensorflow/keras related files\n",
    "import tensorflow as tf    \n",
    "#tf.compat.v1.disable_v2_behavior() # <-- HERE !\n",
    "\n",
    "from tensorflow import keras\n",
    "from tensorflow.keras import layers, models\n",
    "from tensorflow.keras import Input\n",
    "from tensorflow.keras.models import Model\n",
    "from tensorflow.keras.callbacks import ModelCheckpoint\n",
    "from tensorflow.keras import regularizers\n",
    "import tensorflow.keras.backend as K\n",
    "from tensorflow.keras.utils import to_categorical\n",
    "from tensorflow.keras.layers import Dropout, Activation, Reshape, Flatten, LSTM, Dense, Dropout, Embedding, Bidirectional, GRU, Concatenate\n",
    "from tensorflow.keras import Sequential\n",
    "from tensorflow.keras import initializers, regularizers\n",
    "from tensorflow.keras import optimizers\n",
    "from tensorflow.keras import constraints\n",
    "from tensorflow.keras.layers import Layer, InputSpec\n",
    "from tensorflow.keras.callbacks import EarlyStopping"
   ]
  },
  {
   "cell_type": "code",
   "execution_count": 4,
   "id": "e393572f-b47e-46f6-8823-1470a09445f9",
   "metadata": {
    "jupyter": {
     "source_hidden": true
    }
   },
   "outputs": [],
   "source": [
    "tf.compat.v1.disable_eager_execution()\n",
    "import innvestigate\n",
    "import investigate"
   ]
  },
  {
   "cell_type": "code",
   "execution_count": 5,
   "id": "0ca1bd8e-c6a9-4f22-a4a2-e0acbd0a9355",
   "metadata": {},
   "outputs": [],
   "source": [
    "from climoprobs import climo"
   ]
  },
  {
   "cell_type": "markdown",
   "id": "b67968bc-fc14-4805-95dd-146548796c3e",
   "metadata": {},
   "source": [
    "#### Upload data. "
   ]
  },
  {
   "cell_type": "code",
   "execution_count": 6,
   "id": "0817c222-c32c-4c7f-8f91-6e0fa11ff89c",
   "metadata": {},
   "outputs": [],
   "source": [
    "#inputs\n",
    "##now, PVU\n",
    "infile = open(\"../data/1203_pv.p\", 'rb') \n",
    "pvu = pickle.load(infile)\n",
    "infile.close()\n",
    "\n",
    "infile = open(\"../data/1203_g.p\", 'rb') \n",
    "gph = pickle.load(infile)\n",
    "infile.close()\n",
    "\n",
    "#outputs\n",
    "infile = open(\"../data/1203_classmedian_t.p\", 'rb')\n",
    "temp = pickle.load(infile)\n",
    "infile.close()\n",
    "\n",
    "infile = open(\"../data/1203_classmedian_g.p\", 'rb')\n",
    "gph_red = pickle.load(infile)\n",
    "infile.close()"
   ]
  },
  {
   "cell_type": "code",
   "execution_count": 7,
   "id": "a6c786eb-a205-44bc-88bf-76c99b18ce62",
   "metadata": {},
   "outputs": [
    {
     "data": {
      "text/plain": [
       "(63, 151, 11, 145)"
      ]
     },
     "execution_count": 7,
     "metadata": {},
     "output_type": "execute_result"
    }
   ],
   "source": [
    "pvu.shape"
   ]
  },
  {
   "cell_type": "code",
   "execution_count": 61,
   "id": "04ce2e36-2dde-4422-948d-dd0006ae695f",
   "metadata": {},
   "outputs": [],
   "source": [
    "length = 144\n",
    "end_pv = 144\n",
    "end_gph = 151"
   ]
  },
  {
   "cell_type": "code",
   "execution_count": 62,
   "id": "68a1c935-11ab-4f7b-8be4-8efbc0edbfcd",
   "metadata": {},
   "outputs": [],
   "source": [
    "gph_n = np.zeros((63,length))\n",
    "input_pvu = np.zeros((63,length,11,145))\n",
    "\n",
    "for i in range(63):\n",
    "    for j in range(end_pv):\n",
    "        gph_n[i,j] = gph_red[i,j+7]\n",
    "        input_pvu[i,j] = pvu[i,j,:,:]"
   ]
  },
  {
   "cell_type": "code",
   "execution_count": 63,
   "id": "fd84860e-5d6a-4af5-a2dd-49c87a768625",
   "metadata": {},
   "outputs": [],
   "source": [
    "temp_n = np.zeros((63,length))\n",
    "input_gph= np.zeros((63,length,21,37))\n",
    "\n",
    "for i in range(63):\n",
    "    for j in range(10,end_gph):\n",
    "        #print(j)\n",
    "        temp_n[i,j-10] = temp[i,j]\n",
    "        input_gph[i,j-10] = gph[i,j-3,:,:]"
   ]
  },
  {
   "cell_type": "code",
   "execution_count": 64,
   "id": "cd3a8f58-74a4-4111-95c2-c99a575b07a8",
   "metadata": {},
   "outputs": [
    {
     "name": "stdout",
     "output_type": "stream",
     "text": [
      "(63, 144, 21, 37)\n",
      "(63, 144, 11, 145)\n"
     ]
    }
   ],
   "source": [
    "##input shape (samples, lat, lon) and (#samples, window, features)\n",
    "print(input_gph.shape)\n",
    "print(input_pvu.shape)"
   ]
  },
  {
   "cell_type": "code",
   "execution_count": 65,
   "id": "2c7069d3-7e0f-498b-b5fb-855f9d28f335",
   "metadata": {},
   "outputs": [
    {
     "data": {
      "text/plain": [
       "(63, 144)"
      ]
     },
     "execution_count": 65,
     "metadata": {},
     "output_type": "execute_result"
    }
   ],
   "source": [
    "##output shape (samples), these will be different from the input\n",
    "gph_n.shape"
   ]
  },
  {
   "cell_type": "code",
   "execution_count": 66,
   "id": "9ee19e04-59b6-49a1-abf1-fcc0c0882ab6",
   "metadata": {},
   "outputs": [],
   "source": [
    "train_edge = int((63*length) - ((63*length)/63)*4)\n",
    "\n",
    "test_frac = int(((63*length)/63)*6)"
   ]
  },
  {
   "cell_type": "code",
   "execution_count": 67,
   "id": "46f1d582-c04a-4216-b229-bdcd632fa465",
   "metadata": {
    "scrolled": true
   },
   "outputs": [],
   "source": [
    "##Set X_all and Y_all datasets\n",
    "X_all1 = np.copy(input_pvu.reshape(63*length,11*145)) ##pvu\n",
    "Y_all1 = np.copy(gph_n.reshape(63*length))\n",
    "\n",
    "X_all2 = np.copy(input_gph.reshape(63*length,21*37)) ##gph\n",
    "Y_all2 = np.copy(temp_n.reshape(63*length))\n",
    "\n",
    "##training data partition out\n",
    "X_tri1 = X_all1[:train_edge,:] ##pvu\n",
    "Y_tri1 = Y_all1[:train_edge]\n",
    "\n",
    "X_tri2 = X_all2[:train_edge,:] ##gph\n",
    "Y_tri2 = Y_all2[:train_edge]\n",
    "\n",
    "#testing data partition out\n",
    "X_tes1 = X_all1[train_edge:,:]\n",
    "Y_tes1 = Y_all1[train_edge:]\n",
    "\n",
    "X_tes2 = X_all2[train_edge:,:]\n",
    "Y_tes2 = Y_all2[train_edge:]\n",
    "\n",
    "#Convert the Y array into a categorical array. This means we will create one-hot vector labels for all of the inputs.\n",
    "# The one-hot vectors have an index for each possible output category (two in our case)\n",
    "# A \"1\" is put in the index corresponding to the category to which the sample belongs\n",
    "Y_all1 = keras.utils.to_categorical(Y_all1)\n",
    "Y_tri1 = keras.utils.to_categorical(Y_tri1)\n",
    "Y_tes1= keras.utils.to_categorical(Y_tes1)\n",
    "\n",
    "Y_all2 = keras.utils.to_categorical(Y_all2)\n",
    "Y_tri2 = keras.utils.to_categorical(Y_tri2)\n",
    "Y_tes2= keras.utils.to_categorical(Y_tes2)"
   ]
  },
  {
   "cell_type": "code",
   "execution_count": 68,
   "id": "5beebb82-e25c-412f-a3a2-3dd18c343b52",
   "metadata": {},
   "outputs": [],
   "source": [
    "##checking my data for NaN of Infs because I need to make sure this doesn't cause\n",
    "#the model to throw back no loss\n",
    "\n",
    "if np.any(np.isnan(X_all2)) or np.any(np.isinf(X_all2)):\n",
    "    print(\"NaN or Inf values found in X_all!\")\n",
    "\n",
    "if np.any(np.isnan(Y_all2)) or np.any(np.isinf(Y_all2)):\n",
    "    print(\"NaN or Inf values found in Y_all!\")"
   ]
  },
  {
   "cell_type": "markdown",
   "id": "2edad085-2483-4eaa-a97c-79f4003a275e",
   "metadata": {},
   "source": [
    "### Begin establishing specifics of model."
   ]
  },
  {
   "cell_type": "code",
   "execution_count": 69,
   "id": "9c3b2fb4-4e7c-4781-b303-2f1b2cf14a41",
   "metadata": {},
   "outputs": [
    {
     "data": {
      "text/plain": [
       "864"
      ]
     },
     "execution_count": 69,
     "metadata": {},
     "output_type": "execute_result"
    }
   ],
   "source": [
    "##set 6 years of data for validation\n",
    "frac_ind = test_frac \n",
    "frac_ind"
   ]
  },
  {
   "cell_type": "code",
   "execution_count": 70,
   "id": "074e8204-f94d-4799-9e0f-5f4a3f73a3c7",
   "metadata": {},
   "outputs": [
    {
     "data": {
      "text/plain": [
       "(9072, 2)"
      ]
     },
     "execution_count": 70,
     "metadata": {},
     "output_type": "execute_result"
    }
   ],
   "source": [
    "##checking to make sure shape was properly one hot encoded\n",
    "Y_all2.shape"
   ]
  },
  {
   "cell_type": "code",
   "execution_count": 71,
   "id": "57b15f94-3206-4d31-82f3-c49d99bc026b",
   "metadata": {},
   "outputs": [
    {
     "data": {
      "text/plain": [
       "(9072, 2)"
      ]
     },
     "execution_count": 71,
     "metadata": {},
     "output_type": "execute_result"
    }
   ],
   "source": [
    "Y_all1.shape"
   ]
  },
  {
   "cell_type": "code",
   "execution_count": 72,
   "id": "1b2994bd-729c-443a-9ba6-01088e01ff5f",
   "metadata": {},
   "outputs": [],
   "source": [
    "##class weight creator for the instance where now I have a four dimensional output array \n",
    "def class_weight_creator(Y):\n",
    "    class_dict = {}\n",
    "    Y_reshaped = Y.reshape(-1, Y.shape[-1])\n",
    "    weights = np.max(np.sum(Y_reshaped, axis=0)) / np.sum(Y_reshaped, axis=0)\n",
    "    for i in range(Y.shape[-1] ):\n",
    "        class_dict[i] = weights[i]\n",
    "        \n",
    "    return class_dict"
   ]
  },
  {
   "cell_type": "code",
   "execution_count": 73,
   "id": "cb26fc72-176a-4be0-b175-1beb1a0da1f6",
   "metadata": {},
   "outputs": [],
   "source": [
    "##number of input nodes\n",
    "input_shape1=  X_all1.shape[-1] # pvu\n",
    "input_shape2= X_all2.shape[-1] ## gph\n",
    "\n",
    "##fraction of training data\n",
    "X_validation1 = X_tri1[0:frac_ind]\n",
    "Y_validation1 = Y_tri1[0:frac_ind]\n",
    "X_validation2 = X_tri2[0:frac_ind]\n",
    "Y_validation2 = Y_tri2[0:frac_ind]\n",
    "        \n",
    "X_train1 = X_tri1[frac_ind:len(X_tri1)]\n",
    "Y_train1 = Y_tri1[frac_ind:len(Y_tri1)]\n",
    "X_train2 = X_tri2[frac_ind:len(X_tri2)]\n",
    "Y_train2 = Y_tri2[frac_ind:len(Y_tri2)]\n",
    "\n",
    "X_test1 = X_tes1\n",
    "Y_test1 = Y_tes1\n",
    "X_test2 = X_tes2\n",
    "Y_test2 = Y_tes2"
   ]
  },
  {
   "cell_type": "code",
   "execution_count": 74,
   "id": "eb57347b-ceec-4e39-8fcf-0992b6b1b607",
   "metadata": {},
   "outputs": [
    {
     "data": {
      "text/plain": [
       "(7632, 2)"
      ]
     },
     "execution_count": 74,
     "metadata": {},
     "output_type": "execute_result"
    }
   ],
   "source": [
    "Y_train2.shape"
   ]
  },
  {
   "cell_type": "code",
   "execution_count": 75,
   "id": "8f044466-349a-46f4-bb70-f8d6a719465e",
   "metadata": {},
   "outputs": [
    {
     "data": {
      "text/plain": [
       "1595"
      ]
     },
     "execution_count": 75,
     "metadata": {},
     "output_type": "execute_result"
    }
   ],
   "source": [
    "input_shape1"
   ]
  },
  {
   "cell_type": "code",
   "execution_count": 76,
   "id": "2cd8fca7-a55e-459a-b908-71a462044f5e",
   "metadata": {},
   "outputs": [
    {
     "data": {
      "text/plain": [
       "777"
      ]
     },
     "execution_count": 76,
     "metadata": {},
     "output_type": "execute_result"
    }
   ],
   "source": [
    "input_shape2"
   ]
  },
  {
   "cell_type": "code",
   "execution_count": 77,
   "id": "00d61e2d-fe5e-43c9-95a2-75a559609794",
   "metadata": {},
   "outputs": [
    {
     "data": {
      "text/plain": [
       "{0: 1.0, 1: 1.028169}"
      ]
     },
     "execution_count": 77,
     "metadata": {},
     "output_type": "execute_result"
    }
   ],
   "source": [
    "##do the class_dict weights\n",
    "class_weight1 = class_weight_creator(Y_train1)\n",
    "class_weight1"
   ]
  },
  {
   "cell_type": "code",
   "execution_count": 78,
   "id": "481596da-403f-4611-9813-602c5daec20e",
   "metadata": {},
   "outputs": [
    {
     "data": {
      "text/plain": [
       "{0: 1.0, 1: 1.1602038}"
      ]
     },
     "execution_count": 78,
     "metadata": {},
     "output_type": "execute_result"
    }
   ],
   "source": [
    "class_weight2 = class_weight_creator(Y_train2)\n",
    "class_weight2"
   ]
  },
  {
   "cell_type": "code",
   "execution_count": 79,
   "id": "95d07fa8-f968-4664-96dc-6c0f7c4b0b15",
   "metadata": {},
   "outputs": [],
   "source": [
    "##dictionaries for training and validation\n",
    "X_train = {'model1': X_train1, 'model2': X_train2}\n",
    "X_all = {'model1': X_all1, 'model2': X_all2}\n",
    "X_test = {'model1': X_test1, 'model2': X_test2}\n",
    "X_val = {'model1': X_validation1, 'model2': X_validation2}\n",
    "\n",
    "Y_train = {'output1': Y_train1, 'output2': Y_train2}\n",
    "Y_all = {'output1': Y_all1, 'output2': Y_all2}\n",
    "Y_test = {'output1': Y_test1, 'output2': Y_test2}\n",
    "Y_val = {'output1': Y_validation1, 'output2': Y_validation2}\n",
    "\n",
    "class_weight = {'output1': class_weight1, 'output2': class_weight2}"
   ]
  },
  {
   "cell_type": "markdown",
   "id": "a44275b4-b283-48c5-a2f8-87d4ce86683b",
   "metadata": {},
   "source": [
    "### Model Arcitecture."
   ]
  },
  {
   "cell_type": "code",
   "execution_count": 80,
   "id": "a18fff27-71cf-40ff-a118-d2374cec2659",
   "metadata": {},
   "outputs": [],
   "source": [
    "def combined(input_shape1, input_shape2, num_cats, n1, n2, n3, n4, reg1, reg2, reg3, reg4, learn):\n",
    "    ##first layers for PVU ANN\n",
    "    input_tensor1 = Input(shape=(int(input_shape1),), name='model1')\n",
    "    layer1 = layers.Dense(n1, activation='relu', use_bias=True,\n",
    "                          kernel_initializer='he_normal',bias_initializer='he_normal',\n",
    "                          kernel_regularizer=keras.regularizers.l2(l2= reg1))(input_tensor1)\n",
    "   \n",
    "    layer1 = layers.Dense(n2, activation='relu', use_bias=True,\n",
    "                          kernel_initializer='he_normal',bias_initializer='he_normal',\n",
    "                          kernel_regularizer=keras.regularizers.l2(l2= reg2))(layer1)\n",
    "    output_tensor1 = layers.Dense(num_cats,activation='softmax', name='output1')(layer1)\n",
    "    \n",
    "\n",
    "    ## second layers for GPH ANN\n",
    "    input_tensor2 = Input(shape=(int(input_shape2),), name='model2')\n",
    "    \n",
    "    repeated = layers.RepeatVector(input_shape2)(output_tensor1)\n",
    "    #flatten output_tensor1_\n",
    "    flattened = layers.Flatten()(repeated)\n",
    "    combined = layers.Concatenate(axis=-1)([input_tensor2, flattened])\n",
    "    \n",
    "    layer2 = layers.Dense(n3, activation='relu', use_bias=True,\n",
    "                          kernel_initializer='he_normal',bias_initializer='he_normal',\n",
    "                          kernel_regularizer=keras.regularizers.l2(l2= reg3))(combined)\n",
    "    layer2 = layers.Dense(n4, activation='relu', use_bias=True,\n",
    "                          kernel_initializer='he_normal',bias_initializer='he_normal',\n",
    "                          kernel_regularizer=keras.regularizers.l2(l2= reg4))(layer2)\n",
    "\n",
    "    output_tensor2 = layers.Dense(num_cats,activation='softmax', name='output2')(layer2)\n",
    "    \n",
    "    model = Model([input_tensor1, input_tensor2], output_tensor2)\n",
    "    \n",
    "    model.compile(optimizer=keras.optimizers.legacy.Adam(learning_rate=learn),\n",
    "              loss = {\"output2\":\"categorical_crossentropy\"}\n",
    "              , #Our loss function is based on categorical error\n",
    "             metrics={'output2': keras.metrics.categorical_accuracy}, #We will print out the categorical accuracy as the network is trained\n",
    "              )\n",
    "    return model"
   ]
  },
  {
   "cell_type": "code",
   "execution_count": 81,
   "id": "ff092005-a4ca-447a-822c-66fa44eafdb2",
   "metadata": {},
   "outputs": [],
   "source": [
    "######\n",
    "batch_size = 256 #The number of samples the network sees before it backpropagates (batch size)\n",
    "epochs = 50 #The number of times the network will loop through the entire dataset (epochs)\n",
    "shuffle = True #Set whether to shuffle the training data so the model doesn't see it sequentially \n",
    "verbose = 2 #Set whether the model will output information when trained (0 = no output; 2 = output accuracy every epoch)"
   ]
  },
  {
   "cell_type": "code",
   "execution_count": 82,
   "id": "72ff3cda-ce59-447d-9878-929215aee56b",
   "metadata": {},
   "outputs": [],
   "source": [
    "##create model.\n",
    "model = combined(input_shape1, input_shape2, 2, 124, 4, 120, 12, 0.74, 0.098, 0.021, 0.056, 0.0016)\n",
    "\n",
    "\n",
    "early_stopping = EarlyStopping(monitor='val_loss',patience=4,restore_best_weights=True,verbose=1)"
   ]
  },
  {
   "cell_type": "code",
   "execution_count": 83,
   "id": "6044ca41-896b-4ba0-b9b1-03f0d957bad3",
   "metadata": {
    "scrolled": true
   },
   "outputs": [
    {
     "name": "stdout",
     "output_type": "stream",
     "text": [
      "Train on 7632 samples, validate on 864 samples\n",
      "Epoch 1/50\n",
      "2048/7632 [=======>......................] - ETA: 0s - loss: 150.7486 - categorical_accuracy: 0.5059"
     ]
    },
    {
     "name": "stderr",
     "output_type": "stream",
     "text": [
      "2024-12-03 23:27:08.971424: W tensorflow/c/c_api.cc:305] Operation '{name:'training_2/Adam/dense_7/bias/m/Assign' id:1399 op device:{requested: '', assigned: ''} def:{{{node training_2/Adam/dense_7/bias/m/Assign}} = AssignVariableOp[_has_manual_control_dependencies=true, dtype=DT_FLOAT, validate_shape=false](training_2/Adam/dense_7/bias/m, training_2/Adam/dense_7/bias/m/Initializer/zeros)}}' was changed by setting attribute after it was run by a session. This mutation will have no effect, and will trigger an error in the future. Either don't modify nodes after running them or create a new session.\n"
     ]
    },
    {
     "name": "stdout",
     "output_type": "stream",
     "text": [
      "7632/7632 [==============================] - 0s 48us/sample - loss: 77.0784 - categorical_accuracy: 0.6181 - val_loss: 15.8638 - val_categorical_accuracy: 0.6852\n",
      "Epoch 2/50\n",
      "4096/7632 [===============>..............] - ETA: 0s - loss: 9.2548 - categorical_accuracy: 0.6719 "
     ]
    },
    {
     "name": "stderr",
     "output_type": "stream",
     "text": [
      "/usr/local/lib/python3.10/dist-packages/keras/src/engine/training_v1.py:2335: UserWarning: `Model.state_updates` will be removed in a future version. This property should not be used in TensorFlow 2.0, as `updates` are applied automatically.\n",
      "  updates = self.state_updates\n"
     ]
    },
    {
     "name": "stdout",
     "output_type": "stream",
     "text": [
      "7632/7632 [==============================] - 0s 31us/sample - loss: 6.5641 - categorical_accuracy: 0.6694 - val_loss: 2.4451 - val_categorical_accuracy: 0.6725\n",
      "Epoch 3/50\n",
      "7632/7632 [==============================] - 0s 33us/sample - loss: 1.8703 - categorical_accuracy: 0.6743 - val_loss: 1.4109 - val_categorical_accuracy: 0.6840\n",
      "Epoch 4/50\n",
      "7632/7632 [==============================] - 0s 38us/sample - loss: 1.2638 - categorical_accuracy: 0.6744 - val_loss: 1.0504 - val_categorical_accuracy: 0.6898\n",
      "Epoch 5/50\n",
      "7632/7632 [==============================] - 0s 34us/sample - loss: 1.0037 - categorical_accuracy: 0.6756 - val_loss: 0.8664 - val_categorical_accuracy: 0.6956\n",
      "Epoch 6/50\n",
      "7632/7632 [==============================] - 0s 34us/sample - loss: 0.8734 - categorical_accuracy: 0.6678 - val_loss: 0.7824 - val_categorical_accuracy: 0.6852\n",
      "Epoch 7/50\n",
      "7632/7632 [==============================] - 0s 33us/sample - loss: 0.7922 - categorical_accuracy: 0.6733 - val_loss: 0.7122 - val_categorical_accuracy: 0.6887\n",
      "Epoch 8/50\n",
      "7632/7632 [==============================] - 0s 33us/sample - loss: 0.7505 - categorical_accuracy: 0.6740 - val_loss: 0.6871 - val_categorical_accuracy: 0.6887\n",
      "Epoch 9/50\n",
      "7632/7632 [==============================] - 0s 32us/sample - loss: 0.7278 - categorical_accuracy: 0.6711 - val_loss: 0.6642 - val_categorical_accuracy: 0.7014\n",
      "Epoch 10/50\n",
      "7632/7632 [==============================] - 0s 33us/sample - loss: 0.7076 - categorical_accuracy: 0.6690 - val_loss: 0.6466 - val_categorical_accuracy: 0.6979\n",
      "Epoch 11/50\n",
      "7632/7632 [==============================] - 0s 32us/sample - loss: 0.6950 - categorical_accuracy: 0.6761 - val_loss: 0.6383 - val_categorical_accuracy: 0.6759\n",
      "Epoch 12/50\n",
      "7632/7632 [==============================] - 0s 34us/sample - loss: 0.6888 - categorical_accuracy: 0.6730 - val_loss: 0.6313 - val_categorical_accuracy: 0.6898\n",
      "Epoch 13/50\n",
      "7632/7632 [==============================] - 0s 36us/sample - loss: 0.6807 - categorical_accuracy: 0.6817 - val_loss: 0.6297 - val_categorical_accuracy: 0.6944\n",
      "Epoch 14/50\n",
      "7632/7632 [==============================] - 0s 33us/sample - loss: 0.6800 - categorical_accuracy: 0.6769 - val_loss: 0.6293 - val_categorical_accuracy: 0.6921\n",
      "Epoch 15/50\n",
      "7632/7632 [==============================] - 0s 34us/sample - loss: 0.6733 - categorical_accuracy: 0.6758 - val_loss: 0.6173 - val_categorical_accuracy: 0.6910\n",
      "Epoch 16/50\n",
      "7632/7632 [==============================] - 0s 32us/sample - loss: 0.6711 - categorical_accuracy: 0.6778 - val_loss: 0.6193 - val_categorical_accuracy: 0.6956\n",
      "Epoch 17/50\n",
      "7632/7632 [==============================] - 0s 35us/sample - loss: 0.6766 - categorical_accuracy: 0.6764 - val_loss: 0.6287 - val_categorical_accuracy: 0.6956\n",
      "Epoch 18/50\n",
      "7632/7632 [==============================] - 0s 35us/sample - loss: 0.6688 - categorical_accuracy: 0.6732 - val_loss: 0.6182 - val_categorical_accuracy: 0.6887\n",
      "Epoch 19/50\n",
      "7632/7632 [==============================] - 0s 36us/sample - loss: 0.6691 - categorical_accuracy: 0.6768 - val_loss: 0.6196 - val_categorical_accuracy: 0.6725\n",
      "Epoch 20/50\n",
      "7632/7632 [==============================] - 0s 35us/sample - loss: 0.6703 - categorical_accuracy: 0.6762 - val_loss: 0.6059 - val_categorical_accuracy: 0.6887\n",
      "Epoch 21/50\n",
      "7632/7632 [==============================] - 0s 36us/sample - loss: 0.6656 - categorical_accuracy: 0.6769 - val_loss: 0.6246 - val_categorical_accuracy: 0.6921\n",
      "Epoch 22/50\n",
      "7632/7632 [==============================] - 0s 37us/sample - loss: 0.6657 - categorical_accuracy: 0.6752 - val_loss: 0.6140 - val_categorical_accuracy: 0.6968\n",
      "Epoch 23/50\n",
      "7632/7632 [==============================] - 0s 38us/sample - loss: 0.6739 - categorical_accuracy: 0.6643 - val_loss: 0.6186 - val_categorical_accuracy: 0.6956\n",
      "Epoch 24/50\n",
      "7632/7632 [==============================] - 0s 35us/sample - loss: 0.6683 - categorical_accuracy: 0.6816 - val_loss: 0.6089 - val_categorical_accuracy: 0.6921\n",
      "Epoch 25/50\n",
      "7632/7632 [==============================] - 0s 34us/sample - loss: 0.6630 - categorical_accuracy: 0.6740 - val_loss: 0.6095 - val_categorical_accuracy: 0.6898\n",
      "Epoch 26/50\n",
      "7632/7632 [==============================] - 0s 37us/sample - loss: 0.6667 - categorical_accuracy: 0.6731 - val_loss: 0.6111 - val_categorical_accuracy: 0.6887\n",
      "Epoch 27/50\n",
      "7632/7632 [==============================] - 0s 34us/sample - loss: 0.6718 - categorical_accuracy: 0.6749 - val_loss: 0.6425 - val_categorical_accuracy: 0.6620\n",
      "Epoch 28/50\n",
      "7632/7632 [==============================] - 0s 33us/sample - loss: 0.6665 - categorical_accuracy: 0.6781 - val_loss: 0.6273 - val_categorical_accuracy: 0.6875\n",
      "Epoch 29/50\n",
      "7632/7632 [==============================] - 0s 35us/sample - loss: 0.6657 - categorical_accuracy: 0.6757 - val_loss: 0.6158 - val_categorical_accuracy: 0.6863\n",
      "Epoch 30/50\n",
      "7632/7632 [==============================] - 0s 38us/sample - loss: 0.6628 - categorical_accuracy: 0.6817 - val_loss: 0.6052 - val_categorical_accuracy: 0.6829\n",
      "Epoch 31/50\n",
      "7632/7632 [==============================] - 0s 34us/sample - loss: 0.6639 - categorical_accuracy: 0.6791 - val_loss: 0.6193 - val_categorical_accuracy: 0.6898\n",
      "Epoch 32/50\n",
      "7632/7632 [==============================] - 0s 36us/sample - loss: 0.6604 - categorical_accuracy: 0.6760 - val_loss: 0.6094 - val_categorical_accuracy: 0.6979\n",
      "Epoch 33/50\n",
      "7632/7632 [==============================] - 0s 41us/sample - loss: 0.6590 - categorical_accuracy: 0.6770 - val_loss: 0.6162 - val_categorical_accuracy: 0.6921\n",
      "Epoch 34/50\n",
      "7632/7632 [==============================] - 0s 35us/sample - loss: 0.6619 - categorical_accuracy: 0.6778 - val_loss: 0.6144 - val_categorical_accuracy: 0.6863\n",
      "Epoch 35/50\n",
      "7632/7632 [==============================] - 0s 38us/sample - loss: 0.6636 - categorical_accuracy: 0.6773 - val_loss: 0.6045 - val_categorical_accuracy: 0.6944\n",
      "Epoch 36/50\n",
      "7632/7632 [==============================] - 0s 36us/sample - loss: 0.6597 - categorical_accuracy: 0.6771 - val_loss: 0.6037 - val_categorical_accuracy: 0.6852\n",
      "Epoch 37/50\n",
      "7632/7632 [==============================] - 0s 35us/sample - loss: 0.6625 - categorical_accuracy: 0.6802 - val_loss: 0.6245 - val_categorical_accuracy: 0.6956\n",
      "Epoch 38/50\n",
      "7632/7632 [==============================] - 0s 37us/sample - loss: 0.6634 - categorical_accuracy: 0.6787 - val_loss: 0.6115 - val_categorical_accuracy: 0.6921\n",
      "Epoch 39/50\n",
      "7632/7632 [==============================] - 0s 40us/sample - loss: 0.6620 - categorical_accuracy: 0.6760 - val_loss: 0.6058 - val_categorical_accuracy: 0.6944\n",
      "Epoch 40/50\n",
      "7632/7632 [==============================] - 0s 37us/sample - loss: 0.6606 - categorical_accuracy: 0.6798 - val_loss: 0.6105 - val_categorical_accuracy: 0.6887\n",
      "Epoch 41/50\n",
      "7632/7632 [==============================] - 0s 37us/sample - loss: 0.6639 - categorical_accuracy: 0.6748 - val_loss: 0.6123 - val_categorical_accuracy: 0.7049\n",
      "Epoch 42/50\n",
      "7632/7632 [==============================] - 0s 33us/sample - loss: 0.6721 - categorical_accuracy: 0.6718 - val_loss: 0.6071 - val_categorical_accuracy: 0.6991\n",
      "Epoch 43/50\n",
      "7632/7632 [==============================] - 0s 36us/sample - loss: 0.6592 - categorical_accuracy: 0.6819 - val_loss: 0.6094 - val_categorical_accuracy: 0.6956\n",
      "Epoch 44/50\n",
      "7632/7632 [==============================] - 0s 37us/sample - loss: 0.6616 - categorical_accuracy: 0.6777 - val_loss: 0.6039 - val_categorical_accuracy: 0.6863\n",
      "Epoch 45/50\n",
      "7632/7632 [==============================] - 0s 37us/sample - loss: 0.6587 - categorical_accuracy: 0.6806 - val_loss: 0.6040 - val_categorical_accuracy: 0.6898\n",
      "Epoch 46/50\n",
      "7632/7632 [==============================] - 0s 34us/sample - loss: 0.6578 - categorical_accuracy: 0.6778 - val_loss: 0.6027 - val_categorical_accuracy: 0.6921\n",
      "Epoch 47/50\n",
      "7632/7632 [==============================] - 0s 40us/sample - loss: 0.6617 - categorical_accuracy: 0.6768 - val_loss: 0.6101 - val_categorical_accuracy: 0.6991\n",
      "Epoch 48/50\n",
      "7632/7632 [==============================] - 0s 36us/sample - loss: 0.6596 - categorical_accuracy: 0.6811 - val_loss: 0.6327 - val_categorical_accuracy: 0.6956\n",
      "Epoch 49/50\n",
      "7632/7632 [==============================] - 0s 33us/sample - loss: 0.6626 - categorical_accuracy: 0.6752 - val_loss: 0.6116 - val_categorical_accuracy: 0.6863\n",
      "Epoch 50/50\n",
      "7632/7632 [==============================] - 0s 32us/sample - loss: 0.6557 - categorical_accuracy: 0.6850 - val_loss: 0.6181 - val_categorical_accuracy: 0.6840\n"
     ]
    },
    {
     "data": {
      "text/plain": [
       "<keras.src.callbacks.History at 0x7f8c3fac8160>"
      ]
     },
     "execution_count": 83,
     "metadata": {},
     "output_type": "execute_result"
    }
   ],
   "source": [
    "model.fit(X_train, Y_train, validation_data=(X_val, Y_val),\n",
    "          batch_size=batch_size, epochs=epochs, shuffle=shuffle,class_weight = class_weight)#callbacks=[early_stopping])"
   ]
  },
  {
   "cell_type": "code",
   "execution_count": 84,
   "id": "0449d92b-f742-4e01-a79a-d67f7c2e41a6",
   "metadata": {},
   "outputs": [
    {
     "name": "stderr",
     "output_type": "stream",
     "text": [
      "/usr/local/lib/python3.10/dist-packages/keras/src/engine/training_v1.py:2359: UserWarning: `Model.state_updates` will be removed in a future version. This property should not be used in TensorFlow 2.0, as `updates` are applied automatically.\n",
      "  updates=self.state_updates,\n",
      "2024-12-03 23:27:22.656779: W tensorflow/c/c_api.cc:305] Operation '{name:'output2_1/Softmax' id:1014 op device:{requested: '', assigned: ''} def:{{{node output2_1/Softmax}} = Softmax[T=DT_FLOAT, _has_manual_control_dependencies=true](output2_1/BiasAdd)}}' was changed by setting attribute after it was run by a session. This mutation will have no effect, and will trigger an error in the future. Either don't modify nodes after running them or create a new session.\n"
     ]
    }
   ],
   "source": [
    "train_loss=model.history.history['loss']\n",
    "val_loss=model.history.history['val_loss']\n",
    "    \n",
    "cat_acc=model.history.history['categorical_accuracy']\n",
    "val_acc=model.history.history['val_categorical_accuracy']\n",
    "        \n",
    "pred = model.predict(X_all)\n",
    "pred_val = model.predict(X_val)\n",
    "pred_train = model.predict(X_train)\n",
    "pred_test = model.predict(X_test)"
   ]
  },
  {
   "cell_type": "code",
   "execution_count": 85,
   "id": "8a7ef8db-8dde-45dc-89b3-58dcc6c72a28",
   "metadata": {},
   "outputs": [
    {
     "data": {
      "text/plain": [
       "<bound method Axes.legend of <Axes: title={'center': 'Accuracy'}, xlabel='Epoch', ylabel='Acc'>>"
      ]
     },
     "execution_count": 85,
     "metadata": {},
     "output_type": "execute_result"
    },
    {
     "data": {
      "image/png": "[encoded data removed]",
      "text/plain": [
       "<Figure size 1600x400 with 2 Axes>"
      ]
     },
     "metadata": {},
     "output_type": "display_data"
    }
   ],
   "source": [
    "# Look at the optimization history\n",
    "fig, (ax1,ax2) = plt.subplots(1,2, figsize=plt.figaspect(0.25))\n",
    "ax1.plot(train_loss, label='Training loss')\n",
    "ax1.plot(val_loss, label='Validation loss')\n",
    "ax1.set_yscale('log')\n",
    "ax1.set_title('loss')\n",
    "ax1.set_xlabel('Epoch')\n",
    "ax1.set_ylabel('loss')\n",
    "ax1.legend()\n",
    "\n",
    "ax2.plot(cat_acc, label='Training ACC')\n",
    "ax2.plot(val_acc, label='Validation ACC')\n",
    "ax2.set_title('Accuracy')\n",
    "ax2.set_xlabel('Epoch')\n",
    "ax2.set_ylabel('Acc')\n",
    "ax2.legend"
   ]
  },
  {
   "cell_type": "code",
   "execution_count": 86,
   "id": "18cdcc66-a649-4e65-8e4d-2a6bbd5bfd44",
   "metadata": {},
   "outputs": [],
   "source": [
    "##calculate climatologies\n",
    "\n",
    "climo_full = climo(Y_all2,63,length)\n",
    "climo_train = climo(Y_train2,53,length)\n",
    "climo_val = climo(Y_validation2,6,length)\n",
    "climo_test = climo(Y_test2,4,length)"
   ]
  },
  {
   "cell_type": "code",
   "execution_count": 87,
   "id": "007264d0-f0c9-470d-bb50-18bf3ad2ca13",
   "metadata": {},
   "outputs": [],
   "source": [
    "#from google gemini, thanks google\n",
    "def calculate_accuracy(y_true, y_prob, threshold=0.5):\n",
    "    \"\"\"\n",
    "    Calculates accuracy given true labels and predicted probabilities.\n",
    "    Args:\n",
    "        y_true: Array of true labels (e.g., [0, 1, 1, 0]).\n",
    "        y_prob: Array of predicted probabilities (e.g., [0.3, 0.7, 0.9, 0.2]).\n",
    "        threshold: Threshold to convert probabilities to binary predictions.\n",
    "    Returns:\n",
    "        Accuracy score (float).\n",
    "    \"\"\"\n",
    "\n",
    "    y_pred = (y_prob >= threshold).astype(int)\n",
    "    return np.mean(y_true == y_pred)"
   ]
  },
  {
   "cell_type": "code",
   "execution_count": 88,
   "id": "672a8208-facf-44f6-803d-49a6e7141a19",
   "metadata": {},
   "outputs": [
    {
     "data": {
      "text/plain": [
       "array([0.80272985, 0.79450199])"
      ]
     },
     "execution_count": 88,
     "metadata": {},
     "output_type": "execute_result"
    }
   ],
   "source": [
    "q90 = np.percentile(pred_train,90,axis=0)\n",
    "q90"
   ]
  },
  {
   "cell_type": "code",
   "execution_count": 89,
   "id": "0156d048-c40a-4ebd-8ac2-57a94de0820f",
   "metadata": {},
   "outputs": [
    {
     "name": "stdout",
     "output_type": "stream",
     "text": [
      "1528\n",
      "1528\n"
     ]
    }
   ],
   "source": [
    "great90 = [i for i, row in enumerate(pred_train)\n",
    "           if any(pred_train > q90[i] for i, pred_train in enumerate(row))]\n",
    "\n",
    "# Create the arrays of probabilities and actual values that exceed the 90th percentile\n",
    "test90 = pred_train[great90]\n",
    "test90_norm = Y_train2[great90]\n",
    "\n",
    "print(len(test90))\n",
    "print(len(test90_norm))"
   ]
  },
  {
   "cell_type": "code",
   "execution_count": 90,
   "id": "dedbf740-5f26-4196-81f5-dd9b2b0718d3",
   "metadata": {},
   "outputs": [
    {
     "data": {
      "text/plain": [
       "0.8579842931937173"
      ]
     },
     "execution_count": 90,
     "metadata": {},
     "output_type": "execute_result"
    }
   ],
   "source": [
    "acc = calculate_accuracy(test90_norm, test90, threshold=0.5)\n",
    "acc"
   ]
  },
  {
   "cell_type": "code",
   "execution_count": 91,
   "id": "cd850cf0-d811-4634-b332-73d894722d9f",
   "metadata": {
    "jupyter": {
     "source_hidden": true
    }
   },
   "outputs": [],
   "source": [
    "for j in range(len(climo_full[0,:])):\n",
    "    bs = brier_score_loss(Y_all2[:,j], pred[:,j])\n",
    "    bs_ref = brier_score_loss(Y_all2[:,j], climo_full[:,j])\n",
    "    bss = 1 - (bs / bs_ref)"
   ]
  },
  {
   "cell_type": "code",
   "execution_count": 92,
   "id": "d2e60ffd-31d8-407f-bc90-ebd8d957aac3",
   "metadata": {
    "jupyter": {
     "source_hidden": true
    }
   },
   "outputs": [],
   "source": [
    "import sklearn\n",
    "pred_class = []\n",
    "for k in range(len(Y_all2[:,0])):##PREDICTIVE\n",
    "    #print(pred_val[k,0])\n",
    "    #print(pred_val[k,1])\n",
    "    #print(pred_val[k,2])\n",
    "    if pred[k,0] > pred[k,1]:\n",
    "        #print(\"a\")\n",
    "        pred_class.append([1.,0.])\n",
    "    elif pred[k,1] > pred[k,0]:\n",
    "        #print(\"b\")\n",
    "        pred_class.append([0.,1.])\n",
    "prd = np.asarray(pred_class)\n",
    "for j in range(len(climo_full[0,:])):\n",
    "    recal = sklearn.metrics.recall_score(Y_all2[:,j], prd[:,j])"
   ]
  },
  {
   "cell_type": "code",
   "execution_count": 93,
   "id": "2f1be32a-46c7-45a4-a20c-25a9d3bf805e",
   "metadata": {
    "jupyter": {
     "source_hidden": true
    }
   },
   "outputs": [],
   "source": [
    "pred_class = []\n",
    "for k in range(len(Y_all2[:,0])):##PREDICTIVE\n",
    "    #print(pred_val[k,0])\n",
    "    #print(pred_val[k,1])\n",
    "    #print(pred_val[k,2])\n",
    "    if pred[k,0] > pred[k,1]:\n",
    "        #print(\"a\")\n",
    "        pred_class.append([1.,0.])\n",
    "    elif pred[k,1] > pred[k,0]:\n",
    "        #print(\"b\")\n",
    "        pred_class.append([0.,1.])\n",
    "prd = np.asarray(pred_class)\n",
    "for j in range(len(climo_full[0,:])):\n",
    "    prec = sklearn.metrics.precision_score(Y_all2[:,j], prd[:,j])"
   ]
  },
  {
   "cell_type": "code",
   "execution_count": 94,
   "id": "88f72ef8-4472-45f1-b59d-5f0b7cefb75f",
   "metadata": {},
   "outputs": [
    {
     "name": "stdout",
     "output_type": "stream",
     "text": [
      "Brier Skill Score:  0.04494227656266836\n",
      "Recall Accuracy Score:  0.7295238095238096\n",
      "Precision Accuracy Score:  0.6380674718867139\n"
     ]
    }
   ],
   "source": [
    "print(\"Brier Skill Score: \",bss)\n",
    "print(\"Recall Accuracy Score: \",recal)\n",
    "print(\"Precision Accuracy Score: \",prec)"
   ]
  },
  {
   "cell_type": "code",
   "execution_count": 95,
   "id": "37dba041-68cd-4840-95f8-dc3fb3b92abf",
   "metadata": {},
   "outputs": [],
   "source": [
    "#################################################### COMPS"
   ]
  },
  {
   "cell_type": "code",
   "execution_count": 96,
   "id": "caaf2990-3fb6-4c2a-ad36-4906bcf6e719",
   "metadata": {},
   "outputs": [],
   "source": [
    "q90 = np.percentile(pred_test,90,axis=0) ##identify the threshold for the 90th percentile of confidence\n",
    "##AS before with checking the threshold\n",
    "great90 = [i for i, row in enumerate(pred_test) if (row[0] > q90[0]) or (row[1] > q90[1])]\n",
    "\n",
    "##classify the accuracy of predicitons\n",
    "correct_pos = [] #correct positive anomaly\n",
    "correct_neg = [] #correct negative anomaly\n",
    "\n",
    "false_pos = [] #false positive\n",
    "false_neg = [] #false negative\n",
    "\n",
    "for j in range(len(great90)):\n",
    "    #print(j)\n",
    "    #print(great90[j])\n",
    "    index = great90[j]\n",
    "    if pred_test[index,0] < pred_test[index,1] and Y_test1[index,0] == 0:\n",
    "        correct_pos.append(index)\n",
    "        #print('###########')\n",
    "    elif pred_test[index,0] > pred_test[index,1] and Y_test1[index,0] == 1:\n",
    "        correct_neg.append(index)\n",
    "        #print('###########')\n",
    "    elif pred_test[index,0] < pred_test[index,1] and Y_test1[index,0] == 1:\n",
    "        false_neg.append(index)\n",
    "        #print('###########')\n",
    "    elif pred_test[index,0] > pred_test[index,1] and Y_test1[index,0] == 0:\n",
    "        false_pos.append(index)\n",
    "        #print('###########')"
   ]
  },
  {
   "cell_type": "code",
   "execution_count": 97,
   "id": "0fc3abe1-a222-4baf-907e-9e59b1eaa432",
   "metadata": {},
   "outputs": [],
   "source": [
    "PV_comp_pos= np.nanmean(X_test1[correct_pos],axis=0) \n",
    "GPH_comp_pos = np.nanmean(X_test2[correct_pos],axis=0)\n",
    "\n",
    "PV_comp_neg = np.nanmean(X_test1[correct_neg],axis=0)\n",
    "GPH_comp_neg = np.nanmean(X_test2[correct_neg],axis=0) \n",
    "\n",
    "PV_comp_Fpos = np.nanmean(X_test1[false_pos],axis=0)\n",
    "GPH_comp_Fpos = np.nanmean(X_test2[false_pos],axis=0) \n",
    "\n",
    "PV_comp_Fneg = np.nanmean(X_test1[false_neg],axis=0) \n",
    "GPH_comp_Fneg = np.nanmean(X_test2[false_neg],axis=0) "
   ]
  },
  {
   "cell_type": "code",
   "execution_count": 98,
   "id": "ebd7787c-b07e-4597-be3d-70ec25ccc24d",
   "metadata": {},
   "outputs": [],
   "source": [
    "##for composites\n",
    "pickle.dump(PV_comp_pos, open(\"PVU100_comp_pos_lag.p\",'wb'))\n",
    "pickle.dump(PV_comp_Fpos, open(\"PVU100_compFpos_lag.p\",'wb'))\n",
    "pickle.dump(PV_comp_neg, open(\"PVU100_comp_neg_lag.p\",'wb'))\n",
    "pickle.dump(PV_comp_Fneg, open(\"PVU100_compFneg_lag.p\",'wb'))\n",
    "\n",
    "##for composites\n",
    "pickle.dump(GPH_comp_pos, open(\"GPH500_comp_pos_lag.p\",'wb'))\n",
    "pickle.dump(GPH_comp_Fpos, open(\"GPH500_compFpos_lag.p\",'wb'))\n",
    "pickle.dump(GPH_comp_neg, open(\"GPH500_comp_neg_lag.p\",'wb'))\n",
    "pickle.dump(GPH_comp_Fneg, open(\"GPH500_compFneg_lag.p\",'wb'))"
   ]
  },
  {
   "cell_type": "code",
   "execution_count": null,
   "id": "d95e4d25-5362-4f36-b5cf-38f994a75e00",
   "metadata": {},
   "outputs": [],
   "source": [
    "#################LRP not working lol##########"
   ]
  },
  {
   "cell_type": "markdown",
   "id": "699fc9ca-5433-48ef-9c89-53a81ea08501",
   "metadata": {
    "jupyter": {
     "source_hidden": true
    }
   },
   "source": [
    "def replace_softmax(m):\n",
    "    for layer in m.layers:\n",
    "        if isinstance(layer, layers.Dense):\n",
    "            #if layer.activation == keras.activations.softmax:\n",
    "                #layer.activation = None  \n",
    "            if layer.activation != keras.activations.relu:\n",
    "                layer.activation = keras.activations.relu\n",
    "    new_model = Model(inputs=m.inputs, outputs=m.outputs)\n",
    "    return new_model"
   ]
  },
  {
   "cell_type": "markdown",
   "id": "73d702e1-ca95-4c2d-8a37-08ef61610098",
   "metadata": {
    "jupyter": {
     "source_hidden": true
    }
   },
   "source": [
    "update = replace_softmax(model)"
   ]
  },
  {
   "cell_type": "markdown",
   "id": "d1409a13-6f7d-40d5-8542-27ad8973ed83",
   "metadata": {
    "jupyter": {
     "source_hidden": true
    }
   },
   "source": [
    "gradient_analyzer = innvestigate.create_analyzer(\"deep_taylor\",update)"
   ]
  },
  {
   "cell_type": "markdown",
   "id": "744d24cd-0f08-4106-862e-cc0bc51d7520",
   "metadata": {
    "jupyter": {
     "source_hidden": true
    },
    "scrolled": true
   },
   "source": [
    "analysis = gradient_analyzer.analyze(X_train)"
   ]
  },
  {
   "cell_type": "markdown",
   "id": "14a47fb4-96d7-42c7-9373-8b679ab95a86",
   "metadata": {
    "jupyter": {
     "source_hidden": true
    }
   },
   "source": [
    "pvu_lrp = analysis[0]"
   ]
  },
  {
   "cell_type": "raw",
   "id": "ec9285c0-6abc-4a0e-b35a-530bb45777c6",
   "metadata": {
    "jupyter": {
     "source_hidden": true
    }
   },
   "source": [
    "gph_lrp = analysis[1]"
   ]
  },
  {
   "cell_type": "markdown",
   "id": "d4fe86ae-c498-455f-9a4a-873924f2e6e6",
   "metadata": {
    "jupyter": {
     "source_hidden": true
    }
   },
   "source": [
    "pvuLRP_heatmaps = pvu_lrp.reshape(pvu_lrp.shape[0], 11, 145)\n",
    "pvuLRP_heatmaps_scaled = pvuLRP_heatmaps/np.nanmax(pvuLRP_heatmaps, axis=(-2,-1))[:,np.newaxis,np.newaxis]\n",
    "pvuLRP_heatmaps_mean = np.nanmean(pvuLRP_heatmaps_scaled, axis=0)\n",
    "\n",
    "gphLRP_heatmaps = gph_lrp.reshape(gph_lrp.shape[0], 21, 37)\n",
    "gphLRP_heatmaps_scaled = gphLRP_heatmaps/np.nanmax(gphLRP_heatmaps, axis=(-2,-1))[:,np.newaxis,np.newaxis]\n",
    "gphLRP_heatmaps_mean = np.nanmean(gphLRP_heatmaps_scaled, axis=0)"
   ]
  },
  {
   "cell_type": "markdown",
   "id": "6800a4a4-3887-4159-b5ff-209bba5783cf",
   "metadata": {
    "jupyter": {
     "source_hidden": true
    }
   },
   "source": [
    "#lat\n",
    "lats1 = np.arange(90, 62.5, -2.5)\n",
    "#lon\n",
    "lons1 = np.arange(0, 362.5, 2.5)\n",
    "\n",
    "color = 'twilight' \n",
    "colorbarMin = 0\n",
    "colorbarMax = 1\n",
    "colorspace = 0.05\n",
    "level = np.arange(colorbarMin,colorbarMax+colorspace,colorspace)\n",
    "plt.figure(figsize=(7.5,7.5))\n",
    "def define_map():\n",
    "    from matplotlib.path import Path\n",
    "\n",
    "    fig = plt.figure(figsize=(7,7))\n",
    "    ax = plt.axes(projection=ccrs.NorthPolarStereo())\n",
    "    ax.coastlines()\n",
    "\n",
    "    # From example: http://scitools.org.uk/cartopy/docs/latest/examples/always_circular_stereo.html\n",
    "    theta = np.linspace(0, 2*np.pi, 100)\n",
    "    center, radius = [0.5, 0.5], 0.5\n",
    "    verts = np.vstack([np.sin(theta), np.cos(theta)]).T\n",
    "    circle = Path(verts * radius + center)\n",
    "\n",
    "    ax.set_boundary(circle, transform=ax.transAxes)\n",
    "    return(fig, ax)\n",
    "    \n",
    "\n",
    "fig, ax = define_map()\n",
    "plt.contourf(lons1,lats1,pvuLRP_heatmaps_mean,level,transform=ccrs.PlateCarree(), cmap=color)\n",
    "plt.colorbar(orientation = 'horizontal', shrink=1,fraction=0.1,pad=0.05,aspect=35, label=\"Frequency\")\n",
    "\n",
    "plt.tight_layout()\n",
    "#title = 'Frequency LRP of 100hPa PVU associated with 10% Most Confident & Correct - Temp Anomaly'\n",
    "#plt.title(title,fontsize=11)\n",
    "plt.show()"
   ]
  },
  {
   "cell_type": "markdown",
   "id": "565c3e97-7f8c-4cd0-9f02-97366de235ec",
   "metadata": {
    "jupyter": {
     "source_hidden": true
    }
   },
   "source": [
    "#lat\n",
    "lats = np.arange(80, 29.5, -2.5)\n",
    "#lon\n",
    "lons = np.arange(-100, -9.5, 2.5)\n",
    "\n",
    "color = 'twilight' \n",
    "colorbarMin = 0\n",
    "colorbarMax = 1\n",
    "colorspace = 0.05\n",
    "level = np.arange(colorbarMin,colorbarMax+colorspace,colorspace)\n",
    "ax = plt.axes(projection=ccrs.cartopy.crs.PlateCarree(central_longitude=180))\n",
    "h = ax.contourf(lons, lats, gphLRP_heatmaps_mean, level, transform=ccrs.PlateCarree(), cmap=color,extend='both')\n",
    "#plt.contourf(lons, lats, LRP_heatmaps_mean, level, cmap=color,extend='both')\n",
    "cbar = plt.colorbar(h, orientation='horizontal', shrink=1,fraction=0.1,pad=0.1,aspect=35)\n",
    "cbar.ax.tick_params(labelsize=10) \n",
    "#Add in the coordinate system:\n",
    "long = np.arange(-100, -10, 5)\n",
    "latg = np.arange(80, 30 ,-5)\n",
    "ax.set_xticks(long, crs=ccrs.PlateCarree());\n",
    "ax.set_yticks(latg, crs=ccrs.PlateCarree());\n",
    "ax.set_xticklabels(long,fontsize=8)\n",
    "ax.set_yticklabels(latg,fontsize=8)\n",
    "ax.set_ylabel('Latitude',fontsize=10);\n",
    "ax.set_xlabel('Longitude',fontsize=10);\n",
    "\n",
    "#Add in the continents\n",
    "#define the coastlines, the color (#000000) and the resolution (110m) \n",
    "feature1 = cf.NaturalEarthFeature(\n",
    "    name='coastline', category='physical',\n",
    "    scale='110m',\n",
    "    edgecolor='#000000', facecolor='none')\n",
    "\n",
    "ax.add_feature(feature1)\n",
    "\n",
    "plt.tight_layout()"
   ]
  },
  {
   "cell_type": "code",
   "execution_count": null,
   "id": "f0c6a65d-e134-4618-b15d-ab28b6004e5c",
   "metadata": {},
   "outputs": [],
   "source": []
  }
 ],
 "metadata": {
  "kernelspec": {
   "display_name": "Python 3 (ipykernel)",
   "language": "python",
   "name": "python3"
  },
  "language_info": {
   "codemirror_mode": {
    "name": "ipython",
    "version": 3
   },
   "file_extension": ".py",
   "mimetype": "text/x-python",
   "name": "python",
   "nbconvert_exporter": "python",
   "pygments_lexer": "ipython3",
   "version": "3.10.13"
  }
 },
 "nbformat": 4,
 "nbformat_minor": 5
}
