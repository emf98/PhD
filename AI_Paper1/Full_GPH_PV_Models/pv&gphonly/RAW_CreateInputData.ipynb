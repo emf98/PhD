{
 "cells": [
  {
   "cell_type": "markdown",
   "id": "7b23da87-758b-400c-92f3-a328503d6805",
   "metadata": {},
   "source": [
    "## Create Data files of gph and pvu anomalies (NORMALIZED) preceding temperature. \n",
    "\n",
    "I am keeping ALL events. Not separating. "
   ]
  },
  {
   "cell_type": "code",
   "execution_count": 1,
   "id": "b0f6128c-9eb5-4a6d-850a-370851fd3740",
   "metadata": {},
   "outputs": [
    {
     "name": "stderr",
     "output_type": "stream",
     "text": [
      "/knight/anaconda_jan21/envs/aug21/lib/python3.8/site-packages/scipy/__init__.py:146: UserWarning: A NumPy version >=1.16.5 and <1.23.0 is required for this version of SciPy (detected version 1.24.3\n",
      "  warnings.warn(f\"A NumPy version >={np_minversion} and <{np_maxversion}\"\n"
     ]
    }
   ],
   "source": [
    "#relevant import statements\n",
    "import numpy as np\n",
    "import xarray as xr \n",
    "import pickle "
   ]
  },
  {
   "cell_type": "code",
   "execution_count": 2,
   "id": "4a422d9d-96e9-46d5-9f89-8042934cbfd0",
   "metadata": {},
   "outputs": [],
   "source": [
    "##import \n",
    "infile = open(\"../GPH_reduced/gph500_NAO25deg.p\", 'rb') \n",
    "gph = pickle.load(infile)\n",
    "infile.close()\n",
    "\n",
    "infile = open(\"../processing_ellipse/pv/pvu100_25deg.p\", 'rb') \n",
    "pvu = pickle.load(infile)\n",
    "infile.close()\n",
    "\n",
    "# weighted, temperature at 1000hPa over the area in europe\n",
    "infile = open(\"../eur1000_temp.p\", 'rb') \n",
    "temp = pickle.load(infile)\n",
    "infile.close()\n",
    "\n",
    "infile = open(\"../processing_ellipse/data/NAO_gph500.p\", 'rb') \n",
    "gph_red = pickle.load(infile)\n",
    "infile.close()"
   ]
  },
  {
   "cell_type": "code",
   "execution_count": 3,
   "id": "66652d4c-bd40-4907-946d-600e758f47c3",
   "metadata": {},
   "outputs": [
    {
     "data": {
      "text/plain": [
       "(63, 152, 21, 37)"
      ]
     },
     "execution_count": 3,
     "metadata": {},
     "output_type": "execute_result"
    }
   ],
   "source": [
    "gph.shape"
   ]
  },
  {
   "cell_type": "code",
   "execution_count": 4,
   "id": "eb2af663-efbb-4b36-a92e-00a865b30bca",
   "metadata": {},
   "outputs": [
    {
     "data": {
      "text/plain": [
       "(63, 181, 11, 145)"
      ]
     },
     "execution_count": 4,
     "metadata": {},
     "output_type": "execute_result"
    }
   ],
   "source": [
    "pvu.shape"
   ]
  },
  {
   "cell_type": "code",
   "execution_count": 5,
   "id": "18907763-f68a-42ca-8262-fbeb6fe4986b",
   "metadata": {},
   "outputs": [
    {
     "data": {
      "text/plain": [
       "(63, 152)"
      ]
     },
     "execution_count": 5,
     "metadata": {},
     "output_type": "execute_result"
    }
   ],
   "source": [
    "temp.shape"
   ]
  },
  {
   "cell_type": "code",
   "execution_count": 6,
   "id": "18d09a01-a736-4f7d-93ac-f015f4bd6185",
   "metadata": {},
   "outputs": [
    {
     "data": {
      "text/plain": [
       "(63, 151)"
      ]
     },
     "execution_count": 6,
     "metadata": {},
     "output_type": "execute_result"
    }
   ],
   "source": [
    "gph_red.shape"
   ]
  },
  {
   "cell_type": "code",
   "execution_count": 7,
   "id": "ffa3809b-23d3-4e93-b494-46d0869545eb",
   "metadata": {},
   "outputs": [],
   "source": [
    "##remove leap days now\n",
    "gph = np.delete(gph,[120],1)\n",
    "temp = np.delete(temp,[120],1)"
   ]
  },
  {
   "cell_type": "code",
   "execution_count": 8,
   "id": "a8881580-e3f7-4809-962f-421fc3a693b4",
   "metadata": {},
   "outputs": [],
   "source": [
    "## check all for NaNs\n",
    "if np.any(np.isnan(gph)) or np.any(np.isinf(gph)):\n",
    "    print(\"NaN or Inf values found in gph!\")\n",
    "\n",
    "## check all for NaNs\n",
    "if np.any(np.isnan(pvu)) or np.any(np.isinf(pvu)):\n",
    "    print(\"NaN or Inf values found in pvu!\")"
   ]
  },
  {
   "cell_type": "code",
   "execution_count": 9,
   "id": "6891b315-0c88-4e66-b463-b96d2f3d701e",
   "metadata": {},
   "outputs": [],
   "source": [
    "##calculate daily anomalies \n",
    "dailymean_g = np.nanmean(gph,axis=1)\n",
    "anom_g = np.zeros_like(gph)\n",
    "for t in np.arange(gph.shape[1]):\n",
    "        anom_g[:,t,:,:] = gph[:,t,:,:] - dailymean_g\n",
    "\n",
    "dailymean_pv = np.nanmean(pvu,axis=1)\n",
    "anom_pv = np.zeros_like(pvu)\n",
    "for t in np.arange(pvu.shape[1]):\n",
    "        anom_pv[:,t,:,:] = pvu[:,t,:,:] - dailymean_pv\n",
    "\n",
    "dailymean_t = np.nanmean(temp,axis=1)\n",
    "anom_t = np.zeros_like(temp)\n",
    "for t in np.arange(temp.shape[1]):\n",
    "        anom_t[:,t] = temp[:,t] - dailymean_t\n",
    "\n",
    "dailymean_gr = np.nanmean(gph_red,axis=1)\n",
    "anom_gr = np.zeros_like(gph_red)\n",
    "for t in np.arange(gph_red.shape[1]):\n",
    "        anom_gr[:,t] = gph_red[:,t] - dailymean_gr"
   ]
  },
  {
   "cell_type": "code",
   "execution_count": 10,
   "id": "129b6d8c-4d9f-4b10-b99b-e2a68012b5d3",
   "metadata": {},
   "outputs": [],
   "source": [
    "##split into testing and training data\n",
    "test_g = anom_g[59:]\n",
    "test_g2 = test_g.reshape((4*151,21*37))\n",
    "test_p = anom_pv[59:,30:]\n",
    "test_p2 = test_p.reshape((4*151,11*145))\n",
    "\n",
    "train_g = anom_g[:59]\n",
    "train_g2 = train_g.reshape((59*151,21*37))\n",
    "train_p = anom_pv[:59,30:]\n",
    "train_p2 = train_p.reshape((59*151,11*145))"
   ]
  },
  {
   "cell_type": "code",
   "execution_count": 11,
   "id": "888da83a-9105-4525-81b5-58cc142ea91a",
   "metadata": {},
   "outputs": [
    {
     "data": {
      "text/plain": [
       "(4, 151, 21, 37)"
      ]
     },
     "execution_count": 11,
     "metadata": {},
     "output_type": "execute_result"
    }
   ],
   "source": [
    "test_g.shape"
   ]
  },
  {
   "cell_type": "code",
   "execution_count": 12,
   "id": "85fb0f50-70df-4890-b3d2-55980ad40c56",
   "metadata": {},
   "outputs": [],
   "source": [
    "from sklearn.preprocessing import StandardScaler\n",
    "\n",
    "gph_scaler = StandardScaler()\n",
    "pv_scaler = StandardScaler()\n",
    "\n",
    "#fit scaler on training \n",
    "train_g_stand = gph_scaler.fit_transform(train_g2)\n",
    "train_p_stand = pv_scaler.fit_transform(train_p2)\n",
    "\n",
    "#fit test data with same scaler\n",
    "test_g_stand = gph_scaler.transform(test_g2)\n",
    "test_p_stand = pv_scaler.transform(test_p2)"
   ]
  },
  {
   "cell_type": "code",
   "execution_count": 13,
   "id": "5b04e8ed-e0a6-4828-bddd-4e561de87268",
   "metadata": {},
   "outputs": [],
   "source": [
    "train_g_stand = train_g_stand.reshape((59,151,21,37))\n",
    "train_p_stand = train_p_stand.reshape((59,151,11,145))\n",
    "\n",
    "test_g_stand = test_g_stand.reshape((4,151,21,37))\n",
    "test_p_stand = test_p_stand.reshape((4,151,11,145))"
   ]
  },
  {
   "cell_type": "code",
   "execution_count": 14,
   "id": "93a8c0ce-0335-4e81-a740-1948e2c46c97",
   "metadata": {},
   "outputs": [],
   "source": [
    "g_data = np.concatenate((train_g_stand,test_g_stand),axis=0)\n",
    "p_data = np.concatenate((train_p_stand,test_p_stand),axis=0)"
   ]
  },
  {
   "cell_type": "code",
   "execution_count": null,
   "id": "b6c4ed90-0b45-4737-98b7-08afc0379e52",
   "metadata": {
    "jupyter": {
     "source_hidden": true
    }
   },
   "outputs": [],
   "source": [
    "##conduct FFT smoothing on daily anomalies, 10-50 day periods\n",
    "trainfil_g = np.zeros_like(train_g_stand)\n",
    "testfil_g = np.zeros_like(test_g_stand)\n",
    "\n",
    "for y in np.arange(train_g_stand.shape[0]):\n",
    "    d = train_g_stand[y,:,:,:] #extracts data for each year\n",
    "        \n",
    "    fftout=np.fft.fft(d,axis=0) #compute fast fourier over the days axis\n",
    "    \n",
    "    pers=d.shape[0]/np.arange(1, d.shape[0] + 1) ##calculating the period in days for frequency\n",
    "    \n",
    "    #Ifil=np.where(np.logical_and(pers>=14,pers<=60))[0] ##select subseasonal fluctuation\n",
    "    Ifil=np.where(np.logical_and(pers>=60,pers<=120))[0] \n",
    "    \n",
    "    fftfil=np.zeros_like(fftout)\n",
    "    fftfil[Ifil,:,:]=fftout[Ifil,:,:] #copy into array\n",
    "    fftfil[-Ifil,:,:]=fftout[-Ifil,:,:] #conjugate symmetry\n",
    "    \n",
    "    trainfil_g[y,:,:,:]=np.fft.ifft(fftfil,axis=0).real\n",
    "    \n",
    "for y in np.arange(test_g_stand.shape[0]):\n",
    "    d = test_g_stand[y,:,:,:] #extracts data for each year\n",
    "        \n",
    "    fftout=np.fft.fft(d,axis=0) #compute fast fourier over the days axis\n",
    "    \n",
    "    pers=d.shape[0]/np.arange(1, d.shape[0] + 1) ##calculating the period in days for frequency\n",
    "    \n",
    "    #Ifil=np.where(np.logical_and(pers>=14,pers<=60))[0] ##select subseasonal fluctuation\n",
    "    Ifil=np.where(np.logical_and(pers>=60,pers<=120))[0] \n",
    "    \n",
    "    fftfil=np.zeros_like(fftout)\n",
    "    fftfil[Ifil,:,:]=fftout[Ifil,:,:] #copy into array\n",
    "    fftfil[-Ifil,:,:]=fftout[-Ifil,:,:] #conjugate symmetry\n",
    "    \n",
    "    testfil_g[y,:,:,:]=np.fft.ifft(fftfil,axis=0).real\n",
    "    \n",
    "################################################################################################\n",
    "\n",
    "trainfil_p = np.zeros_like(train_p_stand)\n",
    "testfil_p = np.zeros_like(test_p_stand)\n",
    "\n",
    "for y in np.arange(train_p_stand.shape[0]):\n",
    "    d = train_p_stand[y,:,:,:] #extracts data for each year\n",
    "        \n",
    "    fftout=np.fft.fft(d,axis=0) #compute fast fourier over the days axis\n",
    "    \n",
    "    pers=d.shape[0]/np.arange(1, d.shape[0] + 1) ##calculating the period in days for frequency\n",
    "    \n",
    "    #Ifil=np.where(np.logical_and(pers>=14,pers<=60))[0] ##select subseasonal fluctuation\n",
    "    Ifil=np.where(np.logical_and(pers>=60,pers<=120))[0] \n",
    "    \n",
    "    fftfil=np.zeros_like(fftout)\n",
    "    fftfil[Ifil,:,:]=fftout[Ifil,:,:] #copy into array\n",
    "    fftfil[-Ifil,:,:]=fftout[-Ifil,:,:] #conjugate symmetry\n",
    "    \n",
    "    trainfil_p[y,:,:,:]=np.fft.ifft(fftfil,axis=0).real\n",
    "    \n",
    "for y in np.arange(test_p_stand.shape[0]):\n",
    "    d = test_p_stand[y,:,:,:] #extracts data for each year\n",
    "        \n",
    "    fftout=np.fft.fft(d,axis=0) #compute fast fourier over the days axis\n",
    "    \n",
    "    pers=d.shape[0]/np.arange(1, d.shape[0] + 1) ##calculating the period in days for frequency\n",
    "    \n",
    "    #Ifil=np.where(np.logical_and(pers>=14,pers<=60))[0] ##select subseasonal fluctuation\n",
    "    Ifil=np.where(np.logical_and(pers>=60,pers<=120))[0] \n",
    "    \n",
    "    fftfil=np.zeros_like(fftout)\n",
    "    fftfil[Ifil,:,:]=fftout[Ifil,:,:] #copy into array\n",
    "    fftfil[-Ifil,:,:]=fftout[-Ifil,:,:] #conjugate symmetry\n",
    "    \n",
    "    testfil_p[y,:,:,:]=np.fft.ifft(fftfil,axis=0).real\n",
    "    \n",
    "################################################################################################\n",
    "datafil_t = np.zeros_like(anom_t)\n",
    "\n",
    "for y in np.arange(anom_t.shape[0]):\n",
    "    d = anom_t[y,:] #extracts data for each year\n",
    "        \n",
    "    fftout=np.fft.fft(d,axis=0) #compute fast fourier over the days axis\n",
    "    \n",
    "    pers=d.shape[0]/np.arange(1, d.shape[0] + 1) ##calculating the period in days for frequency\n",
    "    \n",
    "    #Ifil=np.where(np.logical_and(pers>=14,pers<=60))[0] ##select subseasonal fluctuation\n",
    "    Ifil=np.where(np.logical_and(pers>=60,pers<=120))[0] \n",
    "    \n",
    "    fftfil=np.zeros_like(fftout)\n",
    "    fftfil[Ifil]=fftout[Ifil] #copy into array\n",
    "    fftfil[-Ifil]=fftout[-Ifil] #conjugate symmetry\n",
    "    \n",
    "    datafil_t[y,:]=np.fft.ifft(fftfil,axis=0).real"
   ]
  },
  {
   "cell_type": "code",
   "execution_count": 16,
   "id": "044f0c2d-7038-462d-9115-c3956d939bce",
   "metadata": {},
   "outputs": [
    {
     "name": "stdout",
     "output_type": "stream",
     "text": [
      "(63, 151)\n",
      "(63, 151)\n"
     ]
    }
   ],
   "source": [
    "##subtract off median from temp \n",
    "dailymed = np.nanmedian(anom_t,axis=1)\n",
    "med_t=np.zeros_like(anom_t)\n",
    "for t in np.arange(anom_t.shape[1]):\n",
    "     med_t[:,t] = anom_t[:,t] - dailymed\n",
    "print(med_t.shape)\n",
    "\n",
    "dailymed_gr = np.nanmedian(anom_gr,axis=1)\n",
    "med_g=np.zeros_like(anom_gr)\n",
    "for t in np.arange(anom_gr.shape[1]):\n",
    "     med_g[:,t] = anom_gr[:,t] - dailymed_gr\n",
    "print(med_g.shape)"
   ]
  },
  {
   "cell_type": "code",
   "execution_count": null,
   "id": "b4f16aad-2928-4b1d-ae74-eb9c31c35468",
   "metadata": {
    "jupyter": {
     "source_hidden": true
    }
   },
   "outputs": [],
   "source": [
    "trainfil_g2 = trainfil_g.reshape((59*151,21*37))\n",
    "trainfil_p2 = trainfil_p.reshape((59*151,11*145))\n",
    "\n",
    "testfil_g2 = testfil_g.reshape((4*151,21*37))\n",
    "testfil_p2 = testfil_p.reshape((4*151,11*145))"
   ]
  },
  {
   "cell_type": "code",
   "execution_count": 22,
   "id": "b01c8f3f-b3c5-40fb-b42e-189be2a9e131",
   "metadata": {},
   "outputs": [],
   "source": [
    "import matplotlib.pyplot as plt "
   ]
  },
  {
   "cell_type": "code",
   "execution_count": 38,
   "id": "791e0189-6367-4bf4-80cb-02e7cc5daf10",
   "metadata": {},
   "outputs": [
    {
     "data": {
      "text/plain": [
       "[<matplotlib.lines.Line2D at 0x7fd68b4e4a30>]"
      ]
     },
     "execution_count": 38,
     "metadata": {},
     "output_type": "execute_result"
    },
    {
     "data": {
      "image/png": "[encoded data removed]",
      "text/plain": [
       "<Figure size 432x288 with 1 Axes>"
      ]
     },
     "metadata": {
      "needs_background": "light"
     },
     "output_type": "display_data"
    }
   ],
   "source": [
    "plt.plot(p_data[0,:,10,10])\n",
    "plt.plot(g_st[0,10:])"
   ]
  },
  {
   "cell_type": "code",
   "execution_count": 42,
   "id": "c76968fc-4a33-490e-87d3-99e26ed7e58d",
   "metadata": {},
   "outputs": [
    {
     "data": {
      "text/plain": [
       "[<matplotlib.lines.Line2D at 0x7fd68b31f4c0>]"
      ]
     },
     "execution_count": 42,
     "metadata": {},
     "output_type": "execute_result"
    },
    {
     "data": {
      "image/png": "[encoded data removed]",
      "text/plain": [
       "<Figure size 432x288 with 1 Axes>"
      ]
     },
     "metadata": {
      "needs_background": "light"
     },
     "output_type": "display_data"
    }
   ],
   "source": [
    "plt.plot(g_data[0,10:,10,10])\n",
    "plt.plot(e_st[0,20:])"
   ]
  },
  {
   "cell_type": "code",
   "execution_count": null,
   "id": "0addee70-5432-4098-8f6e-455d18cb7c38",
   "metadata": {},
   "outputs": [],
   "source": [
    "#plt.plot(anom_t[0,14:])\n",
    "plt.plot(med_t[0,10:])"
   ]
  },
  {
   "cell_type": "code",
   "execution_count": 17,
   "id": "300c072b-3d59-43f9-b1fa-7eab7458de5e",
   "metadata": {},
   "outputs": [],
   "source": [
    "##flatten\n",
    "te1 = med_t\n",
    "te2 = med_g\n",
    "\n",
    "te1 = np.reshape(med_t, (9513))\n",
    "e_st = np.empty((9513))\n",
    "\n",
    "te2 = np.reshape(med_g, (9513))\n",
    "g_st = np.empty((9513))\n",
    "\n"
   ]
  },
  {
   "cell_type": "code",
   "execution_count": 18,
   "id": "6aa8df05-6008-42a5-9fbd-36680a685960",
   "metadata": {},
   "outputs": [],
   "source": [
    "##for checking equal # of pos and negative events\n",
    "pos = []\n",
    "neg = []\n",
    "for i in range(0,9513):\n",
    "        if te1[i] > 0:\n",
    "            e_st[i] = 1\n",
    "            pos.append(1)\n",
    "            \n",
    "        elif te1[i] < 0:\n",
    "            #print(\"negative\")\n",
    "            e_st[i] = 0\n",
    "            neg.append(0)\n",
    "            \n",
    "        elif te1[i] == 0:\n",
    "            if len(pos) <= len(neg):\n",
    "                e_st[i] = 1\n",
    "                pos.append(1)\n",
    "            else:\n",
    "                e_st[i] = 0\n",
    "                neg.append(0)\n",
    "\n",
    "##for checking equal # of pos and negative events\n",
    "pos = []\n",
    "neg = []\n",
    "for i in range(0,9513):\n",
    "        if te2[i] > 0:\n",
    "            g_st[i] = 1\n",
    "            pos.append(1)\n",
    "            \n",
    "        elif te2[i] < 0:\n",
    "            #print(\"negative\")\n",
    "            g_st[i] = 0\n",
    "            neg.append(0)\n",
    "            \n",
    "        elif te2[i] == 0:\n",
    "            if len(pos) <= len(neg):\n",
    "                g_st[i] = 1\n",
    "                pos.append(1)\n",
    "            else:\n",
    "                g_st[i] = 0\n",
    "                neg.append(0)"
   ]
  },
  {
   "cell_type": "code",
   "execution_count": 45,
   "id": "c45020d0-549b-4295-bc8c-1153319c2b35",
   "metadata": {},
   "outputs": [
    {
     "data": {
      "text/plain": [
       "array([[1., 1., 1., ..., 1., 1., 0.],\n",
       "       [0., 0., 0., ..., 0., 1., 1.],\n",
       "       [1., 1., 1., ..., 1., 1., 1.],\n",
       "       ...,\n",
       "       [0., 0., 1., ..., 0., 0., 0.],\n",
       "       [1., 1., 1., ..., 1., 1., 1.],\n",
       "       [1., 1., 1., ..., 0., 0., 1.]])"
      ]
     },
     "execution_count": 45,
     "metadata": {},
     "output_type": "execute_result"
    }
   ],
   "source": [
    "e_st"
   ]
  },
  {
   "cell_type": "code",
   "execution_count": 20,
   "id": "d2b46d84-8c6f-4247-9e4a-c41bec482f68",
   "metadata": {},
   "outputs": [
    {
     "data": {
      "text/plain": [
       "4756"
      ]
     },
     "execution_count": 20,
     "metadata": {},
     "output_type": "execute_result"
    }
   ],
   "source": [
    "len(pos)"
   ]
  },
  {
   "cell_type": "code",
   "execution_count": 21,
   "id": "8cf6e053-d1e0-4d6b-9543-b58dfa1b16d8",
   "metadata": {},
   "outputs": [],
   "source": [
    "e_st = e_st.reshape((63,151))\n",
    "g_st = g_st.reshape((63,151))"
   ]
  },
  {
   "cell_type": "code",
   "execution_count": 43,
   "id": "a843df54-e31c-40c1-8e23-e9d5df2da4d6",
   "metadata": {},
   "outputs": [],
   "source": [
    "pickle.dump(e_st, open(\"1203_classmedian_t.p\", 'wb'))\n",
    "pickle.dump(g_st, open(\"1203_classmedian_g.p\", 'wb'))\n",
    "\n",
    "pickle.dump(p_data, open(\"1203_pv.p\", 'wb'))\n",
    "pickle.dump(g_data, open(\"1203_g.p\", 'wb'))"
   ]
  },
  {
   "cell_type": "code",
   "execution_count": null,
   "id": "5f10d441-47ed-43ae-9e4b-3341c5db4a98",
   "metadata": {},
   "outputs": [],
   "source": []
  }
 ],
 "metadata": {
  "kernelspec": {
   "display_name": "Python 3 August 2021 Environment",
   "language": "python",
   "name": "aug21"
  },
  "language_info": {
   "codemirror_mode": {
    "name": "ipython",
    "version": 3
   },
   "file_extension": ".py",
   "mimetype": "text/x-python",
   "name": "python",
   "nbconvert_exporter": "python",
   "pygments_lexer": "ipython3",
   "version": "3.8.10"
  }
 },
 "nbformat": 4,
 "nbformat_minor": 5
}
