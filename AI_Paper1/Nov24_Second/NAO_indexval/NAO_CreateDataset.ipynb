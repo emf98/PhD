{
 "cells": [
  {
   "cell_type": "markdown",
   "id": "7b23da87-758b-400c-92f3-a328503d6805",
   "metadata": {},
   "source": [
    "## Create Data files of NAO index preceding temperature. \n",
    "\n",
    "I am keeping ALL events. Not separating. "
   ]
  },
  {
   "cell_type": "code",
   "execution_count": 1,
   "id": "b0f6128c-9eb5-4a6d-850a-370851fd3740",
   "metadata": {},
   "outputs": [
    {
     "name": "stderr",
     "output_type": "stream",
     "text": [
      "/knight/anaconda_jan21/envs/aug21/lib/python3.8/site-packages/scipy/__init__.py:146: UserWarning: A NumPy version >=1.16.5 and <1.23.0 is required for this version of SciPy (detected version 1.24.3\n",
      "  warnings.warn(f\"A NumPy version >={np_minversion} and <{np_maxversion}\"\n"
     ]
    }
   ],
   "source": [
    "#relevant import statements\n",
    "import numpy as np\n",
    "import xarray as xr \n",
    "import pickle "
   ]
  },
  {
   "cell_type": "code",
   "execution_count": 2,
   "id": "4a422d9d-96e9-46d5-9f89-8042934cbfd0",
   "metadata": {},
   "outputs": [],
   "source": [
    "##import gph files\n",
    "infile = open(\"./1959nao_NaN.p\", 'rb') \n",
    "gph = pickle.load(infile)\n",
    "infile.close()"
   ]
  },
  {
   "cell_type": "code",
   "execution_count": 3,
   "id": "66652d4c-bd40-4907-946d-600e758f47c3",
   "metadata": {},
   "outputs": [
    {
     "data": {
      "text/plain": [
       "(63, 151)"
      ]
     },
     "execution_count": 3,
     "metadata": {},
     "output_type": "execute_result"
    }
   ],
   "source": [
    "gph.shape"
   ]
  },
  {
   "cell_type": "code",
   "execution_count": 4,
   "id": "a3fcf370-cf61-43ba-9ec5-9e786f46f469",
   "metadata": {},
   "outputs": [
    {
     "data": {
      "text/plain": [
       "(63, 149)"
      ]
     },
     "execution_count": 4,
     "metadata": {},
     "output_type": "execute_result"
    }
   ],
   "source": [
    "gph = np.delete(gph,[0,150],1)\n",
    "gph.shape"
   ]
  },
  {
   "cell_type": "code",
   "execution_count": 5,
   "id": "b4a27c23-1847-445a-bd3b-14152899a915",
   "metadata": {},
   "outputs": [],
   "source": [
    "#upload temperature region files\n",
    "infile = open(\"../Classing/eur_class.p\", 'rb')\n",
    "eur = pickle.load(infile)\n",
    "infile.close()"
   ]
  },
  {
   "cell_type": "code",
   "execution_count": 6,
   "id": "1433b335-ecb1-4762-bdf9-55e2e767707d",
   "metadata": {},
   "outputs": [
    {
     "data": {
      "text/plain": [
       "(63, 149)"
      ]
     },
     "execution_count": 6,
     "metadata": {},
     "output_type": "execute_result"
    }
   ],
   "source": [
    "##reshape to match gph\n",
    "temp = eur.reshape(63,149)\n",
    "temp.shape"
   ]
  },
  {
   "cell_type": "code",
   "execution_count": 7,
   "id": "314172ef-3bd3-4e6c-9126-2786e2e6e7d3",
   "metadata": {},
   "outputs": [],
   "source": [
    "##import climo probabilities \n",
    "infile = open(\"../Classing/eur_climoprob.p\", 'rb')\n",
    "eur_climo = pickle.load(infile)\n",
    "infile.close()"
   ]
  },
  {
   "cell_type": "code",
   "execution_count": 8,
   "id": "5002950d-8274-4085-b965-ae3ea87aabfa",
   "metadata": {},
   "outputs": [
    {
     "data": {
      "text/plain": [
       "(63, 149, 2)"
      ]
     },
     "execution_count": 8,
     "metadata": {},
     "output_type": "execute_result"
    }
   ],
   "source": [
    "#again, reshape to match gph\n",
    "climo = eur_climo.reshape(63,149,2)\n",
    "climo.shape"
   ]
  },
  {
   "cell_type": "code",
   "execution_count": 9,
   "id": "161e076b-0d70-4c07-a4fa-8936212a53ac",
   "metadata": {},
   "outputs": [],
   "source": [
    "##create empty arrays for appending the corresponding 14-day lagged data points \n",
    "prec_temp = np.empty((63,134))\n",
    "prec_climo = np.empty((63,134,2))\n",
    "prec_gph = []"
   ]
  },
  {
   "cell_type": "code",
   "execution_count": 10,
   "id": "d7e62f27-5760-4e04-8b44-9868851e6fc2",
   "metadata": {
    "scrolled": true
   },
   "outputs": [],
   "source": [
    "##create lagged arrays\n",
    "for i in range(63):\n",
    "    for j in range(134):\n",
    "        prec_temp[i,j] = temp[i,j+14]\n",
    "        prec_climo[i,j,:] = climo[i,j+14,:]\n",
    "        prec_gph.append(gph[i,j])"
   ]
  },
  {
   "cell_type": "code",
   "execution_count": 12,
   "id": "aec66180-586a-4ec9-b9d5-c79a9b1edf9d",
   "metadata": {},
   "outputs": [
    {
     "data": {
      "text/plain": [
       "8442"
      ]
     },
     "execution_count": 12,
     "metadata": {},
     "output_type": "execute_result"
    }
   ],
   "source": [
    "len(prec_gph)"
   ]
  },
  {
   "cell_type": "code",
   "execution_count": 13,
   "id": "1bfafcfe-7ee7-4742-9890-994ed36c61ea",
   "metadata": {},
   "outputs": [],
   "source": [
    "test = np.empty((len(prec_gph),1,1))\n",
    "test[:,0,0]=prec_gph"
   ]
  },
  {
   "cell_type": "code",
   "execution_count": 14,
   "id": "09fa4abc-d83f-47f5-a840-e8e7f3ee1182",
   "metadata": {},
   "outputs": [
    {
     "data": {
      "text/plain": [
       "(8442, 1, 1)"
      ]
     },
     "execution_count": 14,
     "metadata": {},
     "output_type": "execute_result"
    }
   ],
   "source": [
    "test.shape"
   ]
  },
  {
   "cell_type": "code",
   "execution_count": 15,
   "id": "9f4ff924-9569-4816-a2c4-3404bb7bfe55",
   "metadata": {},
   "outputs": [],
   "source": [
    "##flatten timeseries\n",
    "ptemp = prec_temp.reshape((8442))\n",
    "pclimo = prec_climo.reshape((8442,2))"
   ]
  },
  {
   "cell_type": "code",
   "execution_count": 16,
   "id": "6e3b8ae6-4791-410c-8b6c-76c7efdc3dbc",
   "metadata": {},
   "outputs": [],
   "source": [
    "pickle.dump(ptemp, open(\"NAO_EURtemp_anoms.p\", 'wb'))\n",
    "pickle.dump(pclimo, open(\"NAO_EURtemp_limoprobs.p\", 'wb'))\n",
    "pickle.dump(test, open(\"NAO_daily.p\", 'wb'))"
   ]
  },
  {
   "cell_type": "code",
   "execution_count": null,
   "id": "6891b315-0c88-4e66-b463-b96d2f3d701e",
   "metadata": {},
   "outputs": [],
   "source": []
  }
 ],
 "metadata": {
  "kernelspec": {
   "display_name": "Python 3 August 2021 Environment",
   "language": "python",
   "name": "aug21"
  },
  "language_info": {
   "codemirror_mode": {
    "name": "ipython",
    "version": 3
   },
   "file_extension": ".py",
   "mimetype": "text/x-python",
   "name": "python",
   "nbconvert_exporter": "python",
   "pygments_lexer": "ipython3",
   "version": "3.8.10"
  }
 },
 "nbformat": 4,
 "nbformat_minor": 5
}
