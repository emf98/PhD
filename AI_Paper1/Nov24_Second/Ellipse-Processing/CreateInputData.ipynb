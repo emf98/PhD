{
 "cells": [
  {
   "cell_type": "markdown",
   "id": "7b23da87-758b-400c-92f3-a328503d6805",
   "metadata": {},
   "source": [
    "## Create Data files of ellipse metric anomalies (NORMALIZED) preceding temperature. \n",
    "\n",
    "I am keeping ALL events. Not separating. "
   ]
  },
  {
   "cell_type": "code",
   "execution_count": 1,
   "id": "b0f6128c-9eb5-4a6d-850a-370851fd3740",
   "metadata": {},
   "outputs": [
    {
     "name": "stderr",
     "output_type": "stream",
     "text": [
      "/knight/anaconda_jan21/envs/aug21/lib/python3.8/site-packages/scipy/__init__.py:146: UserWarning: A NumPy version >=1.16.5 and <1.23.0 is required for this version of SciPy (detected version 1.24.3\n",
      "  warnings.warn(f\"A NumPy version >={np_minversion} and <{np_maxversion}\"\n"
     ]
    }
   ],
   "source": [
    "#relevant import statements\n",
    "import numpy as np\n",
    "import xarray as xr \n",
    "import pickle "
   ]
  },
  {
   "cell_type": "code",
   "execution_count": 2,
   "id": "4a422d9d-96e9-46d5-9f89-8042934cbfd0",
   "metadata": {},
   "outputs": [],
   "source": [
    "##import ellipse files\n",
    "infile = open(\"./filtered/1121_filtered_wind.p\", 'rb') \n",
    "wind = pickle.load(infile)\n",
    "infile.close()\n",
    "\n",
    "infile = open(\"./filtered/1121_filtered_clat.p\", 'rb') \n",
    "cenlat = pickle.load(infile)\n",
    "infile.close()\n",
    "\n",
    "infile = open(\"./filtered/1121_filtered_size.p\", 'rb') \n",
    "size = pickle.load(infile)\n",
    "infile.close()\n",
    "\n",
    "infile = open(\"./filtered/1121_filtered_ephi.p\", 'rb') \n",
    "ephi = pickle.load(infile)\n",
    "infile.close()\n",
    "\n",
    "infile = open(\"./filtered/1121_filtered_ratio.p\", 'rb') \n",
    "rat = pickle.load(infile)\n",
    "infile.close()\n",
    "\n",
    "##zonal-mean meridional eddy heat flux\n",
    "infile = open(\"./filtered/1121_filtered_zmehf.p\", 'rb') \n",
    "zmehf = pickle.load(infile)\n",
    "infile.close()"
   ]
  },
  {
   "cell_type": "code",
   "execution_count": 3,
   "id": "66652d4c-bd40-4907-946d-600e758f47c3",
   "metadata": {},
   "outputs": [
    {
     "data": {
      "text/plain": [
       "(63, 151)"
      ]
     },
     "execution_count": 3,
     "metadata": {},
     "output_type": "execute_result"
    }
   ],
   "source": [
    "zmehf.shape"
   ]
  },
  {
   "cell_type": "code",
   "execution_count": 4,
   "id": "8197bea5-d91e-43cc-872b-0dd5fd177896",
   "metadata": {},
   "outputs": [],
   "source": [
    "###normalize metrics\n",
    "wn = (wind - np.nanmean(wind)) /np.nanstd(wind)\n",
    "cl = (cenlat - np.nanmean(cenlat)) /np.nanstd(cenlat)\n",
    "sz = (size - np.nanmean(size)) /np.nanstd(size)\n",
    "ep = (ephi - np.nanmean(ephi)) /np.nanstd(ephi)\n",
    "rt = (rat - np.nanmean(rat)) /np.nanstd(rat)\n",
    "ehf = (zmehf - np.nanmean(zmehf)) /np.nanstd(zmehf)"
   ]
  },
  {
   "cell_type": "code",
   "execution_count": 5,
   "id": "b92cdf89-eac4-4db0-b091-497c00a31950",
   "metadata": {},
   "outputs": [],
   "source": [
    "##create full array of my ellipse metrics\n",
    "metrics = np.empty((63,151,6))"
   ]
  },
  {
   "cell_type": "code",
   "execution_count": 6,
   "id": "af688d06-5a51-45ad-a456-b6889baafbe6",
   "metadata": {},
   "outputs": [],
   "source": [
    "##append metrics to array\n",
    "metrics[:,:,0] = cl\n",
    "metrics[:,:,1] = sz\n",
    "metrics[:,:,2] = ep\n",
    "metrics[:,:,3] = ehf\n",
    "metrics[:,:,4] = rt\n",
    "metrics[:,:,5] = wn"
   ]
  },
  {
   "cell_type": "code",
   "execution_count": 7,
   "id": "a8881580-e3f7-4809-962f-421fc3a693b4",
   "metadata": {},
   "outputs": [],
   "source": [
    "## check all for NaNs\n",
    "if np.any(np.isnan(metrics)) or np.any(np.isinf(metrics)):\n",
    "    print(\"NaN or Inf values found in metrics!\")"
   ]
  },
  {
   "cell_type": "code",
   "execution_count": 8,
   "id": "a01b7b7b-d9fe-4e37-b1d4-bf42164b9b63",
   "metadata": {},
   "outputs": [],
   "source": [
    "pickle.dump(metrics, open(\"filt_metrics.p\", 'wb'))"
   ]
  },
  {
   "cell_type": "code",
   "execution_count": null,
   "id": "f8dea378-1fa1-4201-8198-93d233fc6263",
   "metadata": {},
   "outputs": [],
   "source": [
    "#import output dataset\n",
    "infile = open(\"1121_classmedian_GPH.p\", 'rb') \n",
    "gph = pickle.load(infile)\n",
    "infile.close()"
   ]
  },
  {
   "cell_type": "code",
   "execution_count": null,
   "id": "221b93f9-47ff-4f8b-b065-8327cd11af18",
   "metadata": {},
   "outputs": [],
   "source": [
    "gph = gph.reshape((63,151))"
   ]
  },
  {
   "cell_type": "code",
   "execution_count": null,
   "id": "b33e08ea-6f39-438c-a2e8-c38dd98e8942",
   "metadata": {
    "jupyter": {
     "source_hidden": true
    }
   },
   "outputs": [],
   "source": [
    "## check all for NaNs\n",
    "if np.any(np.isnan(gph)) or np.any(np.isinf(gph)):\n",
    "    print(\"NaN or Inf values found in gph!\")"
   ]
  },
  {
   "cell_type": "code",
   "execution_count": null,
   "id": "939f48b3-bb40-4c93-8b6a-073a9c40d328",
   "metadata": {},
   "outputs": [],
   "source": [
    "##attempting to create lagged dataset\n",
    "window_size = 7  # 7-day window\n",
    "lag_days = 10  #14"
   ]
  },
  {
   "cell_type": "code",
   "execution_count": null,
   "id": "d3ad0d38-f57d-4696-869c-55af1a60b424",
   "metadata": {},
   "outputs": [],
   "source": [
    "#init output and input lists\n",
    "inputs = []\n",
    "outputs = []"
   ]
  },
  {
   "cell_type": "code",
   "execution_count": null,
   "id": "68a60ee9-657b-4943-8f60-084c11318a1d",
   "metadata": {},
   "outputs": [],
   "source": [
    "#create lagged data\n",
    "for year in range(63):\n",
    "    for start_day in range(151 - window_size):\n",
    "        #take window of input data\n",
    "        input_window = metrics[year, start_day:start_day + window_size, :]\n",
    "        #output index w lag\n",
    "        output_day = start_day + window_size + lag_days\n",
    "        \n",
    "        if output_day < 151: #as to make sure this doesnt go outside of 151\n",
    "            #output_value = gph[year, output_day]\n",
    "            \n",
    "            # Append the input and output to the lists\n",
    "            inputs.append(input_window)\n",
    "            #outputs.append(output_value)"
   ]
  },
  {
   "cell_type": "code",
   "execution_count": null,
   "id": "8f28892f-0abd-43c6-8f33-f8554622a9ea",
   "metadata": {},
   "outputs": [],
   "source": [
    "#as array\n",
    "input = np.array(inputs)\n",
    "output = np.array(outputs)"
   ]
  },
  {
   "cell_type": "code",
   "execution_count": null,
   "id": "81258a87-3ec8-4396-bfd2-a52f16450862",
   "metadata": {},
   "outputs": [],
   "source": [
    "#check shape\n",
    "print(input.shape)\n",
    "#print(output.shape)"
   ]
  },
  {
   "cell_type": "code",
   "execution_count": null,
   "id": "6e3b8ae6-4791-410c-8b6c-76c7efdc3dbc",
   "metadata": {},
   "outputs": [],
   "source": [
    "pickle.dump(input, open(\"reduced_filt_metrics_10lag.p\", 'wb'))\n",
    "#pickle.dump(output, open(\"filt_medGPH_10lag.p\", 'wb'))"
   ]
  },
  {
   "cell_type": "code",
   "execution_count": null,
   "id": "6891b315-0c88-4e66-b463-b96d2f3d701e",
   "metadata": {},
   "outputs": [],
   "source": []
  }
 ],
 "metadata": {
  "kernelspec": {
   "display_name": "Python 3 August 2021 Environment",
   "language": "python",
   "name": "aug21"
  },
  "language_info": {
   "codemirror_mode": {
    "name": "ipython",
    "version": 3
   },
   "file_extension": ".py",
   "mimetype": "text/x-python",
   "name": "python",
   "nbconvert_exporter": "python",
   "pygments_lexer": "ipython3",
   "version": "3.8.10"
  }
 },
 "nbformat": 4,
 "nbformat_minor": 5
}
