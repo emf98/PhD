{
 "cells": [
  {
   "cell_type": "markdown",
   "id": "67fd5b1e-0b00-492e-ac01-24badd089a16",
   "metadata": {},
   "source": [
    "### Remove NaN values from ellipse arrays."
   ]
  },
  {
   "cell_type": "code",
   "execution_count": 1,
   "id": "9b24cb04-df99-4964-9a4c-02115c348e98",
   "metadata": {},
   "outputs": [],
   "source": [
    "#relevant import statements\n",
    "import numpy as np\n",
    "import math\n",
    "import xarray as xr \n",
    "import pickle \n",
    "import matplotlib.pyplot as plt"
   ]
  },
  {
   "cell_type": "code",
   "execution_count": 2,
   "id": "b7643d7b-eb4a-4dc1-a8f6-addd2660ae37",
   "metadata": {},
   "outputs": [],
   "source": [
    "infile = open(\"./data/two_wind_1959.p\", 'rb') \n",
    "wind10 = pickle.load(infile)\n",
    "infile.close()\n",
    "\n",
    "infile = open(\"./data/two_size_1959.p\", 'rb') \n",
    "size10 = pickle.load(infile)\n",
    "infile.close()\n",
    "\n",
    "infile = open(\"./data/two_ratio_1959.p\", 'rb') \n",
    "rat10 = pickle.load(infile)\n",
    "infile.close()\n",
    "\n",
    "infile = open(\"./data/two_ephi_1959.p\", 'rb') \n",
    "ephi10 = pickle.load(infile)\n",
    "infile.close()\n",
    "\n",
    "infile = open(\"./data/two_cenlat_1959.p\", 'rb')\n",
    "cenlat10 = pickle.load(infile)\n",
    "infile.close()"
   ]
  },
  {
   "cell_type": "code",
   "execution_count": 3,
   "id": "7e29d71c-2f27-4ab0-9ce3-e56fe3dd5583",
   "metadata": {},
   "outputs": [
    {
     "data": {
      "text/plain": [
       "(64, 151)"
      ]
     },
     "execution_count": 3,
     "metadata": {},
     "output_type": "execute_result"
    }
   ],
   "source": [
    "wind10.shape"
   ]
  },
  {
   "cell_type": "code",
   "execution_count": 4,
   "id": "86e02cd2-945a-4c45-91ff-cb50825a5d1b",
   "metadata": {},
   "outputs": [],
   "source": [
    "#remove repeat year\n",
    "wind10 = np.delete(wind10,[20],0)\n",
    "rat10 = np.delete(rat10,[20],0)\n",
    "cenlat10 = np.delete(cenlat10,[20],0)\n",
    "size10 = np.delete(size10,[20],0)\n",
    "ephi10 = np.delete(ephi10,[20],0)"
   ]
  },
  {
   "cell_type": "code",
   "execution_count": 5,
   "id": "fba91436-3099-4926-95dc-b73b9845fcfc",
   "metadata": {},
   "outputs": [
    {
     "data": {
      "text/plain": [
       "(63, 151)"
      ]
     },
     "execution_count": 5,
     "metadata": {},
     "output_type": "execute_result"
    }
   ],
   "source": [
    "wind10.shape"
   ]
  },
  {
   "cell_type": "raw",
   "id": "5a5ac1a8-1d80-48a3-9b9c-54a722ec54ff",
   "metadata": {},
   "source": [
    "ep = (ephi10 - np.nanmean(ephi10)) /np.nanstd(ephi10)\n",
    "ep"
   ]
  },
  {
   "cell_type": "code",
   "execution_count": 8,
   "id": "3ac837c9-1940-44b2-9cad-7b38e314db06",
   "metadata": {
    "scrolled": true
   },
   "outputs": [],
   "source": [
    "indices = np.isnan(wind10)\n",
    "for i in range(0,63):\n",
    "    for j in range(0,151):\n",
    "        if indices[i,j] != False:\n",
    "            print(i)\n",
    "            print(j)\n",
    "            print(\"True\")\n",
    "            wind10[i,j] = 0\n",
    "            rat10[i,j] = 0\n",
    "            cenlat10[i,j] = 0\n",
    "            size10[i,j] = 0\n",
    "            ephi10[i,j] = 0"
   ]
  },
  {
   "cell_type": "code",
   "execution_count": 10,
   "id": "91ae908d-7a15-43ee-b2ca-e77a83ec0efd",
   "metadata": {},
   "outputs": [],
   "source": [
    "##export out NaN removed variables\n",
    "pickle.dump(ephi10, open(\"ephi10_NaN.p\", 'wb'))\n",
    "pickle.dump(rat10, open(\"rat10_NaN.p\", 'wb'))\n",
    "pickle.dump(size10, open(\"size10_NaN.p\", 'wb')) \n",
    "pickle.dump(cenlat10, open(\"cenlat10_NaN.p\", 'wb'))\n",
    "pickle.dump(wind10, open(\"wind10_NaN.p\", 'wb'))"
   ]
  },
  {
   "cell_type": "code",
   "execution_count": null,
   "id": "45c4a59a-c0a3-4f82-af35-1a73ab6acc1b",
   "metadata": {},
   "outputs": [],
   "source": []
  }
 ],
 "metadata": {
  "kernelspec": {
   "display_name": "Python 3 August 2022 Environment",
   "language": "python",
   "name": "aug22"
  },
  "language_info": {
   "codemirror_mode": {
    "name": "ipython",
    "version": 3
   },
   "file_extension": ".py",
   "mimetype": "text/x-python",
   "name": "python",
   "nbconvert_exporter": "python",
   "pygments_lexer": "ipython3",
   "version": "3.10.5"
  }
 },
 "nbformat": 4,
 "nbformat_minor": 5
}
