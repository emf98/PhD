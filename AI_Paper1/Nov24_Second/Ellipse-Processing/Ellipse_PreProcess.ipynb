{
 "cells": [
  {
   "cell_type": "markdown",
   "id": "1a0c93f5-e2f5-49fc-9398-601be1cf9219",
   "metadata": {},
   "source": [
    "## Data pre-processing to conduct harmonics on ellipse data and gph anomaly data. "
   ]
  },
  {
   "cell_type": "code",
   "execution_count": 1,
   "id": "eea338da-8ae4-47a2-a220-718dfb0b4b53",
   "metadata": {},
   "outputs": [
    {
     "name": "stderr",
     "output_type": "stream",
     "text": [
      "/knight/anaconda_jan21/envs/aug21/lib/python3.8/site-packages/scipy/__init__.py:146: UserWarning: A NumPy version >=1.16.5 and <1.23.0 is required for this version of SciPy (detected version 1.24.3\n",
      "  warnings.warn(f\"A NumPy version >={np_minversion} and <{np_maxversion}\"\n"
     ]
    }
   ],
   "source": [
    "#import statements\n",
    "import datetime as dt\n",
    "import numpy as np\n",
    "import xarray as xr\n",
    "import pickle"
   ]
  },
  {
   "cell_type": "code",
   "execution_count": 2,
   "id": "52499610-18e6-4c9f-83ff-6f9eeffa2ecd",
   "metadata": {},
   "outputs": [],
   "source": [
    "##GPH and ellipse data from within this folder\n",
    "##weighted, gph at 500hPa averaged over the north atlantic region\n",
    "infile = open(\"./data/NAO_gph500.p\", 'rb') \n",
    "gph = pickle.load(infile)\n",
    "infile.close()\n",
    "\n",
    "# calculated ellipse metrics\n",
    "infile = open(\"./data/wind10_NaN.p\", 'rb') \n",
    "wind = pickle.load(infile)\n",
    "infile.close()\n",
    "\n",
    "infile = open(\"./data/cenlat10_NaN.p\", 'rb') \n",
    "cenlat = pickle.load(infile)\n",
    "infile.close()\n",
    "\n",
    "infile = open(\"./data/size10_NaN.p\", 'rb') \n",
    "size = pickle.load(infile)\n",
    "infile.close()\n",
    "\n",
    "infile = open(\"./data/ephi10_NaN.p\", 'rb') \n",
    "ephi = pickle.load(infile)\n",
    "infile.close()\n",
    "\n",
    "infile = open(\"./data/rat10_NaN.p\", 'rb') \n",
    "rat = pickle.load(infile)\n",
    "infile.close()\n",
    "\n",
    "##zonal-mean meridional eddy heat flux\n",
    "infile = open(\"./data/CAN_zmehf.p\", 'rb') \n",
    "zmehf = pickle.load(infile)\n",
    "infile.close()"
   ]
  },
  {
   "cell_type": "code",
   "execution_count": null,
   "id": "484a13bf-4277-47d8-9aac-59065f6ea63e",
   "metadata": {},
   "outputs": [],
   "source": []
  },
  {
   "cell_type": "code",
   "execution_count": 3,
   "id": "3e550c8f-e903-447f-ae42-3889b72bc1b4",
   "metadata": {
    "jupyter": {
     "source_hidden": true
    }
   },
   "outputs": [
    {
     "name": "stdout",
     "output_type": "stream",
     "text": [
      "(63, 151)\n",
      "(63, 151)\n",
      "(63, 151)\n",
      "(63, 151)\n",
      "(63, 151)\n",
      "(63, 151)\n",
      "(63, 151)\n"
     ]
    }
   ],
   "source": [
    "##check size of all\n",
    "print(gph.shape)\n",
    "print(wind.shape)\n",
    "print(cenlat.shape)\n",
    "print(size.shape)\n",
    "print(rat.shape)\n",
    "print(ephi.shape)\n",
    "print(zmehf.shape)\n",
    "\n",
    "##gph and zmehf need leap day removed"
   ]
  },
  {
   "cell_type": "code",
   "execution_count": 9,
   "id": "ddbe2461-f5a1-4e6d-a85d-0280f2898701",
   "metadata": {
    "jupyter": {
     "source_hidden": true
    }
   },
   "outputs": [],
   "source": [
    "##okay so i have to do this because it's somehow saving the previous shape of the heat flux lol\n",
    "zm = np.zeros_like(zmehf)\n",
    "zm[:,:] = zmehf[:,:]"
   ]
  },
  {
   "cell_type": "code",
   "execution_count": 4,
   "id": "8ef5ad81-fe99-4be3-a0bd-f8e2f6402221",
   "metadata": {
    "jupyter": {
     "source_hidden": true
    }
   },
   "outputs": [],
   "source": [
    "## check all for NaNs\n",
    "if np.any(np.isnan(gph)) or np.any(np.isinf(gph)):\n",
    "    print(\"NaN or Inf values found in gph!\")\n",
    "\n",
    "if np.any(np.isnan(wind)) or np.any(np.isinf(wind)):\n",
    "    print(\"NaN or Inf values found in wind!\")\n",
    "\n",
    "if np.any(np.isnan(rat)) or np.any(np.isinf(rat)):\n",
    "    print(\"NaN or Inf values found in ratio!\")\n",
    "\n",
    "if np.any(np.isnan(ephi)) or np.any(np.isinf(ephi)):\n",
    "    print(\"NaN or Inf values found in rotation angle!\")\n",
    "\n",
    "if np.any(np.isnan(cenlat)) or np.any(np.isinf(cenlat)):\n",
    "    print(\"NaN or Inf values found in central latitude!\")\n",
    "\n",
    "if np.any(np.isnan(size)) or np.any(np.isinf(size)):\n",
    "    print(\"NaN or Inf values found in size!\")\n",
    "\n",
    "if np.any(np.isnan(zmehf)) or np.any(np.isinf(zmehf)):\n",
    "    print(\"NaN or Inf values found in heat flux!\")"
   ]
  },
  {
   "cell_type": "code",
   "execution_count": 5,
   "id": "ddeb24cc-d4f7-4e71-95e2-1593eef7d6e3",
   "metadata": {
    "jupyter": {
     "source_hidden": true
    }
   },
   "outputs": [],
   "source": [
    "##definition statements for FFT and anomaly\n",
    "\n",
    "def anom(data): ##as shape (63,151)\n",
    "    dailymean = np.nanmean(data,axis=1)\n",
    "    anomaly=np.zeros_like(data)\n",
    "    for t in np.arange(data.shape[1]):\n",
    "         anomaly[:,t] = data[:,t] - dailymean\n",
    "    return anomaly; \n",
    "\n",
    "def FFT(anomaly, bott_period, top_period):\n",
    "    datafil=np.zeros_like(anomaly)\n",
    "\n",
    "    for y in np.arange(anomaly.shape[0]):\n",
    "        d = anomaly[y,:] #extracts data for each year\n",
    "        \n",
    "        fftout=np.fft.fft(d,axis=0) #compute fast fourier over the days axis\n",
    "        \n",
    "        pers=d.shape[0]/np.arange(1, d.shape[0] + 1) ##calculating the period in days for frequency\n",
    "        \n",
    "        #Ifil=np.where(np.logical_and(pers>=14,pers<=60))[0] ##select subseasonal fluctuation\n",
    "        Ifil=np.where(np.logical_and(pers>=bott_period,pers<=top_period))[0] \n",
    "        \n",
    "        fftfil=np.zeros_like(fftout)\n",
    "        fftfil[Ifil]=fftout[Ifil] #copy into array\n",
    "        fftfil[-Ifil]=fftout[-Ifil] #conjugate symmetry\n",
    "        \n",
    "        datafil[y,:,]=np.fft.ifft(fftfil,axis=0).real\n",
    "\n",
    "    return datafil; "
   ]
  },
  {
   "cell_type": "code",
   "execution_count": 10,
   "id": "462b1255-ee4e-4e0b-9f6e-bd15b4c848bf",
   "metadata": {},
   "outputs": [],
   "source": [
    "##calculate anomalies\n",
    "anom_w = anom(wind)\n",
    "anom_r = anom(rat)\n",
    "anom_e = anom(ephi)\n",
    "anom_c = anom(cenlat)\n",
    "anom_s = anom(size)\n",
    "anom_g = anom(gph)\n",
    "anom_h = anom(zm)"
   ]
  },
  {
   "cell_type": "code",
   "execution_count": 14,
   "id": "b6c4ed90-0b45-4737-98b7-08afc0379e52",
   "metadata": {},
   "outputs": [],
   "source": [
    "##conduct FFT smoothing on daily anomalies, 10-50 day periods\n",
    "\n",
    "windfil = FFT(anom_w , 10, 50) ##wind\n",
    "ratfil = FFT(anom_r , 10, 50) ##ratio\n",
    "ephifil = FFT(anom_e , 10, 50) ##ephi\n",
    "latfil = FFT(anom_c , 10, 50) ##central latitude\n",
    "sizefil = FFT(anom_s , 10, 50) ##size\n",
    "gphfil = FFT(anom_g , 10, 50) ##gph\n",
    "ehffil = FFT(anom_h , 10, 50) ##meridional eddy heat flux"
   ]
  },
  {
   "cell_type": "code",
   "execution_count": 15,
   "id": "8b44497e-b5de-4aaa-9d9b-90ff674ff1bf",
   "metadata": {},
   "outputs": [],
   "source": [
    "import matplotlib.pyplot as plt "
   ]
  },
  {
   "cell_type": "code",
   "execution_count": 16,
   "id": "b84aee4b-e68c-4310-a4ec-41b08939c1cf",
   "metadata": {},
   "outputs": [
    {
     "data": {
      "text/plain": [
       "(63, 151)"
      ]
     },
     "execution_count": 16,
     "metadata": {},
     "output_type": "execute_result"
    }
   ],
   "source": [
    "gphfil.shape"
   ]
  },
  {
   "cell_type": "code",
   "execution_count": 25,
   "id": "5c11bbc8-9a6c-410a-9bc3-df67245655a2",
   "metadata": {},
   "outputs": [
    {
     "data": {
      "text/plain": [
       "[<matplotlib.lines.Line2D at 0x7f4148375580>]"
      ]
     },
     "execution_count": 25,
     "metadata": {},
     "output_type": "execute_result"
    },
    {
     "data": {
      "image/png": "[encoded data removed]",
      "text/plain": [
       "<Figure size 432x288 with 1 Axes>"
      ]
     },
     "metadata": {
      "needs_background": "light"
     },
     "output_type": "display_data"
    }
   ],
   "source": [
    "plt.plot(anom_s[60,:])\n",
    "plt.plot(sizefil[60,:])"
   ]
  },
  {
   "cell_type": "code",
   "execution_count": 26,
   "id": "23677e72-5528-43ee-a1e3-0bfba4d81194",
   "metadata": {},
   "outputs": [],
   "source": [
    "##subtract off median from gph "
   ]
  },
  {
   "cell_type": "code",
   "execution_count": 27,
   "id": "028fafd5-87e7-4ff7-8e60-0a3749760969",
   "metadata": {},
   "outputs": [
    {
     "data": {
      "text/plain": [
       "(63, 151)"
      ]
     },
     "execution_count": 27,
     "metadata": {},
     "output_type": "execute_result"
    }
   ],
   "source": [
    "dailymed = np.nanmedian(gphfil,axis=1)\n",
    "med_g=np.zeros_like(gphfil)\n",
    "for t in np.arange(gphfil.shape[1]):\n",
    "     med_g[:,t] = gphfil[:,t] - dailymed\n",
    "med_g.shape"
   ]
  },
  {
   "cell_type": "code",
   "execution_count": 28,
   "id": "9a82fa5a-cbe1-414c-8595-433837245da9",
   "metadata": {},
   "outputs": [
    {
     "data": {
      "text/plain": [
       "array([-102.14897255, -106.55374676,  -96.83400986,  -76.2526255 ,\n",
       "        -49.74055677,  -22.3517027 ,    1.97129913,   21.01686347,\n",
       "         34.25515112,   42.29672385,   46.1745815 ,   46.77204373,\n",
       "         44.60546889,   39.98952031,   33.43723901,   26.0448442 ,\n",
       "         19.618887  ,   16.41525724,   18.53012054,   27.14447095,\n",
       "         41.91198687,   60.75671054,   80.21650965,   96.27483589,\n",
       "        105.43681467,  105.69650226,   97.05535937,   81.3902085 ,\n",
       "         61.68952168,   40.90522841,   20.82188073])"
      ]
     },
     "execution_count": 28,
     "metadata": {},
     "output_type": "execute_result"
    }
   ],
   "source": [
    "gphfil[0,120:]"
   ]
  },
  {
   "cell_type": "code",
   "execution_count": 29,
   "id": "bee1c76f-524f-4a81-a49f-f110b2326f4d",
   "metadata": {},
   "outputs": [
    {
     "data": {
      "text/plain": [
       "array([-101.26488128, -105.66965549,  -95.94991859,  -75.36853423,\n",
       "        -48.85646549,  -21.46761142,    2.8553904 ,   21.90095474,\n",
       "         35.1392424 ,   43.18081513,   47.05867277,   47.65613501,\n",
       "         45.48956017,   40.87361159,   34.32133028,   26.92893548,\n",
       "         20.50297828,   17.29934851,   19.41421182,   28.02856222,\n",
       "         42.79607815,   61.64080181,   81.10060092,   97.15892716,\n",
       "        106.32090594,  106.58059354,   97.93945065,   82.27429977,\n",
       "         62.57361295,   41.78931969,   21.705972  ])"
      ]
     },
     "execution_count": 29,
     "metadata": {},
     "output_type": "execute_result"
    }
   ],
   "source": [
    "med_g[0,120:]"
   ]
  },
  {
   "cell_type": "code",
   "execution_count": 30,
   "id": "96c62ccf-5334-42e9-85c4-6dfe67926eca",
   "metadata": {},
   "outputs": [],
   "source": [
    "###pickle out datasets\n",
    "##ellipse metrics\n",
    "pickle.dump(windfil, open(\"1121_filtered_wind.p\", 'wb'))\n",
    "pickle.dump(ratfil, open(\"1121_filtered_ratio.p\", 'wb'))\n",
    "pickle.dump(ephifil, open(\"1121_filtered_ephi.p\", 'wb'))\n",
    "pickle.dump(latfil, open(\"1121_filtered_clat.p\", 'wb'))\n",
    "pickle.dump(sizefil, open(\"1121_filtered_size.p\", 'wb'))\n",
    "pickle.dump(ehffil, open(\"1121_filtered_zmehf.p\", 'wb'))\n",
    "\n",
    "##gph\n",
    "pickle.dump(gphfil, open(\"1121_filtered_gph.p\", 'wb'))\n",
    "pickle.dump(med_g, open(\"1121_filtered_gph_median.p\", 'wb'))"
   ]
  },
  {
   "cell_type": "code",
   "execution_count": null,
   "id": "caf1c855-ec38-427a-aef4-2a4d80e41f08",
   "metadata": {},
   "outputs": [],
   "source": []
  }
 ],
 "metadata": {
  "kernelspec": {
   "display_name": "Python 3 August 2021 Environment",
   "language": "python",
   "name": "aug21"
  },
  "language_info": {
   "codemirror_mode": {
    "name": "ipython",
    "version": 3
   },
   "file_extension": ".py",
   "mimetype": "text/x-python",
   "name": "python",
   "nbconvert_exporter": "python",
   "pygments_lexer": "ipython3",
   "version": "3.8.10"
  }
 },
 "nbformat": 4,
 "nbformat_minor": 5
}
