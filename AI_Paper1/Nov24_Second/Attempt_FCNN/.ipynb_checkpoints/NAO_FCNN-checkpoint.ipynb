{
 "cells": [
  {
   "cell_type": "raw",
   "id": "bf27de63-f531-47fe-90e0-6cfcbe99d3ec",
   "metadata": {
    "jupyter": {
     "source_hidden": true
    },
    "scrolled": true
   },
   "source": [
    "!pip install netCDF4\n",
    "!pip install cmocean\n",
    "!pip install investigate"
   ]
  },
  {
   "cell_type": "raw",
   "id": "9b780057-3be4-47ae-bb9a-0eac456c62fc",
   "metadata": {
    "jupyter": {
     "source_hidden": true
    }
   },
   "source": [
    "from comet_ml import Experiment\n",
    "experiment = Experiment(\n",
    "  api_key=\"UzloboNe4UsDg9WE6plFnbWqW\",\n",
    "  project_name=\"general\",\n",
    "  workspace=\"emf98\")"
   ]
  },
  {
   "cell_type": "markdown",
   "id": "b76daa00-5bcc-446e-ab3c-6585fd2d44c5",
   "metadata": {},
   "source": [
    "## Multi-dimensional input of GPH anomalies and single point output as a classification problem. "
   ]
  },
  {
   "cell_type": "markdown",
   "id": "794f892c-58bc-49e9-b009-8f83831cfb2c",
   "metadata": {},
   "source": [
    "#### The first two cells here are for additional imports on starting a new file in NVIDIA + my comet tracking initalization if I wish to use it."
   ]
  },
  {
   "cell_type": "code",
   "execution_count": 1,
   "id": "8a3a25aa-349e-44f1-b84a-1ecd1e2cfcdc",
   "metadata": {},
   "outputs": [],
   "source": [
    "##import the python functions from my NN file when I have one created and relevant\n",
    "\n",
    "##I am just going to throw that definition statement in later for the sake of editing"
   ]
  },
  {
   "cell_type": "markdown",
   "id": "97b97272-6203-4046-9616-1642be6816aa",
   "metadata": {},
   "source": [
    "#### These next three chunks are just a bunch of import statements."
   ]
  },
  {
   "cell_type": "code",
   "execution_count": 2,
   "id": "1c6a9159-890b-47f2-a080-f67b5e39f21c",
   "metadata": {
    "jupyter": {
     "source_hidden": true
    }
   },
   "outputs": [
    {
     "name": "stderr",
     "output_type": "stream",
     "text": [
      "/tmp/ipykernel_698522/3801934532.py:6: DeprecationWarning: \n",
      "Pyarrow will become a required dependency of pandas in the next major release of pandas (pandas 3.0),\n",
      "(to allow more performant data types, such as the Arrow string type, and better interoperability with other libraries)\n",
      "but was not found to be installed on your system.\n",
      "If this would cause problems for you,\n",
      "please provide us feedback at https://github.com/pandas-dev/pandas/issues/54466\n",
      "        \n",
      "  import pandas as pd\n"
     ]
    }
   ],
   "source": [
    "%matplotlib inline\n",
    "##so-called \"math\" related imports\n",
    "from netCDF4 import Dataset as ncread\n",
    "import numpy as np\n",
    "from scipy.io import loadmat\n",
    "import pandas as pd\n",
    "import h5py\n",
    "import math\n",
    "from random import seed\n",
    "from random import randint\n",
    "from random import sample\n",
    "from scipy.ndimage import gaussian_filter\n",
    "from sklearn.metrics import brier_score_loss\n",
    "import xarray as xr\n",
    "\n",
    "import pickle\n",
    "\n",
    "##plotting related imports\n",
    "import matplotlib.pyplot as plt\n",
    "from matplotlib import rcParams #For changing text properties\n",
    "import cmocean #A package with beautiful colormaps\n",
    "from cartopy import crs as ccrs #Useful for plotting maps\n",
    "import cartopy.util #Requires separate import\n",
    "from cartopy.util import add_cyclic_point\n",
    "import cartopy.feature as cf\n",
    "from cartopy.mpl.ticker import LongitudeFormatter, LatitudeFormatter\n",
    "import matplotlib.path as mpath\n",
    "import matplotlib.colors as mcolors"
   ]
  },
  {
   "cell_type": "code",
   "execution_count": 3,
   "id": "40dfe88c-378d-4367-a65a-c17eb283aaee",
   "metadata": {
    "jupyter": {
     "source_hidden": true
    }
   },
   "outputs": [
    {
     "name": "stderr",
     "output_type": "stream",
     "text": [
      "2024-11-11 20:47:05.971361: E tensorflow/compiler/xla/stream_executor/cuda/cuda_dnn.cc:9342] Unable to register cuDNN factory: Attempting to register factory for plugin cuDNN when one has already been registered\n",
      "2024-11-11 20:47:05.971432: E tensorflow/compiler/xla/stream_executor/cuda/cuda_fft.cc:609] Unable to register cuFFT factory: Attempting to register factory for plugin cuFFT when one has already been registered\n",
      "2024-11-11 20:47:05.971469: E tensorflow/compiler/xla/stream_executor/cuda/cuda_blas.cc:1518] Unable to register cuBLAS factory: Attempting to register factory for plugin cuBLAS when one has already been registered\n",
      "2024-11-11 20:47:05.977927: I tensorflow/core/platform/cpu_feature_guard.cc:182] This TensorFlow binary is optimized to use available CPU instructions in performance-critical operations.\n",
      "To enable the following instructions: AVX2 FMA, in other operations, rebuild TensorFlow with the appropriate compiler flags.\n"
     ]
    }
   ],
   "source": [
    "##import tensorflow/keras related files\n",
    "import tensorflow as tf    \n",
    "#tf.compat.v1.disable_v2_behavior() # <-- HERE !\n",
    "\n",
    "from tensorflow import keras\n",
    "from tensorflow.keras import layers, models\n",
    "from tensorflow.keras import Input\n",
    "from tensorflow.keras.models import Model\n",
    "from tensorflow.keras.callbacks import ModelCheckpoint\n",
    "from tensorflow.keras import regularizers\n",
    "import tensorflow.keras.backend as K\n",
    "from tensorflow.keras.utils import to_categorical\n",
    "from tensorflow.keras.layers import Dropout, Activation, Reshape, Flatten, LSTM, Dense, Dropout, Embedding, Bidirectional, GRU\n",
    "from tensorflow.keras import Sequential\n",
    "from tensorflow.keras import initializers, regularizers\n",
    "from tensorflow.keras import optimizers\n",
    "from tensorflow.keras import constraints\n",
    "from tensorflow.keras.layers import Layer, InputSpec"
   ]
  },
  {
   "cell_type": "code",
   "execution_count": 4,
   "id": "e393572f-b47e-46f6-8823-1470a09445f9",
   "metadata": {},
   "outputs": [],
   "source": [
    "tf.compat.v1.disable_eager_execution()\n",
    "import investigate"
   ]
  },
  {
   "cell_type": "markdown",
   "id": "b67968bc-fc14-4805-95dd-146548796c3e",
   "metadata": {},
   "source": [
    "#### Upload data. "
   ]
  },
  {
   "cell_type": "code",
   "execution_count": 5,
   "id": "0817c222-c32c-4c7f-8f91-6e0fa11ff89c",
   "metadata": {},
   "outputs": [],
   "source": [
    "#inputs\n",
    "infile = open(\"./data/ANN/NAO_daily.p\", 'rb') \n",
    "input = pickle.load(infile)\n",
    "infile.close()\n",
    "\n",
    "#outputs\n",
    "infile = open(\"./data/ANN/NAO_EURtemp_anoms.p\", 'rb')\n",
    "temp = pickle.load(infile)\n",
    "infile.close()\n",
    "#temp = temp.flatten()"
   ]
  },
  {
   "cell_type": "code",
   "execution_count": 6,
   "id": "cd3a8f58-74a4-4111-95c2-c99a575b07a8",
   "metadata": {},
   "outputs": [
    {
     "data": {
      "text/plain": [
       "(8442, 1, 1)"
      ]
     },
     "execution_count": 6,
     "metadata": {},
     "output_type": "execute_result"
    }
   ],
   "source": [
    "##input shape (samples, lat, lon), these will be different from the output\n",
    "input.shape"
   ]
  },
  {
   "cell_type": "code",
   "execution_count": 25,
   "id": "88f33e9e-b40b-42c1-83cd-79db9c326e52",
   "metadata": {},
   "outputs": [],
   "source": [
    "input = input.reshape(8442,1)"
   ]
  },
  {
   "cell_type": "code",
   "execution_count": 26,
   "id": "2c7069d3-7e0f-498b-b5fb-855f9d28f335",
   "metadata": {},
   "outputs": [
    {
     "data": {
      "text/plain": [
       "(8442,)"
      ]
     },
     "execution_count": 26,
     "metadata": {},
     "output_type": "execute_result"
    }
   ],
   "source": [
    "##output shape (samples, lat, lon), these will be different from the input\n",
    "temp.shape"
   ]
  },
  {
   "cell_type": "code",
   "execution_count": 27,
   "id": "46f1d582-c04a-4216-b229-bdcd632fa465",
   "metadata": {
    "scrolled": true
   },
   "outputs": [
    {
     "data": {
      "text/plain": [
       "array([[0., 1.],\n",
       "       [0., 1.],\n",
       "       [0., 1.],\n",
       "       ...,\n",
       "       [0., 1.],\n",
       "       [0., 1.],\n",
       "       [0., 1.]], dtype=float32)"
      ]
     },
     "execution_count": 27,
     "metadata": {},
     "output_type": "execute_result"
    }
   ],
   "source": [
    "##Set X_all and Y_all datasets\n",
    "X_all = np.copy(input)\n",
    "Y_all = np.copy(temp)\n",
    "\n",
    "#Convert the Y array into a categorical array. This means we will create one-hot vector labels for all of the inputs.\n",
    "# The one-hot vectors have an index for each possible output category (two in our case)\n",
    "# A \"1\" is put in the index corresponding to the category to which the sample belongs\n",
    "Y_all = keras.utils.to_categorical(Y_all)\n",
    "Y_all"
   ]
  },
  {
   "cell_type": "code",
   "execution_count": 28,
   "id": "5beebb82-e25c-412f-a3a2-3dd18c343b52",
   "metadata": {},
   "outputs": [],
   "source": [
    "##checking my data for NaN of Infs because I need to make sure this doesn't cause\n",
    "#the model to throw back no loss\n",
    "\n",
    "if np.any(np.isnan(X_all)) or np.any(np.isinf(X_all)):\n",
    "    print(\"NaN or Inf values found in X_all!\")\n",
    "\n",
    "if np.any(np.isnan(Y_all)) or np.any(np.isinf(Y_all)):\n",
    "    print(\"NaN or Inf values found in Y_all!\")"
   ]
  },
  {
   "cell_type": "markdown",
   "id": "2edad085-2483-4eaa-a97c-79f4003a275e",
   "metadata": {},
   "source": [
    "### Begin establishing specifics of model."
   ]
  },
  {
   "cell_type": "code",
   "execution_count": 29,
   "id": "9c3b2fb4-4e7c-4781-b303-2f1b2cf14a41",
   "metadata": {},
   "outputs": [
    {
     "data": {
      "text/plain": [
       "1266"
      ]
     },
     "execution_count": 29,
     "metadata": {},
     "output_type": "execute_result"
    }
   ],
   "source": [
    "##set fraction of data as 15% \n",
    "frac = round(len(X_all[:,0])*0.15)\n",
    "frac"
   ]
  },
  {
   "cell_type": "code",
   "execution_count": 30,
   "id": "074e8204-f94d-4799-9e0f-5f4a3f73a3c7",
   "metadata": {},
   "outputs": [
    {
     "data": {
      "text/plain": [
       "(8442, 2)"
      ]
     },
     "execution_count": 30,
     "metadata": {},
     "output_type": "execute_result"
    }
   ],
   "source": [
    "##checking to make sure shape was properly one hot encoded\n",
    "Y_all.shape"
   ]
  },
  {
   "cell_type": "code",
   "execution_count": 158,
   "id": "1b2994bd-729c-443a-9ba6-01088e01ff5f",
   "metadata": {},
   "outputs": [],
   "source": [
    "##class weight creator for the instance where now I have a four dimensional output array \n",
    "def class_weight_creator(Y):\n",
    "    class_dict = {}\n",
    "    Y_reshaped = Y.reshape(-1, Y.shape[-1])\n",
    "    weights = np.max(np.sum(Y_reshaped, axis=0)) / np.sum(Y_reshaped, axis=0)\n",
    "    for i in range(Y.shape[-1] ):\n",
    "        class_dict[i] = weights[i]\n",
    "        \n",
    "    return class_dict"
   ]
  },
  {
   "cell_type": "code",
   "execution_count": 159,
   "id": "cb26fc72-176a-4be0-b175-1beb1a0da1f6",
   "metadata": {},
   "outputs": [],
   "source": [
    "numb_int = X_all.shape[-1]\n",
    "\n",
    "X_validation = X_all[0:int(frac)]\n",
    "Y_validation = Y_all[0:int(frac)]\n",
    "        \n",
    "X_train = X_all[int(frac):len(X_all)-int(frac)]\n",
    "Y_train = Y_all[int(frac):len(Y_all)-int(frac)]\n",
    "\n",
    "X_test = X_all[len(X_all)-int(frac):]\n",
    "Y_test = Y_all[len(Y_all)-int(frac):]\n"
   ]
  },
  {
   "cell_type": "code",
   "execution_count": 160,
   "id": "8f044466-349a-46f4-bb70-f8d6a719465e",
   "metadata": {},
   "outputs": [
    {
     "data": {
      "text/plain": [
       "1"
      ]
     },
     "execution_count": 160,
     "metadata": {},
     "output_type": "execute_result"
    }
   ],
   "source": [
    "numb_int"
   ]
  },
  {
   "cell_type": "code",
   "execution_count": 161,
   "id": "00d61e2d-fe5e-43c9-95a2-75a559609794",
   "metadata": {},
   "outputs": [
    {
     "data": {
      "text/plain": [
       "{0: 1.0, 1: 1.0987216}"
      ]
     },
     "execution_count": 161,
     "metadata": {},
     "output_type": "execute_result"
    }
   ],
   "source": [
    "##do the class_dict weights\n",
    "class_weight = class_weight_creator(Y_train)\n",
    "class_weight"
   ]
  },
  {
   "cell_type": "markdown",
   "id": "a44275b4-b283-48c5-a2f8-87d4ce86683b",
   "metadata": {},
   "source": [
    "### Model Arcitecture."
   ]
  },
  {
   "cell_type": "code",
   "execution_count": 222,
   "id": "a18fff27-71cf-40ff-a118-d2374cec2659",
   "metadata": {},
   "outputs": [],
   "source": [
    "def basic_ANN(number_inputs,num_cats,n1,n2,n3,n4,rl1,rl2,rl3,rl4,learn):\n",
    "    \n",
    "    input_tensor = Input(shape=(int(number_inputs),))\n",
    "    \n",
    "    layer1 = layers.Dense(n1, activation='relu', use_bias=True,\n",
    "                          kernel_initializer='he_normal',bias_initializer='he_normal',\n",
    "                          kernel_regularizer=keras.regularizers.l1_l2(l1= 0.0005, l2= rl1))(input_tensor)\n",
    "    \n",
    "    layer1 = layers.Dense(n2, activation='relu',use_bias=True,\n",
    "                          kernel_initializer='he_normal',bias_initializer='he_normal',\n",
    "                          kernel_regularizer=keras.regularizers.l2(l2=rl2))(layer1)\n",
    "\n",
    "    layer1 = layers.Dense(n3, activation='relu',use_bias=True,\n",
    "                          kernel_initializer='he_normal',bias_initializer='he_normal',\n",
    "                          kernel_regularizer=keras.regularizers.l2(l2=rl3))(layer1)\n",
    "\n",
    "    layer1 = layers.Dense(n4, activation='relu',use_bias=True,\n",
    "                          kernel_initializer='he_normal',bias_initializer='he_normal',\n",
    "                          kernel_regularizer=keras.regularizers.l2(l2=rl4))(layer1)\n",
    "\n",
    "    #layer1 = layers.Dense(n5, activation='relu',use_bias=True,\n",
    "                          #kernel_initializer='he_normal',bias_initializer='he_normal',\n",
    "                          #kernel_regularizer=keras.regularizers.l2(l2=rl5))(layer1)\n",
    "    \n",
    "    output_tensor = layers.Dense(num_cats,activation='softmax')(layer1)\n",
    "    model = Model(input_tensor, output_tensor)\n",
    "    model.compile(optimizer=keras.optimizers.legacy.SGD(learning_rate=learn),\n",
    "              loss = 'categorical_crossentropy', #Our loss function is based on categorical error\n",
    "              metrics=[keras.metrics.categorical_accuracy], #We will print out the categorical accuracy as the network is trained\n",
    "              )\n",
    "    return model"
   ]
  },
  {
   "cell_type": "code",
   "execution_count": 223,
   "id": "ff092005-a4ca-447a-822c-66fa44eafdb2",
   "metadata": {},
   "outputs": [],
   "source": [
    "######\n",
    "batch_size = 650 #The number of samples the network sees before it backpropagates (batch size)\n",
    "epochs = 200 #The number of times the network will loop through the entire dataset (epochs)\n",
    "shuffle = True #Set whether to shuffle the training data so the model doesn't see it sequentially \n",
    "verbose = 2 #Set whether the model will output information when trained (0 = no output; 2 = output accuracy every epoch)"
   ]
  },
  {
   "cell_type": "code",
   "execution_count": 224,
   "id": "318a54af-570e-4831-a719-ac6411bfdad7",
   "metadata": {},
   "outputs": [
    {
     "data": {
      "text/plain": [
       "(1266, 2)"
      ]
     },
     "execution_count": 224,
     "metadata": {},
     "output_type": "execute_result"
    }
   ],
   "source": [
    "Y_validation.shape"
   ]
  },
  {
   "cell_type": "code",
   "execution_count": 225,
   "id": "b1825ee1-2f71-44d2-ba61-203243e8fcae",
   "metadata": {},
   "outputs": [
    {
     "name": "stdout",
     "output_type": "stream",
     "text": [
      "Y_train shape: (5910, 2)\n",
      "Sample label shape: (2,)\n"
     ]
    }
   ],
   "source": [
    "print(\"Y_train shape:\", Y_train.shape)  # Should be (samples, lat, lon, 2)\n",
    "print(\"Sample label shape:\", Y_train[0].shape)  # Should be (lat, lon, 2)\n",
    "#print(\"Sample label value:\", Y_train[0])  # Should be a matrix of shape (lat, lon, 2), e.g. [0, 1] or [1, 0]"
   ]
  },
  {
   "cell_type": "code",
   "execution_count": 230,
   "id": "72ff3cda-ce59-447d-9878-929215aee56b",
   "metadata": {},
   "outputs": [],
   "source": [
    "##create model.\n",
    "model = basic_ANN(numb_int, 2, 512, 256, 64, 32, 0.05, 0.05, 0.05, 0.05, 0.0001)"
   ]
  },
  {
   "cell_type": "code",
   "execution_count": 231,
   "id": "6044ca41-896b-4ba0-b9b1-03f0d957bad3",
   "metadata": {
    "scrolled": true
   },
   "outputs": [
    {
     "name": "stdout",
     "output_type": "stream",
     "text": [
      "Train on 5910 samples, validate on 1266 samples\n"
     ]
    },
    {
     "name": "stderr",
     "output_type": "stream",
     "text": [
      "2024-11-11 21:39:25.077469: W tensorflow/c/c_api.cc:305] Operation '{name:'dense_186/bias/Assign' id:21474 op device:{requested: '', assigned: ''} def:{{{node dense_186/bias/Assign}} = AssignVariableOp[_has_manual_control_dependencies=true, dtype=DT_FLOAT, validate_shape=false](dense_186/bias, dense_186/bias/Initializer/stateless_truncated_normal)}}' was changed by setting attribute after it was run by a session. This mutation will have no effect, and will trigger an error in the future. Either don't modify nodes after running them or create a new session.\n"
     ]
    },
    {
     "name": "stdout",
     "output_type": "stream",
     "text": [
      "Epoch 1/200\n",
      "5910/5910 [==============================] - 1s 102us/sample - loss: 88.4088 - categorical_accuracy: 0.4338 - val_loss: 88.4756 - val_categorical_accuracy: 0.4518\n",
      "Epoch 2/200\n",
      "5910/5910 [==============================] - 0s 7us/sample - loss: 88.3328 - categorical_accuracy: 0.4330 - val_loss: 88.3819 - val_categorical_accuracy: 0.4550\n",
      "Epoch 3/200\n",
      "5910/5910 [==============================] - 0s 7us/sample - loss: 88.2634 - categorical_accuracy: 0.4330 - val_loss: 88.2929 - val_categorical_accuracy: 0.4542\n",
      "Epoch 4/200\n",
      "5910/5910 [==============================] - 0s 7us/sample - loss: 88.2011 - categorical_accuracy: 0.4327 - val_loss: 88.2171 - val_categorical_accuracy: 0.4550\n",
      "Epoch 5/200\n",
      "5910/5910 [==============================] - 0s 7us/sample - loss: 88.1481 - categorical_accuracy: 0.4328 - val_loss: 88.1478 - val_categorical_accuracy: 0.4581\n",
      "Epoch 6/200\n",
      "5910/5910 [==============================] - 0s 6us/sample - loss: 88.1012 - categorical_accuracy: 0.4311 - val_loss: 88.0887 - val_categorical_accuracy: 0.4597\n",
      "Epoch 7/200\n",
      "5910/5910 [==============================] - 0s 7us/sample - loss: 88.0605 - categorical_accuracy: 0.4316 - val_loss: 88.0336 - val_categorical_accuracy: 0.4589\n",
      "Epoch 8/200\n",
      "5910/5910 [==============================] - 0s 6us/sample - loss: 88.0228 - categorical_accuracy: 0.4335 - val_loss: 87.9875 - val_categorical_accuracy: 0.4526\n",
      "Epoch 9/200\n",
      "5910/5910 [==============================] - 0s 7us/sample - loss: 87.9897 - categorical_accuracy: 0.4470 - val_loss: 87.9464 - val_categorical_accuracy: 0.4502\n",
      "Epoch 10/200\n",
      "5910/5910 [==============================] - 0s 7us/sample - loss: 87.9607 - categorical_accuracy: 0.4536 - val_loss: 87.9118 - val_categorical_accuracy: 0.4463\n",
      "Epoch 11/200\n",
      "5910/5910 [==============================] - 0s 7us/sample - loss: 87.9342 - categorical_accuracy: 0.4613 - val_loss: 87.8793 - val_categorical_accuracy: 0.4550\n",
      "Epoch 12/200\n",
      "5910/5910 [==============================] - 0s 7us/sample - loss: 87.9094 - categorical_accuracy: 0.4640 - val_loss: 87.8483 - val_categorical_accuracy: 0.4929\n",
      "Epoch 13/200\n",
      "5910/5910 [==============================] - 0s 7us/sample - loss: 87.8858 - categorical_accuracy: 0.4660 - val_loss: 87.8195 - val_categorical_accuracy: 0.5553\n",
      "Epoch 14/200\n",
      "5910/5910 [==============================] - 0s 7us/sample - loss: 87.8636 - categorical_accuracy: 0.5027 - val_loss: 87.7945 - val_categorical_accuracy: 0.6209\n",
      "Epoch 15/200\n",
      "5910/5910 [==============================] - 0s 7us/sample - loss: 87.8429 - categorical_accuracy: 0.5093 - val_loss: 87.7719 - val_categorical_accuracy: 0.6193\n",
      "Epoch 16/200\n",
      "5910/5910 [==============================] - 0s 7us/sample - loss: 87.8233 - categorical_accuracy: 0.5127 - val_loss: 87.7510 - val_categorical_accuracy: 0.6193\n",
      "Epoch 17/200\n",
      "5910/5910 [==============================] - 0s 7us/sample - loss: 87.8043 - categorical_accuracy: 0.5144 - val_loss: 87.7304 - val_categorical_accuracy: 0.6161\n",
      "Epoch 18/200\n",
      "5910/5910 [==============================] - 0s 7us/sample - loss: 87.7857 - categorical_accuracy: 0.5171 - val_loss: 87.7111 - val_categorical_accuracy: 0.6161\n",
      "Epoch 19/200\n",
      "5910/5910 [==============================] - 0s 7us/sample - loss: 87.7675 - categorical_accuracy: 0.5164 - val_loss: 87.6924 - val_categorical_accuracy: 0.6177\n",
      "Epoch 20/200\n",
      "5910/5910 [==============================] - 0s 6us/sample - loss: 87.7496 - categorical_accuracy: 0.5178 - val_loss: 87.6747 - val_categorical_accuracy: 0.6185\n",
      "Epoch 21/200\n",
      "5910/5910 [==============================] - 0s 7us/sample - loss: 87.7318 - categorical_accuracy: 0.5206 - val_loss: 87.6565 - val_categorical_accuracy: 0.6153\n",
      "Epoch 22/200\n",
      "5910/5910 [==============================] - 0s 7us/sample - loss: 87.7140 - categorical_accuracy: 0.5200 - val_loss: 87.6381 - val_categorical_accuracy: 0.6137\n",
      "Epoch 23/200\n",
      "5910/5910 [==============================] - 0s 7us/sample - loss: 87.6963 - categorical_accuracy: 0.5205 - val_loss: 87.6207 - val_categorical_accuracy: 0.6122\n",
      "Epoch 24/200\n",
      "5910/5910 [==============================] - 0s 7us/sample - loss: 87.6786 - categorical_accuracy: 0.5220 - val_loss: 87.6029 - val_categorical_accuracy: 0.6130\n",
      "Epoch 25/200\n",
      "5910/5910 [==============================] - 0s 7us/sample - loss: 87.6611 - categorical_accuracy: 0.5225 - val_loss: 87.5853 - val_categorical_accuracy: 0.6130\n",
      "Epoch 26/200\n",
      "5910/5910 [==============================] - 0s 7us/sample - loss: 87.6436 - categorical_accuracy: 0.5228 - val_loss: 87.5681 - val_categorical_accuracy: 0.6122\n",
      "Epoch 27/200\n",
      "5910/5910 [==============================] - 0s 7us/sample - loss: 87.6260 - categorical_accuracy: 0.5222 - val_loss: 87.5506 - val_categorical_accuracy: 0.6137\n",
      "Epoch 28/200\n",
      "5910/5910 [==============================] - 0s 7us/sample - loss: 87.6085 - categorical_accuracy: 0.5220 - val_loss: 87.5331 - val_categorical_accuracy: 0.6137\n",
      "Epoch 29/200\n",
      "5910/5910 [==============================] - 0s 7us/sample - loss: 87.5911 - categorical_accuracy: 0.5223 - val_loss: 87.5157 - val_categorical_accuracy: 0.6145\n",
      "Epoch 30/200\n",
      "5910/5910 [==============================] - 0s 7us/sample - loss: 87.5735 - categorical_accuracy: 0.5225 - val_loss: 87.4990 - val_categorical_accuracy: 0.6145\n",
      "Epoch 31/200\n",
      "5910/5910 [==============================] - 0s 7us/sample - loss: 87.5561 - categorical_accuracy: 0.5222 - val_loss: 87.4818 - val_categorical_accuracy: 0.6145\n",
      "Epoch 32/200\n",
      "5910/5910 [==============================] - 0s 7us/sample - loss: 87.5387 - categorical_accuracy: 0.5227 - val_loss: 87.4642 - val_categorical_accuracy: 0.6137\n",
      "Epoch 33/200\n",
      "5910/5910 [==============================] - 0s 7us/sample - loss: 87.5211 - categorical_accuracy: 0.5228 - val_loss: 87.4466 - val_categorical_accuracy: 0.6130\n",
      "Epoch 34/200\n",
      "5910/5910 [==============================] - 0s 6us/sample - loss: 87.5037 - categorical_accuracy: 0.5225 - val_loss: 87.4289 - val_categorical_accuracy: 0.6145\n",
      "Epoch 35/200\n",
      "5910/5910 [==============================] - 0s 7us/sample - loss: 87.4862 - categorical_accuracy: 0.5228 - val_loss: 87.4119 - val_categorical_accuracy: 0.6153\n",
      "Epoch 36/200\n",
      "5910/5910 [==============================] - 0s 7us/sample - loss: 87.4687 - categorical_accuracy: 0.5227 - val_loss: 87.3947 - val_categorical_accuracy: 0.6153\n",
      "Epoch 37/200\n",
      "5910/5910 [==============================] - 0s 7us/sample - loss: 87.4513 - categorical_accuracy: 0.5225 - val_loss: 87.3768 - val_categorical_accuracy: 0.6153\n",
      "Epoch 38/200\n",
      "5910/5910 [==============================] - 0s 7us/sample - loss: 87.4338 - categorical_accuracy: 0.5222 - val_loss: 87.3592 - val_categorical_accuracy: 0.6153\n",
      "Epoch 39/200\n",
      "5910/5910 [==============================] - 0s 7us/sample - loss: 87.4164 - categorical_accuracy: 0.5230 - val_loss: 87.3420 - val_categorical_accuracy: 0.6153\n",
      "Epoch 40/200\n",
      "5910/5910 [==============================] - 0s 6us/sample - loss: 87.3989 - categorical_accuracy: 0.5225 - val_loss: 87.3244 - val_categorical_accuracy: 0.6153\n",
      "Epoch 41/200\n",
      "5910/5910 [==============================] - 0s 7us/sample - loss: 87.3815 - categorical_accuracy: 0.5225 - val_loss: 87.3070 - val_categorical_accuracy: 0.6145\n",
      "Epoch 42/200\n",
      "5910/5910 [==============================] - 0s 7us/sample - loss: 87.3641 - categorical_accuracy: 0.5227 - val_loss: 87.2901 - val_categorical_accuracy: 0.6137\n",
      "Epoch 43/200\n",
      "5910/5910 [==============================] - 0s 7us/sample - loss: 87.3467 - categorical_accuracy: 0.5232 - val_loss: 87.2730 - val_categorical_accuracy: 0.6130\n",
      "Epoch 44/200\n",
      "5910/5910 [==============================] - 0s 7us/sample - loss: 87.3292 - categorical_accuracy: 0.5230 - val_loss: 87.2563 - val_categorical_accuracy: 0.6122\n",
      "Epoch 45/200\n",
      "5910/5910 [==============================] - 0s 7us/sample - loss: 87.3119 - categorical_accuracy: 0.5237 - val_loss: 87.2386 - val_categorical_accuracy: 0.6130\n",
      "Epoch 46/200\n",
      "5910/5910 [==============================] - 0s 7us/sample - loss: 87.2944 - categorical_accuracy: 0.5239 - val_loss: 87.2216 - val_categorical_accuracy: 0.6122\n",
      "Epoch 47/200\n",
      "5910/5910 [==============================] - 0s 7us/sample - loss: 87.2770 - categorical_accuracy: 0.5230 - val_loss: 87.2037 - val_categorical_accuracy: 0.6122\n",
      "Epoch 48/200\n",
      "5910/5910 [==============================] - 0s 7us/sample - loss: 87.2596 - categorical_accuracy: 0.5232 - val_loss: 87.1865 - val_categorical_accuracy: 0.6122\n",
      "Epoch 49/200\n",
      "5910/5910 [==============================] - 0s 7us/sample - loss: 87.2422 - categorical_accuracy: 0.5232 - val_loss: 87.1695 - val_categorical_accuracy: 0.6122\n",
      "Epoch 50/200\n",
      "5910/5910 [==============================] - 0s 7us/sample - loss: 87.2248 - categorical_accuracy: 0.5232 - val_loss: 87.1519 - val_categorical_accuracy: 0.6122\n",
      "Epoch 51/200\n",
      "5910/5910 [==============================] - 0s 7us/sample - loss: 87.2074 - categorical_accuracy: 0.5230 - val_loss: 87.1343 - val_categorical_accuracy: 0.6122\n",
      "Epoch 52/200\n",
      "5910/5910 [==============================] - 0s 7us/sample - loss: 87.1901 - categorical_accuracy: 0.5228 - val_loss: 87.1165 - val_categorical_accuracy: 0.6122\n",
      "Epoch 53/200\n",
      "5910/5910 [==============================] - 0s 7us/sample - loss: 87.1727 - categorical_accuracy: 0.5234 - val_loss: 87.0995 - val_categorical_accuracy: 0.6122\n",
      "Epoch 54/200\n",
      "5910/5910 [==============================] - 0s 7us/sample - loss: 87.1553 - categorical_accuracy: 0.5235 - val_loss: 87.0822 - val_categorical_accuracy: 0.6122\n",
      "Epoch 55/200\n",
      "5910/5910 [==============================] - 0s 7us/sample - loss: 87.1379 - categorical_accuracy: 0.5237 - val_loss: 87.0644 - val_categorical_accuracy: 0.6114\n",
      "Epoch 56/200\n",
      "5910/5910 [==============================] - 0s 7us/sample - loss: 87.1206 - categorical_accuracy: 0.5235 - val_loss: 87.0476 - val_categorical_accuracy: 0.6090\n",
      "Epoch 57/200\n",
      "5910/5910 [==============================] - 0s 7us/sample - loss: 87.1032 - categorical_accuracy: 0.5228 - val_loss: 87.0306 - val_categorical_accuracy: 0.6090\n",
      "Epoch 58/200\n",
      "5910/5910 [==============================] - 0s 6us/sample - loss: 87.0859 - categorical_accuracy: 0.5235 - val_loss: 87.0134 - val_categorical_accuracy: 0.6098\n",
      "Epoch 59/200\n",
      "5910/5910 [==============================] - 0s 6us/sample - loss: 87.0685 - categorical_accuracy: 0.5237 - val_loss: 86.9955 - val_categorical_accuracy: 0.6098\n",
      "Epoch 60/200\n",
      "5910/5910 [==============================] - 0s 7us/sample - loss: 87.0512 - categorical_accuracy: 0.5234 - val_loss: 86.9781 - val_categorical_accuracy: 0.6106\n",
      "Epoch 61/200\n",
      "5910/5910 [==============================] - 0s 7us/sample - loss: 87.0338 - categorical_accuracy: 0.5237 - val_loss: 86.9612 - val_categorical_accuracy: 0.6106\n",
      "Epoch 62/200\n",
      "5910/5910 [==============================] - 0s 7us/sample - loss: 87.0165 - categorical_accuracy: 0.5234 - val_loss: 86.9445 - val_categorical_accuracy: 0.6090\n",
      "Epoch 63/200\n",
      "5910/5910 [==============================] - 0s 7us/sample - loss: 86.9991 - categorical_accuracy: 0.5237 - val_loss: 86.9278 - val_categorical_accuracy: 0.6090\n",
      "Epoch 64/200\n",
      "5910/5910 [==============================] - 0s 7us/sample - loss: 86.9818 - categorical_accuracy: 0.5232 - val_loss: 86.9103 - val_categorical_accuracy: 0.6090\n",
      "Epoch 65/200\n",
      "5910/5910 [==============================] - 0s 7us/sample - loss: 86.9644 - categorical_accuracy: 0.5230 - val_loss: 86.8925 - val_categorical_accuracy: 0.6098\n",
      "Epoch 66/200\n",
      "5910/5910 [==============================] - 0s 7us/sample - loss: 86.9471 - categorical_accuracy: 0.5234 - val_loss: 86.8754 - val_categorical_accuracy: 0.6090\n",
      "Epoch 67/200\n",
      "5910/5910 [==============================] - 0s 7us/sample - loss: 86.9298 - categorical_accuracy: 0.5230 - val_loss: 86.8575 - val_categorical_accuracy: 0.6090\n",
      "Epoch 68/200\n",
      "5910/5910 [==============================] - 0s 7us/sample - loss: 86.9125 - categorical_accuracy: 0.5232 - val_loss: 86.8401 - val_categorical_accuracy: 0.6090\n",
      "Epoch 69/200\n",
      "5910/5910 [==============================] - 0s 6us/sample - loss: 86.8952 - categorical_accuracy: 0.5234 - val_loss: 86.8227 - val_categorical_accuracy: 0.6082\n",
      "Epoch 70/200\n",
      "5910/5910 [==============================] - 0s 6us/sample - loss: 86.8779 - categorical_accuracy: 0.5234 - val_loss: 86.8051 - val_categorical_accuracy: 0.6090\n",
      "Epoch 71/200\n",
      "5910/5910 [==============================] - 0s 6us/sample - loss: 86.8606 - categorical_accuracy: 0.5234 - val_loss: 86.7881 - val_categorical_accuracy: 0.6082\n",
      "Epoch 72/200\n",
      "5910/5910 [==============================] - 0s 7us/sample - loss: 86.8433 - categorical_accuracy: 0.5234 - val_loss: 86.7712 - val_categorical_accuracy: 0.6043\n",
      "Epoch 73/200\n",
      "5910/5910 [==============================] - 0s 6us/sample - loss: 86.8260 - categorical_accuracy: 0.5264 - val_loss: 86.7546 - val_categorical_accuracy: 0.6043\n",
      "Epoch 74/200\n",
      "5910/5910 [==============================] - 0s 7us/sample - loss: 86.8086 - categorical_accuracy: 0.5264 - val_loss: 86.7375 - val_categorical_accuracy: 0.6043\n",
      "Epoch 75/200\n",
      "5910/5910 [==============================] - 0s 6us/sample - loss: 86.7914 - categorical_accuracy: 0.5262 - val_loss: 86.7208 - val_categorical_accuracy: 0.6019\n",
      "Epoch 76/200\n",
      "5910/5910 [==============================] - 0s 7us/sample - loss: 86.7741 - categorical_accuracy: 0.5271 - val_loss: 86.7039 - val_categorical_accuracy: 0.6011\n",
      "Epoch 77/200\n",
      "5910/5910 [==============================] - 0s 7us/sample - loss: 86.7568 - categorical_accuracy: 0.5267 - val_loss: 86.6868 - val_categorical_accuracy: 0.6027\n",
      "Epoch 78/200\n",
      "5910/5910 [==============================] - 0s 7us/sample - loss: 86.7395 - categorical_accuracy: 0.5267 - val_loss: 86.6694 - val_categorical_accuracy: 0.6027\n",
      "Epoch 79/200\n",
      "5910/5910 [==============================] - 0s 7us/sample - loss: 86.7223 - categorical_accuracy: 0.5272 - val_loss: 86.6528 - val_categorical_accuracy: 0.6019\n",
      "Epoch 80/200\n",
      "5910/5910 [==============================] - 0s 6us/sample - loss: 86.7050 - categorical_accuracy: 0.5269 - val_loss: 86.6356 - val_categorical_accuracy: 0.5995\n",
      "Epoch 81/200\n",
      "5910/5910 [==============================] - 0s 6us/sample - loss: 86.6877 - categorical_accuracy: 0.5283 - val_loss: 86.6180 - val_categorical_accuracy: 0.6003\n",
      "Epoch 82/200\n",
      "5910/5910 [==============================] - 0s 6us/sample - loss: 86.6705 - categorical_accuracy: 0.5281 - val_loss: 86.6003 - val_categorical_accuracy: 0.6011\n",
      "Epoch 83/200\n",
      "5910/5910 [==============================] - 0s 7us/sample - loss: 86.6532 - categorical_accuracy: 0.5276 - val_loss: 86.5831 - val_categorical_accuracy: 0.6011\n",
      "Epoch 84/200\n",
      "5910/5910 [==============================] - 0s 6us/sample - loss: 86.6360 - categorical_accuracy: 0.5281 - val_loss: 86.5659 - val_categorical_accuracy: 0.6003\n",
      "Epoch 85/200\n",
      "5910/5910 [==============================] - 0s 7us/sample - loss: 86.6188 - categorical_accuracy: 0.5283 - val_loss: 86.5496 - val_categorical_accuracy: 0.6003\n",
      "Epoch 86/200\n",
      "5910/5910 [==============================] - 0s 7us/sample - loss: 86.6015 - categorical_accuracy: 0.5277 - val_loss: 86.5329 - val_categorical_accuracy: 0.5995\n",
      "Epoch 87/200\n",
      "5910/5910 [==============================] - 0s 6us/sample - loss: 86.5843 - categorical_accuracy: 0.5294 - val_loss: 86.5151 - val_categorical_accuracy: 0.5995\n",
      "Epoch 88/200\n",
      "5910/5910 [==============================] - 0s 6us/sample - loss: 86.5670 - categorical_accuracy: 0.5303 - val_loss: 86.4980 - val_categorical_accuracy: 0.5995\n",
      "Epoch 89/200\n",
      "5910/5910 [==============================] - 0s 6us/sample - loss: 86.5498 - categorical_accuracy: 0.5296 - val_loss: 86.4809 - val_categorical_accuracy: 0.6003\n",
      "Epoch 90/200\n",
      "5910/5910 [==============================] - 0s 7us/sample - loss: 86.5326 - categorical_accuracy: 0.5299 - val_loss: 86.4642 - val_categorical_accuracy: 0.5995\n",
      "Epoch 91/200\n",
      "5910/5910 [==============================] - 0s 6us/sample - loss: 86.5154 - categorical_accuracy: 0.5294 - val_loss: 86.4469 - val_categorical_accuracy: 0.5995\n",
      "Epoch 92/200\n",
      "5910/5910 [==============================] - 0s 6us/sample - loss: 86.4982 - categorical_accuracy: 0.5299 - val_loss: 86.4293 - val_categorical_accuracy: 0.6003\n",
      "Epoch 93/200\n",
      "5910/5910 [==============================] - 0s 7us/sample - loss: 86.4810 - categorical_accuracy: 0.5301 - val_loss: 86.4120 - val_categorical_accuracy: 0.6003\n",
      "Epoch 94/200\n",
      "5910/5910 [==============================] - 0s 6us/sample - loss: 86.4638 - categorical_accuracy: 0.5298 - val_loss: 86.3948 - val_categorical_accuracy: 0.6003\n",
      "Epoch 95/200\n",
      "5910/5910 [==============================] - 0s 7us/sample - loss: 86.4466 - categorical_accuracy: 0.5294 - val_loss: 86.3772 - val_categorical_accuracy: 0.5995\n",
      "Epoch 96/200\n",
      "5910/5910 [==============================] - 0s 6us/sample - loss: 86.4294 - categorical_accuracy: 0.5299 - val_loss: 86.3607 - val_categorical_accuracy: 0.5995\n",
      "Epoch 97/200\n",
      "5910/5910 [==============================] - 0s 7us/sample - loss: 86.4122 - categorical_accuracy: 0.5301 - val_loss: 86.3436 - val_categorical_accuracy: 0.6011\n",
      "Epoch 98/200\n",
      "5910/5910 [==============================] - 0s 6us/sample - loss: 86.3950 - categorical_accuracy: 0.5299 - val_loss: 86.3273 - val_categorical_accuracy: 0.6003\n",
      "Epoch 99/200\n",
      "5910/5910 [==============================] - 0s 7us/sample - loss: 86.3778 - categorical_accuracy: 0.5305 - val_loss: 86.3095 - val_categorical_accuracy: 0.6003\n",
      "Epoch 100/200\n",
      "5910/5910 [==============================] - 0s 6us/sample - loss: 86.3606 - categorical_accuracy: 0.5301 - val_loss: 86.2928 - val_categorical_accuracy: 0.6019\n",
      "Epoch 101/200\n",
      "5910/5910 [==============================] - 0s 7us/sample - loss: 86.3434 - categorical_accuracy: 0.5313 - val_loss: 86.2746 - val_categorical_accuracy: 0.6003\n",
      "Epoch 102/200\n",
      "5910/5910 [==============================] - 0s 6us/sample - loss: 86.3262 - categorical_accuracy: 0.5303 - val_loss: 86.2572 - val_categorical_accuracy: 0.6011\n",
      "Epoch 103/200\n",
      "5910/5910 [==============================] - 0s 7us/sample - loss: 86.3091 - categorical_accuracy: 0.5305 - val_loss: 86.2403 - val_categorical_accuracy: 0.6011\n",
      "Epoch 104/200\n",
      "5910/5910 [==============================] - 0s 7us/sample - loss: 86.2919 - categorical_accuracy: 0.5316 - val_loss: 86.2232 - val_categorical_accuracy: 0.6011\n",
      "Epoch 105/200\n",
      "5910/5910 [==============================] - 0s 7us/sample - loss: 86.2747 - categorical_accuracy: 0.5315 - val_loss: 86.2056 - val_categorical_accuracy: 0.6011\n",
      "Epoch 106/200\n",
      "5910/5910 [==============================] - 0s 7us/sample - loss: 86.2576 - categorical_accuracy: 0.5316 - val_loss: 86.1885 - val_categorical_accuracy: 0.6019\n",
      "Epoch 107/200\n",
      "5910/5910 [==============================] - 0s 7us/sample - loss: 86.2404 - categorical_accuracy: 0.5315 - val_loss: 86.1711 - val_categorical_accuracy: 0.6011\n",
      "Epoch 108/200\n",
      "5910/5910 [==============================] - 0s 7us/sample - loss: 86.2233 - categorical_accuracy: 0.5318 - val_loss: 86.1547 - val_categorical_accuracy: 0.6011\n",
      "Epoch 109/200\n",
      "5910/5910 [==============================] - 0s 7us/sample - loss: 86.2061 - categorical_accuracy: 0.5315 - val_loss: 86.1383 - val_categorical_accuracy: 0.6003\n",
      "Epoch 110/200\n",
      "5910/5910 [==============================] - 0s 6us/sample - loss: 86.1890 - categorical_accuracy: 0.5318 - val_loss: 86.1213 - val_categorical_accuracy: 0.6011\n",
      "Epoch 111/200\n",
      "5910/5910 [==============================] - 0s 6us/sample - loss: 86.1718 - categorical_accuracy: 0.5321 - val_loss: 86.1037 - val_categorical_accuracy: 0.6003\n",
      "Epoch 112/200\n",
      "5910/5910 [==============================] - 0s 7us/sample - loss: 86.1547 - categorical_accuracy: 0.5323 - val_loss: 86.0869 - val_categorical_accuracy: 0.6011\n",
      "Epoch 113/200\n",
      "5910/5910 [==============================] - 0s 7us/sample - loss: 86.1375 - categorical_accuracy: 0.5318 - val_loss: 86.0704 - val_categorical_accuracy: 0.6019\n",
      "Epoch 114/200\n",
      "5910/5910 [==============================] - 0s 7us/sample - loss: 86.1204 - categorical_accuracy: 0.5325 - val_loss: 86.0532 - val_categorical_accuracy: 0.6019\n",
      "Epoch 115/200\n",
      "5910/5910 [==============================] - 0s 6us/sample - loss: 86.1033 - categorical_accuracy: 0.5316 - val_loss: 86.0364 - val_categorical_accuracy: 0.6051\n",
      "Epoch 116/200\n",
      "5910/5910 [==============================] - 0s 6us/sample - loss: 86.0862 - categorical_accuracy: 0.5330 - val_loss: 86.0188 - val_categorical_accuracy: 0.6027\n",
      "Epoch 117/200\n",
      "5910/5910 [==============================] - 0s 7us/sample - loss: 86.0691 - categorical_accuracy: 0.5321 - val_loss: 86.0008 - val_categorical_accuracy: 0.6011\n",
      "Epoch 118/200\n",
      "5910/5910 [==============================] - 0s 7us/sample - loss: 86.0519 - categorical_accuracy: 0.5321 - val_loss: 85.9826 - val_categorical_accuracy: 0.6003\n",
      "Epoch 119/200\n",
      "5910/5910 [==============================] - 0s 7us/sample - loss: 86.0349 - categorical_accuracy: 0.5323 - val_loss: 85.9661 - val_categorical_accuracy: 0.6011\n",
      "Epoch 120/200\n",
      "5910/5910 [==============================] - 0s 7us/sample - loss: 86.0177 - categorical_accuracy: 0.5318 - val_loss: 85.9492 - val_categorical_accuracy: 0.6011\n",
      "Epoch 121/200\n",
      "5910/5910 [==============================] - 0s 7us/sample - loss: 86.0007 - categorical_accuracy: 0.5318 - val_loss: 85.9322 - val_categorical_accuracy: 0.6011\n",
      "Epoch 122/200\n",
      "5910/5910 [==============================] - 0s 6us/sample - loss: 85.9836 - categorical_accuracy: 0.5321 - val_loss: 85.9153 - val_categorical_accuracy: 0.6011\n",
      "Epoch 123/200\n",
      "5910/5910 [==============================] - 0s 7us/sample - loss: 85.9665 - categorical_accuracy: 0.5316 - val_loss: 85.8984 - val_categorical_accuracy: 0.6027\n",
      "Epoch 124/200\n",
      "5910/5910 [==============================] - 0s 7us/sample - loss: 85.9494 - categorical_accuracy: 0.5330 - val_loss: 85.8816 - val_categorical_accuracy: 0.6035\n",
      "Epoch 125/200\n",
      "5910/5910 [==============================] - 0s 7us/sample - loss: 85.9323 - categorical_accuracy: 0.5327 - val_loss: 85.8649 - val_categorical_accuracy: 0.6035\n",
      "Epoch 126/200\n",
      "5910/5910 [==============================] - 0s 7us/sample - loss: 85.9152 - categorical_accuracy: 0.5321 - val_loss: 85.8483 - val_categorical_accuracy: 0.6035\n",
      "Epoch 127/200\n",
      "5910/5910 [==============================] - 0s 6us/sample - loss: 85.8981 - categorical_accuracy: 0.5328 - val_loss: 85.8314 - val_categorical_accuracy: 0.6043\n",
      "Epoch 128/200\n",
      "5910/5910 [==============================] - 0s 7us/sample - loss: 85.8810 - categorical_accuracy: 0.5328 - val_loss: 85.8139 - val_categorical_accuracy: 0.6043\n",
      "Epoch 129/200\n",
      "5910/5910 [==============================] - 0s 7us/sample - loss: 85.8640 - categorical_accuracy: 0.5333 - val_loss: 85.7969 - val_categorical_accuracy: 0.6043\n",
      "Epoch 130/200\n",
      "5910/5910 [==============================] - 0s 7us/sample - loss: 85.8469 - categorical_accuracy: 0.5340 - val_loss: 85.7798 - val_categorical_accuracy: 0.6043\n",
      "Epoch 131/200\n",
      "5910/5910 [==============================] - 0s 7us/sample - loss: 85.8298 - categorical_accuracy: 0.5340 - val_loss: 85.7624 - val_categorical_accuracy: 0.6043\n",
      "Epoch 132/200\n",
      "5910/5910 [==============================] - 0s 7us/sample - loss: 85.8128 - categorical_accuracy: 0.5335 - val_loss: 85.7451 - val_categorical_accuracy: 0.6043\n",
      "Epoch 133/200\n",
      "5910/5910 [==============================] - 0s 6us/sample - loss: 85.7957 - categorical_accuracy: 0.5325 - val_loss: 85.7287 - val_categorical_accuracy: 0.6043\n",
      "Epoch 134/200\n",
      "5910/5910 [==============================] - 0s 6us/sample - loss: 85.7787 - categorical_accuracy: 0.5328 - val_loss: 85.7122 - val_categorical_accuracy: 0.6051\n",
      "Epoch 135/200\n",
      "5910/5910 [==============================] - 0s 6us/sample - loss: 85.7617 - categorical_accuracy: 0.5340 - val_loss: 85.6960 - val_categorical_accuracy: 0.6043\n",
      "Epoch 136/200\n",
      "5910/5910 [==============================] - 0s 7us/sample - loss: 85.7446 - categorical_accuracy: 0.5352 - val_loss: 85.6789 - val_categorical_accuracy: 0.6043\n",
      "Epoch 137/200\n",
      "5910/5910 [==============================] - 0s 7us/sample - loss: 85.7276 - categorical_accuracy: 0.5357 - val_loss: 85.6620 - val_categorical_accuracy: 0.6035\n",
      "Epoch 138/200\n",
      "5910/5910 [==============================] - 0s 7us/sample - loss: 85.7106 - categorical_accuracy: 0.5357 - val_loss: 85.6448 - val_categorical_accuracy: 0.6019\n",
      "Epoch 139/200\n",
      "5910/5910 [==============================] - 0s 6us/sample - loss: 85.6935 - categorical_accuracy: 0.5364 - val_loss: 85.6275 - val_categorical_accuracy: 0.6035\n",
      "Epoch 140/200\n",
      "5910/5910 [==============================] - 0s 6us/sample - loss: 85.6765 - categorical_accuracy: 0.5359 - val_loss: 85.6098 - val_categorical_accuracy: 0.6043\n",
      "Epoch 141/200\n",
      "5910/5910 [==============================] - 0s 6us/sample - loss: 85.6595 - categorical_accuracy: 0.5357 - val_loss: 85.5928 - val_categorical_accuracy: 0.6043\n",
      "Epoch 142/200\n",
      "5910/5910 [==============================] - 0s 6us/sample - loss: 85.6425 - categorical_accuracy: 0.5352 - val_loss: 85.5756 - val_categorical_accuracy: 0.6035\n",
      "Epoch 143/200\n",
      "5910/5910 [==============================] - 0s 7us/sample - loss: 85.6254 - categorical_accuracy: 0.5360 - val_loss: 85.5592 - val_categorical_accuracy: 0.6019\n",
      "Epoch 144/200\n",
      "5910/5910 [==============================] - 0s 7us/sample - loss: 85.6084 - categorical_accuracy: 0.5362 - val_loss: 85.5425 - val_categorical_accuracy: 0.6027\n",
      "Epoch 145/200\n",
      "5910/5910 [==============================] - 0s 6us/sample - loss: 85.5915 - categorical_accuracy: 0.5364 - val_loss: 85.5256 - val_categorical_accuracy: 0.6027\n",
      "Epoch 146/200\n",
      "5910/5910 [==============================] - 0s 6us/sample - loss: 85.5744 - categorical_accuracy: 0.5367 - val_loss: 85.5086 - val_categorical_accuracy: 0.6027\n",
      "Epoch 147/200\n",
      "5910/5910 [==============================] - 0s 6us/sample - loss: 85.5575 - categorical_accuracy: 0.5367 - val_loss: 85.4918 - val_categorical_accuracy: 0.6019\n",
      "Epoch 148/200\n",
      "5910/5910 [==============================] - 0s 6us/sample - loss: 85.5405 - categorical_accuracy: 0.5372 - val_loss: 85.4748 - val_categorical_accuracy: 0.6019\n",
      "Epoch 149/200\n",
      "5910/5910 [==============================] - 0s 6us/sample - loss: 85.5234 - categorical_accuracy: 0.5376 - val_loss: 85.4577 - val_categorical_accuracy: 0.6011\n",
      "Epoch 150/200\n",
      "5910/5910 [==============================] - 0s 6us/sample - loss: 85.5065 - categorical_accuracy: 0.5376 - val_loss: 85.4408 - val_categorical_accuracy: 0.6003\n",
      "Epoch 151/200\n",
      "5910/5910 [==============================] - 0s 6us/sample - loss: 85.4895 - categorical_accuracy: 0.5371 - val_loss: 85.4235 - val_categorical_accuracy: 0.6019\n",
      "Epoch 152/200\n",
      "5910/5910 [==============================] - 0s 6us/sample - loss: 85.4725 - categorical_accuracy: 0.5376 - val_loss: 85.4063 - val_categorical_accuracy: 0.6019\n",
      "Epoch 153/200\n",
      "5910/5910 [==============================] - 0s 7us/sample - loss: 85.4555 - categorical_accuracy: 0.5376 - val_loss: 85.3896 - val_categorical_accuracy: 0.6011\n",
      "Epoch 154/200\n",
      "5910/5910 [==============================] - 0s 7us/sample - loss: 85.4385 - categorical_accuracy: 0.5374 - val_loss: 85.3729 - val_categorical_accuracy: 0.6003\n",
      "Epoch 155/200\n",
      "5910/5910 [==============================] - 0s 7us/sample - loss: 85.4216 - categorical_accuracy: 0.5367 - val_loss: 85.3567 - val_categorical_accuracy: 0.6003\n",
      "Epoch 156/200\n",
      "5910/5910 [==============================] - 0s 7us/sample - loss: 85.4046 - categorical_accuracy: 0.5367 - val_loss: 85.3398 - val_categorical_accuracy: 0.5995\n",
      "Epoch 157/200\n",
      "5910/5910 [==============================] - 0s 6us/sample - loss: 85.3877 - categorical_accuracy: 0.5371 - val_loss: 85.3232 - val_categorical_accuracy: 0.5995\n",
      "Epoch 158/200\n",
      "5910/5910 [==============================] - 0s 7us/sample - loss: 85.3707 - categorical_accuracy: 0.5369 - val_loss: 85.3060 - val_categorical_accuracy: 0.5995\n",
      "Epoch 159/200\n",
      "5910/5910 [==============================] - 0s 7us/sample - loss: 85.3538 - categorical_accuracy: 0.5367 - val_loss: 85.2890 - val_categorical_accuracy: 0.5995\n",
      "Epoch 160/200\n",
      "5910/5910 [==============================] - 0s 7us/sample - loss: 85.3368 - categorical_accuracy: 0.5369 - val_loss: 85.2720 - val_categorical_accuracy: 0.5995\n",
      "Epoch 161/200\n",
      "5910/5910 [==============================] - 0s 6us/sample - loss: 85.3199 - categorical_accuracy: 0.5369 - val_loss: 85.2552 - val_categorical_accuracy: 0.5995\n",
      "Epoch 162/200\n",
      "5910/5910 [==============================] - 0s 6us/sample - loss: 85.3029 - categorical_accuracy: 0.5367 - val_loss: 85.2385 - val_categorical_accuracy: 0.5987\n",
      "Epoch 163/200\n",
      "5910/5910 [==============================] - 0s 6us/sample - loss: 85.2860 - categorical_accuracy: 0.5384 - val_loss: 85.2206 - val_categorical_accuracy: 0.5995\n",
      "Epoch 164/200\n",
      "5910/5910 [==============================] - 0s 6us/sample - loss: 85.2690 - categorical_accuracy: 0.5371 - val_loss: 85.2035 - val_categorical_accuracy: 0.5987\n",
      "Epoch 165/200\n",
      "5910/5910 [==============================] - 0s 7us/sample - loss: 85.2521 - categorical_accuracy: 0.5384 - val_loss: 85.1870 - val_categorical_accuracy: 0.5995\n",
      "Epoch 166/200\n",
      "5910/5910 [==============================] - 0s 6us/sample - loss: 85.2351 - categorical_accuracy: 0.5381 - val_loss: 85.1697 - val_categorical_accuracy: 0.5995\n",
      "Epoch 167/200\n",
      "5910/5910 [==============================] - 0s 7us/sample - loss: 85.2182 - categorical_accuracy: 0.5382 - val_loss: 85.1527 - val_categorical_accuracy: 0.5995\n",
      "Epoch 168/200\n",
      "5910/5910 [==============================] - 0s 6us/sample - loss: 85.2013 - categorical_accuracy: 0.5389 - val_loss: 85.1355 - val_categorical_accuracy: 0.5995\n",
      "Epoch 169/200\n",
      "5910/5910 [==============================] - 0s 7us/sample - loss: 85.1844 - categorical_accuracy: 0.5389 - val_loss: 85.1183 - val_categorical_accuracy: 0.5987\n",
      "Epoch 170/200\n",
      "5910/5910 [==============================] - 0s 7us/sample - loss: 85.1674 - categorical_accuracy: 0.5382 - val_loss: 85.1020 - val_categorical_accuracy: 0.5979\n",
      "Epoch 171/200\n",
      "5910/5910 [==============================] - 0s 7us/sample - loss: 85.1505 - categorical_accuracy: 0.5384 - val_loss: 85.0854 - val_categorical_accuracy: 0.5987\n",
      "Epoch 172/200\n",
      "5910/5910 [==============================] - 0s 7us/sample - loss: 85.1336 - categorical_accuracy: 0.5384 - val_loss: 85.0682 - val_categorical_accuracy: 0.5987\n",
      "Epoch 173/200\n",
      "5910/5910 [==============================] - 0s 7us/sample - loss: 85.1167 - categorical_accuracy: 0.5382 - val_loss: 85.0521 - val_categorical_accuracy: 0.5995\n",
      "Epoch 174/200\n",
      "5910/5910 [==============================] - 0s 7us/sample - loss: 85.0998 - categorical_accuracy: 0.5389 - val_loss: 85.0349 - val_categorical_accuracy: 0.5995\n",
      "Epoch 175/200\n",
      "5910/5910 [==============================] - 0s 6us/sample - loss: 85.0829 - categorical_accuracy: 0.5386 - val_loss: 85.0172 - val_categorical_accuracy: 0.5979\n",
      "Epoch 176/200\n",
      "5910/5910 [==============================] - 0s 6us/sample - loss: 85.0660 - categorical_accuracy: 0.5384 - val_loss: 85.0004 - val_categorical_accuracy: 0.5995\n",
      "Epoch 177/200\n",
      "5910/5910 [==============================] - 0s 6us/sample - loss: 85.0491 - categorical_accuracy: 0.5389 - val_loss: 84.9837 - val_categorical_accuracy: 0.5995\n",
      "Epoch 178/200\n",
      "5910/5910 [==============================] - 0s 6us/sample - loss: 85.0322 - categorical_accuracy: 0.5387 - val_loss: 84.9673 - val_categorical_accuracy: 0.5995\n",
      "Epoch 179/200\n",
      "5910/5910 [==============================] - 0s 6us/sample - loss: 85.0153 - categorical_accuracy: 0.5386 - val_loss: 84.9503 - val_categorical_accuracy: 0.5995\n",
      "Epoch 180/200\n",
      "5910/5910 [==============================] - 0s 7us/sample - loss: 84.9984 - categorical_accuracy: 0.5386 - val_loss: 84.9344 - val_categorical_accuracy: 0.5995\n",
      "Epoch 181/200\n",
      "5910/5910 [==============================] - 0s 7us/sample - loss: 84.9816 - categorical_accuracy: 0.5389 - val_loss: 84.9185 - val_categorical_accuracy: 0.5987\n",
      "Epoch 182/200\n",
      "5910/5910 [==============================] - 0s 7us/sample - loss: 84.9648 - categorical_accuracy: 0.5387 - val_loss: 84.9026 - val_categorical_accuracy: 0.5995\n",
      "Epoch 183/200\n",
      "5910/5910 [==============================] - 0s 7us/sample - loss: 84.9479 - categorical_accuracy: 0.5382 - val_loss: 84.8859 - val_categorical_accuracy: 0.6003\n",
      "Epoch 184/200\n",
      "5910/5910 [==============================] - 0s 7us/sample - loss: 84.9311 - categorical_accuracy: 0.5389 - val_loss: 84.8688 - val_categorical_accuracy: 0.5995\n",
      "Epoch 185/200\n",
      "5910/5910 [==============================] - 0s 7us/sample - loss: 84.9142 - categorical_accuracy: 0.5382 - val_loss: 84.8513 - val_categorical_accuracy: 0.5995\n",
      "Epoch 186/200\n",
      "5910/5910 [==============================] - 0s 7us/sample - loss: 84.8973 - categorical_accuracy: 0.5384 - val_loss: 84.8338 - val_categorical_accuracy: 0.5987\n",
      "Epoch 187/200\n",
      "5910/5910 [==============================] - 0s 7us/sample - loss: 84.8804 - categorical_accuracy: 0.5384 - val_loss: 84.8162 - val_categorical_accuracy: 0.5987\n",
      "Epoch 188/200\n",
      "5910/5910 [==============================] - 0s 7us/sample - loss: 84.8635 - categorical_accuracy: 0.5382 - val_loss: 84.7992 - val_categorical_accuracy: 0.5995\n",
      "Epoch 189/200\n",
      "5910/5910 [==============================] - 0s 7us/sample - loss: 84.8467 - categorical_accuracy: 0.5382 - val_loss: 84.7821 - val_categorical_accuracy: 0.5995\n",
      "Epoch 190/200\n",
      "5910/5910 [==============================] - 0s 7us/sample - loss: 84.8298 - categorical_accuracy: 0.5387 - val_loss: 84.7651 - val_categorical_accuracy: 0.6003\n",
      "Epoch 191/200\n",
      "5910/5910 [==============================] - 0s 6us/sample - loss: 84.8130 - categorical_accuracy: 0.5389 - val_loss: 84.7481 - val_categorical_accuracy: 0.6003\n",
      "Epoch 192/200\n",
      "5910/5910 [==============================] - 0s 7us/sample - loss: 84.7962 - categorical_accuracy: 0.5389 - val_loss: 84.7317 - val_categorical_accuracy: 0.6003\n",
      "Epoch 193/200\n",
      "5910/5910 [==============================] - 0s 7us/sample - loss: 84.7793 - categorical_accuracy: 0.5389 - val_loss: 84.7147 - val_categorical_accuracy: 0.6003\n",
      "Epoch 194/200\n",
      "5910/5910 [==============================] - 0s 7us/sample - loss: 84.7625 - categorical_accuracy: 0.5391 - val_loss: 84.6981 - val_categorical_accuracy: 0.6011\n",
      "Epoch 195/200\n",
      "5910/5910 [==============================] - 0s 6us/sample - loss: 84.7456 - categorical_accuracy: 0.5394 - val_loss: 84.6812 - val_categorical_accuracy: 0.6011\n",
      "Epoch 196/200\n",
      "5910/5910 [==============================] - 0s 7us/sample - loss: 84.7288 - categorical_accuracy: 0.5389 - val_loss: 84.6646 - val_categorical_accuracy: 0.6011\n",
      "Epoch 197/200\n",
      "5910/5910 [==============================] - 0s 7us/sample - loss: 84.7120 - categorical_accuracy: 0.5394 - val_loss: 84.6476 - val_categorical_accuracy: 0.6011\n",
      "Epoch 198/200\n",
      "5910/5910 [==============================] - 0s 7us/sample - loss: 84.6952 - categorical_accuracy: 0.5403 - val_loss: 84.6300 - val_categorical_accuracy: 0.6011\n",
      "Epoch 199/200\n",
      "5910/5910 [==============================] - 0s 7us/sample - loss: 84.6783 - categorical_accuracy: 0.5396 - val_loss: 84.6134 - val_categorical_accuracy: 0.6011\n",
      "Epoch 200/200\n",
      "5910/5910 [==============================] - 0s 6us/sample - loss: 84.6615 - categorical_accuracy: 0.5401 - val_loss: 84.5969 - val_categorical_accuracy: 0.6011\n"
     ]
    },
    {
     "data": {
      "text/plain": [
       "<keras.src.callbacks.History at 0x7f81cc802e30>"
      ]
     },
     "execution_count": 231,
     "metadata": {},
     "output_type": "execute_result"
    }
   ],
   "source": [
    "model.fit(X_train, Y_train, validation_data=(X_validation, Y_validation),\n",
    "          batch_size=batch_size, epochs=epochs, shuffle=shuffle,class_weight = class_weight)"
   ]
  },
  {
   "cell_type": "code",
   "execution_count": 232,
   "id": "0449d92b-f742-4e01-a79a-d67f7c2e41a6",
   "metadata": {},
   "outputs": [
    {
     "name": "stderr",
     "output_type": "stream",
     "text": [
      "2024-11-11 21:39:34.105549: W tensorflow/c/c_api.cc:305] Operation '{name:'dense_188/Softmax' id:21535 op device:{requested: '', assigned: ''} def:{{{node dense_188/Softmax}} = Softmax[T=DT_FLOAT, _has_manual_control_dependencies=true](dense_188/BiasAdd)}}' was changed by setting attribute after it was run by a session. This mutation will have no effect, and will trigger an error in the future. Either don't modify nodes after running them or create a new session.\n"
     ]
    }
   ],
   "source": [
    "train_loss=model.history.history['loss']\n",
    "val_loss=model.history.history['val_loss']\n",
    "    \n",
    "cat_acc=model.history.history['categorical_accuracy']\n",
    "val_acc=model.history.history['val_categorical_accuracy']\n",
    "        \n",
    "pred = model.predict(X_all)\n",
    "pred_val = model.predict(X_validation)\n",
    "pred_train = model.predict(X_train)\n",
    "pred_test = model.predict(X_test)"
   ]
  },
  {
   "cell_type": "code",
   "execution_count": 233,
   "id": "8a7ef8db-8dde-45dc-89b3-58dcc6c72a28",
   "metadata": {},
   "outputs": [
    {
     "data": {
      "text/plain": [
       "<bound method Axes.legend of <Axes: title={'center': 'Accuracy'}, xlabel='Epoch', ylabel='Acc'>>"
      ]
     },
     "execution_count": 233,
     "metadata": {},
     "output_type": "execute_result"
    },
    {
     "data": {
      "image/png": "[encoded data removed]",
      "text/plain": [
       "<Figure size 1600x400 with 2 Axes>"
      ]
     },
     "metadata": {},
     "output_type": "display_data"
    }
   ],
   "source": [
    "# Look at the optimization history\n",
    "fig, (ax1,ax2) = plt.subplots(1,2, figsize=plt.figaspect(0.25))\n",
    "ax1.plot(train_loss, label='Training loss')\n",
    "ax1.plot(val_loss, label='Validation loss')\n",
    "ax1.set_yscale('log')\n",
    "ax1.set_title('loss')\n",
    "ax1.set_xlabel('Epoch')\n",
    "ax1.set_ylabel('loss')\n",
    "ax1.legend()\n",
    "\n",
    "ax2.plot(cat_acc, label='Training ACC')\n",
    "ax2.plot(val_acc, label='Validation ACC')\n",
    "ax2.set_title('Accuracy')\n",
    "ax2.set_xlabel('Epoch')\n",
    "ax2.set_ylabel('Acc')\n",
    "ax2.legend"
   ]
  },
  {
   "cell_type": "markdown",
   "id": "a879115f-2597-4bc3-acda-dc62466d9127",
   "metadata": {},
   "source": [
    "### This is pretty much where I decided that I am preprocessing incorrectly. "
   ]
  },
  {
   "cell_type": "code",
   "execution_count": null,
   "id": "b8bc148f-8183-42ee-a6ef-ab02894bf6d2",
   "metadata": {},
   "outputs": [],
   "source": []
  },
  {
   "cell_type": "code",
   "execution_count": null,
   "id": "575bcbf6-b7fa-40e2-8a33-0ac49ac9274c",
   "metadata": {},
   "outputs": [],
   "source": []
  }
 ],
 "metadata": {
  "kernelspec": {
   "display_name": "Python 3 (ipykernel)",
   "language": "python",
   "name": "python3"
  },
  "language_info": {
   "codemirror_mode": {
    "name": "ipython",
    "version": 3
   },
   "file_extension": ".py",
   "mimetype": "text/x-python",
   "name": "python",
   "nbconvert_exporter": "python",
   "pygments_lexer": "ipython3",
   "version": "3.11.7"
  }
 },
 "nbformat": 4,
 "nbformat_minor": 5
}
