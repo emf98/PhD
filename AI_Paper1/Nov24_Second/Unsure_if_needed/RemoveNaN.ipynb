{
 "cells": [
  {
   "cell_type": "markdown",
   "id": "67fd5b1e-0b00-492e-ac01-24badd089a16",
   "metadata": {},
   "source": [
    "### Remove NaN values from ellipse arrays and across... all others"
   ]
  },
  {
   "cell_type": "code",
   "execution_count": 1,
   "id": "9b24cb04-df99-4964-9a4c-02115c348e98",
   "metadata": {},
   "outputs": [],
   "source": [
    "#relevant import statements\n",
    "import numpy as np\n",
    "import math\n",
    "import xarray as xr \n",
    "import pickle \n",
    "import matplotlib.pyplot as plt"
   ]
  },
  {
   "cell_type": "code",
   "execution_count": 2,
   "id": "b7643d7b-eb4a-4dc1-a8f6-addd2660ae37",
   "metadata": {},
   "outputs": [],
   "source": [
    "infile = open(\"./Updated_Diags/two_wind_1959.p\", 'rb') \n",
    "wind10 = pickle.load(infile)\n",
    "infile.close()\n",
    "\n",
    "infile = open(\"./Updated_Diags/two_size_1959.p\", 'rb') \n",
    "size10 = pickle.load(infile)\n",
    "infile.close()\n",
    "\n",
    "infile = open(\"./Updated_Diags/two_ratio_1959.p\", 'rb') \n",
    "rat10 = pickle.load(infile)\n",
    "infile.close()\n",
    "\n",
    "infile = open(\"./Updated_Diags/two_ephi_1959.p\", 'rb') \n",
    "ephi10 = pickle.load(infile)\n",
    "infile.close()\n",
    "\n",
    "infile = open(\"./Updated_Diags/two_cenlat_1959.p\", 'rb')\n",
    "cenlat10 = pickle.load(infile)\n",
    "infile.close()\n",
    "\n",
    "infile = open(\"./Updated_Diags/two_cenlon_1959.p\", 'rb') \n",
    "cenlon10 = pickle.load(infile)\n",
    "infile.close()\n",
    "\n",
    "infile = open(\"./Updated_Diags/number_1959.p\", 'rb') \n",
    "number = pickle.load(infile)\n",
    "infile.close()"
   ]
  },
  {
   "cell_type": "code",
   "execution_count": 3,
   "id": "60fe4141-f708-486d-9d06-75b8f86edd0e",
   "metadata": {},
   "outputs": [],
   "source": [
    "##the updated diagnostics I have included already do not have the NaN\n",
    "##cap (60-90N) gph anom at 1000hPa\n",
    "infile = open(\"./1959_Data/ANOM_weighted_capgph1959.p\", 'rb') \n",
    "gph = pickle.load(infile)\n",
    "infile.close()\n",
    "#gph = gph.flatten()\n",
    "\n",
    "#eddy-heat flux anonym MDTF at 100hPa \n",
    "infile = open(\"./1959_Data/1959ZMeddyheatflux.p\", 'rb') \n",
    "ehf100 = pickle.load(infile)\n",
    "infile.close()"
   ]
  },
  {
   "cell_type": "code",
   "execution_count": 4,
   "id": "e373b398-8191-422f-922a-0b77bf2c361b",
   "metadata": {},
   "outputs": [],
   "source": [
    "#temperature\n",
    "infile = open(\"./1959_Data/1959weightedANOMcap_temp1000.p\", 'rb') \n",
    "tem = pickle.load(infile)\n",
    "infile.close()"
   ]
  },
  {
   "cell_type": "code",
   "execution_count": 5,
   "id": "16b1bb0c-664b-4a58-a466-6ab08da57c46",
   "metadata": {
    "scrolled": true
   },
   "outputs": [
    {
     "name": "stdout",
     "output_type": "stream",
     "text": [
      "[[ 0.84510799  0.16259521  0.62068513 ... -2.09735879 -2.54112754\n",
      "  -5.17789961]\n",
      " [-1.22130547 -1.61203358 -1.85608613 ... -0.78849965  0.19817062\n",
      "   1.65572136]\n",
      " [ 0.48440118  0.63073198  0.01563269 ... -0.49016009 -1.23579774\n",
      "  -1.2685087 ]\n",
      " ...\n",
      " [ 2.07141597  1.76081996  1.78770518 ...  1.59570385  1.36545025\n",
      "  -0.92567537]\n",
      " [ 2.66224066  3.53802092  3.41972637 ...  0.35781873  0.67224284\n",
      "   4.55763163]\n",
      " [ 3.38631146  3.8503233   3.62440442 ...  2.09965917  1.22282251\n",
      "   3.63487312]]\n"
     ]
    }
   ],
   "source": [
    "print(tem)"
   ]
  },
  {
   "cell_type": "code",
   "execution_count": 6,
   "id": "35ba349f-4a33-4ddc-b478-2429ec6473d4",
   "metadata": {},
   "outputs": [
    {
     "name": "stdout",
     "output_type": "stream",
     "text": [
      "(63, 152)\n"
     ]
    }
   ],
   "source": [
    "print(tem.shape)"
   ]
  },
  {
   "cell_type": "code",
   "execution_count": 7,
   "id": "7e29d71c-2f27-4ab0-9ce3-e56fe3dd5583",
   "metadata": {},
   "outputs": [
    {
     "data": {
      "text/plain": [
       "(64, 151)"
      ]
     },
     "execution_count": 7,
     "metadata": {},
     "output_type": "execute_result"
    }
   ],
   "source": [
    "wind10.shape"
   ]
  },
  {
   "cell_type": "code",
   "execution_count": 8,
   "id": "86e02cd2-945a-4c45-91ff-cb50825a5d1b",
   "metadata": {},
   "outputs": [],
   "source": [
    "#remove repeat year\n",
    "wind10 = np.delete(wind10,[20],0)\n",
    "rat10 = np.delete(rat10,[20],0)\n",
    "cenlat10 = np.delete(cenlat10,[20],0)\n",
    "cenlon10 = np.delete(cenlon10,[20],0)\n",
    "size10 = np.delete(size10,[20],0)\n",
    "ephi10 = np.delete(ephi10,[20],0)\n",
    "number = np.delete(number,[20],0)"
   ]
  },
  {
   "cell_type": "code",
   "execution_count": 9,
   "id": "8c0cf126-690a-41f4-a0d2-1f0a1cfd9a09",
   "metadata": {},
   "outputs": [
    {
     "data": {
      "text/plain": [
       "(63, 151)"
      ]
     },
     "execution_count": 9,
     "metadata": {},
     "output_type": "execute_result"
    }
   ],
   "source": [
    "tmp10 = np.delete(tem,[120],1)\n",
    "tmp10.shape"
   ]
  },
  {
   "cell_type": "code",
   "execution_count": 10,
   "id": "b39fec2c-b356-4f36-9604-93520fd68dca",
   "metadata": {},
   "outputs": [
    {
     "name": "stdout",
     "output_type": "stream",
     "text": [
      "(63, 152)\n",
      "(63, 152)\n"
     ]
    }
   ],
   "source": [
    "print(gph.shape)\n",
    "print(ehf100.shape)"
   ]
  },
  {
   "cell_type": "code",
   "execution_count": 11,
   "id": "4f3c2952-1f3a-47cd-a1cb-e6faf6dfc28c",
   "metadata": {},
   "outputs": [],
   "source": [
    "gph10 = np.delete(gph,[120],1)\n",
    "ehf100 = np.delete(ehf100,[120],1)"
   ]
  },
  {
   "cell_type": "code",
   "execution_count": 12,
   "id": "69dc9de9-2951-43c5-9da7-a3ee7d5e809f",
   "metadata": {},
   "outputs": [
    {
     "data": {
      "text/plain": [
       "(63, 151)"
      ]
     },
     "execution_count": 12,
     "metadata": {},
     "output_type": "execute_result"
    }
   ],
   "source": [
    "gph10.shape"
   ]
  },
  {
   "cell_type": "code",
   "execution_count": 13,
   "id": "fba91436-3099-4926-95dc-b73b9845fcfc",
   "metadata": {},
   "outputs": [
    {
     "data": {
      "text/plain": [
       "(63, 151)"
      ]
     },
     "execution_count": 13,
     "metadata": {},
     "output_type": "execute_result"
    }
   ],
   "source": [
    "wind10.shape"
   ]
  },
  {
   "cell_type": "code",
   "execution_count": 14,
   "id": "8293c1cf-5718-4625-834c-874fd77027c3",
   "metadata": {},
   "outputs": [
    {
     "data": {
      "text/plain": [
       "array([[-0.303509  , -0.02678579,  0.11233653, ...,  0.11258625,\n",
       "         0.22584324,  1.08283881],\n",
       "       [ 1.21309358,  1.24000612,  1.16447572, ...,         nan,\n",
       "                nan,         nan],\n",
       "       [ 0.73964842,  0.64214788,  0.72715346, ..., -1.95369342,\n",
       "        -1.87010718, -2.02547338],\n",
       "       ...,\n",
       "       [ 0.0706802 ,  0.11316178,  0.15959473, ..., -0.22470398,\n",
       "        -0.18686003, -0.02337274],\n",
       "       [ 0.75436331,  0.79068859,  0.84292268, ..., -1.1036246 ,\n",
       "        -0.0117907 ,  0.4207998 ],\n",
       "       [-0.8501336 , -0.65170377, -0.43942487, ..., -1.18203791,\n",
       "        -1.96131276,         nan]])"
      ]
     },
     "execution_count": 14,
     "metadata": {},
     "output_type": "execute_result"
    }
   ],
   "source": [
    "ep = (ephi10 - np.nanmean(ephi10)) /np.nanstd(ephi10)\n",
    "ep"
   ]
  },
  {
   "cell_type": "code",
   "execution_count": 18,
   "id": "fc620a19-3208-44c6-bd3a-0657cde5607b",
   "metadata": {},
   "outputs": [],
   "source": [
    "rt = rat10/np.nanstd(rat10)\n",
    "sz = size10/np.nanstd(size10)\n",
    "clt = cenlat10/np.nanstd(cenlat10)\n",
    "cln = cenlon10/np.nanstd(cenlon10)\n",
    "ehf = ehf100/np.nanstd(ehf100)\n",
    "wn = wind10/np.nanstd(wind10)\n",
    "gp = gph10/np.nanstd(gph10)"
   ]
  },
  {
   "cell_type": "code",
   "execution_count": 19,
   "id": "7b42d1be-fa2b-41cb-ad44-90e5d80aee94",
   "metadata": {},
   "outputs": [
    {
     "data": {
      "text/plain": [
       "array([[12.1490824 , 12.29680157, 12.75228455, ...,  9.68693486,\n",
       "         9.18473722, 10.16111044],\n",
       "       [11.00112834, 11.14455403, 11.25404425, ...,         nan,\n",
       "                nan,         nan],\n",
       "       [12.03378588, 12.20395942, 12.13711971, ..., 11.85200084,\n",
       "        11.75758457, 11.7520792 ],\n",
       "       ...,\n",
       "       [12.22302293, 12.06976172, 11.86548217, ..., 11.64785481,\n",
       "        12.12795337, 12.19885146],\n",
       "       [12.28791443, 12.46559008, 12.63603077, ..., 11.19395135,\n",
       "        11.14036901, 11.27075471],\n",
       "       [10.5804894 , 10.5617233 , 10.660848  , ...,  8.49698302,\n",
       "         8.27856801,         nan]])"
      ]
     },
     "execution_count": 19,
     "metadata": {},
     "output_type": "execute_result"
    }
   ],
   "source": [
    "clt"
   ]
  },
  {
   "cell_type": "code",
   "execution_count": 32,
   "id": "3ac837c9-1940-44b2-9cad-7b38e314db06",
   "metadata": {},
   "outputs": [],
   "source": [
    "indices = np.isnan(number)\n",
    "for i in range(0,63):\n",
    "    for j in range(0,151):\n",
    "        if indices[i,j] != False:\n",
    "            print(\"True\")\n",
    "\n",
    "indices = np.isnan(wn)\n",
    "for i in range(0,63):\n",
    "    for j in range(0,151):\n",
    "        if indices[i,j] != False:\n",
    "            print(i)\n",
    "            print(j)\n",
    "            print(\"True\")\n",
    "            wn[i,j] = 0"
   ]
  },
  {
   "cell_type": "code",
   "execution_count": null,
   "id": "ff98c709-5b6f-4895-93f1-8ce2ca01ac66",
   "metadata": {},
   "outputs": [],
   "source": [
    "tp = tmp10/np.nanstd(tmp10)"
   ]
  },
  {
   "cell_type": "code",
   "execution_count": 34,
   "id": "91ae908d-7a15-43ee-b2ca-e77a83ec0efd",
   "metadata": {},
   "outputs": [],
   "source": [
    "##export out NaN removed variables\n",
    "pickle.dump(ep, open(\"1959ephi10_NaN.p\", 'wb'))\n",
    "pickle.dump(rt, open(\"1959rat10_NaN.p\", 'wb'))\n",
    "pickle.dump(sz, open(\"1959size10_NaN.p\", 'wb')) \n",
    "pickle.dump(clt, open(\"1959cenlat10_NaN.p\", 'wb'))\n",
    "pickle.dump(cln, open(\"1959cenlon10_NaN.p\", 'wb')) \n",
    "pickle.dump(ehf, open(\"1959ehf100_NaN.p\", 'wb')) \n",
    "pickle.dump(wn, open(\"1959wind10_NaN.p\", 'wb'))\n",
    "pickle.dump(gp, open(\"1959gph10_NaN.p\", 'wb')) "
   ]
  },
  {
   "cell_type": "code",
   "execution_count": 7,
   "id": "3ff1e153-5780-4129-8ffe-80e8cd9a2056",
   "metadata": {},
   "outputs": [],
   "source": [
    "pickle.dump(tmp10, open(\"1959_capANOM_NaN.p\", 'wb'))"
   ]
  },
  {
   "cell_type": "code",
   "execution_count": null,
   "id": "45c4a59a-c0a3-4f82-af35-1a73ab6acc1b",
   "metadata": {},
   "outputs": [],
   "source": []
  }
 ],
 "metadata": {
  "kernelspec": {
   "display_name": "Python 3 August 2022 Environment",
   "language": "python",
   "name": "aug22"
  },
  "language_info": {
   "codemirror_mode": {
    "name": "ipython",
    "version": 3
   },
   "file_extension": ".py",
   "mimetype": "text/x-python",
   "name": "python",
   "nbconvert_exporter": "python",
   "pygments_lexer": "ipython3",
   "version": "3.10.5"
  }
 },
 "nbformat": 4,
 "nbformat_minor": 5
}
