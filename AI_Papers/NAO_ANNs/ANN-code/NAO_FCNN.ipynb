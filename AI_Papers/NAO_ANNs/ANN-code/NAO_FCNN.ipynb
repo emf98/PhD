{
 "cells": [
  {
   "cell_type": "raw",
   "id": "bf27de63-f531-47fe-90e0-6cfcbe99d3ec",
   "metadata": {
    "jupyter": {
     "source_hidden": true
    },
    "scrolled": true
   },
   "source": [
    "!pip install netCDF4\n",
    "!pip install cmocean\n",
    "!pip install investigate"
   ]
  },
  {
   "cell_type": "raw",
   "id": "f12f4f9f-e553-40a1-98d3-e799440452be",
   "metadata": {},
   "source": [
    "from comet_ml import Experiment\n",
    "experiment = Experiment(\n",
    "  api_key=\"UzloboNe4UsDg9WE6plFnbWqW\",\n",
    "  project_name=\"general\",\n",
    "  workspace=\"emf98\")"
   ]
  },
  {
   "cell_type": "markdown",
   "id": "794f892c-58bc-49e9-b009-8f83831cfb2c",
   "metadata": {},
   "source": [
    "#### The first two cells here are for additional imports on starting a new file in NVIDIA + my comet tracking initalization if I wish to use it."
   ]
  },
  {
   "cell_type": "code",
   "execution_count": 1,
   "id": "8a3a25aa-349e-44f1-b84a-1ecd1e2cfcdc",
   "metadata": {},
   "outputs": [],
   "source": [
    "##import the python functions from my NN file when I have one created and relevant\n",
    "\n",
    "##I am just going to throw that definition statement in later for the sake of editing"
   ]
  },
  {
   "cell_type": "markdown",
   "id": "97b97272-6203-4046-9616-1642be6816aa",
   "metadata": {},
   "source": [
    "#### These next three chunks are just a bunch of import statements."
   ]
  },
  {
   "cell_type": "code",
   "execution_count": 2,
   "id": "1c6a9159-890b-47f2-a080-f67b5e39f21c",
   "metadata": {
    "jupyter": {
     "source_hidden": true
    },
    "scrolled": true
   },
   "outputs": [
    {
     "name": "stderr",
     "output_type": "stream",
     "text": [
      "/tmp/ipykernel_1983059/3801934532.py:6: DeprecationWarning: \n",
      "Pyarrow will become a required dependency of pandas in the next major release of pandas (pandas 3.0),\n",
      "(to allow more performant data types, such as the Arrow string type, and better interoperability with other libraries)\n",
      "but was not found to be installed on your system.\n",
      "If this would cause problems for you,\n",
      "please provide us feedback at https://github.com/pandas-dev/pandas/issues/54466\n",
      "        \n",
      "  import pandas as pd\n"
     ]
    }
   ],
   "source": [
    "%matplotlib inline\n",
    "##so-called \"math\" related imports\n",
    "from netCDF4 import Dataset as ncread\n",
    "import numpy as np\n",
    "from scipy.io import loadmat\n",
    "import pandas as pd\n",
    "import h5py\n",
    "import math\n",
    "from random import seed\n",
    "from random import randint\n",
    "from random import sample\n",
    "from scipy.ndimage import gaussian_filter\n",
    "from sklearn.metrics import brier_score_loss\n",
    "import xarray as xr\n",
    "\n",
    "import pickle\n",
    "\n",
    "##plotting related imports\n",
    "import matplotlib.pyplot as plt\n",
    "from matplotlib import rcParams #For changing text properties\n",
    "import cmocean #A package with beautiful colormaps\n",
    "from cartopy import crs as ccrs #Useful for plotting maps\n",
    "import cartopy.util #Requires separate import\n",
    "from cartopy.util import add_cyclic_point\n",
    "import cartopy.feature as cf\n",
    "from cartopy.mpl.ticker import LongitudeFormatter, LatitudeFormatter\n",
    "import matplotlib.path as mpath\n",
    "import matplotlib.colors as mcolors"
   ]
  },
  {
   "cell_type": "code",
   "execution_count": 3,
   "id": "40dfe88c-378d-4367-a65a-c17eb283aaee",
   "metadata": {
    "jupyter": {
     "source_hidden": true
    }
   },
   "outputs": [
    {
     "name": "stderr",
     "output_type": "stream",
     "text": [
      "2024-11-18 23:54:50.988470: E tensorflow/compiler/xla/stream_executor/cuda/cuda_dnn.cc:9342] Unable to register cuDNN factory: Attempting to register factory for plugin cuDNN when one has already been registered\n",
      "2024-11-18 23:54:50.988543: E tensorflow/compiler/xla/stream_executor/cuda/cuda_fft.cc:609] Unable to register cuFFT factory: Attempting to register factory for plugin cuFFT when one has already been registered\n",
      "2024-11-18 23:54:50.988582: E tensorflow/compiler/xla/stream_executor/cuda/cuda_blas.cc:1518] Unable to register cuBLAS factory: Attempting to register factory for plugin cuBLAS when one has already been registered\n",
      "2024-11-18 23:54:50.995145: I tensorflow/core/platform/cpu_feature_guard.cc:182] This TensorFlow binary is optimized to use available CPU instructions in performance-critical operations.\n",
      "To enable the following instructions: AVX2 FMA, in other operations, rebuild TensorFlow with the appropriate compiler flags.\n"
     ]
    }
   ],
   "source": [
    "##import tensorflow/keras related files\n",
    "import tensorflow as tf    \n",
    "#tf.compat.v1.disable_v2_behavior() # <-- HERE !\n",
    "\n",
    "from tensorflow import keras\n",
    "from tensorflow.keras import layers, models\n",
    "from tensorflow.keras import Input\n",
    "from tensorflow.keras.models import Model\n",
    "from tensorflow.keras.callbacks import ModelCheckpoint\n",
    "from tensorflow.keras import regularizers\n",
    "import tensorflow.keras.backend as K\n",
    "from tensorflow.keras.utils import to_categorical\n",
    "from tensorflow.keras.layers import Dropout, Activation, Reshape, Flatten, LSTM, Dense, Dropout, Embedding, Bidirectional, GRU\n",
    "from tensorflow.keras import Sequential\n",
    "from tensorflow.keras import initializers, regularizers\n",
    "from tensorflow.keras import optimizers\n",
    "from tensorflow.keras import constraints\n",
    "from tensorflow.keras.layers import Layer, InputSpec\n",
    "from tensorflow.keras.callbacks import EarlyStopping"
   ]
  },
  {
   "cell_type": "code",
   "execution_count": 4,
   "id": "e393572f-b47e-46f6-8823-1470a09445f9",
   "metadata": {},
   "outputs": [],
   "source": [
    "tf.compat.v1.disable_eager_execution()\n",
    "import innvestigate\n",
    "import investigate"
   ]
  },
  {
   "cell_type": "markdown",
   "id": "b67968bc-fc14-4805-95dd-146548796c3e",
   "metadata": {},
   "source": [
    "#### Upload data. "
   ]
  },
  {
   "cell_type": "code",
   "execution_count": 5,
   "id": "0817c222-c32c-4c7f-8f91-6e0fa11ff89c",
   "metadata": {},
   "outputs": [],
   "source": [
    "#inputs\n",
    "infile = open(\"./data/ANN/1118_filtered_gph.p\", 'rb') \n",
    "input = pickle.load(infile)\n",
    "infile.close()\n",
    "\n",
    "#outputs\n",
    "infile = open(\"./data/ANN/med_class_filt.p\", 'rb')\n",
    "temp = pickle.load(infile)\n",
    "infile.close()\n",
    "#temp = temp.flatten()\n",
    "\n",
    "#climo\n",
    "#infile = open(\"./data/ANN/eur_climoprob_filt.p\", 'rb')\n",
    "#climo = pickle.load(infile)\n",
    "#infile.close()\n",
    "#temp = temp.flatten()"
   ]
  },
  {
   "cell_type": "code",
   "execution_count": 6,
   "id": "cd3a8f58-74a4-4111-95c2-c99a575b07a8",
   "metadata": {},
   "outputs": [
    {
     "data": {
      "text/plain": [
       "(63, 151, 21, 37)"
      ]
     },
     "execution_count": 6,
     "metadata": {},
     "output_type": "execute_result"
    }
   ],
   "source": [
    "##input shape (samples, lat, lon), these will be different from the output\n",
    "input.shape"
   ]
  },
  {
   "cell_type": "code",
   "execution_count": 7,
   "id": "88f33e9e-b40b-42c1-83cd-79db9c326e52",
   "metadata": {},
   "outputs": [],
   "source": [
    "input = input.reshape(9513,777)"
   ]
  },
  {
   "cell_type": "code",
   "execution_count": 8,
   "id": "2c7069d3-7e0f-498b-b5fb-855f9d28f335",
   "metadata": {},
   "outputs": [
    {
     "data": {
      "text/plain": [
       "(9513,)"
      ]
     },
     "execution_count": 8,
     "metadata": {},
     "output_type": "execute_result"
    }
   ],
   "source": [
    "##output shape (samples, lat, lon), these will be different from the input\n",
    "temp.shape"
   ]
  },
  {
   "cell_type": "code",
   "execution_count": 9,
   "id": "46f1d582-c04a-4216-b229-bdcd632fa465",
   "metadata": {
    "scrolled": true
   },
   "outputs": [],
   "source": [
    "##Set X_all and Y_all datasets\n",
    "X_all = np.copy(input)\n",
    "Y_all = np.copy(temp)\n",
    "\n",
    "##training data partition out\n",
    "X_tri = X_all[:8909,:]\n",
    "Y_tri = Y_all[:8909]\n",
    "\n",
    "#testing data partition out\n",
    "X_tes = X_all[8909:,:]\n",
    "Y_tes = Y_all[8909:]\n",
    "\n",
    "#Convert the Y array into a categorical array. This means we will create one-hot vector labels for all of the inputs.\n",
    "# The one-hot vectors have an index for each possible output category (two in our case)\n",
    "# A \"1\" is put in the index corresponding to the category to which the sample belongs\n",
    "Y_all = keras.utils.to_categorical(Y_all)\n",
    "Y_tri = keras.utils.to_categorical(Y_tri)\n",
    "Y_tes= keras.utils.to_categorical(Y_tes)"
   ]
  },
  {
   "cell_type": "code",
   "execution_count": 10,
   "id": "1ea54ecf-3600-4780-bdc5-91e9627afbb0",
   "metadata": {},
   "outputs": [
    {
     "data": {
      "text/plain": [
       "(604, 2)"
      ]
     },
     "execution_count": 10,
     "metadata": {},
     "output_type": "execute_result"
    }
   ],
   "source": [
    "Y_tes.shape"
   ]
  },
  {
   "cell_type": "code",
   "execution_count": 11,
   "id": "5beebb82-e25c-412f-a3a2-3dd18c343b52",
   "metadata": {},
   "outputs": [],
   "source": [
    "##checking my data for NaN of Infs because I need to make sure this doesn't cause\n",
    "#the model to throw back no loss\n",
    "\n",
    "if np.any(np.isnan(X_all)) or np.any(np.isinf(X_all)):\n",
    "    print(\"NaN or Inf values found in X_all!\")\n",
    "\n",
    "if np.any(np.isnan(Y_all)) or np.any(np.isinf(Y_all)):\n",
    "    print(\"NaN or Inf values found in Y_all!\")"
   ]
  },
  {
   "cell_type": "markdown",
   "id": "2edad085-2483-4eaa-a97c-79f4003a275e",
   "metadata": {},
   "source": [
    "### Begin establishing specifics of model."
   ]
  },
  {
   "cell_type": "code",
   "execution_count": 12,
   "id": "9c3b2fb4-4e7c-4781-b303-2f1b2cf14a41",
   "metadata": {},
   "outputs": [
    {
     "data": {
      "text/plain": [
       "906"
      ]
     },
     "execution_count": 12,
     "metadata": {},
     "output_type": "execute_result"
    }
   ],
   "source": [
    "##set 6 years of data for validation\n",
    "frac_ind = 906\n",
    "frac_ind"
   ]
  },
  {
   "cell_type": "code",
   "execution_count": 13,
   "id": "074e8204-f94d-4799-9e0f-5f4a3f73a3c7",
   "metadata": {},
   "outputs": [
    {
     "data": {
      "text/plain": [
       "(9513, 2)"
      ]
     },
     "execution_count": 13,
     "metadata": {},
     "output_type": "execute_result"
    }
   ],
   "source": [
    "##checking to make sure shape was properly one hot encoded\n",
    "Y_all.shape"
   ]
  },
  {
   "cell_type": "code",
   "execution_count": 14,
   "id": "1b2994bd-729c-443a-9ba6-01088e01ff5f",
   "metadata": {},
   "outputs": [],
   "source": [
    "##class weight creator for the instance where now I have a four dimensional output array \n",
    "def class_weight_creator(Y):\n",
    "    class_dict = {}\n",
    "    Y_reshaped = Y.reshape(-1, Y.shape[-1])\n",
    "    weights = np.max(np.sum(Y_reshaped, axis=0)) / np.sum(Y_reshaped, axis=0)\n",
    "    for i in range(Y.shape[-1] ):\n",
    "        class_dict[i] = weights[i]\n",
    "        \n",
    "    return class_dict"
   ]
  },
  {
   "cell_type": "code",
   "execution_count": 15,
   "id": "cb26fc72-176a-4be0-b175-1beb1a0da1f6",
   "metadata": {},
   "outputs": [],
   "source": [
    "##number of input nodes\n",
    "numb_int = X_all.shape[-1]\n",
    "\n",
    "##fraction of training data\n",
    "X_validation = X_tri[0:frac_ind]\n",
    "Y_validation = Y_tri[0:frac_ind]\n",
    "        \n",
    "X_train = X_tri[frac_ind:len(X_tri)-frac_ind]\n",
    "Y_train = Y_tri[frac_ind:len(Y_tri)-frac_ind]\n",
    "\n",
    "X_test = X_tes\n",
    "Y_test = Y_tes"
   ]
  },
  {
   "cell_type": "code",
   "execution_count": 16,
   "id": "8f044466-349a-46f4-bb70-f8d6a719465e",
   "metadata": {},
   "outputs": [
    {
     "data": {
      "text/plain": [
       "777"
      ]
     },
     "execution_count": 16,
     "metadata": {},
     "output_type": "execute_result"
    }
   ],
   "source": [
    "numb_int"
   ]
  },
  {
   "cell_type": "code",
   "execution_count": 17,
   "id": "00d61e2d-fe5e-43c9-95a2-75a559609794",
   "metadata": {},
   "outputs": [
    {
     "data": {
      "text/plain": [
       "{0: 1.0, 1: 1.0008458}"
      ]
     },
     "execution_count": 17,
     "metadata": {},
     "output_type": "execute_result"
    }
   ],
   "source": [
    "##do the class_dict weights\n",
    "class_weight = class_weight_creator(Y_train)\n",
    "class_weight"
   ]
  },
  {
   "cell_type": "markdown",
   "id": "a44275b4-b283-48c5-a2f8-87d4ce86683b",
   "metadata": {},
   "source": [
    "### Model Arcitecture."
   ]
  },
  {
   "cell_type": "code",
   "execution_count": 18,
   "id": "a18fff27-71cf-40ff-a118-d2374cec2659",
   "metadata": {},
   "outputs": [],
   "source": [
    "def basic_ANN(number_inputs,num_cats,n1,n2,rl1,rl2,learn,epochs):\n",
    "    \n",
    "    input_tensor = Input(shape=(int(number_inputs),))\n",
    "    \n",
    "    layer1 = layers.Dense(n1, activation='relu', use_bias=True,\n",
    "                          kernel_initializer='he_normal',bias_initializer='he_normal',\n",
    "                          kernel_regularizer=keras.regularizers.l2(l2= rl1))(input_tensor)\n",
    "    \n",
    "    layer1 = layers.Dense(n2, activation='relu',use_bias=True,\n",
    "                          kernel_initializer='he_normal',bias_initializer='he_normal',\n",
    "                          kernel_regularizer=keras.regularizers.l2(l2=rl2))(layer1)\n",
    "\n",
    "    #decay_rate = learn / epochs\n",
    "    output_tensor = layers.Dense(num_cats,activation='softmax')(layer1)\n",
    "    model = Model(input_tensor, output_tensor)\n",
    "    model.compile(optimizer=keras.optimizers.legacy.Adam(learning_rate=learn),\n",
    "              loss = 'categorical_crossentropy', #Our loss function is based on categorical error\n",
    "              metrics=[keras.metrics.categorical_accuracy], #We will print out the categorical accuracy as the network is trained\n",
    "              )\n",
    "    return model"
   ]
  },
  {
   "cell_type": "code",
   "execution_count": 19,
   "id": "ff092005-a4ca-447a-822c-66fa44eafdb2",
   "metadata": {},
   "outputs": [],
   "source": [
    "######\n",
    "batch_size = 256 #The number of samples the network sees before it backpropagates (batch size)\n",
    "epochs = 50 #The number of times the network will loop through the entire dataset (epochs)\n",
    "shuffle = True #Set whether to shuffle the training data so the model doesn't see it sequentially \n",
    "verbose = 2 #Set whether the model will output information when trained (0 = no output; 2 = output accuracy every epoch)"
   ]
  },
  {
   "cell_type": "code",
   "execution_count": 20,
   "id": "318a54af-570e-4831-a719-ac6411bfdad7",
   "metadata": {},
   "outputs": [
    {
     "data": {
      "text/plain": [
       "(906, 2)"
      ]
     },
     "execution_count": 20,
     "metadata": {},
     "output_type": "execute_result"
    }
   ],
   "source": [
    "Y_validation.shape"
   ]
  },
  {
   "cell_type": "code",
   "execution_count": 21,
   "id": "72ff3cda-ce59-447d-9878-929215aee56b",
   "metadata": {},
   "outputs": [],
   "source": [
    "##create model.\n",
    "#model = basic_ANN(numb_int, 2, 128, 8, 0.065, 0.05, 0.00068, epochs)\n",
    "\n",
    "#model = basic_ANN(numb_int, 2, 128, 8, 0.078, 0.07, 0.0013, epochs)\n",
    "#model = basic_ANN(numb_int, 2, 128, 8, 0.078, 0.07, 0.002, epochs)\n",
    "#model = basic_ANN(numb_int, 2, 128, 4, 0.012, 0.00064, 0.015, epochs)\n",
    "model = basic_ANN(numb_int, 2, 128, 8, 0.7454, 0.769, 0.0024, epochs)\n",
    "\n",
    "early_stopping = EarlyStopping(monitor='val_loss',patience=4,restore_best_weights=True,verbose=1)"
   ]
  },
  {
   "cell_type": "code",
   "execution_count": 22,
   "id": "6044ca41-896b-4ba0-b9b1-03f0d957bad3",
   "metadata": {
    "scrolled": true
   },
   "outputs": [
    {
     "name": "stdout",
     "output_type": "stream",
     "text": [
      "Train on 7097 samples, validate on 906 samples\n",
      "Epoch 1/50\n",
      " 256/7097 [>.............................] - ETA: 1s - loss: 252.7776 - categorical_accuracy: 0.4766"
     ]
    },
    {
     "name": "stderr",
     "output_type": "stream",
     "text": [
      "2024-11-18 23:54:53.573512: W tensorflow/core/common_runtime/gpu/gpu_device.cc:2211] Cannot dlopen some GPU libraries. Please make sure the missing libraries mentioned above are installed properly if you would like to use GPU. Follow the guide at https://www.tensorflow.org/install/gpu for how to download and setup the required libraries for your platform.\n",
      "Skipping registering GPU devices...\n",
      "2024-11-18 23:54:53.610216: I tensorflow/compiler/mlir/mlir_graph_optimization_pass.cc:382] MLIR V1 optimization pass is not enabled\n",
      "2024-11-18 23:54:53.647693: W tensorflow/c/c_api.cc:305] Operation '{name:'training/Adam/dense_2/bias/m/Assign' id:374 op device:{requested: '', assigned: ''} def:{{{node training/Adam/dense_2/bias/m/Assign}} = AssignVariableOp[_has_manual_control_dependencies=true, dtype=DT_FLOAT, validate_shape=false](training/Adam/dense_2/bias/m, training/Adam/dense_2/bias/m/Initializer/zeros)}}' was changed by setting attribute after it was run by a session. This mutation will have no effect, and will trigger an error in the future. Either don't modify nodes after running them or create a new session.\n"
     ]
    },
    {
     "name": "stdout",
     "output_type": "stream",
     "text": [
      "7097/7097 [==============================] - 0s 27us/sample - loss: 164.4753 - categorical_accuracy: 0.5663 - val_loss: 101.9725 - val_categorical_accuracy: 0.5905\n",
      "Epoch 2/50\n",
      "7097/7097 [==============================] - 0s 14us/sample - loss: 65.7481 - categorical_accuracy: 0.5252 - val_loss: 37.9169 - val_categorical_accuracy: 0.4956\n",
      "Epoch 3/50\n",
      " 256/7097 [>.............................] - ETA: 0s - loss: 37.8884 - categorical_accuracy: 0.5312"
     ]
    },
    {
     "name": "stderr",
     "output_type": "stream",
     "text": [
      "/usr/local/lib/python3.10/dist-packages/keras/src/engine/training_v1.py:2335: UserWarning: `Model.state_updates` will be removed in a future version. This property should not be used in TensorFlow 2.0, as `updates` are applied automatically.\n",
      "  updates = self.state_updates\n"
     ]
    },
    {
     "name": "stdout",
     "output_type": "stream",
     "text": [
      "7097/7097 [==============================] - 0s 15us/sample - loss: 25.2877 - categorical_accuracy: 0.5242 - val_loss: 15.6247 - val_categorical_accuracy: 0.5155\n",
      "Epoch 4/50\n",
      "7097/7097 [==============================] - 0s 17us/sample - loss: 11.2977 - categorical_accuracy: 0.5693 - val_loss: 8.0310 - val_categorical_accuracy: 0.5927\n",
      "Epoch 5/50\n",
      "7097/7097 [==============================] - 0s 15us/sample - loss: 6.2776 - categorical_accuracy: 0.6024 - val_loss: 4.8943 - val_categorical_accuracy: 0.6049\n",
      "Epoch 6/50\n",
      "7097/7097 [==============================] - 0s 16us/sample - loss: 4.1989 - categorical_accuracy: 0.6097 - val_loss: 3.6137 - val_categorical_accuracy: 0.6126\n",
      "Epoch 7/50\n",
      "7097/7097 [==============================] - 0s 16us/sample - loss: 3.1191 - categorical_accuracy: 0.6083 - val_loss: 2.6487 - val_categorical_accuracy: 0.6104\n",
      "Epoch 8/50\n",
      "7097/7097 [==============================] - 0s 14us/sample - loss: 2.4096 - categorical_accuracy: 0.6056 - val_loss: 2.3599 - val_categorical_accuracy: 0.6170\n",
      "Epoch 9/50\n",
      "7097/7097 [==============================] - 0s 13us/sample - loss: 2.0638 - categorical_accuracy: 0.6101 - val_loss: 1.8453 - val_categorical_accuracy: 0.6082\n",
      "Epoch 10/50\n",
      "7097/7097 [==============================] - 0s 16us/sample - loss: 1.6792 - categorical_accuracy: 0.6184 - val_loss: 1.6089 - val_categorical_accuracy: 0.6170\n",
      "Epoch 11/50\n",
      "7097/7097 [==============================] - 0s 18us/sample - loss: 1.5099 - categorical_accuracy: 0.6110 - val_loss: 1.4298 - val_categorical_accuracy: 0.5971\n",
      "Epoch 12/50\n",
      "7097/7097 [==============================] - 0s 16us/sample - loss: 1.2968 - categorical_accuracy: 0.6183 - val_loss: 1.2177 - val_categorical_accuracy: 0.5927\n",
      "Epoch 13/50\n",
      "7097/7097 [==============================] - 0s 16us/sample - loss: 1.1613 - categorical_accuracy: 0.6176 - val_loss: 1.2344 - val_categorical_accuracy: 0.5993\n",
      "Epoch 14/50\n",
      "7097/7097 [==============================] - 0s 16us/sample - loss: 1.0796 - categorical_accuracy: 0.6191 - val_loss: 1.0479 - val_categorical_accuracy: 0.6104\n",
      "Epoch 15/50\n",
      "7097/7097 [==============================] - 0s 16us/sample - loss: 1.0096 - categorical_accuracy: 0.6131 - val_loss: 1.0275 - val_categorical_accuracy: 0.6148\n",
      "Epoch 16/50\n",
      "7097/7097 [==============================] - 0s 16us/sample - loss: 0.9520 - categorical_accuracy: 0.6135 - val_loss: 0.9170 - val_categorical_accuracy: 0.6093\n",
      "Epoch 17/50\n",
      "7097/7097 [==============================] - 0s 20us/sample - loss: 0.8942 - categorical_accuracy: 0.6145 - val_loss: 0.8444 - val_categorical_accuracy: 0.5993\n",
      "Epoch 18/50\n",
      "7097/7097 [==============================] - 0s 16us/sample - loss: 0.8196 - categorical_accuracy: 0.6156 - val_loss: 0.8084 - val_categorical_accuracy: 0.6203\n",
      "Epoch 19/50\n",
      "7097/7097 [==============================] - 0s 14us/sample - loss: 0.7913 - categorical_accuracy: 0.6069 - val_loss: 0.7833 - val_categorical_accuracy: 0.6104\n",
      "Epoch 20/50\n",
      "7097/7097 [==============================] - 0s 12us/sample - loss: 0.7634 - categorical_accuracy: 0.6146 - val_loss: 0.7518 - val_categorical_accuracy: 0.6258\n",
      "Epoch 21/50\n",
      "7097/7097 [==============================] - 0s 13us/sample - loss: 0.7517 - categorical_accuracy: 0.6196 - val_loss: 0.7390 - val_categorical_accuracy: 0.6071\n",
      "Epoch 22/50\n",
      "7097/7097 [==============================] - 0s 13us/sample - loss: 0.7316 - categorical_accuracy: 0.6152 - val_loss: 0.7273 - val_categorical_accuracy: 0.6137\n",
      "Epoch 23/50\n",
      "7097/7097 [==============================] - 0s 13us/sample - loss: 0.7199 - categorical_accuracy: 0.6196 - val_loss: 0.7179 - val_categorical_accuracy: 0.5971\n",
      "Epoch 24/50\n",
      "7097/7097 [==============================] - 0s 14us/sample - loss: 0.7107 - categorical_accuracy: 0.6167 - val_loss: 0.7076 - val_categorical_accuracy: 0.6302\n",
      "Epoch 25/50\n",
      "7097/7097 [==============================] - 0s 12us/sample - loss: 0.7018 - categorical_accuracy: 0.6207 - val_loss: 0.6890 - val_categorical_accuracy: 0.6269\n",
      "Epoch 26/50\n",
      "7097/7097 [==============================] - 0s 12us/sample - loss: 0.6943 - categorical_accuracy: 0.6282 - val_loss: 0.6973 - val_categorical_accuracy: 0.6336\n",
      "Epoch 27/50\n",
      "7097/7097 [==============================] - 0s 12us/sample - loss: 0.6953 - categorical_accuracy: 0.6217 - val_loss: 0.6891 - val_categorical_accuracy: 0.6247\n",
      "Epoch 28/50\n",
      "7097/7097 [==============================] - 0s 13us/sample - loss: 0.6864 - categorical_accuracy: 0.6303 - val_loss: 0.6907 - val_categorical_accuracy: 0.6115\n",
      "Epoch 29/50\n",
      "7097/7097 [==============================] - 0s 13us/sample - loss: 0.6859 - categorical_accuracy: 0.6224 - val_loss: 0.6820 - val_categorical_accuracy: 0.6225\n",
      "Epoch 30/50\n",
      "7097/7097 [==============================] - 0s 14us/sample - loss: 0.6813 - categorical_accuracy: 0.6355 - val_loss: 0.6975 - val_categorical_accuracy: 0.6137\n",
      "Epoch 31/50\n",
      "7097/7097 [==============================] - 0s 14us/sample - loss: 0.6778 - categorical_accuracy: 0.6267 - val_loss: 0.6852 - val_categorical_accuracy: 0.6148\n",
      "Epoch 32/50\n",
      "7097/7097 [==============================] - 0s 12us/sample - loss: 0.6754 - categorical_accuracy: 0.6217 - val_loss: 0.6873 - val_categorical_accuracy: 0.6104\n",
      "Epoch 33/50\n",
      "7097/7097 [==============================] - 0s 14us/sample - loss: 0.6803 - categorical_accuracy: 0.6221 - val_loss: 0.6893 - val_categorical_accuracy: 0.5982\n",
      "Epoch 34/50\n",
      "7097/7097 [==============================] - 0s 14us/sample - loss: 0.6732 - categorical_accuracy: 0.6320 - val_loss: 0.6693 - val_categorical_accuracy: 0.6214\n",
      "Epoch 35/50\n",
      "7097/7097 [==============================] - 0s 15us/sample - loss: 0.6741 - categorical_accuracy: 0.6234 - val_loss: 0.6681 - val_categorical_accuracy: 0.6291\n",
      "Epoch 36/50\n",
      "7097/7097 [==============================] - 0s 16us/sample - loss: 0.6748 - categorical_accuracy: 0.6198 - val_loss: 0.6696 - val_categorical_accuracy: 0.6115\n",
      "Epoch 37/50\n",
      "7097/7097 [==============================] - 0s 14us/sample - loss: 0.6722 - categorical_accuracy: 0.6300 - val_loss: 0.6793 - val_categorical_accuracy: 0.6104\n",
      "Epoch 38/50\n",
      "7097/7097 [==============================] - 0s 16us/sample - loss: 0.6794 - categorical_accuracy: 0.6203 - val_loss: 0.6809 - val_categorical_accuracy: 0.6004\n",
      "Epoch 39/50\n",
      "7097/7097 [==============================] - 0s 15us/sample - loss: 0.6718 - categorical_accuracy: 0.6260 - val_loss: 0.6704 - val_categorical_accuracy: 0.6236\n",
      "Epoch 40/50\n",
      "7097/7097 [==============================] - 0s 13us/sample - loss: 0.6770 - categorical_accuracy: 0.6208 - val_loss: 0.6840 - val_categorical_accuracy: 0.6203\n",
      "Epoch 41/50\n",
      "7097/7097 [==============================] - 0s 15us/sample - loss: 0.6758 - categorical_accuracy: 0.6236 - val_loss: 0.6793 - val_categorical_accuracy: 0.6126\n",
      "Epoch 42/50\n",
      "7097/7097 [==============================] - 0s 15us/sample - loss: 0.6750 - categorical_accuracy: 0.6283 - val_loss: 0.6772 - val_categorical_accuracy: 0.6225\n",
      "Epoch 43/50\n",
      "7097/7097 [==============================] - 0s 17us/sample - loss: 0.6752 - categorical_accuracy: 0.6217 - val_loss: 0.6577 - val_categorical_accuracy: 0.6391\n",
      "Epoch 44/50\n",
      "7097/7097 [==============================] - 0s 16us/sample - loss: 0.6712 - categorical_accuracy: 0.6238 - val_loss: 0.6753 - val_categorical_accuracy: 0.6060\n",
      "Epoch 45/50\n",
      "7097/7097 [==============================] - 0s 16us/sample - loss: 0.6724 - categorical_accuracy: 0.6246 - val_loss: 0.6689 - val_categorical_accuracy: 0.6192\n",
      "Epoch 46/50\n",
      "7097/7097 [==============================] - 0s 15us/sample - loss: 0.6723 - categorical_accuracy: 0.6255 - val_loss: 0.6713 - val_categorical_accuracy: 0.6203\n",
      "Epoch 47/50\n",
      "7097/7097 [==============================] - 0s 15us/sample - loss: 0.6662 - categorical_accuracy: 0.6291 - val_loss: 0.6684 - val_categorical_accuracy: 0.6060\n",
      "Epoch 48/50\n",
      "7097/7097 [==============================] - 0s 17us/sample - loss: 0.6681 - categorical_accuracy: 0.6201 - val_loss: 0.6760 - val_categorical_accuracy: 0.6060\n",
      "Epoch 49/50\n",
      "7097/7097 [==============================] - 0s 14us/sample - loss: 0.6702 - categorical_accuracy: 0.6190 - val_loss: 0.6665 - val_categorical_accuracy: 0.6004\n",
      "Epoch 50/50\n",
      "7097/7097 [==============================] - 0s 14us/sample - loss: 0.6662 - categorical_accuracy: 0.6308 - val_loss: 0.6719 - val_categorical_accuracy: 0.6082\n"
     ]
    },
    {
     "data": {
      "text/plain": [
       "<keras.src.callbacks.History at 0x7f520743fbb0>"
      ]
     },
     "execution_count": 22,
     "metadata": {},
     "output_type": "execute_result"
    }
   ],
   "source": [
    "model.fit(X_train, Y_train, validation_data=(X_validation, Y_validation),\n",
    "          batch_size=batch_size, epochs=epochs, shuffle=shuffle,class_weight = class_weight) #,callbacks=[early_stopping])"
   ]
  },
  {
   "cell_type": "code",
   "execution_count": 23,
   "id": "0449d92b-f742-4e01-a79a-d67f7c2e41a6",
   "metadata": {},
   "outputs": [
    {
     "name": "stderr",
     "output_type": "stream",
     "text": [
      "/usr/local/lib/python3.10/dist-packages/keras/src/engine/training_v1.py:2359: UserWarning: `Model.state_updates` will be removed in a future version. This property should not be used in TensorFlow 2.0, as `updates` are applied automatically.\n",
      "  updates=self.state_updates,\n",
      "2024-11-18 23:54:59.068452: W tensorflow/c/c_api.cc:305] Operation '{name:'dense_2/Softmax' id:88 op device:{requested: '', assigned: ''} def:{{{node dense_2/Softmax}} = Softmax[T=DT_FLOAT, _has_manual_control_dependencies=true](dense_2/BiasAdd)}}' was changed by setting attribute after it was run by a session. This mutation will have no effect, and will trigger an error in the future. Either don't modify nodes after running them or create a new session.\n"
     ]
    }
   ],
   "source": [
    "train_loss=model.history.history['loss']\n",
    "val_loss=model.history.history['val_loss']\n",
    "    \n",
    "cat_acc=model.history.history['categorical_accuracy']\n",
    "val_acc=model.history.history['val_categorical_accuracy']\n",
    "        \n",
    "pred = model.predict(X_all)\n",
    "pred_val = model.predict(X_validation)\n",
    "pred_train = model.predict(X_train)\n",
    "pred_test = model.predict(X_test)"
   ]
  },
  {
   "cell_type": "code",
   "execution_count": 24,
   "id": "8a7ef8db-8dde-45dc-89b3-58dcc6c72a28",
   "metadata": {},
   "outputs": [
    {
     "data": {
      "text/plain": [
       "<bound method Axes.legend of <Axes: title={'center': 'Accuracy'}, xlabel='Epoch', ylabel='Acc'>>"
      ]
     },
     "execution_count": 24,
     "metadata": {},
     "output_type": "execute_result"
    },
    {
     "data": {
      "image/png": "[encoded data removed]",
      "text/plain": [
       "<Figure size 1600x400 with 2 Axes>"
      ]
     },
     "metadata": {},
     "output_type": "display_data"
    }
   ],
   "source": [
    "# Look at the optimization history\n",
    "fig, (ax1,ax2) = plt.subplots(1,2, figsize=plt.figaspect(0.25))\n",
    "ax1.plot(train_loss, label='Training loss')\n",
    "ax1.plot(val_loss, label='Validation loss')\n",
    "ax1.set_yscale('log')\n",
    "ax1.set_title('loss')\n",
    "ax1.set_xlabel('Epoch')\n",
    "ax1.set_ylabel('loss')\n",
    "ax1.legend()\n",
    "\n",
    "ax2.plot(cat_acc, label='Training ACC')\n",
    "ax2.plot(val_acc, label='Validation ACC')\n",
    "ax2.set_title('Accuracy')\n",
    "ax2.set_xlabel('Epoch')\n",
    "ax2.set_ylabel('Acc')\n",
    "ax2.legend"
   ]
  },
  {
   "cell_type": "code",
   "execution_count": 25,
   "id": "a60b262c-c5ba-41a2-92f1-280f64438d2f",
   "metadata": {
    "jupyter": {
     "source_hidden": true
    }
   },
   "outputs": [
    {
     "ename": "NameError",
     "evalue": "name 'climo' is not defined",
     "output_type": "error",
     "traceback": [
      "\u001b[0;31m---------------------------------------------------------------------------\u001b[0m",
      "\u001b[0;31mNameError\u001b[0m                                 Traceback (most recent call last)",
      "Cell \u001b[0;32mIn[25], line 1\u001b[0m\n\u001b[0;32m----> 1\u001b[0m \u001b[38;5;28;01mfor\u001b[39;00m j \u001b[38;5;129;01min\u001b[39;00m \u001b[38;5;28mrange\u001b[39m(\u001b[38;5;28mlen\u001b[39m(\u001b[43mclimo\u001b[49m[\u001b[38;5;241m0\u001b[39m,:])):\n\u001b[1;32m      2\u001b[0m     bs \u001b[38;5;241m=\u001b[39m brier_score_loss(Y_all[:,j], pred[:,j])\n\u001b[1;32m      3\u001b[0m     bs_ref \u001b[38;5;241m=\u001b[39m brier_score_loss(Y_all[:,j], climo[:,j])\n",
      "\u001b[0;31mNameError\u001b[0m: name 'climo' is not defined"
     ]
    }
   ],
   "source": [
    "for j in range(len(climo[0,:])):\n",
    "    bs = brier_score_loss(Y_all[:,j], pred[:,j])\n",
    "    bs_ref = brier_score_loss(Y_all[:,j], climo[:,j])\n",
    "    bss = 1 - (bs / bs_ref)"
   ]
  },
  {
   "cell_type": "code",
   "execution_count": null,
   "id": "6b8c3898-8f7b-4cbc-9f8d-7970a8149958",
   "metadata": {
    "jupyter": {
     "source_hidden": true
    }
   },
   "outputs": [],
   "source": [
    "import sklearn\n",
    "pred_class = []\n",
    "for k in range(len(Y_all[:,0])):##PREDICTIVE\n",
    "    #print(pred_val[k,0])\n",
    "    #print(pred_val[k,1])\n",
    "    #print(pred_val[k,2])\n",
    "    if pred[k,0] > pred[k,1]:\n",
    "        #print(\"a\")\n",
    "        pred_class.append([1.,0.])\n",
    "    elif pred[k,1] > pred[k,0]:\n",
    "        #print(\"b\")\n",
    "        pred_class.append([0.,1.])\n",
    "prd = np.asarray(pred_class)\n",
    "for j in range(len(climo[0,:])):\n",
    "    recal = sklearn.metrics.recall_score(Y_all[:,j], prd[:,j])"
   ]
  },
  {
   "cell_type": "code",
   "execution_count": null,
   "id": "fa1a6e55-8a4b-4dd2-94cc-c18c35f4a9f7",
   "metadata": {
    "jupyter": {
     "source_hidden": true
    },
    "scrolled": true
   },
   "outputs": [],
   "source": [
    "pred_class = []\n",
    "for k in range(len(Y_all[:,0])):##PREDICTIVE\n",
    "    #print(pred_val[k,0])\n",
    "    #print(pred_val[k,1])\n",
    "    #print(pred_val[k,2])\n",
    "    if pred[k,0] > pred[k,1]:\n",
    "        #print(\"a\")\n",
    "        pred_class.append([1.,0.])\n",
    "    elif pred[k,1] > pred[k,0]:\n",
    "        #print(\"b\")\n",
    "        pred_class.append([0.,1.])\n",
    "prd = np.asarray(pred_class)\n",
    "for j in range(len(climo[0,:])):\n",
    "    prec = sklearn.metrics.precision_score(Y_all[:,j], prd[:,j])"
   ]
  },
  {
   "cell_type": "code",
   "execution_count": null,
   "id": "c5656411-7e5f-40b7-a233-cb89d2be6755",
   "metadata": {},
   "outputs": [],
   "source": [
    "print(\"Brier Skill Score: \",bss)\n",
    "print(\"Recall Accuracy Score: \",recal)\n",
    "print(\"Precision Accuracy Score: \",prec)"
   ]
  },
  {
   "cell_type": "code",
   "execution_count": null,
   "id": "de23d7e1-e67b-40b6-a56b-1055f9cfdedf",
   "metadata": {
    "scrolled": true
   },
   "outputs": [],
   "source": [
    "# Creating an analyzer\n",
    "model_wo_sm = innvestigate.model_wo_softmax(model)\n",
    "gradient_analyzer = innvestigate.create_analyzer(\"deep_taylor\", model_wo_sm)\n",
    "\n",
    "# Applying the analyzer\n",
    "analysis = gradient_analyzer.analyze(X_train)"
   ]
  },
  {
   "cell_type": "code",
   "execution_count": null,
   "id": "f2ce18dd-2ac1-4390-9b6d-803e98c8df95",
   "metadata": {},
   "outputs": [],
   "source": [
    "tf.keras.backend.clear_session()"
   ]
  },
  {
   "cell_type": "code",
   "execution_count": null,
   "id": "16679225-080b-4125-90ac-14e6ca1ce5b2",
   "metadata": {},
   "outputs": [],
   "source": [
    "analysis.shape[0]"
   ]
  },
  {
   "cell_type": "code",
   "execution_count": null,
   "id": "014ee4cf-1c3c-4185-b5cf-2dba966bf5a8",
   "metadata": {},
   "outputs": [],
   "source": [
    "#Convert the list to an array to make processing simpler and reshape it into a 2-D map (our inputs were vectorized)\n",
    "LRP_heatmaps = analysis.reshape(analysis.shape[0], 21, 37)\n",
    "\n",
    "#Normalize each heatmap to have a maximum value of 1 so all samples can be compared equally\n",
    "LRP_heatmaps_scaled = LRP_heatmaps/np.nanmax(LRP_heatmaps, axis=(-2,-1))[:,np.newaxis,np.newaxis]\n",
    "\n",
    "#Now take the mean across all samples to make a composite...\n",
    "LRP_heatmaps_mean = np.nanmean(LRP_heatmaps_scaled, axis=0)"
   ]
  },
  {
   "cell_type": "code",
   "execution_count": null,
   "id": "58dca660-392a-4b87-bdfd-6030b35c834c",
   "metadata": {},
   "outputs": [],
   "source": [
    "LRP_heatmaps_mean.shape"
   ]
  },
  {
   "cell_type": "code",
   "execution_count": null,
   "id": "7d3d1ff6-093b-4bc3-8b00-c46bb6e1020f",
   "metadata": {},
   "outputs": [],
   "source": [
    "#lat\n",
    "lats = np.arange(80, 29.5, -2.5)\n",
    "#lon\n",
    "lons = np.arange(-100, -9.5, 2.5)"
   ]
  },
  {
   "cell_type": "code",
   "execution_count": null,
   "id": "0d643a1d-1aab-4895-b2bd-e322fac209d0",
   "metadata": {},
   "outputs": [],
   "source": [
    "# plot the original data \n",
    "color = 'BuGn' \n",
    "colorbarMin = 0\n",
    "colorbarMax = 1\n",
    "colorspace = 0.05\n",
    "level = np.arange(colorbarMin,colorbarMax+colorspace,colorspace)\n",
    "ax = plt.axes(projection=ccrs.cartopy.crs.PlateCarree(central_longitude=180))\n",
    "h = ax.contourf(lons, lats, LRP_heatmaps_mean, level, transform=ccrs.PlateCarree(), cmap=color,extend='both')\n",
    "#plt.contourf(lons, lats, LRP_heatmaps_mean, level, cmap=color,extend='both')\n",
    "cbar = plt.colorbar(h, orientation='horizontal', shrink=1,fraction=0.1,pad=0.1,aspect=35)\n",
    "cbar.ax.tick_params(labelsize=10) \n",
    "#Add in the coordinate system:\n",
    "long = np.arange(-100, -10, 5)\n",
    "latg = np.arange(80, 30 ,-5)\n",
    "ax.set_xticks(long, crs=ccrs.PlateCarree());\n",
    "ax.set_yticks(latg, crs=ccrs.PlateCarree());\n",
    "ax.set_xticklabels(long,fontsize=8)\n",
    "ax.set_yticklabels(latg,fontsize=8)\n",
    "ax.set_ylabel('Latitude',fontsize=10);\n",
    "ax.set_xlabel('Longitude',fontsize=10);\n",
    "\n",
    "#Add in the continents\n",
    "#define the coastlines, the color (#000000) and the resolution (110m) \n",
    "feature1 = cf.NaturalEarthFeature(\n",
    "    name='coastline', category='physical',\n",
    "    scale='110m',\n",
    "    edgecolor='#000000', facecolor='none')\n",
    "\n",
    "ax.add_feature(feature1)\n",
    "\n",
    "plt.tight_layout()\n",
    "#Set a title for your map:\n",
    "title = 'LRP on 500hPa GPH associated with Temp Anomalies over Europe'\n",
    "plt.title(title,fontsize=10, y=1.03)\n",
    "#plt.savefig(\"LRP_take1.png\")"
   ]
  },
  {
   "cell_type": "code",
   "execution_count": null,
   "id": "c706c20d-3202-42e0-80b7-8bb357c30ac0",
   "metadata": {},
   "outputs": [],
   "source": []
  }
 ],
 "metadata": {
  "kernelspec": {
   "display_name": "Python 3 (ipykernel)",
   "language": "python",
   "name": "python3"
  },
  "language_info": {
   "codemirror_mode": {
    "name": "ipython",
    "version": 3
   },
   "file_extension": ".py",
   "mimetype": "text/x-python",
   "name": "python",
   "nbconvert_exporter": "python",
   "pygments_lexer": "ipython3",
   "version": "3.10.13"
  }
 },
 "nbformat": 4,
 "nbformat_minor": 5
}
