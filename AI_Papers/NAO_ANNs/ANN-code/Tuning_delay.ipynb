{
 "cells": [
  {
   "cell_type": "markdown",
   "id": "ad4a45cf-2fba-495f-81ba-727513b88d95",
   "metadata": {},
   "source": [
    "## This code is my best go at hyperparameter tuning for this model."
   ]
  },
  {
   "cell_type": "raw",
   "id": "bf27de63-f531-47fe-90e0-6cfcbe99d3ec",
   "metadata": {
    "scrolled": true
   },
   "source": [
    "!pip install netCDF4\n",
    "!pip install cmocean\n",
    "!pip install investigate"
   ]
  },
  {
   "cell_type": "raw",
   "id": "c411d380-95c5-4305-8eff-61b412dc28a4",
   "metadata": {
    "collapsed": true,
    "jupyter": {
     "outputs_hidden": true
    }
   },
   "source": [
    "!pip install keras-tuner"
   ]
  },
  {
   "cell_type": "markdown",
   "id": "97b97272-6203-4046-9616-1642be6816aa",
   "metadata": {},
   "source": [
    "#### These next three chunks are just a bunch of import statements."
   ]
  },
  {
   "cell_type": "code",
   "execution_count": 113,
   "id": "1c6a9159-890b-47f2-a080-f67b5e39f21c",
   "metadata": {
    "jupyter": {
     "source_hidden": true
    },
    "scrolled": true
   },
   "outputs": [],
   "source": [
    "%matplotlib inline\n",
    "##so-called \"math\" related imports\n",
    "from netCDF4 import Dataset as ncread\n",
    "import numpy as np\n",
    "from scipy.io import loadmat\n",
    "import pandas as pd\n",
    "import h5py\n",
    "import math\n",
    "from random import seed\n",
    "from random import randint\n",
    "from random import sample\n",
    "from scipy.ndimage import gaussian_filter\n",
    "from sklearn.metrics import brier_score_loss\n",
    "import xarray as xr\n",
    "\n",
    "import pickle\n",
    "\n",
    "##plotting related imports\n",
    "import matplotlib.pyplot as plt\n",
    "from matplotlib import rcParams #For changing text properties\n",
    "import cmocean #A package with beautiful colormaps\n",
    "from cartopy import crs as ccrs #Useful for plotting maps\n",
    "import cartopy.util #Requires separate import\n",
    "from cartopy.util import add_cyclic_point\n",
    "import cartopy.feature as cf\n",
    "from cartopy.mpl.ticker import LongitudeFormatter, LatitudeFormatter\n",
    "import matplotlib.path as mpath\n",
    "import matplotlib.colors as mcolors"
   ]
  },
  {
   "cell_type": "code",
   "execution_count": 114,
   "id": "40dfe88c-378d-4367-a65a-c17eb283aaee",
   "metadata": {
    "jupyter": {
     "source_hidden": true
    }
   },
   "outputs": [],
   "source": [
    "##import tensorflow/keras related files\n",
    "import tensorflow as tf    \n",
    "#tf.compat.v1.disable_v2_behavior() # <-- HERE !\n",
    "\n",
    "from tensorflow import keras\n",
    "from tensorflow.keras import layers, models\n",
    "from tensorflow.keras import Input\n",
    "from tensorflow.keras.models import Model\n",
    "from tensorflow.keras.callbacks import ModelCheckpoint\n",
    "from tensorflow.keras import regularizers\n",
    "import tensorflow.keras.backend as K\n",
    "from tensorflow.keras.utils import to_categorical\n",
    "from tensorflow.keras.layers import Dropout, Activation, Reshape, Flatten, LSTM, Dense, Dropout, Embedding, Bidirectional, GRU\n",
    "from tensorflow.keras import Sequential\n",
    "from tensorflow.keras import initializers, regularizers\n",
    "from tensorflow.keras import optimizers\n",
    "from tensorflow.keras import constraints\n",
    "from tensorflow.keras.layers import Layer, InputSpec\n",
    "from tensorflow.keras.callbacks import EarlyStopping\n",
    "\n",
    "import keras_tuner as kt"
   ]
  },
  {
   "cell_type": "code",
   "execution_count": 115,
   "id": "e393572f-b47e-46f6-8823-1470a09445f9",
   "metadata": {},
   "outputs": [],
   "source": [
    "tf.compat.v1.disable_eager_execution()\n",
    "import investigate"
   ]
  },
  {
   "cell_type": "markdown",
   "id": "b67968bc-fc14-4805-95dd-146548796c3e",
   "metadata": {},
   "source": [
    "#### Upload data. "
   ]
  },
  {
   "cell_type": "code",
   "execution_count": 116,
   "id": "0817c222-c32c-4c7f-8f91-6e0fa11ff89c",
   "metadata": {},
   "outputs": [],
   "source": [
    "#inputs\n",
    "infile = open(\"./data/ANN/1118_filtered_gph.p\", 'rb') \n",
    "input = pickle.load(infile)\n",
    "infile.close()\n",
    "\n",
    "#outputs\n",
    "infile = open(\"./data/ANN/1118_class_filt.p\", 'rb')\n",
    "temp = pickle.load(infile)\n",
    "infile.close()\n",
    "#temp = temp.flatten()\n",
    "\n",
    "#climo\n",
    "#infile = open(\"./data/ANN/eur_climoprob_filt.p\", 'rb')\n",
    "#climo = pickle.load(infile)\n",
    "#infile.close()\n",
    "#temp = temp.flatten()"
   ]
  },
  {
   "cell_type": "code",
   "execution_count": 117,
   "id": "cd3a8f58-74a4-4111-95c2-c99a575b07a8",
   "metadata": {},
   "outputs": [
    {
     "data": {
      "text/plain": [
       "(63, 151, 21, 37)"
      ]
     },
     "execution_count": 117,
     "metadata": {},
     "output_type": "execute_result"
    }
   ],
   "source": [
    "##input shape (samples, lat, lon), these will be different from the output\n",
    "input.shape"
   ]
  },
  {
   "cell_type": "code",
   "execution_count": 118,
   "id": "88f33e9e-b40b-42c1-83cd-79db9c326e52",
   "metadata": {},
   "outputs": [],
   "source": [
    "temp = temp.reshape(63,151)"
   ]
  },
  {
   "cell_type": "code",
   "execution_count": 119,
   "id": "1ca93c1f-c611-4354-91ec-e1480be9d6db",
   "metadata": {},
   "outputs": [],
   "source": [
    "##introduce 2 day lag\n",
    "temp_n = np.zeros((63,149))\n",
    "input_n = np.zeros((63,149,21,37))\n",
    "\n",
    "for i in range(63):\n",
    "    for j in range(149):\n",
    "        temp_n[i,j] = temp[i,j+2]\n",
    "        input_n[i,j] = input[i,j,:,:]"
   ]
  },
  {
   "cell_type": "code",
   "execution_count": 120,
   "id": "46f1d582-c04a-4216-b229-bdcd632fa465",
   "metadata": {
    "scrolled": true
   },
   "outputs": [],
   "source": [
    "##Set X_all and Y_all datasets\n",
    "X_all = np.copy(input_n.reshape(9387,777))\n",
    "Y_all = np.copy(temp_n.reshape(9387))\n",
    "\n",
    "##training data partition out\n",
    "X_tri = X_all[:8791,:]\n",
    "Y_tri = Y_all[:8791]\n",
    "\n",
    "#testing data partition out\n",
    "X_tes = X_all[8791:,:]\n",
    "Y_tes = Y_all[8791:]\n",
    "\n",
    "#Convert the Y array into a categorical array. This means we will create one-hot vector labels for all of the inputs.\n",
    "# The one-hot vectors have an index for each possible output category (two in our case)\n",
    "# A \"1\" is put in the index corresponding to the category to which the sample belongs\n",
    "Y_all = keras.utils.to_categorical(Y_all)\n",
    "Y_tri = keras.utils.to_categorical(Y_tri)\n",
    "Y_tes= keras.utils.to_categorical(Y_tes)"
   ]
  },
  {
   "cell_type": "code",
   "execution_count": 121,
   "id": "5beebb82-e25c-412f-a3a2-3dd18c343b52",
   "metadata": {},
   "outputs": [],
   "source": [
    "##checking my data for NaN of Infs because I need to make sure this doesn't cause\n",
    "#the model to throw back no loss\n",
    "\n",
    "if np.any(np.isnan(X_all)) or np.any(np.isinf(X_all)):\n",
    "    print(\"NaN or Inf values found in X_all!\")\n",
    "\n",
    "if np.any(np.isnan(Y_all)) or np.any(np.isinf(Y_all)):\n",
    "    print(\"NaN or Inf values found in Y_all!\")"
   ]
  },
  {
   "cell_type": "markdown",
   "id": "2edad085-2483-4eaa-a97c-79f4003a275e",
   "metadata": {},
   "source": [
    "### Begin establishing specifics of model."
   ]
  },
  {
   "cell_type": "code",
   "execution_count": 122,
   "id": "9c3b2fb4-4e7c-4781-b303-2f1b2cf14a41",
   "metadata": {},
   "outputs": [
    {
     "data": {
      "text/plain": [
       "894"
      ]
     },
     "execution_count": 122,
     "metadata": {},
     "output_type": "execute_result"
    }
   ],
   "source": [
    "##set 6 years of data for validation\n",
    "frac_ind = 894\n",
    "frac_ind"
   ]
  },
  {
   "cell_type": "code",
   "execution_count": 123,
   "id": "074e8204-f94d-4799-9e0f-5f4a3f73a3c7",
   "metadata": {},
   "outputs": [
    {
     "data": {
      "text/plain": [
       "(9387, 2)"
      ]
     },
     "execution_count": 123,
     "metadata": {},
     "output_type": "execute_result"
    }
   ],
   "source": [
    "##checking to make sure shape was properly one hot encoded\n",
    "Y_all.shape"
   ]
  },
  {
   "cell_type": "code",
   "execution_count": 124,
   "id": "1b2994bd-729c-443a-9ba6-01088e01ff5f",
   "metadata": {},
   "outputs": [],
   "source": [
    "##class weight creator for the instance where now I have a four dimensional output array \n",
    "def class_weight_creator(Y):\n",
    "    class_dict = {}\n",
    "    Y_reshaped = Y.reshape(-1, Y.shape[-1])\n",
    "    weights = np.max(np.sum(Y_reshaped, axis=0)) / np.sum(Y_reshaped, axis=0)\n",
    "    for i in range(Y.shape[-1] ):\n",
    "        class_dict[i] = weights[i]\n",
    "        \n",
    "    return class_dict"
   ]
  },
  {
   "cell_type": "code",
   "execution_count": 125,
   "id": "cb26fc72-176a-4be0-b175-1beb1a0da1f6",
   "metadata": {},
   "outputs": [],
   "source": [
    "##number of input nodes\n",
    "numb_int = X_all.shape[-1]\n",
    "\n",
    "##fraction of training data\n",
    "X_validation = X_tri[0:frac_ind]\n",
    "Y_validation = Y_tri[0:frac_ind]\n",
    "        \n",
    "X_train = X_tri[frac_ind:len(X_tri)]\n",
    "Y_train = Y_tri[frac_ind:len(Y_tri)]\n",
    "\n",
    "X_test = X_tes\n",
    "Y_test = Y_tes"
   ]
  },
  {
   "cell_type": "code",
   "execution_count": 126,
   "id": "00d61e2d-fe5e-43c9-95a2-75a559609794",
   "metadata": {},
   "outputs": [
    {
     "data": {
      "text/plain": [
       "{0: 1.0543704, 1: 1.0}"
      ]
     },
     "execution_count": 126,
     "metadata": {},
     "output_type": "execute_result"
    }
   ],
   "source": [
    "##do the class_dict weights\n",
    "class_weight = class_weight_creator(Y_train)\n",
    "class_weight"
   ]
  },
  {
   "cell_type": "markdown",
   "id": "a44275b4-b283-48c5-a2f8-87d4ce86683b",
   "metadata": {},
   "source": [
    "### Model Arcitecture."
   ]
  },
  {
   "cell_type": "code",
   "execution_count": 127,
   "id": "a18fff27-71cf-40ff-a118-d2374cec2659",
   "metadata": {},
   "outputs": [],
   "source": [
    "def basic_ANN(hp):\n",
    "\n",
    "    ##set ranges for hyperparameters\n",
    "    n1 = hp.Int('n1', min_value=128, max_value=256, step=128)\n",
    "    n2 = hp.Int('n2', min_value=4, max_value=16, step=4)\n",
    "    #reg1 = hp.Float('reg1', min_value=0.01, max_value=0.1, sampling='LOG', default=0.01)\n",
    "    reg1 = hp.Float('reg1', min_value=0.01, max_value=1, default=0.01)\n",
    "    reg2 = hp.Float('reg2', min_value=0.01, max_value=1, default=0.01)\n",
    "    \n",
    "    activation_fn = hp.Choice('activation_fn', values=['relu'])\n",
    "                                                       \n",
    "    input_tensor = Input(shape=(int(777),))\n",
    "    \n",
    "    layer1 = layers.Dense(n1, activation=activation_fn, use_bias=True,\n",
    "                          kernel_initializer='he_normal',bias_initializer='he_normal',\n",
    "                          kernel_regularizer=keras.regularizers.l2(l2= reg1))(input_tensor)\n",
    "    \n",
    "    layer1 = layers.Dense(n2, activation=activation_fn,use_bias=True,\n",
    "                          kernel_initializer='he_normal',bias_initializer='he_normal',\n",
    "                          kernel_regularizer=keras.regularizers.l2(l2=reg2))(layer1)\n",
    "\n",
    "    #decay_rate = learn / epochs\n",
    "    output_tensor = layers.Dense(2,activation='softmax')(layer1)\n",
    "    model = Model(input_tensor, output_tensor)\n",
    "    \n",
    "    # Define the learning rate\n",
    "    #lr = hp.Float('learning_rate', min_value=1e-4, max_value=1, sampling='LOG', default=1e-3)\n",
    "    lr = hp.Float('learning_rate', min_value=1e-3, max_value=1, default=1e-3)\n",
    "    model.compile(optimizer=keras.optimizers.legacy.Adam(learning_rate=lr),\n",
    "              loss = 'categorical_crossentropy', #Our loss function is based on categorical error\n",
    "              metrics=['categorical_accuracy'], #We will print out the categorical accuracy as the network is trained\n",
    "              )\n",
    "    return model"
   ]
  },
  {
   "cell_type": "code",
   "execution_count": 128,
   "id": "ff092005-a4ca-447a-822c-66fa44eafdb2",
   "metadata": {},
   "outputs": [],
   "source": [
    "######\n",
    "batch_size = 256 #The number of samples the network sees before it backpropagates (batch size)\n",
    "epochs = 50\n",
    "shuffle = True #Set whether to shuffle the training data so the model doesn't see it sequentially \n",
    "verbose = 0 #Set whether the model will output information when trained (0 = no output; 2 = output accuracy every epoch)"
   ]
  },
  {
   "cell_type": "code",
   "execution_count": 129,
   "id": "0da84ed7-fcc2-4b9b-bc95-f6e64eb676e7",
   "metadata": {},
   "outputs": [
    {
     "name": "stdout",
     "output_type": "stream",
     "text": [
      "Reloading Tuner from tuning/attempt8/tuner0.json\n"
     ]
    }
   ],
   "source": [
    "##intialize/setup the hyperband tuner\n",
    "tuner = kt.tuners.RandomSearch(\n",
    "    basic_ANN, #model\n",
    "    objective = [kt.Objective('val_loss', 'min'), kt.Objective('loss', 'min'),\n",
    "                kt.Objective('val_categorical_accuracy', 'max')], #target\n",
    "    max_trials=3000, #number of iterations of tuning to run\n",
    "    max_consecutive_failed_trials=3, #number of allowed failed trials\n",
    "    directory = 'tuning',\n",
    "    project_name='attempt8'\n",
    ")"
   ]
  },
  {
   "cell_type": "code",
   "execution_count": 130,
   "id": "b432163d-c7e5-40f5-a11e-51ce608730b2",
   "metadata": {},
   "outputs": [],
   "source": [
    "stop_early = tf.keras.callbacks.EarlyStopping(monitor='val_loss', patience=5)"
   ]
  },
  {
   "cell_type": "code",
   "execution_count": 131,
   "id": "b41927ac-e7f5-4b37-ae73-bca824e4c86b",
   "metadata": {
    "scrolled": true
   },
   "outputs": [],
   "source": [
    "##actual tuning process\n",
    "tuner.search(X_train, Y_train, validation_data=(X_validation, Y_validation),\n",
    "             batch_size=batch_size, epochs=epochs, shuffle=shuffle,\n",
    "             class_weight = class_weight, callbacks=[stop_early])"
   ]
  },
  {
   "cell_type": "code",
   "execution_count": 132,
   "id": "5ecb0d05-fb7c-4bde-aa4c-46bc362093cb",
   "metadata": {},
   "outputs": [],
   "source": [
    "##The code below is from the keras intro to hyperparameter tuning "
   ]
  },
  {
   "cell_type": "code",
   "execution_count": 133,
   "id": "aebae015-e0e7-41fe-93ab-82c604b59039",
   "metadata": {},
   "outputs": [
    {
     "name": "stdout",
     "output_type": "stream",
     "text": [
      "\n",
      "The hyperparameter search is complete. The optimal number of units in the first densely-connected\n",
      "layer is 128, the second is 4,\n",
      "regularizers are 0.3811507975364893 and 0.6398512241709514,\n",
      "and the optimal learning rate for the optimizer\n",
      "is 0.0010132862674746164.\n",
      "\n"
     ]
    }
   ],
   "source": [
    "# Get the optimal hyperparameters\n",
    "best_hps=tuner.get_best_hyperparameters(num_trials=1)[0]\n",
    "\n",
    "print(f\"\"\"\n",
    "The hyperparameter search is complete. The optimal number of units in the first densely-connected\n",
    "layer is {best_hps.get('n1')}, the second is {best_hps.get('n2')},\n",
    "regularizers are {best_hps.get('reg1')} and {best_hps.get('reg2')},\n",
    "and the optimal learning rate for the optimizer\n",
    "is {best_hps.get('learning_rate')}.\n",
    "\"\"\")"
   ]
  },
  {
   "cell_type": "code",
   "execution_count": 134,
   "id": "b33b2111-d460-4239-9b71-9e54ffe6b3b6",
   "metadata": {},
   "outputs": [
    {
     "data": {
      "text/plain": [
       "{'n1': 128,\n",
       " 'n2': 4,\n",
       " 'reg1': 0.3811507975364893,\n",
       " 'reg2': 0.6398512241709514,\n",
       " 'activation_fn': 'relu',\n",
       " 'learning_rate': 0.0010132862674746164}"
      ]
     },
     "execution_count": 134,
     "metadata": {},
     "output_type": "execute_result"
    }
   ],
   "source": [
    "best_hps.values"
   ]
  },
  {
   "cell_type": "code",
   "execution_count": 135,
   "id": "d0656da4-efc3-45f2-a26c-3906334a1677",
   "metadata": {
    "scrolled": true
   },
   "outputs": [
    {
     "name": "stdout",
     "output_type": "stream",
     "text": [
      "Train on 7897 samples, validate on 894 samples\n",
      "Epoch 1/50\n",
      "5120/7897 [==================>...........] - ETA: 0s - loss: 107.8954 - categorical_accuracy: 0.5291"
     ]
    },
    {
     "name": "stderr",
     "output_type": "stream",
     "text": [
      "2024-11-19 14:32:08.197074: W tensorflow/c/c_api.cc:305] Operation '{name:'training_16/Adam/dense_25/kernel/m/Assign' id:4792 op device:{requested: '', assigned: ''} def:{{{node training_16/Adam/dense_25/kernel/m/Assign}} = AssignVariableOp[_has_manual_control_dependencies=true, dtype=DT_FLOAT, validate_shape=false](training_16/Adam/dense_25/kernel/m, training_16/Adam/dense_25/kernel/m/Initializer/zeros)}}' was changed by setting attribute after it was run by a session. This mutation will have no effect, and will trigger an error in the future. Either don't modify nodes after running them or create a new session.\n"
     ]
    },
    {
     "name": "stdout",
     "output_type": "stream",
     "text": [
      "7897/7897 [==============================] - 0s 30us/sample - loss: 101.5592 - categorical_accuracy: 0.5258 - val_loss: 84.8337 - val_categorical_accuracy: 0.4855\n",
      "Epoch 2/50\n",
      "7897/7897 [==============================] - 0s 11us/sample - loss: 73.0495 - categorical_accuracy: 0.5134 - val_loss: 61.0649 - val_categorical_accuracy: 0.4855\n",
      "Epoch 3/50\n",
      "7897/7897 [==============================] - 0s 12us/sample - loss: 51.8823 - categorical_accuracy: 0.5145 - val_loss: 43.0303 - val_categorical_accuracy: 0.4877\n",
      "Epoch 4/50\n",
      "7897/7897 [==============================] - 0s 11us/sample - loss: 36.6361 - categorical_accuracy: 0.5156 - val_loss: 30.5355 - val_categorical_accuracy: 0.4933\n",
      "Epoch 5/50\n",
      "7897/7897 [==============================] - 0s 13us/sample - loss: 26.2016 - categorical_accuracy: 0.5191 - val_loss: 22.0516 - val_categorical_accuracy: 0.4944\n",
      "Epoch 6/50\n",
      "7897/7897 [==============================] - 0s 11us/sample - loss: 19.1129 - categorical_accuracy: 0.5192 - val_loss: 16.2823 - val_categorical_accuracy: 0.4922\n",
      "Epoch 7/50\n",
      "7897/7897 [==============================] - 0s 12us/sample - loss: 14.2495 - categorical_accuracy: 0.5237 - val_loss: 12.2838 - val_categorical_accuracy: 0.4899\n",
      "Epoch 8/50\n",
      "7897/7897 [==============================] - 0s 14us/sample - loss: 10.8772 - categorical_accuracy: 0.5210 - val_loss: 9.4750 - val_categorical_accuracy: 0.4944\n",
      "Epoch 9/50\n",
      "7897/7897 [==============================] - 0s 14us/sample - loss: 8.4692 - categorical_accuracy: 0.5216 - val_loss: 7.4928 - val_categorical_accuracy: 0.5011\n",
      "Epoch 10/50\n",
      "7897/7897 [==============================] - 0s 12us/sample - loss: 6.7442 - categorical_accuracy: 0.5348 - val_loss: 6.0120 - val_categorical_accuracy: 0.4877\n",
      "Epoch 11/50\n",
      "7897/7897 [==============================] - 0s 11us/sample - loss: 5.4501 - categorical_accuracy: 0.5282 - val_loss: 4.8643 - val_categorical_accuracy: 0.4821\n",
      "Epoch 12/50\n",
      "7897/7897 [==============================] - 0s 12us/sample - loss: 4.4574 - categorical_accuracy: 0.5153 - val_loss: 4.0185 - val_categorical_accuracy: 0.4799\n",
      "Epoch 13/50\n",
      "7897/7897 [==============================] - 0s 12us/sample - loss: 3.7320 - categorical_accuracy: 0.5282 - val_loss: 3.4229 - val_categorical_accuracy: 0.5213\n",
      "Epoch 14/50\n",
      "7897/7897 [==============================] - 0s 13us/sample - loss: 3.2018 - categorical_accuracy: 0.5941 - val_loss: 2.9594 - val_categorical_accuracy: 0.6029\n",
      "Epoch 15/50\n",
      "7897/7897 [==============================] - 0s 14us/sample - loss: 2.8079 - categorical_accuracy: 0.6301 - val_loss: 2.6427 - val_categorical_accuracy: 0.6107\n",
      "Epoch 16/50\n",
      "7897/7897 [==============================] - 0s 13us/sample - loss: 2.4364 - categorical_accuracy: 0.6527 - val_loss: 2.2678 - val_categorical_accuracy: 0.6342\n",
      "Epoch 17/50\n",
      "7897/7897 [==============================] - 0s 12us/sample - loss: 2.1660 - categorical_accuracy: 0.6605 - val_loss: 2.0633 - val_categorical_accuracy: 0.6700\n",
      "Epoch 18/50\n",
      "7897/7897 [==============================] - 0s 12us/sample - loss: 1.9856 - categorical_accuracy: 0.6605 - val_loss: 1.8542 - val_categorical_accuracy: 0.6499\n",
      "Epoch 19/50\n",
      "7897/7897 [==============================] - 0s 12us/sample - loss: 1.7630 - categorical_accuracy: 0.6638 - val_loss: 1.6514 - val_categorical_accuracy: 0.6734\n",
      "Epoch 20/50\n",
      "7897/7897 [==============================] - 0s 12us/sample - loss: 1.6324 - categorical_accuracy: 0.6695 - val_loss: 1.5518 - val_categorical_accuracy: 0.6700\n",
      "Epoch 21/50\n",
      "7897/7897 [==============================] - 0s 12us/sample - loss: 1.5384 - categorical_accuracy: 0.6576 - val_loss: 1.4660 - val_categorical_accuracy: 0.6588\n",
      "Epoch 22/50\n",
      "7897/7897 [==============================] - 0s 13us/sample - loss: 1.5182 - categorical_accuracy: 0.6620 - val_loss: 1.4825 - val_categorical_accuracy: 0.6566\n",
      "Epoch 23/50\n",
      "7897/7897 [==============================] - 0s 12us/sample - loss: 1.4129 - categorical_accuracy: 0.6616 - val_loss: 1.3333 - val_categorical_accuracy: 0.6622\n",
      "Epoch 24/50\n",
      "7897/7897 [==============================] - 0s 12us/sample - loss: 1.2956 - categorical_accuracy: 0.6663 - val_loss: 1.2208 - val_categorical_accuracy: 0.6644\n",
      "Epoch 25/50\n",
      "7897/7897 [==============================] - 0s 11us/sample - loss: 1.2762 - categorical_accuracy: 0.6600 - val_loss: 1.4815 - val_categorical_accuracy: 0.6644\n",
      "Epoch 26/50\n",
      "7897/7897 [==============================] - 0s 12us/sample - loss: 1.2919 - categorical_accuracy: 0.6608 - val_loss: 1.2492 - val_categorical_accuracy: 0.6611\n",
      "Epoch 27/50\n",
      "7897/7897 [==============================] - 0s 11us/sample - loss: 1.1530 - categorical_accuracy: 0.6657 - val_loss: 1.1150 - val_categorical_accuracy: 0.6723\n",
      "Epoch 28/50\n",
      "7897/7897 [==============================] - 0s 11us/sample - loss: 1.0679 - categorical_accuracy: 0.6670 - val_loss: 1.0265 - val_categorical_accuracy: 0.6700\n",
      "Epoch 29/50\n",
      "7897/7897 [==============================] - 0s 11us/sample - loss: 1.0286 - categorical_accuracy: 0.6668 - val_loss: 1.0124 - val_categorical_accuracy: 0.6655\n",
      "Epoch 30/50\n",
      "7897/7897 [==============================] - 0s 11us/sample - loss: 1.0155 - categorical_accuracy: 0.6659 - val_loss: 0.9865 - val_categorical_accuracy: 0.6588\n",
      "Epoch 31/50\n",
      "7897/7897 [==============================] - 0s 11us/sample - loss: 0.9745 - categorical_accuracy: 0.6652 - val_loss: 0.9588 - val_categorical_accuracy: 0.6633\n",
      "Epoch 32/50\n",
      "7897/7897 [==============================] - 0s 12us/sample - loss: 0.9457 - categorical_accuracy: 0.6687 - val_loss: 0.9490 - val_categorical_accuracy: 0.6566\n",
      "Epoch 33/50\n",
      "7897/7897 [==============================] - 0s 12us/sample - loss: 0.9043 - categorical_accuracy: 0.6692 - val_loss: 0.8724 - val_categorical_accuracy: 0.6588\n",
      "Epoch 34/50\n",
      "7897/7897 [==============================] - 0s 11us/sample - loss: 0.8711 - categorical_accuracy: 0.6662 - val_loss: 0.8502 - val_categorical_accuracy: 0.6611\n",
      "Epoch 35/50\n",
      "7897/7897 [==============================] - 0s 12us/sample - loss: 0.8431 - categorical_accuracy: 0.6628 - val_loss: 0.8209 - val_categorical_accuracy: 0.6689\n",
      "Epoch 36/50\n",
      "7897/7897 [==============================] - 0s 12us/sample - loss: 0.8230 - categorical_accuracy: 0.6675 - val_loss: 0.7910 - val_categorical_accuracy: 0.6734\n",
      "Epoch 37/50\n",
      "7897/7897 [==============================] - 0s 13us/sample - loss: 0.8064 - categorical_accuracy: 0.6667 - val_loss: 0.7889 - val_categorical_accuracy: 0.6566\n",
      "Epoch 38/50\n",
      "7897/7897 [==============================] - 0s 12us/sample - loss: 0.7864 - categorical_accuracy: 0.6720 - val_loss: 0.7773 - val_categorical_accuracy: 0.6488\n",
      "Epoch 39/50\n",
      "7897/7897 [==============================] - 0s 14us/sample - loss: 0.8073 - categorical_accuracy: 0.6663 - val_loss: 0.8698 - val_categorical_accuracy: 0.6320\n",
      "Epoch 40/50\n",
      "7897/7897 [==============================] - 0s 14us/sample - loss: 0.8402 - categorical_accuracy: 0.6589 - val_loss: 0.8071 - val_categorical_accuracy: 0.6555\n",
      "Epoch 41/50\n",
      "7897/7897 [==============================] - 0s 12us/sample - loss: 0.7758 - categorical_accuracy: 0.6615 - val_loss: 0.7448 - val_categorical_accuracy: 0.6577\n",
      "Epoch 42/50\n",
      "7897/7897 [==============================] - 0s 11us/sample - loss: 0.7546 - categorical_accuracy: 0.6729 - val_loss: 0.7271 - val_categorical_accuracy: 0.6890\n",
      "Epoch 43/50\n",
      "7897/7897 [==============================] - 0s 12us/sample - loss: 0.7490 - categorical_accuracy: 0.6684 - val_loss: 0.7455 - val_categorical_accuracy: 0.6465\n",
      "Epoch 44/50\n",
      "7897/7897 [==============================] - 0s 12us/sample - loss: 0.7347 - categorical_accuracy: 0.6703 - val_loss: 0.7179 - val_categorical_accuracy: 0.6745\n",
      "Epoch 45/50\n",
      "7897/7897 [==============================] - 0s 12us/sample - loss: 0.7422 - categorical_accuracy: 0.6700 - val_loss: 0.7600 - val_categorical_accuracy: 0.6432\n",
      "Epoch 46/50\n",
      "7897/7897 [==============================] - 0s 13us/sample - loss: 0.7476 - categorical_accuracy: 0.6653 - val_loss: 0.7384 - val_categorical_accuracy: 0.6454\n",
      "Epoch 47/50\n",
      "7897/7897 [==============================] - 0s 12us/sample - loss: 0.7177 - categorical_accuracy: 0.6648 - val_loss: 0.6922 - val_categorical_accuracy: 0.6700\n",
      "Epoch 48/50\n",
      "7897/7897 [==============================] - 0s 12us/sample - loss: 0.6937 - categorical_accuracy: 0.6709 - val_loss: 0.6779 - val_categorical_accuracy: 0.6711\n",
      "Epoch 49/50\n",
      "7897/7897 [==============================] - 0s 12us/sample - loss: 0.6887 - categorical_accuracy: 0.6652 - val_loss: 0.6825 - val_categorical_accuracy: 0.6342\n",
      "Epoch 50/50\n",
      "7897/7897 [==============================] - 0s 11us/sample - loss: 0.6893 - categorical_accuracy: 0.6706 - val_loss: 0.6817 - val_categorical_accuracy: 0.6443\n"
     ]
    }
   ],
   "source": [
    "# Build the model with the optimal hyperparameters and train it on the data for 50 epochs\n",
    "model = tuner.hypermodel.build(best_hps)\n",
    "history = model.fit(X_train,Y_train, validation_data=(X_validation, Y_validation),\n",
    "                    batch_size=batch_size, epochs=epochs, shuffle=shuffle,class_weight = class_weight)"
   ]
  },
  {
   "cell_type": "code",
   "execution_count": 136,
   "id": "97250f39-d400-487f-9c5a-b0629d57001c",
   "metadata": {},
   "outputs": [
    {
     "name": "stderr",
     "output_type": "stream",
     "text": [
      "2024-11-19 14:32:13.261054: W tensorflow/c/c_api.cc:305] Operation '{name:'dense_26/Softmax' id:4525 op device:{requested: '', assigned: ''} def:{{{node dense_26/Softmax}} = Softmax[T=DT_FLOAT, _has_manual_control_dependencies=true](dense_26/BiasAdd)}}' was changed by setting attribute after it was run by a session. This mutation will have no effect, and will trigger an error in the future. Either don't modify nodes after running them or create a new session.\n"
     ]
    },
    {
     "data": {
      "text/plain": [
       "<bound method Axes.legend of <Axes: title={'center': 'Accuracy'}, xlabel='Epoch', ylabel='Acc'>>"
      ]
     },
     "execution_count": 136,
     "metadata": {},
     "output_type": "execute_result"
    },
    {
     "data": {
      "image/png": "[encoded data removed]",
      "text/plain": [
       "<Figure size 1600x400 with 2 Axes>"
      ]
     },
     "metadata": {},
     "output_type": "display_data"
    }
   ],
   "source": [
    "train_loss=model.history.history['loss']\n",
    "val_loss=model.history.history['val_loss']\n",
    "    \n",
    "cat_acc=model.history.history['categorical_accuracy']\n",
    "val_acc=model.history.history['val_categorical_accuracy']\n",
    "        \n",
    "pred = model.predict(X_all)\n",
    "pred_val = model.predict(X_validation)\n",
    "pred_train = model.predict(X_train)\n",
    "pred_test = model.predict(X_test)\n",
    "\n",
    "# Look at the optimization history\n",
    "fig, (ax1,ax2) = plt.subplots(1,2, figsize=plt.figaspect(0.25))\n",
    "ax1.plot(train_loss, label='Training loss')\n",
    "ax1.plot(val_loss, label='Validation loss')\n",
    "ax1.set_yscale('log')\n",
    "ax1.set_title('loss')\n",
    "ax1.set_xlabel('Epoch')\n",
    "ax1.set_ylabel('loss')\n",
    "ax1.legend()\n",
    "\n",
    "ax2.plot(cat_acc, label='Training ACC')\n",
    "ax2.plot(val_acc, label='Validation ACC')\n",
    "ax2.set_title('Accuracy')\n",
    "ax2.set_xlabel('Epoch')\n",
    "ax2.set_ylabel('Acc')\n",
    "ax2.legend"
   ]
  },
  {
   "cell_type": "code",
   "execution_count": null,
   "id": "7ccf1e68-a615-4cde-8c47-13a589abf803",
   "metadata": {},
   "outputs": [],
   "source": []
  }
 ],
 "metadata": {
  "kernelspec": {
   "display_name": "Python 3 (ipykernel)",
   "language": "python",
   "name": "python3"
  },
  "language_info": {
   "codemirror_mode": {
    "name": "ipython",
    "version": 3
   },
   "file_extension": ".py",
   "mimetype": "text/x-python",
   "name": "python",
   "nbconvert_exporter": "python",
   "pygments_lexer": "ipython3",
   "version": "3.11.7"
  }
 },
 "nbformat": 4,
 "nbformat_minor": 5
}
