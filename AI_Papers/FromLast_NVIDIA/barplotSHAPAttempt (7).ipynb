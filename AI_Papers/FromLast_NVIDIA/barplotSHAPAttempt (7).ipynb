{
 "cells": [
  {
   "cell_type": "markdown",
   "id": "2dec5d7f-a1e5-4ab8-990f-57684f826203",
   "metadata": {},
   "source": [
    "#### Copy of SHAP Code but for barplot plots."
   ]
  },
  {
   "cell_type": "markdown",
   "id": "0c2ef54e-b585-4377-b98c-a029db521e90",
   "metadata": {
    "collapsed": true,
    "jupyter": {
     "outputs_hidden": true
    }
   },
   "source": [
    "!pip install netCDF4\n",
    "!pip install cmocean\n",
    "!pip install investigate"
   ]
  },
  {
   "cell_type": "code",
   "execution_count": 1,
   "id": "5b116faa-0767-4450-87c4-8728a975b788",
   "metadata": {
    "jupyter": {
     "source_hidden": true
    }
   },
   "outputs": [
    {
     "name": "stderr",
     "output_type": "stream",
     "text": [
      "2024-10-08 21:56:02.741819: E tensorflow/compiler/xla/stream_executor/cuda/cuda_dnn.cc:9342] Unable to register cuDNN factory: Attempting to register factory for plugin cuDNN when one has already been registered\n",
      "2024-10-08 21:56:02.741878: E tensorflow/compiler/xla/stream_executor/cuda/cuda_fft.cc:609] Unable to register cuFFT factory: Attempting to register factory for plugin cuFFT when one has already been registered\n",
      "2024-10-08 21:56:02.741913: E tensorflow/compiler/xla/stream_executor/cuda/cuda_blas.cc:1518] Unable to register cuBLAS factory: Attempting to register factory for plugin cuBLAS when one has already been registered\n",
      "2024-10-08 21:56:02.747516: I tensorflow/core/platform/cpu_feature_guard.cc:182] This TensorFlow binary is optimized to use available CPU instructions in performance-critical operations.\n",
      "To enable the following instructions: AVX2 FMA, in other operations, rebuild TensorFlow with the appropriate compiler flags.\n"
     ]
    }
   ],
   "source": [
    "##import the python functions from my NN file\n",
    "from NN_arch524 import class_weight_creator\n",
    "from NN_arch524 import input_output_data\n",
    "from NN_arch524 import basic_ANN\n",
    "from NN_arch524 import basic_ANNl2\n",
    "from NN_arch524 import three_ANN\n",
    "from NN_arch524 import four_ANN\n",
    "from NN_arch524 import five_ANN"
   ]
  },
  {
   "cell_type": "code",
   "execution_count": 2,
   "id": "8d22c52b-2471-46e7-bbb9-d06c77f1057b",
   "metadata": {},
   "outputs": [],
   "source": [
    "from RNNdef_524 import build_lstm"
   ]
  },
  {
   "cell_type": "code",
   "execution_count": 3,
   "id": "41043f1c-b97b-4857-aa92-d02185d16b3d",
   "metadata": {},
   "outputs": [],
   "source": [
    "%matplotlib inline\n",
    "##so-called \"math\" related imports\n",
    "from netCDF4 import Dataset as ncread\n",
    "import numpy as np\n",
    "from scipy.io import loadmat\n",
    "import pandas as pd\n",
    "import h5py\n",
    "import math\n",
    "from random import seed\n",
    "from random import randint\n",
    "from random import sample\n",
    "from scipy.ndimage import gaussian_filter\n",
    "from sklearn.metrics import brier_score_loss\n",
    "import xarray as xr\n",
    "\n",
    "import pickle\n",
    "\n",
    "##plotting related imports\n",
    "import matplotlib.pyplot as plt\n",
    "from matplotlib import rcParams #For changing text properties\n",
    "import cmocean #A package with beautiful colormaps\n",
    "from cartopy import crs as ccrs #Useful for plotting maps\n",
    "import cartopy.util #Requires separate import\n",
    "from cartopy.util import add_cyclic_point\n",
    "import cartopy.feature as cf\n",
    "from cartopy.mpl.ticker import LongitudeFormatter, LatitudeFormatter\n",
    "import matplotlib.path as mpath\n",
    "import matplotlib.colors as mcolors"
   ]
  },
  {
   "cell_type": "code",
   "execution_count": 4,
   "id": "e2b1b6eb-ed57-4fa5-a24f-ef1e264b368c",
   "metadata": {},
   "outputs": [],
   "source": [
    "##import tensorflow/keras related files\n",
    "import tensorflow as tf    \n",
    "#tf.compat.v1.disable_v2_behavior() # <-- HERE !\n",
    "\n",
    "from tensorflow import keras\n",
    "from tensorflow.keras import layers\n",
    "from tensorflow.keras import Input\n",
    "from tensorflow.keras.models import Model\n",
    "from tensorflow.keras.callbacks import ModelCheckpoint\n",
    "from tensorflow.keras import regularizers\n",
    "import tensorflow.keras.backend as K\n",
    "from tensorflow.keras.utils import to_categorical\n",
    "from tensorflow.keras.layers import Dropout, Activation, Reshape, Flatten, LSTM, Dense, Dropout, Embedding, Bidirectional, GRU\n",
    "from tensorflow.keras import Sequential\n",
    "from tensorflow.keras import initializers, regularizers\n",
    "from tensorflow.keras import optimizers\n",
    "from tensorflow.keras import constraints\n",
    "from tensorflow.keras.layers import Layer, InputSpec"
   ]
  },
  {
   "cell_type": "code",
   "execution_count": 5,
   "id": "72d24159-25a8-4785-9741-0c62b88d42db",
   "metadata": {},
   "outputs": [],
   "source": [
    "tf.compat.v1.disable_eager_execution()\n",
    "import investigate"
   ]
  },
  {
   "cell_type": "code",
   "execution_count": 6,
   "id": "b6985ed1-5eff-442e-937b-26142d771f60",
   "metadata": {},
   "outputs": [],
   "source": [
    "##2-meter temperature anomaly classification \n",
    "#0; 0-25%\n",
    "#1; 25-50%\n",
    "#2; 50-75%\n",
    "#3; 75-100%\n",
    "\n",
    "#inputs ... CHANGE FOR WHATEVER YOU WANT TO LOOK AT \n",
    "infile = open(\"./data/NN_data/GL_DataAnom_class_14.p\", 'rb') \n",
    "input = pickle.load(infile)\n",
    "infile.close()\n",
    "\n",
    "#outputs\n",
    "infile = open(\"./data/NN_data/GL_tempclass_14.p\", 'rb')\n",
    "temp = pickle.load(infile)\n",
    "infile.close()\n",
    "#temp = temp.flatten()\n",
    "\n",
    "#climo probabilities\n",
    "#infile = open(\"./data/gl_3climoprob.p\", 'rb')\n",
    "#climo = pickle.load(infile)\n",
    "#infile.close()"
   ]
  },
  {
   "cell_type": "code",
   "execution_count": 7,
   "id": "75880993-0714-4a0b-a81d-4ba618f8d6a5",
   "metadata": {},
   "outputs": [
    {
     "data": {
      "text/plain": [
       "(1727, 7, 9)"
      ]
     },
     "execution_count": 7,
     "metadata": {},
     "output_type": "execute_result"
    }
   ],
   "source": [
    "input.shape"
   ]
  },
  {
   "cell_type": "code",
   "execution_count": 8,
   "id": "b0d83c62-4bd3-40c2-b5f3-f95a4fddcf72",
   "metadata": {},
   "outputs": [],
   "source": [
    "indices = np.isnan(input)\n",
    "\n",
    "for val in indices:\n",
    "    if np.any(val) != False:\n",
    "        print(\"True\")"
   ]
  },
  {
   "cell_type": "code",
   "execution_count": 9,
   "id": "c167b393-a0b8-430d-89a8-f4417f1d0c9a",
   "metadata": {},
   "outputs": [
    {
     "data": {
      "text/plain": [
       "array([-0.55408303, -0.64515604, -0.79300354, -0.60441202, -0.58404081,\n",
       "       -0.57805013, -0.47626018])"
      ]
     },
     "execution_count": 9,
     "metadata": {},
     "output_type": "execute_result"
    }
   ],
   "source": [
    "input[0,:,1]"
   ]
  },
  {
   "cell_type": "code",
   "execution_count": 10,
   "id": "415fcbbd-40d2-4d0c-9f9e-caeeb5377f7e",
   "metadata": {},
   "outputs": [
    {
     "data": {
      "text/plain": [
       "array([1, 1, 1, ..., 1, 1, 1])"
      ]
     },
     "execution_count": 10,
     "metadata": {},
     "output_type": "execute_result"
    }
   ],
   "source": [
    "temp"
   ]
  },
  {
   "cell_type": "code",
   "execution_count": 11,
   "id": "66c22e36-a9c9-46ca-a347-e14cb0affd3c",
   "metadata": {},
   "outputs": [],
   "source": [
    "input = input.reshape((len(input[:,0,0]),63))"
   ]
  },
  {
   "cell_type": "code",
   "execution_count": 12,
   "id": "23854b2e-b9f2-4fb6-9e20-116f482a2c8b",
   "metadata": {},
   "outputs": [],
   "source": [
    "######\n",
    "batch_size = 128 #The number of samples the network sees before it backpropagates (batch size)\n",
    "epochs = 50 #The number of times the network will loop through the entire dataset (epochs)\n",
    "shuffle = True #Set whether to shuffle the training data so the model doesn't see it sequentially \n",
    "verbose = 2 #Set whether the model will output information when trained (0 = no output; 2 = output accuracy every epoch)"
   ]
  },
  {
   "cell_type": "code",
   "execution_count": 13,
   "id": "15d6e6e6-edce-42bd-b709-610379b31c10",
   "metadata": {},
   "outputs": [],
   "source": [
    "X_all = np.copy(input)\n",
    "Y_all = np.copy(temp)\n",
    "#Convert the Y array into a categorical array. This means we will create one-hot vector labels for all of the inputs.\n",
    "# The one-hot vectors have an index for each possible output category (two in our case)\n",
    "# A \"1\" is put in the index corresponding to the category to which the sample belongs\n",
    "Y_all = keras.utils.to_categorical(Y_all)\n",
    "\n",
    "frac_validate = 0.2"
   ]
  },
  {
   "cell_type": "code",
   "execution_count": 14,
   "id": "947a57ca-db85-40d1-9ced-68100aa3bf68",
   "metadata": {},
   "outputs": [
    {
     "data": {
      "text/plain": [
       "(1727, 63)"
      ]
     },
     "execution_count": 14,
     "metadata": {},
     "output_type": "execute_result"
    }
   ],
   "source": [
    "X_all.shape"
   ]
  },
  {
   "cell_type": "code",
   "execution_count": 15,
   "id": "15de45d3-3531-46d2-868e-cf458fe5a700",
   "metadata": {},
   "outputs": [
    {
     "data": {
      "text/plain": [
       "(1727, 2)"
      ]
     },
     "execution_count": 15,
     "metadata": {},
     "output_type": "execute_result"
    }
   ],
   "source": [
    "Y_all.shape"
   ]
  },
  {
   "cell_type": "code",
   "execution_count": 16,
   "id": "bc4f3e7d-6118-457b-b445-e880550fa7f5",
   "metadata": {},
   "outputs": [
    {
     "data": {
      "text/plain": [
       "259"
      ]
     },
     "execution_count": 16,
     "metadata": {},
     "output_type": "execute_result"
    }
   ],
   "source": [
    "frac = round(len(input[:,0])*0.15)\n",
    "frac"
   ]
  },
  {
   "cell_type": "code",
   "execution_count": 17,
   "id": "b62bf225-63c6-4874-bea2-d8c7669bfd2f",
   "metadata": {
    "scrolled": true
   },
   "outputs": [
    {
     "name": "stdout",
     "output_type": "stream",
     "text": [
      "Train on 1209 samples, validate on 259 samples\n",
      "Epoch 1/50\n"
     ]
    },
    {
     "name": "stderr",
     "output_type": "stream",
     "text": [
      "2024-10-08 21:56:06.206309: W tensorflow/core/common_runtime/gpu/gpu_device.cc:2211] Cannot dlopen some GPU libraries. Please make sure the missing libraries mentioned above are installed properly if you would like to use GPU. Follow the guide at https://www.tensorflow.org/install/gpu for how to download and setup the required libraries for your platform.\n",
      "Skipping registering GPU devices...\n",
      "2024-10-08 21:56:06.232988: I tensorflow/compiler/mlir/mlir_graph_optimization_pass.cc:382] MLIR V1 optimization pass is not enabled\n",
      "2024-10-08 21:56:06.264044: W tensorflow/c/c_api.cc:305] Operation '{name:'training/SGD/decay/Assign' id:512 op device:{requested: '', assigned: ''} def:{{{node training/SGD/decay/Assign}} = AssignVariableOp[_has_manual_control_dependencies=true, dtype=DT_FLOAT, validate_shape=false](training/SGD/decay, training/SGD/decay/Initializer/initial_value)}}' was changed by setting attribute after it was run by a session. This mutation will have no effect, and will trigger an error in the future. Either don't modify nodes after running them or create a new session.\n",
      "/usr/local/lib/python3.10/dist-packages/keras/src/engine/training_v1.py:2335: UserWarning: `Model.state_updates` will be removed in a future version. This property should not be used in TensorFlow 2.0, as `updates` are applied automatically.\n",
      "  updates = self.state_updates\n"
     ]
    },
    {
     "name": "stdout",
     "output_type": "stream",
     "text": [
      "1209/1209 - 0s - loss: 10.3551 - categorical_accuracy: 0.5070 - val_loss: 6.5098 - val_categorical_accuracy: 0.5444 - 133ms/epoch - 110us/sample\n",
      "Epoch 2/50\n",
      "1209/1209 - 0s - loss: 5.1165 - categorical_accuracy: 0.6005 - val_loss: 3.6216 - val_categorical_accuracy: 0.5405 - 9ms/epoch - 7us/sample\n",
      "Epoch 3/50\n",
      "1209/1209 - 0s - loss: 2.9476 - categorical_accuracy: 0.5831 - val_loss: 2.2951 - val_categorical_accuracy: 0.5483 - 8ms/epoch - 7us/sample\n",
      "Epoch 4/50\n",
      "1209/1209 - 0s - loss: 1.9498 - categorical_accuracy: 0.5707 - val_loss: 1.6015 - val_categorical_accuracy: 0.5907 - 8ms/epoch - 7us/sample\n",
      "Epoch 5/50\n",
      "1209/1209 - 0s - loss: 1.4927 - categorical_accuracy: 0.6071 - val_loss: 1.3428 - val_categorical_accuracy: 0.6062 - 8ms/epoch - 7us/sample\n",
      "Epoch 6/50\n",
      "1209/1209 - 0s - loss: 1.2908 - categorical_accuracy: 0.6253 - val_loss: 1.2471 - val_categorical_accuracy: 0.5483 - 8ms/epoch - 7us/sample\n",
      "Epoch 7/50\n",
      "1209/1209 - 0s - loss: 1.1932 - categorical_accuracy: 0.6361 - val_loss: 1.1433 - val_categorical_accuracy: 0.5830 - 8ms/epoch - 7us/sample\n",
      "Epoch 8/50\n",
      "1209/1209 - 0s - loss: 1.1184 - categorical_accuracy: 0.6435 - val_loss: 1.1008 - val_categorical_accuracy: 0.5907 - 8ms/epoch - 7us/sample\n",
      "Epoch 9/50\n",
      "1209/1209 - 0s - loss: 1.0752 - categorical_accuracy: 0.6319 - val_loss: 1.0553 - val_categorical_accuracy: 0.5753 - 8ms/epoch - 7us/sample\n",
      "Epoch 10/50\n",
      "1209/1209 - 0s - loss: 1.0330 - categorical_accuracy: 0.6435 - val_loss: 1.0351 - val_categorical_accuracy: 0.5830 - 8ms/epoch - 6us/sample\n",
      "Epoch 11/50\n",
      "1209/1209 - 0s - loss: 0.9998 - categorical_accuracy: 0.6468 - val_loss: 1.0074 - val_categorical_accuracy: 0.5792 - 8ms/epoch - 6us/sample\n",
      "Epoch 12/50\n",
      "1209/1209 - 0s - loss: 0.9730 - categorical_accuracy: 0.6510 - val_loss: 0.9693 - val_categorical_accuracy: 0.5907 - 8ms/epoch - 6us/sample\n",
      "Epoch 13/50\n",
      "1209/1209 - 0s - loss: 0.9562 - categorical_accuracy: 0.6518 - val_loss: 0.9498 - val_categorical_accuracy: 0.6062 - 8ms/epoch - 6us/sample\n",
      "Epoch 14/50\n",
      "1209/1209 - 0s - loss: 0.9376 - categorical_accuracy: 0.6369 - val_loss: 0.9743 - val_categorical_accuracy: 0.5560 - 8ms/epoch - 6us/sample\n",
      "Epoch 15/50\n",
      "1209/1209 - 0s - loss: 0.9372 - categorical_accuracy: 0.6303 - val_loss: 0.9783 - val_categorical_accuracy: 0.5598 - 8ms/epoch - 6us/sample\n",
      "Epoch 16/50\n",
      "1209/1209 - 0s - loss: 0.9164 - categorical_accuracy: 0.6245 - val_loss: 0.9258 - val_categorical_accuracy: 0.5830 - 8ms/epoch - 6us/sample\n",
      "Epoch 17/50\n",
      "1209/1209 - 0s - loss: 0.8933 - categorical_accuracy: 0.6410 - val_loss: 0.9130 - val_categorical_accuracy: 0.5907 - 8ms/epoch - 6us/sample\n",
      "Epoch 18/50\n",
      "1209/1209 - 0s - loss: 0.8761 - categorical_accuracy: 0.6452 - val_loss: 0.8821 - val_categorical_accuracy: 0.5869 - 8ms/epoch - 6us/sample\n",
      "Epoch 19/50\n",
      "1209/1209 - 0s - loss: 0.8633 - categorical_accuracy: 0.6551 - val_loss: 0.8737 - val_categorical_accuracy: 0.5792 - 8ms/epoch - 6us/sample\n",
      "Epoch 20/50\n",
      "1209/1209 - 0s - loss: 0.8548 - categorical_accuracy: 0.6369 - val_loss: 0.8843 - val_categorical_accuracy: 0.5869 - 8ms/epoch - 6us/sample\n",
      "Epoch 21/50\n",
      "1209/1209 - 0s - loss: 0.8491 - categorical_accuracy: 0.6460 - val_loss: 0.8727 - val_categorical_accuracy: 0.5676 - 8ms/epoch - 6us/sample\n",
      "Epoch 22/50\n",
      "1209/1209 - 0s - loss: 0.8343 - categorical_accuracy: 0.6452 - val_loss: 0.8456 - val_categorical_accuracy: 0.6062 - 7ms/epoch - 6us/sample\n",
      "Epoch 23/50\n",
      "1209/1209 - 0s - loss: 0.8254 - categorical_accuracy: 0.6485 - val_loss: 0.8407 - val_categorical_accuracy: 0.5869 - 8ms/epoch - 6us/sample\n",
      "Epoch 24/50\n",
      "1209/1209 - 0s - loss: 0.8207 - categorical_accuracy: 0.6543 - val_loss: 0.8482 - val_categorical_accuracy: 0.5869 - 8ms/epoch - 6us/sample\n",
      "Epoch 25/50\n",
      "1209/1209 - 0s - loss: 0.8179 - categorical_accuracy: 0.6551 - val_loss: 0.8436 - val_categorical_accuracy: 0.5714 - 8ms/epoch - 6us/sample\n",
      "Epoch 26/50\n",
      "1209/1209 - 0s - loss: 0.8067 - categorical_accuracy: 0.6559 - val_loss: 0.8309 - val_categorical_accuracy: 0.5869 - 8ms/epoch - 6us/sample\n",
      "Epoch 27/50\n",
      "1209/1209 - 0s - loss: 0.7967 - categorical_accuracy: 0.6534 - val_loss: 0.8332 - val_categorical_accuracy: 0.5637 - 7ms/epoch - 6us/sample\n",
      "Epoch 28/50\n",
      "1209/1209 - 0s - loss: 0.7930 - categorical_accuracy: 0.6551 - val_loss: 0.8131 - val_categorical_accuracy: 0.5792 - 8ms/epoch - 6us/sample\n",
      "Epoch 29/50\n",
      "1209/1209 - 0s - loss: 0.7881 - categorical_accuracy: 0.6419 - val_loss: 0.8269 - val_categorical_accuracy: 0.5521 - 8ms/epoch - 6us/sample\n",
      "Epoch 30/50\n",
      "1209/1209 - 0s - loss: 0.7935 - categorical_accuracy: 0.6427 - val_loss: 0.7947 - val_categorical_accuracy: 0.6293 - 8ms/epoch - 6us/sample\n",
      "Epoch 31/50\n",
      "1209/1209 - 0s - loss: 0.7849 - categorical_accuracy: 0.6369 - val_loss: 0.8044 - val_categorical_accuracy: 0.6023 - 8ms/epoch - 6us/sample\n",
      "Epoch 32/50\n",
      "1209/1209 - 0s - loss: 0.7780 - categorical_accuracy: 0.6485 - val_loss: 0.8087 - val_categorical_accuracy: 0.5714 - 7ms/epoch - 6us/sample\n",
      "Epoch 33/50\n",
      "1209/1209 - 0s - loss: 0.7762 - categorical_accuracy: 0.6468 - val_loss: 0.8059 - val_categorical_accuracy: 0.5792 - 7ms/epoch - 6us/sample\n",
      "Epoch 34/50\n",
      "1209/1209 - 0s - loss: 0.7702 - categorical_accuracy: 0.6634 - val_loss: 0.8006 - val_categorical_accuracy: 0.5792 - 7ms/epoch - 6us/sample\n",
      "Epoch 35/50\n",
      "1209/1209 - 0s - loss: 0.7687 - categorical_accuracy: 0.6460 - val_loss: 0.7858 - val_categorical_accuracy: 0.5792 - 8ms/epoch - 6us/sample\n",
      "Epoch 36/50\n",
      "1209/1209 - 0s - loss: 0.7624 - categorical_accuracy: 0.6518 - val_loss: 0.7847 - val_categorical_accuracy: 0.5907 - 8ms/epoch - 6us/sample\n",
      "Epoch 37/50\n",
      "1209/1209 - 0s - loss: 0.7638 - categorical_accuracy: 0.6344 - val_loss: 0.7785 - val_categorical_accuracy: 0.5869 - 8ms/epoch - 6us/sample\n",
      "Epoch 38/50\n",
      "1209/1209 - 0s - loss: 0.7589 - categorical_accuracy: 0.6369 - val_loss: 0.7846 - val_categorical_accuracy: 0.5946 - 8ms/epoch - 6us/sample\n",
      "Epoch 39/50\n",
      "1209/1209 - 0s - loss: 0.7529 - categorical_accuracy: 0.6476 - val_loss: 0.7808 - val_categorical_accuracy: 0.5676 - 8ms/epoch - 6us/sample\n",
      "Epoch 40/50\n",
      "1209/1209 - 0s - loss: 0.7548 - categorical_accuracy: 0.6476 - val_loss: 0.7838 - val_categorical_accuracy: 0.5869 - 8ms/epoch - 6us/sample\n",
      "Epoch 41/50\n",
      "1209/1209 - 0s - loss: 0.7505 - categorical_accuracy: 0.6485 - val_loss: 0.7832 - val_categorical_accuracy: 0.5676 - 8ms/epoch - 6us/sample\n",
      "Epoch 42/50\n",
      "1209/1209 - 0s - loss: 0.7489 - categorical_accuracy: 0.6501 - val_loss: 0.7875 - val_categorical_accuracy: 0.5521 - 8ms/epoch - 6us/sample\n",
      "Epoch 43/50\n",
      "1209/1209 - 0s - loss: 0.7478 - categorical_accuracy: 0.6559 - val_loss: 0.7680 - val_categorical_accuracy: 0.5792 - 8ms/epoch - 6us/sample\n",
      "Epoch 44/50\n",
      "1209/1209 - 0s - loss: 0.7468 - categorical_accuracy: 0.6452 - val_loss: 0.7707 - val_categorical_accuracy: 0.6255 - 8ms/epoch - 6us/sample\n",
      "Epoch 45/50\n",
      "1209/1209 - 0s - loss: 0.7454 - categorical_accuracy: 0.6559 - val_loss: 0.7654 - val_categorical_accuracy: 0.5985 - 8ms/epoch - 6us/sample\n",
      "Epoch 46/50\n",
      "1209/1209 - 0s - loss: 0.7455 - categorical_accuracy: 0.6510 - val_loss: 0.7630 - val_categorical_accuracy: 0.6023 - 8ms/epoch - 6us/sample\n",
      "Epoch 47/50\n",
      "1209/1209 - 0s - loss: 0.7399 - categorical_accuracy: 0.6493 - val_loss: 0.7771 - val_categorical_accuracy: 0.5830 - 8ms/epoch - 6us/sample\n",
      "Epoch 48/50\n",
      "1209/1209 - 0s - loss: 0.7447 - categorical_accuracy: 0.6493 - val_loss: 0.7661 - val_categorical_accuracy: 0.5637 - 7ms/epoch - 6us/sample\n",
      "Epoch 49/50\n",
      "1209/1209 - 0s - loss: 0.7366 - categorical_accuracy: 0.6584 - val_loss: 0.7827 - val_categorical_accuracy: 0.5753 - 8ms/epoch - 6us/sample\n",
      "Epoch 50/50\n",
      "1209/1209 - 0s - loss: 0.7438 - categorical_accuracy: 0.6427 - val_loss: 0.7679 - val_categorical_accuracy: 0.5598 - 7ms/epoch - 6us/sample\n"
     ]
    },
    {
     "name": "stderr",
     "output_type": "stream",
     "text": [
      "/usr/local/lib/python3.10/dist-packages/keras/src/engine/training_v1.py:2359: UserWarning: `Model.state_updates` will be removed in a future version. This property should not be used in TensorFlow 2.0, as `updates` are applied automatically.\n",
      "  updates=self.state_updates,\n",
      "2024-10-08 21:56:06.839175: W tensorflow/c/c_api.cc:305] Operation '{name:'dense_3/Softmax' id:119 op device:{requested: '', assigned: ''} def:{{{node dense_3/Softmax}} = Softmax[T=DT_FLOAT, _has_manual_control_dependencies=true](dense_3/BiasAdd)}}' was changed by setting attribute after it was run by a session. This mutation will have no effect, and will trigger an error in the future. Either don't modify nodes after running them or create a new session.\n"
     ]
    }
   ],
   "source": [
    "#numb_inputs1 = X_all.shape[1]\n",
    "#numb_inputs2 = X_all.shape[2]\n",
    "number_inputs =  X_all.shape[-1]\n",
    "\n",
    "X_validation = X_all[0:int(frac)]\n",
    "Y_validation = Y_all[0:int(frac)]\n",
    "        \n",
    "X_train = X_all[int(frac):len(X_all)-int(frac)]\n",
    "Y_train = Y_all[int(frac):len(Y_all)-int(frac)]\n",
    "\n",
    "X_test = X_all[len(X_all)-int(frac):]\n",
    "Y_test = Y_all[len(Y_all)-int(frac):]\n",
    "\n",
    "#Create class weights for training the model. If the dataset is unbalanced, this helps ensure the model\n",
    "# does not simply start guessing the class that has more samples.\n",
    "class_weight = class_weight_creator(Y_all)\n",
    "model = three_ANN(number_inputs, 2, 64, 32, 16, 0.01, 0.005, 0.01, 0.005, 0.005, 0.001, 0.925, epochs)\n",
    "#build_lstm(ntimestep, nfeature, numlayer, regval, neurons, numdenselayer, denseneurons, out_neurons, lr, recurr_dropout)\n",
    "#model = build_lstm(numb_inputs1, numb_inputs2, 3, [1, 1, 0.05], [256,128,64], 1, [16], 2, 1, 0.1)\n",
    "model.fit(X_train, Y_train, validation_data=(X_validation, Y_validation),\n",
    "          batch_size=batch_size, epochs=epochs, shuffle=shuffle, verbose=verbose, class_weight=class_weight)\n",
    "    \n",
    "train_loss=model.history.history['loss']\n",
    "val_loss=model.history.history['val_loss']\n",
    "    \n",
    "cat_acc=model.history.history['categorical_accuracy']\n",
    "val_acc=model.history.history['val_categorical_accuracy']\n",
    "        \n",
    "pred = model.predict(X_all)\n",
    "pred_val = model.predict(X_validation)\n",
    "pred_train = model.predict(X_train)\n",
    "pred_test = model.predict(X_test)"
   ]
  },
  {
   "cell_type": "code",
   "execution_count": 18,
   "id": "014c0367-1b66-4b2f-a61b-1ead66fe1a1e",
   "metadata": {},
   "outputs": [
    {
     "data": {
      "text/plain": [
       "<bound method Axes.legend of <Axes: title={'center': 'Accuracy'}, xlabel='Epoch', ylabel='Acc'>>"
      ]
     },
     "execution_count": 18,
     "metadata": {},
     "output_type": "execute_result"
    },
    {
     "data": {
      "image/png": "[encoded data removed]",
      "text/plain": [
       "<Figure size 1600x400 with 2 Axes>"
      ]
     },
     "metadata": {},
     "output_type": "display_data"
    }
   ],
   "source": [
    "# Look at the optimization history\n",
    "fig, (ax1,ax2) = plt.subplots(1,2, figsize=plt.figaspect(0.25))\n",
    "ax1.plot(train_loss, label='Training loss')\n",
    "ax1.plot(val_loss, label='Validation loss')\n",
    "ax1.set_yscale('log')\n",
    "ax1.set_title('loss')\n",
    "ax1.set_xlabel('Epoch')\n",
    "ax1.set_ylabel('loss')\n",
    "ax1.legend()\n",
    "\n",
    "ax2.plot(cat_acc, label='Training ACC')\n",
    "ax2.plot(val_acc, label='Validation ACC')\n",
    "ax2.set_title('Accuracy')\n",
    "ax2.set_xlabel('Epoch')\n",
    "ax2.set_ylabel('Acc')\n",
    "ax2.legend"
   ]
  },
  {
   "cell_type": "code",
   "execution_count": 19,
   "id": "84c1eeab-947f-48e8-a4d6-3a48dd7da017",
   "metadata": {},
   "outputs": [],
   "source": [
    "import shap\n",
    "import pylab"
   ]
  },
  {
   "cell_type": "code",
   "execution_count": null,
   "id": "7c2eac31-46e1-4e6a-9143-ce4385f6c1c3",
   "metadata": {},
   "outputs": [],
   "source": [
    "shap_values_all = []\n",
    "# explain predictions of the model on three images\n",
    "#explainer = shap.DeepExplainer(model, X_train)\n",
    "# ...or pass tensors directly\n",
    "explainer = shap.Explainer(model.predict, X_train)\n",
    "#X_vate = np.concatenate((X_val,X_test),axis=0)"
   ]
  },
  {
   "cell_type": "code",
   "execution_count": null,
   "id": "6d73818d-3b2e-421e-84bd-206a667dbe52",
   "metadata": {},
   "outputs": [],
   "source": [
    "shap_values = explainer(X_train)\n",
    "#shap_values_all.append(shap_values)\n",
    "#print(np.shape(shap_values_all))"
   ]
  },
  {
   "cell_type": "code",
   "execution_count": null,
   "id": "2311bdc2-9a04-467c-b390-bcd63ef00bd9",
   "metadata": {},
   "outputs": [],
   "source": [
    "shap_exp = shap_values\n",
    "values = np.copy(shap_exp.values)"
   ]
  },
  {
   "cell_type": "code",
   "execution_count": null,
   "id": "35c64e9f-ff63-437a-81cf-e14d13fd2780",
   "metadata": {},
   "outputs": [],
   "source": [
    "values.shape"
   ]
  },
  {
   "cell_type": "code",
   "execution_count": null,
   "id": "bdfd0fd6-0614-4a97-8e26-415d42b24c43",
   "metadata": {},
   "outputs": [],
   "source": [
    "shap_values_transposed = values.transpose(2, 0, 1)\n",
    "shap_values_transposed.shape"
   ]
  },
  {
   "cell_type": "code",
   "execution_count": null,
   "id": "9abfd4fc-4fc1-4476-9acf-aa091f5049f8",
   "metadata": {},
   "outputs": [],
   "source": [
    "abs = np.abs(shap_values_transposed).shape #shape of absolute value\n",
    "print(abs)"
   ]
  },
  {
   "cell_type": "code",
   "execution_count": null,
   "id": "d949be9a-1ce8-451d-8dcc-0e1cd59a375a",
   "metadata": {},
   "outputs": [],
   "source": [
    "aggs = np.abs(shap_values_transposed) ##aggregate over the samples\n",
    "#aggs = shap_values_transposed\n",
    "aggs.shape"
   ]
  },
  {
   "cell_type": "code",
   "execution_count": null,
   "id": "102b1815-eec7-4265-b78a-549d5264ccc9",
   "metadata": {},
   "outputs": [],
   "source": [
    "aggs = aggs.mean(axis=1)"
   ]
  },
  {
   "cell_type": "code",
   "execution_count": null,
   "id": "77cc1292-cc18-4605-a0dc-de6d77421aa0",
   "metadata": {},
   "outputs": [],
   "source": [
    "##loop through to properly group\n",
    "sv = np.empty((2,9,10))\n",
    "\n",
    "sv[:,0,:] = aggs[:,0::9]\n",
    "sv[:,1,:] = aggs[:,1::9]\n",
    "sv[:,2,:] = aggs[:,2::9]\n",
    "sv[:,3,:] = aggs[:,3::9]\n",
    "sv[:,4,:] = aggs[:,4::9]\n",
    "sv[:,5,:] = aggs[:,5::9]\n",
    "sv[:,6,:] = aggs[:,6::9]\n",
    "sv[:,7,:] = aggs[:,7::9]\n",
    "sv[:,8,:] = aggs[:,8::9]"
   ]
  },
  {
   "cell_type": "code",
   "execution_count": null,
   "id": "f4d7bf7f-92cc-45f9-928c-bd565457fb50",
   "metadata": {},
   "outputs": [],
   "source": [
    "sv_true = sv.mean(axis=2) ##take mean along timestep axis\n",
    "sv_true.shape"
   ]
  },
  {
   "cell_type": "code",
   "execution_count": null,
   "id": "d1eb3d82-3e4c-4c9f-8e18-2ddb9750f29d",
   "metadata": {},
   "outputs": [],
   "source": [
    "sv_df = pd.DataFrame(sv_true.T)"
   ]
  },
  {
   "cell_type": "code",
   "execution_count": null,
   "id": "85975694-1912-4396-86fd-83b7b0ed965b",
   "metadata": {},
   "outputs": [],
   "source": [
    "#feature_name = ['u10','size','ratio','clon','clat','ephi','ehf100','gph1000','ellipse']"
   ]
  },
  {
   "cell_type": "code",
   "execution_count": null,
   "id": "075ad057-93ca-4465-b52a-20bb569963fb",
   "metadata": {},
   "outputs": [],
   "source": [
    "##i tailored the feature names to reflect the bar plot, 840516237\n",
    "feature_name_bh = ['ellipse','size','ratio,','clat','u10','ephi','ehf100','clon','gph1000']"
   ]
  },
  {
   "cell_type": "code",
   "execution_count": null,
   "id": "c1b670ec-5ce0-46e2-b937-ed9e79c9a77d",
   "metadata": {},
   "outputs": [],
   "source": [
    "fig = plt.figure(figsize=(15,10),dpi=100)\n",
    "fig.suptitle(\"SHAP for Predicting Surface Temperature Extreme over Great Lakes at 0-days lead\", fontsize = 18) \n",
    " \n",
    "ax1 = fig.add_subplot(1,1,1)\n",
    "sv_df.loc[sv_df.sum(1).sort_values(ascending=True).index[-10:]].plot(\n",
    "    kind=\"barh\", stacked=True, ax = ax1, colormap = 'Paired')\n",
    "ax1.tick_params(axis='both', which='major', labelsize= 18)\n",
    "ax1.set_yticks([0,1,2,3,4,5,6,7,8],feature_name_bh)\n",
    "ax1.set_xlabel('Mean SHAP value', fontsize =18 )\n",
    "ax1.set_ylabel('Feature', fontsize =18 )\n",
    "ax1.legend(loc = 'lower right', fontsize =18)\n",
    "ax1.set_xlim(0,0.25)\n",
    "\n",
    "plt.tight_layout()\n",
    "plt.savefig('GL_SHAP_extremes.png')"
   ]
  },
  {
   "cell_type": "code",
   "execution_count": null,
   "id": "72be5610-b60d-4cee-b3ed-b1c0d10ec227",
   "metadata": {},
   "outputs": [],
   "source": []
  }
 ],
 "metadata": {
  "kernelspec": {
   "display_name": "Python 3 (ipykernel)",
   "language": "python",
   "name": "python3"
  },
  "language_info": {
   "codemirror_mode": {
    "name": "ipython",
    "version": 3
   },
   "file_extension": ".py",
   "mimetype": "text/x-python",
   "name": "python",
   "nbconvert_exporter": "python",
   "pygments_lexer": "ipython3",
   "version": "3.10.13"
  }
 },
 "nbformat": 4,
 "nbformat_minor": 5
}
