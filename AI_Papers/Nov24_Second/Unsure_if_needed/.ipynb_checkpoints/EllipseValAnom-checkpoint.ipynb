{
 "cells": [
  {
   "cell_type": "markdown",
   "id": "e35dbb85-cd67-49ad-bde5-9da16e4b8e0c",
   "metadata": {},
   "source": [
    "Calculate daily anom of all metrics.\n",
    "\n",
    "GPH was previously calculated as an anomaly. Temp was as well. "
   ]
  },
  {
   "cell_type": "code",
   "execution_count": 1,
   "id": "23a6fe81-21ca-404e-9ef0-8b2e996c076e",
   "metadata": {},
   "outputs": [
    {
     "name": "stderr",
     "output_type": "stream",
     "text": [
      "/knight/anaconda_jan21/envs/aug21/lib/python3.8/site-packages/scipy/__init__.py:146: UserWarning: A NumPy version >=1.16.5 and <1.23.0 is required for this version of SciPy (detected version 1.24.3\n",
      "  warnings.warn(f\"A NumPy version >={np_minversion} and <{np_maxversion}\"\n"
     ]
    }
   ],
   "source": [
    "import numpy as np\n",
    "import math\n",
    "import xarray as xr \n",
    "import pickle \n",
    "import matplotlib.pyplot as plt"
   ]
  },
  {
   "cell_type": "code",
   "execution_count": 2,
   "id": "e9ac2780-eac3-4e55-8214-596204c27711",
   "metadata": {},
   "outputs": [],
   "source": [
    "infile = open(\"./1959RemovedNANs/1959wind10_NaN.p\", 'rb') \n",
    "wind = pickle.load(infile)\n",
    "infile.close()\n",
    "\n",
    "infile = open(\"./1959RemovedNANs/1959size10_NaN.p\", 'rb') \n",
    "size = pickle.load(infile)\n",
    "infile.close()\n",
    "\n",
    "infile = open(\"./1959RemovedNANs/1959rat10_NaN.p\", 'rb') \n",
    "rat = pickle.load(infile)\n",
    "infile.close()\n",
    "\n",
    "infile = open(\"./1959RemovedNANs/1959ephi10_NaN.p\", 'rb') \n",
    "ephi = pickle.load(infile)\n",
    "infile.close()\n",
    "\n",
    "infile = open(\"./1959RemovedNANs/1959cenlat10_NaN.p\", 'rb')\n",
    "cenlat = pickle.load(infile)\n",
    "infile.close()\n",
    "\n",
    "infile = open(\"./1959RemovedNANs/1959cenlon10_NaN.p\", 'rb') \n",
    "cenlon = pickle.load(infile)\n",
    "infile.close()\n",
    "\n",
    "#eddy-heat flux anom MDTF at 100hPa \n",
    "infile = open(\"./1959RemovedNANs/1959ehf100_NaN.p\", 'rb') \n",
    "ehf100 = pickle.load(infile)\n",
    "infile.close()"
   ]
  },
  {
   "cell_type": "code",
   "execution_count": 3,
   "id": "87a8019e-9cbc-4fc6-b0a7-6a5e36581c2e",
   "metadata": {},
   "outputs": [
    {
     "data": {
      "text/plain": [
       "(63, 151)"
      ]
     },
     "execution_count": 3,
     "metadata": {},
     "output_type": "execute_result"
    }
   ],
   "source": [
    "## now calculate anomaly of each\n",
    "dm_wind = np.nanmean(wind,axis=0)\n",
    "anom_wind = wind- dm_wind\n",
    "anom_wind.shape"
   ]
  },
  {
   "cell_type": "code",
   "execution_count": 4,
   "id": "7a6ed209-c70a-48c2-a3af-38cf941984aa",
   "metadata": {},
   "outputs": [
    {
     "name": "stdout",
     "output_type": "stream",
     "text": [
      "(63, 151)\n",
      "(63, 151)\n",
      "(63, 151)\n",
      "(63, 151)\n",
      "(63, 151)\n",
      "(63, 151)\n"
     ]
    }
   ],
   "source": [
    "##size\n",
    "dm_size = np.nanmean(size, axis=0)\n",
    "anom_size = size - dm_size\n",
    "print(anom_size.shape)\n",
    "\n",
    "##ratio\n",
    "dm_rat = np.nanmean(rat, axis=0)\n",
    "anom_rat = rat - dm_rat\n",
    "print(anom_rat.shape)\n",
    "\n",
    "##ephi\n",
    "dm_ephi = np.nanmean(ephi, axis=0)\n",
    "anom_ephi = ephi - dm_ephi\n",
    "print(anom_ephi.shape)\n",
    "\n",
    "##cenlat\n",
    "dm_cenlat = np.nanmean(cenlat, axis=0)\n",
    "anom_cenlat = cenlat - dm_cenlat\n",
    "print(anom_cenlat.shape)\n",
    "\n",
    "##cenlon\n",
    "dm_cenlon = np.nanmean(cenlon, axis=0)\n",
    "anom_cenlon = cenlon - dm_cenlon\n",
    "print(anom_cenlon.shape)\n",
    "\n",
    "##ehf100\n",
    "dm_ehf = np.nanmean(ehf100, axis=0)\n",
    "anom_ehf =ehf100 - dm_ehf\n",
    "print(anom_ehf.shape)"
   ]
  },
  {
   "cell_type": "code",
   "execution_count": 9,
   "id": "fe82d9eb-d459-4e57-935b-68441f499ccd",
   "metadata": {},
   "outputs": [
    {
     "data": {
      "text/plain": [
       "array([[1.66975491, 1.66607513, 1.65009732, ..., 0.45020707, 0.40545427,\n",
       "        0.77541032],\n",
       "       [1.38560201, 1.49147192, 1.57133481, ..., 0.        , 0.        ,\n",
       "        0.        ],\n",
       "       [1.37570392, 1.48145861, 1.47498345, ..., 1.47594531, 1.4487374 ,\n",
       "        1.37038365],\n",
       "       ...,\n",
       "       [2.14089525, 2.24712641, 2.36234069, ..., 1.47019095, 1.47864337,\n",
       "        1.46892918],\n",
       "       [1.84006585, 1.90027393, 1.99326638, ..., 1.77008323, 1.71976251,\n",
       "        1.5964251 ],\n",
       "       [1.71260933, 1.74106091, 1.73664631, ..., 0.04663948, 0.03825671,\n",
       "        0.        ]])"
      ]
     },
     "execution_count": 9,
     "metadata": {},
     "output_type": "execute_result"
    }
   ],
   "source": [
    "size"
   ]
  },
  {
   "cell_type": "code",
   "execution_count": 7,
   "id": "aaf87500-31a3-41a7-ab5b-4caa7e8488e6",
   "metadata": {},
   "outputs": [],
   "source": [
    "pickle.dump(anom_ephi, open(\"1959ANOMephi10_NaN.p\", 'wb'))\n",
    "pickle.dump(anom_rat, open(\"1959ANOMrat10_NaN.p\", 'wb'))\n",
    "pickle.dump(anom_size, open(\"1959ANOMsize10_NaN.p\", 'wb')) \n",
    "pickle.dump(anom_cenlat, open(\"1959ANOMcenlat10_NaN.p\", 'wb'))\n",
    "pickle.dump(anom_cenlon, open(\"1959ANOMcenlon10_NaN.p\", 'wb')) \n",
    "pickle.dump(anom_ehf, open(\"1959ANOMehf100_NaN.p\", 'wb')) \n",
    "pickle.dump(anom_wind, open(\"1959ANOMwind10_NaN.p\", 'wb'))"
   ]
  },
  {
   "cell_type": "code",
   "execution_count": null,
   "id": "942ef983-d69f-4c7d-8b90-597fe3b660f9",
   "metadata": {},
   "outputs": [],
   "source": []
  }
 ],
 "metadata": {
  "kernelspec": {
   "display_name": "Python 3 August 2021 Environment",
   "language": "python",
   "name": "aug21"
  },
  "language_info": {
   "codemirror_mode": {
    "name": "ipython",
    "version": 3
   },
   "file_extension": ".py",
   "mimetype": "text/x-python",
   "name": "python",
   "nbconvert_exporter": "python",
   "pygments_lexer": "ipython3",
   "version": "3.8.10"
  }
 },
 "nbformat": 4,
 "nbformat_minor": 5
}
