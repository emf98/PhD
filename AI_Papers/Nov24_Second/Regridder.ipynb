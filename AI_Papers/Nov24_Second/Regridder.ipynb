{
 "cells": [
  {
   "cell_type": "code",
   "execution_count": null,
   "id": "c8cf11de-f0a7-4031-b6b1-40b35539d294",
   "metadata": {},
   "outputs": [],
   "source": [
    "import numpy as np\n",
    "import xarray as xr\n",
    "import pickle\n",
    "import xesmf as xe"
   ]
  },
  {
   "cell_type": "code",
   "execution_count": null,
   "id": "2355ba87-4d0e-49d4-8324-74ed2b535635",
   "metadata": {},
   "outputs": [],
   "source": [
    "# Load quarterly degree data of gph and temperature\n",
    "#infile = open(\"./500GPH/FULL500_ANOM_capgph1959.p\", 'rb') \n",
    "infile = open(\"1959_NAOgph500_div10.p\", 'rb') \n",
    "gph = pickle.load(infile)\n",
    "infile.close()"
   ]
  },
  {
   "cell_type": "code",
   "execution_count": null,
   "id": "35451e3e-e74d-486e-b09e-9072e4c00334",
   "metadata": {},
   "outputs": [],
   "source": [
    "##indices\n",
    "infile = open(\"era5_latindex.p\", 'rb') \n",
    "lats = pickle.load(infile)\n",
    "infile.close()\n",
    "\n",
    "infile = open(\"era5_lonindex.p\", 'rb') \n",
    "lons = pickle.load(infile)\n",
    "infile.close()\n",
    "\n",
    "infile = open(\"era5_timeindex.p\", 'rb') \n",
    "time = pickle.load(infile)\n",
    "infile.close()"
   ]
  },
  {
   "cell_type": "raw",
   "id": "0396952c-d60b-4c2f-9906-aec6b58eaea7",
   "metadata": {},
   "source": [
    "infile = open(\"./Temp/FULLeur1000_tempANOMs.p\", 'rb') \n",
    "temp = pickle.load(infile)\n",
    "infile.close()"
   ]
  },
  {
   "cell_type": "raw",
   "id": "cdd09ee9-e8fa-46a0-ba49-b66252f10fb3",
   "metadata": {},
   "source": [
    "temp.shape"
   ]
  },
  {
   "cell_type": "code",
   "execution_count": null,
   "id": "f2815a50-e39a-4cc8-a0b4-0297ce1dd3e4",
   "metadata": {},
   "outputs": [],
   "source": [
    "##save year index\n",
    "year = [i for i in range(1959,2022)] #indicate years for data, needed for opening files"
   ]
  },
  {
   "cell_type": "code",
   "execution_count": null,
   "id": "aa7329da-122c-4d9d-9556-00a44a2e161b",
   "metadata": {},
   "outputs": [],
   "source": [
    "##save lat lon indices\n",
    "gph_lats = lats[40:241]\n",
    "gph_lons = lons[320:681]\n",
    "#temp_lats = lats[60:121]\n",
    "#temp_lons = lons [760:901]"
   ]
  },
  {
   "cell_type": "code",
   "execution_count": null,
   "id": "2b68522a-2ce9-4aca-8bee-71e8a78512a2",
   "metadata": {
    "scrolled": true
   },
   "outputs": [],
   "source": [
    "##create array for gph ... \n",
    "g = xr.DataArray(data= gph, dims = [\"year\",\"day\",\"lat\",\"lon\"],coords = dict(year = year,\n",
    "                                                                                day = time,\n",
    "                                                                                lat = gph_lats,\n",
    "                                                                                lon = gph_lons))\n",
    "g"
   ]
  },
  {
   "cell_type": "code",
   "execution_count": null,
   "id": "4fc92351-b103-44b4-a111-35c7e26debfd",
   "metadata": {
    "scrolled": true
   },
   "outputs": [],
   "source": [
    "##create array for temp ... \n",
    "t = xr.DataArray(data= temp, dims = [\"year\",\"day\",\"lat\",\"lon\"],coords = dict(year = year,\n",
    "                                                                                day = time,\n",
    "                                                                                lat = temp_lats,\n",
    "                                                                                lon = temp_lons))\n",
    "t"
   ]
  },
  {
   "cell_type": "code",
   "execution_count": null,
   "id": "064c3598-8a7a-443b-9fbf-01123ecf1020",
   "metadata": {},
   "outputs": [],
   "source": [
    "# Create the target grid (single degree)\n",
    "t_out = xr.Dataset({'year':(['year'], year[:]),\n",
    "                    'day':(['day'], time[:]),\n",
    "                    'lat': (['lat'], np.arange(75, 59, -1)),\n",
    "                    'lon': (['lon'], np.arange(10, 46, 1))})"
   ]
  },
  {
   "cell_type": "code",
   "execution_count": null,
   "id": "5cf2b0ac-aa7e-4c20-a8d7-ebb339cae3bb",
   "metadata": {},
   "outputs": [],
   "source": [
    "t_out"
   ]
  },
  {
   "cell_type": "code",
   "execution_count": null,
   "id": "2c20809f-2e09-457b-a9bc-5e0c751ba310",
   "metadata": {},
   "outputs": [],
   "source": [
    "# Create the regridder\n",
    "regridder = xe.Regridder(t, t_out, 'bilinear', periodic=True)"
   ]
  },
  {
   "cell_type": "code",
   "execution_count": null,
   "id": "a96b514e-3869-44e3-8fa8-eadef7188716",
   "metadata": {
    "scrolled": true
   },
   "outputs": [],
   "source": [
    "# Regrid the data\n",
    "t_single_degree = regridder(t)\n",
    "t_single_degree"
   ]
  },
  {
   "cell_type": "code",
   "execution_count": null,
   "id": "341ddf35-b4a0-43e0-9c70-931256a0d970",
   "metadata": {},
   "outputs": [],
   "source": [
    "g_out = xr.Dataset({'year':(['year'], year[:]),\n",
    "                    'day':(['day'], time[:]),\n",
    "                    'lat': (['lat'], np.arange(80, 30, -2.5)),\n",
    "                    'lon': (['lon'], np.arange(-100, -10, 2.5))})"
   ]
  },
  {
   "cell_type": "code",
   "execution_count": null,
   "id": "5b2e58b3-1027-4d13-8642-e3b14ab7a538",
   "metadata": {},
   "outputs": [],
   "source": [
    "# Create the regridder\n",
    "regridder = xe.Regridder(g, g_out, 'bilinear', periodic=True)"
   ]
  },
  {
   "cell_type": "code",
   "execution_count": null,
   "id": "c477bed5-f0e1-4043-8fde-7395de5bf517",
   "metadata": {
    "scrolled": true
   },
   "outputs": [],
   "source": [
    "# Regrid the data\n",
    "g_single_degree = regridder(g)\n",
    "g_single_degree"
   ]
  },
  {
   "cell_type": "code",
   "execution_count": null,
   "id": "2095509a-464b-4d74-a9fc-873a3c37188f",
   "metadata": {},
   "outputs": [],
   "source": [
    "gph1 = g_single_degree.values\n",
    "gph1.shape"
   ]
  },
  {
   "cell_type": "code",
   "execution_count": null,
   "id": "1536fc82-dff6-410f-9838-85e776adcd53",
   "metadata": {},
   "outputs": [],
   "source": [
    "temp1 = t_single_degree.values\n",
    "temp1.shape"
   ]
  },
  {
   "cell_type": "code",
   "execution_count": null,
   "id": "0a427729-58c2-4a18-9845-4bf245ad5b33",
   "metadata": {},
   "outputs": [],
   "source": [
    "##remove leap days now\n",
    "gph1 = np.delete(gph1,[120],1)\n",
    "#temp1 = np.delete(temp1,[120],1)"
   ]
  },
  {
   "cell_type": "code",
   "execution_count": null,
   "id": "ba970764-07bf-402f-81e6-8a8dda5209b9",
   "metadata": {},
   "outputs": [],
   "source": [
    "temp1.shape"
   ]
  },
  {
   "cell_type": "code",
   "execution_count": null,
   "id": "598eef00-9dfe-40b4-99fd-fd84cb53b200",
   "metadata": {},
   "outputs": [],
   "source": [
    "pickle.dump(gph1, open(\"gph500_NAO25deg.p\", 'wb'))\n",
    "#pickle.dump(temp1, open(\"eurtemp1000_singledeg.p\", 'wb'))"
   ]
  },
  {
   "cell_type": "code",
   "execution_count": null,
   "id": "30c3843b-c077-4871-a266-32825e19a188",
   "metadata": {},
   "outputs": [],
   "source": []
  }
 ],
 "metadata": {
  "kernelspec": {
   "display_name": "Python 3 August 2021 Environment",
   "language": "python",
   "name": "aug21"
  },
  "language_info": {
   "codemirror_mode": {
    "name": "ipython",
    "version": 3
   },
   "file_extension": ".py",
   "mimetype": "text/x-python",
   "name": "python",
   "nbconvert_exporter": "python",
   "pygments_lexer": "ipython3",
   "version": "3.8.10"
  }
 },
 "nbformat": 4,
 "nbformat_minor": 5
}
