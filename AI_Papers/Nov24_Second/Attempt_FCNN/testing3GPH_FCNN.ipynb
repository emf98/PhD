{
 "cells": [
  {
   "cell_type": "raw",
   "id": "bf27de63-f531-47fe-90e0-6cfcbe99d3ec",
   "metadata": {
    "jupyter": {
     "source_hidden": true
    },
    "scrolled": true
   },
   "source": [
    "!pip install netCDF4\n",
    "!pip install cmocean\n",
    "!pip install investigate"
   ]
  },
  {
   "cell_type": "raw",
   "id": "9b780057-3be4-47ae-bb9a-0eac456c62fc",
   "metadata": {
    "jupyter": {
     "source_hidden": true
    }
   },
   "source": [
    "from comet_ml import Experiment\n",
    "experiment = Experiment(\n",
    "  api_key=\"UzloboNe4UsDg9WE6plFnbWqW\",\n",
    "  project_name=\"general\",\n",
    "  workspace=\"emf98\")"
   ]
  },
  {
   "cell_type": "markdown",
   "id": "29158f24-0f26-4835-b2f8-aa14d711935e",
   "metadata": {},
   "source": [
    "## This is the same base code as `testing2` and `NAO_FCNN` but this is a regular ANN attempt for multi-dimensional input and output. "
   ]
  },
  {
   "cell_type": "raw",
   "id": "c8e5a0c7-bdf7-4957-8113-bc541d49b655",
   "metadata": {},
   "source": [
    "##import the python functions from my NN file\n",
    "#this model is extremely bare because I just wanted to get something that would work.\n",
    "from test import create_model\n",
    "\n",
    "##I am just going to throw that definition statement in later for sake of editting"
   ]
  },
  {
   "cell_type": "markdown",
   "id": "97b97272-6203-4046-9616-1642be6816aa",
   "metadata": {},
   "source": [
    "#### These next three chunks are just a bunch of import statements."
   ]
  },
  {
   "cell_type": "code",
   "execution_count": 1,
   "id": "1c6a9159-890b-47f2-a080-f67b5e39f21c",
   "metadata": {
    "jupyter": {
     "source_hidden": true
    }
   },
   "outputs": [
    {
     "name": "stderr",
     "output_type": "stream",
     "text": [
      "/tmp/ipykernel_693079/3801934532.py:6: DeprecationWarning: \n",
      "Pyarrow will become a required dependency of pandas in the next major release of pandas (pandas 3.0),\n",
      "(to allow more performant data types, such as the Arrow string type, and better interoperability with other libraries)\n",
      "but was not found to be installed on your system.\n",
      "If this would cause problems for you,\n",
      "please provide us feedback at https://github.com/pandas-dev/pandas/issues/54466\n",
      "        \n",
      "  import pandas as pd\n"
     ]
    }
   ],
   "source": [
    "%matplotlib inline\n",
    "##so-called \"math\" related imports\n",
    "from netCDF4 import Dataset as ncread\n",
    "import numpy as np\n",
    "from scipy.io import loadmat\n",
    "import pandas as pd\n",
    "import h5py\n",
    "import math\n",
    "from random import seed\n",
    "from random import randint\n",
    "from random import sample\n",
    "from scipy.ndimage import gaussian_filter\n",
    "from sklearn.metrics import brier_score_loss\n",
    "import xarray as xr\n",
    "\n",
    "import pickle\n",
    "\n",
    "##plotting related imports\n",
    "import matplotlib.pyplot as plt\n",
    "from matplotlib import rcParams #For changing text properties\n",
    "import cmocean #A package with beautiful colormaps\n",
    "from cartopy import crs as ccrs #Useful for plotting maps\n",
    "import cartopy.util #Requires separate import\n",
    "from cartopy.util import add_cyclic_point\n",
    "import cartopy.feature as cf\n",
    "from cartopy.mpl.ticker import LongitudeFormatter, LatitudeFormatter\n",
    "import matplotlib.path as mpath\n",
    "import matplotlib.colors as mcolors"
   ]
  },
  {
   "cell_type": "code",
   "execution_count": 2,
   "id": "40dfe88c-378d-4367-a65a-c17eb283aaee",
   "metadata": {
    "jupyter": {
     "source_hidden": true
    }
   },
   "outputs": [
    {
     "name": "stderr",
     "output_type": "stream",
     "text": [
      "2024-11-11 20:08:55.053789: E tensorflow/compiler/xla/stream_executor/cuda/cuda_dnn.cc:9342] Unable to register cuDNN factory: Attempting to register factory for plugin cuDNN when one has already been registered\n",
      "2024-11-11 20:08:55.053866: E tensorflow/compiler/xla/stream_executor/cuda/cuda_fft.cc:609] Unable to register cuFFT factory: Attempting to register factory for plugin cuFFT when one has already been registered\n",
      "2024-11-11 20:08:55.053922: E tensorflow/compiler/xla/stream_executor/cuda/cuda_blas.cc:1518] Unable to register cuBLAS factory: Attempting to register factory for plugin cuBLAS when one has already been registered\n",
      "2024-11-11 20:08:55.061630: I tensorflow/core/platform/cpu_feature_guard.cc:182] This TensorFlow binary is optimized to use available CPU instructions in performance-critical operations.\n",
      "To enable the following instructions: AVX2 FMA, in other operations, rebuild TensorFlow with the appropriate compiler flags.\n"
     ]
    }
   ],
   "source": [
    "##import tensorflow/keras related files\n",
    "import tensorflow as tf    \n",
    "#tf.compat.v1.disable_v2_behavior() # <-- HERE !\n",
    "\n",
    "from tensorflow import keras\n",
    "from tensorflow.keras import layers, models\n",
    "from tensorflow.keras import Input\n",
    "from tensorflow.keras.models import Model\n",
    "from tensorflow.keras.callbacks import ModelCheckpoint\n",
    "from tensorflow.keras import regularizers\n",
    "import tensorflow.keras.backend as K\n",
    "from tensorflow.keras.utils import to_categorical\n",
    "from tensorflow.keras.layers import Dropout, Activation, Reshape, Flatten, LSTM, Dense, Dropout, Embedding, Bidirectional, GRU\n",
    "from tensorflow.keras import Sequential\n",
    "from tensorflow.keras import initializers, regularizers\n",
    "from tensorflow.keras import optimizers\n",
    "from tensorflow.keras import constraints\n",
    "from tensorflow.keras.layers import Layer, InputSpec"
   ]
  },
  {
   "cell_type": "code",
   "execution_count": 3,
   "id": "e393572f-b47e-46f6-8823-1470a09445f9",
   "metadata": {},
   "outputs": [],
   "source": [
    "tf.compat.v1.disable_eager_execution()\n",
    "import investigate"
   ]
  },
  {
   "cell_type": "markdown",
   "id": "b67968bc-fc14-4805-95dd-146548796c3e",
   "metadata": {},
   "source": [
    "#### Upload data. "
   ]
  },
  {
   "cell_type": "code",
   "execution_count": 4,
   "id": "0817c222-c32c-4c7f-8f91-6e0fa11ff89c",
   "metadata": {},
   "outputs": [],
   "source": [
    "#inputs\n",
    "infile = open(\"./data/ANN/sing_gph500_dailyanoms.p\", 'rb') \n",
    "input = pickle.load(infile)\n",
    "infile.close()\n",
    "\n",
    "#outputs\n",
    "infile = open(\"./data/ANN/sing_EURtemp_anoms.p\", 'rb')\n",
    "temp = pickle.load(infile)\n",
    "infile.close()\n",
    "#temp = temp.flatten()"
   ]
  },
  {
   "cell_type": "code",
   "execution_count": 5,
   "id": "cd3a8f58-74a4-4111-95c2-c99a575b07a8",
   "metadata": {},
   "outputs": [
    {
     "data": {
      "text/plain": [
       "(8442, 31, 361)"
      ]
     },
     "execution_count": 5,
     "metadata": {},
     "output_type": "execute_result"
    }
   ],
   "source": [
    "##input shape (samples, lat, lon), these will be different from the output\n",
    "input.shape"
   ]
  },
  {
   "cell_type": "code",
   "execution_count": 6,
   "id": "2c7069d3-7e0f-498b-b5fb-855f9d28f335",
   "metadata": {},
   "outputs": [
    {
     "data": {
      "text/plain": [
       "(8442,)"
      ]
     },
     "execution_count": 6,
     "metadata": {},
     "output_type": "execute_result"
    }
   ],
   "source": [
    "##output shape (samples, lat, lon), these will be different from the input\n",
    "temp.shape"
   ]
  },
  {
   "cell_type": "raw",
   "id": "d9a8e73e-4cb1-4d3f-882d-7478b4b14358",
   "metadata": {},
   "source": [
    "##you can ignore this cell. \n",
    "\n",
    "input_feat = input.reshape(8631,11191)\n",
    "temp_feat = temp.reshape(8631,576)"
   ]
  },
  {
   "cell_type": "code",
   "execution_count": 7,
   "id": "46f1d582-c04a-4216-b229-bdcd632fa465",
   "metadata": {},
   "outputs": [],
   "source": [
    "##Set X_all and Y_all datasets\n",
    "X_all = np.copy(input)\n",
    "Y_all = np.copy(temp)\n",
    "\n",
    "#Convert the Y array into a categorical array. This means we will create one-hot vector labels for all of the inputs.\n",
    "# The one-hot vectors have an index for each possible output category (two in our case)\n",
    "# A \"1\" is put in the index corresponding to the category to which the sample belongs\n",
    "Y_all = keras.utils.to_categorical(Y_all)"
   ]
  },
  {
   "cell_type": "code",
   "execution_count": 8,
   "id": "5beebb82-e25c-412f-a3a2-3dd18c343b52",
   "metadata": {},
   "outputs": [],
   "source": [
    "##checking my data for NaN of Infs because I need to make sure this doesn't cause\n",
    "#the model to throw back no loss\n",
    "\n",
    "if np.any(np.isnan(X_all)) or np.any(np.isinf(X_all)):\n",
    "    print(\"NaN or Inf values found in X_all!\")\n",
    "\n",
    "if np.any(np.isnan(Y_all)) or np.any(np.isinf(Y_all)):\n",
    "    print(\"NaN or Inf values found in Y_all!\")"
   ]
  },
  {
   "cell_type": "markdown",
   "id": "2edad085-2483-4eaa-a97c-79f4003a275e",
   "metadata": {},
   "source": [
    "### Begin establishing specifics of model."
   ]
  },
  {
   "cell_type": "code",
   "execution_count": 9,
   "id": "9c3b2fb4-4e7c-4781-b303-2f1b2cf14a41",
   "metadata": {},
   "outputs": [
    {
     "data": {
      "text/plain": [
       "1266"
      ]
     },
     "execution_count": 9,
     "metadata": {},
     "output_type": "execute_result"
    }
   ],
   "source": [
    "##set fraction of data as 15% \n",
    "frac = round(len(X_all[:,0])*0.15)\n",
    "frac"
   ]
  },
  {
   "cell_type": "code",
   "execution_count": 10,
   "id": "074e8204-f94d-4799-9e0f-5f4a3f73a3c7",
   "metadata": {},
   "outputs": [
    {
     "data": {
      "text/plain": [
       "(8442, 2)"
      ]
     },
     "execution_count": 10,
     "metadata": {},
     "output_type": "execute_result"
    }
   ],
   "source": [
    "##checking to make sure shape was properly one hot encoded\n",
    "Y_all.shape"
   ]
  },
  {
   "cell_type": "code",
   "execution_count": 11,
   "id": "ff092005-a4ca-447a-822c-66fa44eafdb2",
   "metadata": {},
   "outputs": [],
   "source": [
    "######\n",
    "batch_size = 256 #The number of samples the network sees before it backpropagates (batch size)\n",
    "epochs = 60 #The number of times the network will loop through the entire dataset (epochs)\n",
    "shuffle = True #Set whether to shuffle the training data so the model doesn't see it sequentially \n",
    "verbose = 2 #Set whether the model will output information when trained (0 = no output; 2 = output accuracy every epoch)"
   ]
  },
  {
   "cell_type": "code",
   "execution_count": 12,
   "id": "1b2994bd-729c-443a-9ba6-01088e01ff5f",
   "metadata": {},
   "outputs": [],
   "source": [
    "##class weight creator for the instance where now I have a four dimensional output array \n",
    "def class_weight_creator(Y):\n",
    "    class_dict = {}\n",
    "    Y_reshaped = Y.reshape(-1, Y.shape[-1])\n",
    "    weights = np.max(np.sum(Y_reshaped, axis=0)) / np.sum(Y_reshaped, axis=0)\n",
    "    for i in range(Y.shape[-1] ):\n",
    "        class_dict[i] = weights[i]\n",
    "        \n",
    "    return class_dict"
   ]
  },
  {
   "cell_type": "code",
   "execution_count": 13,
   "id": "cb26fc72-176a-4be0-b175-1beb1a0da1f6",
   "metadata": {},
   "outputs": [],
   "source": [
    "#number_inputs = X_all.shape[-1] ##number of samples ... I might need this later but it is commented out for now\n",
    "X_validation = X_all[0:int(frac)]\n",
    "Y_validation = Y_all[0:int(frac)]\n",
    "        \n",
    "X_train = X_all[int(frac):len(X_all)-int(frac)]\n",
    "Y_train = Y_all[int(frac):len(Y_all)-int(frac)]\n",
    "\n",
    "X_test = X_all[len(X_all)-int(frac):]\n",
    "Y_test = Y_all[len(Y_all)-int(frac):]\n",
    "\n",
    "\n",
    "##need to specify the shapes of the lat and lon because they are different for input and output\n",
    "in_lat = len(input[0,:,0])\n",
    "\n",
    "in_lon = len(input[0,0,:]) "
   ]
  },
  {
   "cell_type": "code",
   "execution_count": 14,
   "id": "00d61e2d-fe5e-43c9-95a2-75a559609794",
   "metadata": {},
   "outputs": [
    {
     "data": {
      "text/plain": [
       "{0: 1.0, 1: 1.1129782}"
      ]
     },
     "execution_count": 14,
     "metadata": {},
     "output_type": "execute_result"
    }
   ],
   "source": [
    "##do the class_dict weights\n",
    "class_weight = class_weight_creator(Y_train)\n",
    "class_weight"
   ]
  },
  {
   "cell_type": "code",
   "execution_count": 15,
   "id": "5780b3f7-7b6f-4b01-af96-3fbe3512a5b0",
   "metadata": {},
   "outputs": [
    {
     "data": {
      "text/plain": [
       "(1266, 31, 361)"
      ]
     },
     "execution_count": 15,
     "metadata": {},
     "output_type": "execute_result"
    }
   ],
   "source": [
    "X_validation.shape"
   ]
  },
  {
   "cell_type": "markdown",
   "id": "a44275b4-b283-48c5-a2f8-87d4ce86683b",
   "metadata": {},
   "source": [
    "### Model Arcitecture."
   ]
  },
  {
   "cell_type": "code",
   "execution_count": 41,
   "id": "b3072335-825a-46cb-b923-8af3ecf29740",
   "metadata": {},
   "outputs": [],
   "source": [
    "##as stated before, this is going to be really simple.\n",
    "#I am not specifying the number of nodes or regularizers or anything like that. \n",
    "\n",
    "def create_model(in_lat, in_lon, num_categories):\n",
    "    # Define the functional API model\n",
    "    inputs = layers.Input(shape=(in_lat, in_lon))\n",
    "\n",
    "    # Flatten the input data (since it's 2D, we need to flatten it into a 1D vector)\n",
    "    x = layers.Flatten()(inputs)\n",
    "\n",
    "    # First fully connected layer (Dense layer)\n",
    "    x = layers.Dense(1000, activation='relu',kernel_initializer='he_normal',\n",
    "                      bias_initializer='he_normal',\n",
    "                      kernel_regularizer=keras.regularizers.l2(l2= 0))(x)\n",
    "\n",
    "    # Second fully connected layer (Dense layer)\n",
    "    x = layers.Dense(500, activation='relu',kernel_initializer='he_normal',\n",
    "                      bias_initializer='he_normal',\n",
    "                      kernel_regularizer=keras.regularizers.l2(l2= 0))(x)\n",
    "\n",
    "    # Third fully connected layer (Dense layer)\n",
    "    x = layers.Dense(100, activation='relu',kernel_initializer='he_normal',\n",
    "                      bias_initializer='he_normal',\n",
    "                      kernel_regularizer=keras.regularizers.l2(l2= 0))(x)\n",
    "\n",
    "    # Fourth fully connected layer (Dense layer)\n",
    "    x = layers.Dense(5, activation='relu',kernel_initializer='he_normal',\n",
    "                      bias_initializer='he_normal',\n",
    "                      kernel_regularizer=keras.regularizers.l2(l2= 0))(x)\n",
    "    \n",
    "    # Output layer with 2 categories (for classification)\n",
    "    outputs = layers.Dense(2, activation='softmax')(x)\n",
    "\n",
    "    # Define the model\n",
    "    model = models.Model(inputs=inputs, outputs=outputs)\n",
    "    return model"
   ]
  },
  {
   "cell_type": "code",
   "execution_count": 42,
   "id": "72ff3cda-ce59-447d-9878-929215aee56b",
   "metadata": {},
   "outputs": [],
   "source": [
    "##create model.\n",
    "model = create_model(in_lat, in_lon, 2)"
   ]
  },
  {
   "cell_type": "code",
   "execution_count": 43,
   "id": "1651e2a7-178e-4f76-94f8-6e5b0bfcc17c",
   "metadata": {
    "scrolled": true
   },
   "outputs": [
    {
     "name": "stdout",
     "output_type": "stream",
     "text": [
      "Model: \"model_3\"\n",
      "_________________________________________________________________\n",
      " Layer (type)                Output Shape              Param #   \n",
      "=================================================================\n",
      " input_4 (InputLayer)        [(None, 31, 361)]         0         \n",
      "                                                                 \n",
      " flatten_3 (Flatten)         (None, 11191)             0         \n",
      "                                                                 \n",
      " dense_14 (Dense)            (None, 1000)              11192000  \n",
      "                                                                 \n",
      " dense_15 (Dense)            (None, 500)               500500    \n",
      "                                                                 \n",
      " dense_16 (Dense)            (None, 100)               50100     \n",
      "                                                                 \n",
      " dense_17 (Dense)            (None, 5)                 505       \n",
      "                                                                 \n",
      " dense_18 (Dense)            (None, 2)                 12        \n",
      "                                                                 \n",
      "=================================================================\n",
      "Total params: 11743117 (44.80 MB)\n",
      "Trainable params: 11743117 (44.80 MB)\n",
      "Non-trainable params: 0 (0.00 Byte)\n",
      "_________________________________________________________________\n"
     ]
    }
   ],
   "source": [
    "# Compile the model with an appropriate loss function and optimizer\n",
    "model.compile(optimizer=tf.keras.optimizers.legacy.Adam(learning_rate=0.5),\n",
    "loss = 'categorical_crossentropy', #Our loss function is based on categorical error\n",
    "metrics=[keras.metrics.categorical_accuracy], #We will print out the categorical accuracy as the network is trained\n",
    ")\n",
    "# Print the model summary to check the architecture\n",
    "model.summary() ##you can uncomment this if you would like."
   ]
  },
  {
   "cell_type": "markdown",
   "id": "d06bae1a-e9a7-43d1-8305-12a1f9b55651",
   "metadata": {},
   "source": [
    "These next few cells are my checking to make sure everything is roughly the same shape. \n",
    "\n",
    "This is motivated by the error I am getting, you will see below. "
   ]
  },
  {
   "cell_type": "code",
   "execution_count": 44,
   "id": "ded331e3-266e-42cd-9f66-b4d4e2058187",
   "metadata": {},
   "outputs": [
    {
     "name": "stdout",
     "output_type": "stream",
     "text": [
      "(5910, 2)\n"
     ]
    }
   ],
   "source": [
    "model_output = model(X_train)  # After making a forward pass\n",
    "print(model_output.shape)  # Should be (batch_size, out_lat, out_lon, num_classes)"
   ]
  },
  {
   "cell_type": "code",
   "execution_count": 45,
   "id": "318a54af-570e-4831-a719-ac6411bfdad7",
   "metadata": {},
   "outputs": [
    {
     "data": {
      "text/plain": [
       "(5910, 2)"
      ]
     },
     "execution_count": 45,
     "metadata": {},
     "output_type": "execute_result"
    }
   ],
   "source": [
    "Y_train.shape"
   ]
  },
  {
   "cell_type": "code",
   "execution_count": 46,
   "id": "6044ca41-896b-4ba0-b9b1-03f0d957bad3",
   "metadata": {
    "scrolled": true
   },
   "outputs": [
    {
     "name": "stdout",
     "output_type": "stream",
     "text": [
      "Train on 5910 samples, validate on 1266 samples\n"
     ]
    },
    {
     "name": "stderr",
     "output_type": "stream",
     "text": [
      "2024-11-11 20:33:07.463252: W tensorflow/c/c_api.cc:305] Operation '{name:'training_6/Adam/dense_17/kernel/m/Assign' id:2505 op device:{requested: '', assigned: ''} def:{{{node training_6/Adam/dense_17/kernel/m/Assign}} = AssignVariableOp[_has_manual_control_dependencies=true, dtype=DT_FLOAT, validate_shape=false](training_6/Adam/dense_17/kernel/m, training_6/Adam/dense_17/kernel/m/Initializer/zeros)}}' was changed by setting attribute after it was run by a session. This mutation will have no effect, and will trigger an error in the future. Either don't modify nodes after running them or create a new session.\n"
     ]
    },
    {
     "name": "stdout",
     "output_type": "stream",
     "text": [
      "Epoch 1/60\n",
      "5910/5910 - 7s - loss: 0.8926 - categorical_accuracy: 0.4924 - val_loss: 0.6666 - val_categorical_accuracy: 0.6485 - 7s/epoch - 1ms/sample\n",
      "Epoch 2/60\n",
      "5910/5910 - 2s - loss: 0.7337 - categorical_accuracy: 0.4949 - val_loss: 0.6863 - val_categorical_accuracy: 0.6485 - 2s/epoch - 312us/sample\n",
      "Epoch 3/60\n",
      "5910/5910 - 2s - loss: 0.7320 - categorical_accuracy: 0.5054 - val_loss: 0.7103 - val_categorical_accuracy: 0.3515 - 2s/epoch - 304us/sample\n",
      "Epoch 4/60\n",
      "5910/5910 - 2s - loss: 0.7311 - categorical_accuracy: 0.5014 - val_loss: 0.7515 - val_categorical_accuracy: 0.3515 - 2s/epoch - 273us/sample\n",
      "Epoch 5/60\n",
      "5910/5910 - 2s - loss: 0.7348 - categorical_accuracy: 0.5024 - val_loss: 0.6909 - val_categorical_accuracy: 0.6485 - 2s/epoch - 272us/sample\n",
      "Epoch 6/60\n",
      "5910/5910 - 2s - loss: 0.7319 - categorical_accuracy: 0.5010 - val_loss: 0.7412 - val_categorical_accuracy: 0.3515 - 2s/epoch - 286us/sample\n",
      "Epoch 7/60\n",
      "5910/5910 - 3s - loss: 0.7344 - categorical_accuracy: 0.5014 - val_loss: 0.6520 - val_categorical_accuracy: 0.6485 - 3s/epoch - 456us/sample\n",
      "Epoch 8/60\n",
      "5910/5910 - 3s - loss: 0.7423 - categorical_accuracy: 0.5058 - val_loss: 0.6532 - val_categorical_accuracy: 0.6485 - 3s/epoch - 480us/sample\n",
      "Epoch 9/60\n",
      "5910/5910 - 2s - loss: 0.7368 - categorical_accuracy: 0.5058 - val_loss: 0.6742 - val_categorical_accuracy: 0.6485 - 2s/epoch - 399us/sample\n",
      "Epoch 10/60\n",
      "5910/5910 - 2s - loss: 0.7370 - categorical_accuracy: 0.5030 - val_loss: 0.6707 - val_categorical_accuracy: 0.6485 - 2s/epoch - 331us/sample\n",
      "Epoch 11/60\n",
      "5910/5910 - 2s - loss: 0.7373 - categorical_accuracy: 0.4983 - val_loss: 0.7323 - val_categorical_accuracy: 0.3515 - 2s/epoch - 314us/sample\n",
      "Epoch 12/60\n",
      "5910/5910 - 2s - loss: 0.7322 - categorical_accuracy: 0.4838 - val_loss: 0.6716 - val_categorical_accuracy: 0.6485 - 2s/epoch - 296us/sample\n",
      "Epoch 13/60\n",
      "5910/5910 - 2s - loss: 0.7368 - categorical_accuracy: 0.4929 - val_loss: 0.6924 - val_categorical_accuracy: 0.6485 - 2s/epoch - 295us/sample\n",
      "Epoch 14/60\n",
      "5910/5910 - 2s - loss: 0.7394 - categorical_accuracy: 0.4909 - val_loss: 0.6582 - val_categorical_accuracy: 0.6485 - 2s/epoch - 291us/sample\n",
      "Epoch 15/60\n",
      "5910/5910 - 2s - loss: 0.7406 - categorical_accuracy: 0.4926 - val_loss: 0.7314 - val_categorical_accuracy: 0.3515 - 2s/epoch - 293us/sample\n",
      "Epoch 16/60\n",
      "5910/5910 - 2s - loss: 0.7351 - categorical_accuracy: 0.5058 - val_loss: 0.6863 - val_categorical_accuracy: 0.6485 - 2s/epoch - 301us/sample\n",
      "Epoch 17/60\n",
      "5910/5910 - 2s - loss: 0.7374 - categorical_accuracy: 0.5041 - val_loss: 0.6757 - val_categorical_accuracy: 0.6485 - 2s/epoch - 296us/sample\n",
      "Epoch 18/60\n",
      "5910/5910 - 2s - loss: 0.7485 - categorical_accuracy: 0.4848 - val_loss: 0.6927 - val_categorical_accuracy: 0.6485 - 2s/epoch - 307us/sample\n",
      "Epoch 19/60\n",
      "5910/5910 - 2s - loss: 0.7361 - categorical_accuracy: 0.4976 - val_loss: 0.6622 - val_categorical_accuracy: 0.6485 - 2s/epoch - 291us/sample\n",
      "Epoch 20/60\n",
      "5910/5910 - 2s - loss: 0.7334 - categorical_accuracy: 0.4909 - val_loss: 0.7137 - val_categorical_accuracy: 0.3515 - 2s/epoch - 290us/sample\n",
      "Epoch 21/60\n",
      "5910/5910 - 2s - loss: 0.7334 - categorical_accuracy: 0.5054 - val_loss: 0.7130 - val_categorical_accuracy: 0.3515 - 2s/epoch - 300us/sample\n",
      "Epoch 22/60\n",
      "5910/5910 - 2s - loss: 0.7367 - categorical_accuracy: 0.5064 - val_loss: 0.6950 - val_categorical_accuracy: 0.3515 - 2s/epoch - 293us/sample\n",
      "Epoch 23/60\n",
      "5910/5910 - 2s - loss: 0.7418 - categorical_accuracy: 0.4936 - val_loss: 0.7149 - val_categorical_accuracy: 0.3515 - 2s/epoch - 265us/sample\n",
      "Epoch 24/60\n",
      "5910/5910 - 2s - loss: 0.7379 - categorical_accuracy: 0.5003 - val_loss: 0.7306 - val_categorical_accuracy: 0.3515 - 2s/epoch - 273us/sample\n",
      "Epoch 25/60\n",
      "5910/5910 - 2s - loss: 0.7333 - categorical_accuracy: 0.5037 - val_loss: 0.7112 - val_categorical_accuracy: 0.3515 - 2s/epoch - 274us/sample\n",
      "Epoch 26/60\n",
      "5910/5910 - 2s - loss: 0.7346 - categorical_accuracy: 0.4902 - val_loss: 0.7213 - val_categorical_accuracy: 0.3515 - 2s/epoch - 263us/sample\n",
      "Epoch 27/60\n",
      "5910/5910 - 2s - loss: 0.7325 - categorical_accuracy: 0.5014 - val_loss: 0.6647 - val_categorical_accuracy: 0.6485 - 2s/epoch - 279us/sample\n",
      "Epoch 28/60\n",
      "5910/5910 - 2s - loss: 0.7324 - categorical_accuracy: 0.5003 - val_loss: 0.7183 - val_categorical_accuracy: 0.3515 - 2s/epoch - 295us/sample\n",
      "Epoch 29/60\n",
      "5910/5910 - 2s - loss: 0.7357 - categorical_accuracy: 0.5041 - val_loss: 0.7052 - val_categorical_accuracy: 0.3515 - 2s/epoch - 288us/sample\n",
      "Epoch 30/60\n",
      "5910/5910 - 2s - loss: 0.7318 - categorical_accuracy: 0.5044 - val_loss: 0.7263 - val_categorical_accuracy: 0.3515 - 2s/epoch - 316us/sample\n",
      "Epoch 31/60\n",
      "5910/5910 - 2s - loss: 0.7324 - categorical_accuracy: 0.5108 - val_loss: 0.7212 - val_categorical_accuracy: 0.3515 - 2s/epoch - 316us/sample\n",
      "Epoch 32/60\n",
      "5910/5910 - 2s - loss: 0.7316 - categorical_accuracy: 0.5054 - val_loss: 0.6587 - val_categorical_accuracy: 0.6485 - 2s/epoch - 318us/sample\n",
      "Epoch 33/60\n",
      "5910/5910 - 2s - loss: 0.7366 - categorical_accuracy: 0.4956 - val_loss: 0.7285 - val_categorical_accuracy: 0.3515 - 2s/epoch - 305us/sample\n",
      "Epoch 34/60\n",
      "5910/5910 - 2s - loss: 0.7501 - categorical_accuracy: 0.5034 - val_loss: 0.7127 - val_categorical_accuracy: 0.3515 - 2s/epoch - 295us/sample\n",
      "Epoch 35/60\n",
      "5910/5910 - 2s - loss: 0.7330 - categorical_accuracy: 0.5007 - val_loss: 0.6657 - val_categorical_accuracy: 0.6485 - 2s/epoch - 315us/sample\n",
      "Epoch 36/60\n",
      "5910/5910 - 2s - loss: 0.7363 - categorical_accuracy: 0.4990 - val_loss: 0.6751 - val_categorical_accuracy: 0.6485 - 2s/epoch - 275us/sample\n",
      "Epoch 37/60\n",
      "5910/5910 - 2s - loss: 0.7321 - categorical_accuracy: 0.4915 - val_loss: 0.6707 - val_categorical_accuracy: 0.6485 - 2s/epoch - 277us/sample\n",
      "Epoch 38/60\n",
      "5910/5910 - 2s - loss: 0.7322 - categorical_accuracy: 0.4993 - val_loss: 0.7068 - val_categorical_accuracy: 0.3515 - 2s/epoch - 277us/sample\n",
      "Epoch 39/60\n",
      "5910/5910 - 2s - loss: 0.7312 - categorical_accuracy: 0.4983 - val_loss: 0.6623 - val_categorical_accuracy: 0.6485 - 2s/epoch - 279us/sample\n",
      "Epoch 40/60\n",
      "5910/5910 - 2s - loss: 0.7361 - categorical_accuracy: 0.4970 - val_loss: 0.7275 - val_categorical_accuracy: 0.3515 - 2s/epoch - 272us/sample\n",
      "Epoch 41/60\n",
      "5910/5910 - 2s - loss: 0.7380 - categorical_accuracy: 0.5078 - val_loss: 0.6484 - val_categorical_accuracy: 0.6485 - 2s/epoch - 264us/sample\n",
      "Epoch 42/60\n",
      "5910/5910 - 2s - loss: 0.7541 - categorical_accuracy: 0.5007 - val_loss: 0.6969 - val_categorical_accuracy: 0.3515 - 2s/epoch - 349us/sample\n",
      "Epoch 43/60\n",
      "5910/5910 - 2s - loss: 0.7486 - categorical_accuracy: 0.4986 - val_loss: 0.7151 - val_categorical_accuracy: 0.3515 - 2s/epoch - 263us/sample\n",
      "Epoch 44/60\n",
      "5910/5910 - 2s - loss: 0.7313 - categorical_accuracy: 0.4997 - val_loss: 0.6882 - val_categorical_accuracy: 0.6485 - 2s/epoch - 270us/sample\n",
      "Epoch 45/60\n",
      "5910/5910 - 2s - loss: 0.7349 - categorical_accuracy: 0.4926 - val_loss: 0.6829 - val_categorical_accuracy: 0.6485 - 2s/epoch - 270us/sample\n",
      "Epoch 46/60\n",
      "5910/5910 - 2s - loss: 0.7323 - categorical_accuracy: 0.4770 - val_loss: 0.7368 - val_categorical_accuracy: 0.3515 - 2s/epoch - 274us/sample\n",
      "Epoch 47/60\n",
      "5910/5910 - 2s - loss: 0.7340 - categorical_accuracy: 0.4919 - val_loss: 0.6809 - val_categorical_accuracy: 0.6485 - 2s/epoch - 323us/sample\n",
      "Epoch 48/60\n",
      "5910/5910 - 2s - loss: 0.7356 - categorical_accuracy: 0.5037 - val_loss: 0.6782 - val_categorical_accuracy: 0.6485 - 2s/epoch - 328us/sample\n",
      "Epoch 49/60\n",
      "5910/5910 - 2s - loss: 0.7338 - categorical_accuracy: 0.5074 - val_loss: 0.6628 - val_categorical_accuracy: 0.6485 - 2s/epoch - 326us/sample\n",
      "Epoch 50/60\n",
      "5910/5910 - 2s - loss: 0.7335 - categorical_accuracy: 0.4936 - val_loss: 0.7498 - val_categorical_accuracy: 0.3515 - 2s/epoch - 285us/sample\n",
      "Epoch 51/60\n",
      "5910/5910 - 2s - loss: 0.7354 - categorical_accuracy: 0.4963 - val_loss: 0.6513 - val_categorical_accuracy: 0.6485 - 2s/epoch - 300us/sample\n",
      "Epoch 52/60\n",
      "5910/5910 - 2s - loss: 0.7421 - categorical_accuracy: 0.4929 - val_loss: 0.7281 - val_categorical_accuracy: 0.3515 - 2s/epoch - 315us/sample\n",
      "Epoch 53/60\n",
      "5910/5910 - 2s - loss: 0.7384 - categorical_accuracy: 0.5058 - val_loss: 0.6775 - val_categorical_accuracy: 0.6485 - 2s/epoch - 313us/sample\n",
      "Epoch 54/60\n",
      "5910/5910 - 2s - loss: 0.7396 - categorical_accuracy: 0.4997 - val_loss: 0.6938 - val_categorical_accuracy: 0.3515 - 2s/epoch - 326us/sample\n",
      "Epoch 55/60\n",
      "5910/5910 - 2s - loss: 0.7346 - categorical_accuracy: 0.5125 - val_loss: 0.7614 - val_categorical_accuracy: 0.3515 - 2s/epoch - 312us/sample\n",
      "Epoch 56/60\n",
      "5910/5910 - 2s - loss: 0.7366 - categorical_accuracy: 0.5020 - val_loss: 0.7036 - val_categorical_accuracy: 0.3515 - 2s/epoch - 291us/sample\n",
      "Epoch 57/60\n",
      "5910/5910 - 2s - loss: 0.7313 - categorical_accuracy: 0.5037 - val_loss: 0.7236 - val_categorical_accuracy: 0.3515 - 2s/epoch - 307us/sample\n",
      "Epoch 58/60\n",
      "5910/5910 - 2s - loss: 0.7354 - categorical_accuracy: 0.4919 - val_loss: 0.6583 - val_categorical_accuracy: 0.6485 - 2s/epoch - 308us/sample\n",
      "Epoch 59/60\n",
      "5910/5910 - 2s - loss: 0.7372 - categorical_accuracy: 0.4939 - val_loss: 0.7457 - val_categorical_accuracy: 0.3515 - 2s/epoch - 323us/sample\n",
      "Epoch 60/60\n",
      "5910/5910 - 2s - loss: 0.7406 - categorical_accuracy: 0.5071 - val_loss: 0.6560 - val_categorical_accuracy: 0.6485 - 2s/epoch - 304us/sample\n"
     ]
    },
    {
     "data": {
      "text/plain": [
       "<keras.src.callbacks.History at 0x7f2121575c00>"
      ]
     },
     "execution_count": 46,
     "metadata": {},
     "output_type": "execute_result"
    }
   ],
   "source": [
    "model.fit(X_train, Y_train, validation_data=(X_validation, Y_validation),\n",
    "          batch_size=batch_size, epochs=epochs, shuffle=shuffle, verbose=verbose, class_weight = class_weight)"
   ]
  },
  {
   "cell_type": "code",
   "execution_count": 47,
   "id": "0449d92b-f742-4e01-a79a-d67f7c2e41a6",
   "metadata": {},
   "outputs": [
    {
     "name": "stderr",
     "output_type": "stream",
     "text": [
      "2024-11-11 20:35:06.649917: W tensorflow/c/c_api.cc:305] Operation '{name:'dense_18/Softmax' id:2135 op device:{requested: '', assigned: ''} def:{{{node dense_18/Softmax}} = Softmax[T=DT_FLOAT, _has_manual_control_dependencies=true](dense_18/BiasAdd)}}' was changed by setting attribute after it was run by a session. This mutation will have no effect, and will trigger an error in the future. Either don't modify nodes after running them or create a new session.\n"
     ]
    }
   ],
   "source": [
    "train_loss=model.history.history['loss']\n",
    "val_loss=model.history.history['val_loss']\n",
    "    \n",
    "cat_acc=model.history.history['categorical_accuracy']\n",
    "val_acc=model.history.history['val_categorical_accuracy']\n",
    "        \n",
    "pred = model.predict(X_all)\n",
    "pred_val = model.predict(X_validation)\n",
    "pred_train = model.predict(X_train)\n",
    "pred_test = model.predict(X_test)"
   ]
  },
  {
   "cell_type": "code",
   "execution_count": 48,
   "id": "8a7ef8db-8dde-45dc-89b3-58dcc6c72a28",
   "metadata": {},
   "outputs": [
    {
     "data": {
      "text/plain": [
       "<bound method Axes.legend of <Axes: title={'center': 'Accuracy'}, xlabel='Epoch', ylabel='Acc'>>"
      ]
     },
     "execution_count": 48,
     "metadata": {},
     "output_type": "execute_result"
    },
    {
     "data": {
      "image/png": "[encoded data removed]",
      "text/plain": [
       "<Figure size 1600x400 with 2 Axes>"
      ]
     },
     "metadata": {},
     "output_type": "display_data"
    }
   ],
   "source": [
    "# Look at the optimization history\n",
    "fig, (ax1,ax2) = plt.subplots(1,2, figsize=plt.figaspect(0.25))\n",
    "ax1.plot(train_loss, label='Training loss')\n",
    "ax1.plot(val_loss, label='Validation loss')\n",
    "ax1.set_yscale('log')\n",
    "ax1.set_title('loss')\n",
    "ax1.set_xlabel('Epoch')\n",
    "ax1.set_ylabel('loss')\n",
    "ax1.legend()\n",
    "\n",
    "ax2.plot(cat_acc, label='Training ACC')\n",
    "ax2.plot(val_acc, label='Validation ACC')\n",
    "ax2.set_title('Accuracy')\n",
    "ax2.set_xlabel('Epoch')\n",
    "ax2.set_ylabel('Acc')\n",
    "ax2.legend"
   ]
  },
  {
   "cell_type": "markdown",
   "id": "ac29534a-2311-4229-be90-f0591a4831a8",
   "metadata": {},
   "source": [
    "## Again ... bad model. \n",
    "This has been a consistent issue of mine, even with decent models (i.e., models with good loss curves but bad learning curves). I am thinking that this is a data pre-processing issue. "
   ]
  },
  {
   "cell_type": "code",
   "execution_count": null,
   "id": "afb71cee-30e6-4785-83ad-46f07a89fcd6",
   "metadata": {},
   "outputs": [],
   "source": []
  }
 ],
 "metadata": {
  "kernelspec": {
   "display_name": "Python 3 (ipykernel)",
   "language": "python",
   "name": "python3"
  },
  "language_info": {
   "codemirror_mode": {
    "name": "ipython",
    "version": 3
   },
   "file_extension": ".py",
   "mimetype": "text/x-python",
   "name": "python",
   "nbconvert_exporter": "python",
   "pygments_lexer": "ipython3",
   "version": "3.11.7"
  }
 },
 "nbformat": 4,
 "nbformat_minor": 5
}
