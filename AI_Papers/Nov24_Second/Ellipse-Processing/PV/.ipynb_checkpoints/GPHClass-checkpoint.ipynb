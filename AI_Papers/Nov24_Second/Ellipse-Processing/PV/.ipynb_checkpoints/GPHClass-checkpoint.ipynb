{
 "cells": [
  {
   "cell_type": "markdown",
   "id": "a2fcc4b6-51d4-4276-84e7-43b9f9f46695",
   "metadata": {},
   "source": [
    "### GPH anomaly [0,1] classification. "
   ]
  },
  {
   "cell_type": "code",
   "execution_count": 23,
   "id": "181fb0ec-33df-4b92-9bd9-e1efcf527bfe",
   "metadata": {},
   "outputs": [],
   "source": [
    "import datetime as dt\n",
    "import numpy as np\n",
    "import xarray as xr\n",
    "import pickle"
   ]
  },
  {
   "cell_type": "code",
   "execution_count": 24,
   "id": "03120d35-0d52-4b79-bff0-097d9f74a5f1",
   "metadata": {},
   "outputs": [],
   "source": [
    "#upload temperature region files, for full area from regridded\n",
    "infile = open(\"1122_filtered_gph_median.p\", 'rb')\n",
    "eur = pickle.load(infile)\n",
    "infile.close()"
   ]
  },
  {
   "cell_type": "code",
   "execution_count": 25,
   "id": "10d4247d-1e62-4abf-b56f-97b4db564c17",
   "metadata": {},
   "outputs": [
    {
     "name": "stdout",
     "output_type": "stream",
     "text": [
      "(63, 151)\n"
     ]
    }
   ],
   "source": [
    "print(eur.shape)"
   ]
  },
  {
   "cell_type": "code",
   "execution_count": 26,
   "id": "9b21425e-280b-4307-a0bd-80e209dacbf6",
   "metadata": {},
   "outputs": [],
   "source": [
    "##flatten\n",
    "te1 = eur\n",
    "\n",
    "te1 = np.reshape(te1, (9513))\n",
    "e_st = np.empty((9513))"
   ]
  },
  {
   "cell_type": "code",
   "execution_count": 27,
   "id": "bd8752ba-80af-4301-ab93-b59517e580ba",
   "metadata": {},
   "outputs": [],
   "source": [
    "if np.any(np.isnan(te1)) or np.any(np.isinf(te1)):\n",
    "    print(\"NaN or Inf values found in gph!\")"
   ]
  },
  {
   "cell_type": "code",
   "execution_count": 28,
   "id": "fa02055f-1c75-4384-8b53-88471ce6c294",
   "metadata": {},
   "outputs": [],
   "source": [
    "##for checking equal # of pos and negative events\n",
    "pos = []\n",
    "neg = []"
   ]
  },
  {
   "cell_type": "code",
   "execution_count": 29,
   "id": "bb7d8d2c-691f-4579-8a1e-b61074abe083",
   "metadata": {},
   "outputs": [
    {
     "data": {
      "text/plain": [
       "array([  2.25021262, -18.46507421, -43.31041011, ...,  92.90374522,\n",
       "        57.8138629 ,  29.59390883])"
      ]
     },
     "execution_count": 29,
     "metadata": {},
     "output_type": "execute_result"
    }
   ],
   "source": [
    "te1"
   ]
  },
  {
   "cell_type": "code",
   "execution_count": 30,
   "id": "654fa5ac-858d-4850-9dcd-7007fee8eceb",
   "metadata": {
    "scrolled": true
   },
   "outputs": [],
   "source": [
    "for i in range(0,9513):\n",
    "        if te1[i] > 0:\n",
    "            e_st[i] = 1\n",
    "            pos.append(1)\n",
    "            \n",
    "        elif te1[i] < 0:\n",
    "            #print(\"negative\")\n",
    "            e_st[i] = 0\n",
    "            neg.append(0)\n",
    "            \n",
    "        elif te1[i] == 0:\n",
    "            if len(pos) <= len(neg):\n",
    "                e_st[i] = 1\n",
    "                pos.append(1)\n",
    "            else:\n",
    "                e_st[i] = 0\n",
    "                neg.append(0)"
   ]
  },
  {
   "cell_type": "code",
   "execution_count": 31,
   "id": "129c5562-c723-49c0-a4e6-d7b1f7218e93",
   "metadata": {},
   "outputs": [
    {
     "data": {
      "text/plain": [
       "array([1., 0., 0., ..., 1., 1., 1.])"
      ]
     },
     "execution_count": 31,
     "metadata": {},
     "output_type": "execute_result"
    }
   ],
   "source": [
    "e_st"
   ]
  },
  {
   "cell_type": "code",
   "execution_count": 32,
   "id": "4f07452f-b6c9-4f67-ac72-75d07fbfcf7a",
   "metadata": {},
   "outputs": [
    {
     "data": {
      "text/plain": [
       "4756"
      ]
     },
     "execution_count": 32,
     "metadata": {},
     "output_type": "execute_result"
    }
   ],
   "source": [
    "len(neg)"
   ]
  },
  {
   "cell_type": "code",
   "execution_count": 33,
   "id": "6edbe908-023f-420b-ad49-166f7cba5e06",
   "metadata": {},
   "outputs": [],
   "source": [
    "pickle.dump(e_st, open(\"1122_classmedian_GPH.p\", 'wb'))"
   ]
  },
  {
   "cell_type": "code",
   "execution_count": null,
   "id": "4689804f-3e08-4d4d-9e8d-768c6eaa66f5",
   "metadata": {},
   "outputs": [],
   "source": []
  }
 ],
 "metadata": {
  "kernelspec": {
   "display_name": "Python 3 August 2021 Environment",
   "language": "python",
   "name": "aug21"
  },
  "language_info": {
   "codemirror_mode": {
    "name": "ipython",
    "version": 3
   },
   "file_extension": ".py",
   "mimetype": "text/x-python",
   "name": "python",
   "nbconvert_exporter": "python",
   "pygments_lexer": "ipython3",
   "version": "3.8.10"
  }
 },
 "nbformat": 4,
 "nbformat_minor": 5
}
