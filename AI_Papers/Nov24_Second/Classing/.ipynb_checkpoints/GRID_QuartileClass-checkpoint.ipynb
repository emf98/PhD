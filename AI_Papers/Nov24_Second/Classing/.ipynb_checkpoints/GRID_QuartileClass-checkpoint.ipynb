{
 "cells": [
  {
   "cell_type": "markdown",
   "id": "a2fcc4b6-51d4-4276-84e7-43b9f9f46695",
   "metadata": {},
   "source": [
    "### Climatology of temperature classification. "
   ]
  },
  {
   "cell_type": "code",
   "execution_count": 1,
   "id": "181fb0ec-33df-4b92-9bd9-e1efcf527bfe",
   "metadata": {},
   "outputs": [
    {
     "name": "stderr",
     "output_type": "stream",
     "text": [
      "/knight/anaconda_jan21/envs/aug21/lib/python3.8/site-packages/scipy/__init__.py:146: UserWarning: A NumPy version >=1.16.5 and <1.23.0 is required for this version of SciPy (detected version 1.24.3\n",
      "  warnings.warn(f\"A NumPy version >={np_minversion} and <{np_maxversion}\"\n"
     ]
    }
   ],
   "source": [
    "import datetime as dt\n",
    "import numpy as np\n",
    "import xarray as xr\n",
    "import pickle"
   ]
  },
  {
   "cell_type": "code",
   "execution_count": 2,
   "id": "03120d35-0d52-4b79-bff0-097d9f74a5f1",
   "metadata": {},
   "outputs": [],
   "source": [
    "#upload temperature region files\n",
    "infile = open(\"../Regridded/eurtemp1000_singledeg.p\", 'rb')\n",
    "eur = pickle.load(infile)\n",
    "infile.close()"
   ]
  },
  {
   "cell_type": "code",
   "execution_count": 3,
   "id": "10d4247d-1e62-4abf-b56f-97b4db564c17",
   "metadata": {},
   "outputs": [
    {
     "name": "stdout",
     "output_type": "stream",
     "text": [
      "(63, 151, 16, 36)\n"
     ]
    }
   ],
   "source": [
    "print(eur.shape)"
   ]
  },
  {
   "cell_type": "code",
   "execution_count": 4,
   "id": "9b21425e-280b-4307-a0bd-80e209dacbf6",
   "metadata": {},
   "outputs": [],
   "source": [
    "##flatten\n",
    "te1 = eur\n",
    "\n",
    "te1 = np.reshape(te1, (9513,16,36))\n",
    "te2 = np.nanmean(te1, axis = 1) #average along latitude dimension\n",
    "te3 = np.nanmean(te2, axis = 1) #average alone longitude dimension\n",
    "e_st = np.empty((9387))"
   ]
  },
  {
   "cell_type": "code",
   "execution_count": 5,
   "id": "ff382b07-d8b5-41a7-9901-d90a788aabdf",
   "metadata": {},
   "outputs": [],
   "source": [
    "temp = te3.reshape((63,151))\n",
    "test = np.empty((63,149))"
   ]
  },
  {
   "cell_type": "code",
   "execution_count": 6,
   "id": "cadb0acc-2fdb-441a-ab26-a29e015d5338",
   "metadata": {},
   "outputs": [],
   "source": [
    "for i in range(0,63):\n",
    "    for j in range(1,150):\n",
    "        avg = (temp[i,j-1] + temp[i,j] + temp[i,j+1])/3\n",
    "        test[i,j-1] = avg "
   ]
  },
  {
   "cell_type": "code",
   "execution_count": 7,
   "id": "bd8752ba-80af-4301-ab93-b59517e580ba",
   "metadata": {},
   "outputs": [],
   "source": [
    "if np.any(np.isnan(test)) or np.any(np.isinf(test)):\n",
    "    print(\"NaN or Inf values found in te3!\")"
   ]
  },
  {
   "cell_type": "code",
   "execution_count": 8,
   "id": "ed37e2b1-70df-4f95-8f22-d444a5c2dd68",
   "metadata": {},
   "outputs": [],
   "source": [
    "te4 = test.reshape((9387))"
   ]
  },
  {
   "cell_type": "code",
   "execution_count": 9,
   "id": "654fa5ac-858d-4850-9dcd-7007fee8eceb",
   "metadata": {
    "scrolled": true
   },
   "outputs": [],
   "source": [
    "for i in range(0,9387):\n",
    "        if te4[i] > 0:\n",
    "            e_st[i] = 0\n",
    "        elif te4[i] < 0:\n",
    "            #print(\"negative\")\n",
    "            e_st[i] = 1\n",
    "        else:\n",
    "            print(\"fail\")"
   ]
  },
  {
   "cell_type": "code",
   "execution_count": 10,
   "id": "129c5562-c723-49c0-a4e6-d7b1f7218e93",
   "metadata": {},
   "outputs": [
    {
     "data": {
      "text/plain": [
       "array([0., 0., 0., 0., 0., 0., 0., 0., 0., 0.])"
      ]
     },
     "execution_count": 10,
     "metadata": {},
     "output_type": "execute_result"
    }
   ],
   "source": [
    "e_st[0:10]"
   ]
  },
  {
   "cell_type": "code",
   "execution_count": 11,
   "id": "6edbe908-023f-420b-ad49-166f7cba5e06",
   "metadata": {},
   "outputs": [],
   "source": [
    "pickle.dump(e_st, open(\"eur_class.p\", 'wb'))"
   ]
  },
  {
   "cell_type": "code",
   "execution_count": null,
   "id": "4689804f-3e08-4d4d-9e8d-768c6eaa66f5",
   "metadata": {},
   "outputs": [],
   "source": []
  }
 ],
 "metadata": {
  "kernelspec": {
   "display_name": "Python 3 August 2021 Environment",
   "language": "python",
   "name": "aug21"
  },
  "language_info": {
   "codemirror_mode": {
    "name": "ipython",
    "version": 3
   },
   "file_extension": ".py",
   "mimetype": "text/x-python",
   "name": "python",
   "nbconvert_exporter": "python",
   "pygments_lexer": "ipython3",
   "version": "3.8.10"
  }
 },
 "nbformat": 4,
 "nbformat_minor": 5
}
