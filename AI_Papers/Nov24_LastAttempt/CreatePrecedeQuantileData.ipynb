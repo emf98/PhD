{
 "cells": [
  {
   "cell_type": "markdown",
   "id": "7b23da87-758b-400c-92f3-a328503d6805",
   "metadata": {},
   "source": [
    "## Create Data files of ellipse metrics preceding anomalous temperatures.\n",
    "\n",
    "This file is changed because I figured out how to actually create independent samples. "
   ]
  },
  {
   "cell_type": "code",
   "execution_count": 17,
   "id": "b0f6128c-9eb5-4a6d-850a-370851fd3740",
   "metadata": {},
   "outputs": [],
   "source": [
    "#relevant import statements\n",
    "import numpy as np\n",
    "import math\n",
    "import xarray as xr \n",
    "import pickle \n",
    "import matplotlib.pyplot as plt\n",
    "\n",
    "from leadtime import leadtime_3classif\n",
    "from leadtime import leadtime_2classif"
   ]
  },
  {
   "cell_type": "code",
   "execution_count": 18,
   "id": "4a422d9d-96e9-46d5-9f89-8042934cbfd0",
   "metadata": {},
   "outputs": [],
   "source": [
    "infile = open(\"./relevant_diags_NaNfree/1959wind10_NaN.p\", 'rb') \n",
    "wind = pickle.load(infile)\n",
    "infile.close()\n",
    "\n",
    "infile = open(\"./relevant_diags_NaNfree/1959size10_NaN.p\", 'rb') \n",
    "size = pickle.load(infile)\n",
    "infile.close()\n",
    "\n",
    "infile = open(\"./relevant_diags_NaNfree/1959cenlat10_NaN.p\", 'rb')\n",
    "cenlat = pickle.load(infile)\n",
    "infile.close()\n",
    "\n",
    "#eddy-heat flux anom MDTF at 100hPa \n",
    "infile = open(\"./relevant_diags_NaNfree/1959ehf100_NaN.p\", 'rb') \n",
    "ehf100 = pickle.load(infile)\n",
    "infile.close()\n",
    "\n",
    "#NAO Index\n",
    "infile = open(\"./relevant_diags_NaNfree/1959nao_NaN.p\", 'rb') \n",
    "nao = pickle.load(infile)\n",
    "infile.close()"
   ]
  },
  {
   "cell_type": "code",
   "execution_count": 19,
   "id": "e153e131-53d0-47d9-bb3d-da8f43fcf6f3",
   "metadata": {},
   "outputs": [],
   "source": [
    "infile = open(\"./Updated_Diags/number_1959.p\", 'rb') \n",
    "classif = pickle.load(infile)\n",
    "infile.close()\n",
    "\n",
    "classif = np.delete(classif,[20],0)"
   ]
  },
  {
   "cell_type": "code",
   "execution_count": 20,
   "id": "a76c084e-0a4f-48d3-b8b7-6a42526f9dd2",
   "metadata": {},
   "outputs": [],
   "source": [
    "indices = np.isnan(wind)\n",
    "\n",
    "for val in indices:\n",
    "    if np.any(val) != False:\n",
    "        print(\"True\")"
   ]
  },
  {
   "cell_type": "code",
   "execution_count": 21,
   "id": "b4a27c23-1847-445a-bd3b-14152899a915",
   "metadata": {},
   "outputs": [],
   "source": [
    "#upload temperature region file \n",
    "infile = open(\"../../CNN_Folders/DataProcess/1959weightedANOMwnc_temp1000.p\", 'rb')\n",
    "temp = pickle.load(infile)\n",
    "infile.close()"
   ]
  },
  {
   "cell_type": "code",
   "execution_count": 22,
   "id": "970b11ff-44d8-435f-ad85-f5379cd1953e",
   "metadata": {},
   "outputs": [],
   "source": [
    "temp = np.delete(temp ,[120],1)"
   ]
  },
  {
   "cell_type": "code",
   "execution_count": 23,
   "id": "028188cf-913b-4027-bf37-4ece624791f3",
   "metadata": {},
   "outputs": [
    {
     "data": {
      "text/plain": [
       "(63, 151)"
      ]
     },
     "execution_count": 23,
     "metadata": {},
     "output_type": "execute_result"
    }
   ],
   "source": [
    "temp.shape"
   ]
  },
  {
   "cell_type": "code",
   "execution_count": 24,
   "id": "f63ed768-f9a6-457f-a565-42aca9c93c47",
   "metadata": {},
   "outputs": [
    {
     "data": {
      "text/plain": [
       "(63, 151)"
      ]
     },
     "execution_count": 24,
     "metadata": {},
     "output_type": "execute_result"
    }
   ],
   "source": [
    "classif.shape"
   ]
  },
  {
   "cell_type": "code",
   "execution_count": 25,
   "id": "314172ef-3bd3-4e6c-9126-2786e2e6e7d3",
   "metadata": {},
   "outputs": [],
   "source": [
    "##import climo probabilities \n",
    "infile = open(\"../../CNN_Folders/1959wnc_3climoprob.p\", 'rb')\n",
    "temp_prob = pickle.load(infile)\n",
    "infile.close()"
   ]
  },
  {
   "cell_type": "code",
   "execution_count": 26,
   "id": "2afab6e6-1f5f-49e4-8cd7-2bbf23af9627",
   "metadata": {},
   "outputs": [
    {
     "data": {
      "text/plain": [
       "array([[0.33333333, 0.3968254 , 0.26984127],\n",
       "       [0.26984127, 0.49206349, 0.23809524],\n",
       "       [0.23809524, 0.57142857, 0.19047619],\n",
       "       ...,\n",
       "       [0.23809524, 0.46031746, 0.3015873 ],\n",
       "       [0.26984127, 0.46031746, 0.26984127],\n",
       "       [0.26984127, 0.31746032, 0.41269841]])"
      ]
     },
     "execution_count": 26,
     "metadata": {},
     "output_type": "execute_result"
    }
   ],
   "source": [
    "temp_prob"
   ]
  },
  {
   "cell_type": "code",
   "execution_count": 27,
   "id": "5002950d-8274-4085-b965-ae3ea87aabfa",
   "metadata": {},
   "outputs": [
    {
     "data": {
      "text/plain": [
       "(63, 151, 3)"
      ]
     },
     "execution_count": 27,
     "metadata": {},
     "output_type": "execute_result"
    }
   ],
   "source": [
    "climo = temp_prob.reshape(63,152,3)\n",
    "climo = np.delete(climo,[120],1)\n",
    "climo.shape"
   ]
  },
  {
   "cell_type": "code",
   "execution_count": 28,
   "id": "ed23b297-0a03-48a1-a451-f70e876dd3a3",
   "metadata": {},
   "outputs": [],
   "source": [
    "t_c = temp"
   ]
  },
  {
   "cell_type": "code",
   "execution_count": 29,
   "id": "11359d73-984b-4fd8-8ec5-5245682e62eb",
   "metadata": {},
   "outputs": [],
   "source": [
    "##designate quartiles of values \n",
    "c_mx = np.nanquantile(t_c,1) #maximum\n",
    "c_q70 = np.nanquantile(t_c,0.7) #seventy\n",
    "c_q30 = np.nanquantile(t_c,0.3)\n",
    "c_mn = np.nanquantile(t_c,0) #minimum\""
   ]
  },
  {
   "cell_type": "code",
   "execution_count": 30,
   "id": "3ffc5cab-e911-4fdb-9f53-24db6a0e13f1",
   "metadata": {},
   "outputs": [],
   "source": [
    "###Paste appropriate lead time cell below"
   ]
  },
  {
   "cell_type": "code",
   "execution_count": 32,
   "id": "d7e62f27-5760-4e04-8b44-9868851e6fc2",
   "metadata": {
    "scrolled": true
   },
   "outputs": [
    {
     "name": "stdout",
     "output_type": "stream",
     "text": [
      "checking sizes of tc and wind ...\n",
      "2762\n",
      "2762\n",
      "(2762, 5)\n",
      "(2762, 3)\n",
      "checking sizes of tc and wind ...\n",
      "2819\n",
      "2819\n",
      "(2819, 5)\n",
      "(2819, 3)\n",
      "checking sizes of tc and wind ...\n",
      "2734\n",
      "2734\n",
      "(2734, 5)\n",
      "(2734, 3)\n"
     ]
    }
   ],
   "source": [
    "##tc = index 0, clim = index 1\n",
    "#range_low = [10,15,20,24,30]\n",
    "#range_high = 151\n",
    "#leadtop = [5,10,15,19,25]\n",
    "#leadbott = [0,5,10,14,20]\n",
    "\n",
    "range_low = [20,24,30]\n",
    "range_high = 151\n",
    "leadtop = [15,19,25]\n",
    "leadbott = [10,14,20]\n",
    "\n",
    "for i in range(len(leadtop)):\n",
    "    #set empty list of metrics\n",
    "    w = []\n",
    "    sn = []\n",
    "    ct = []\n",
    "    eh = []\n",
    "    cs = []\n",
    "\n",
    "    ##empty list for temperature binary and climo probs\n",
    "    tc = []\n",
    "    clim = []\n",
    "    \n",
    "    ##run leadtime definition\n",
    "    lead = leadtime_3classif(t_c,range_low[i],range_high,leadtop[i],leadbott[i],c_q30, c_q70, c_mx, \n",
    "                             w,sn,ct,eh,cs,tc,clim,wind,size,cenlat,nao,classif,climo)\n",
    "\n",
    "    print(\"checking sizes of tc and wind ...\")\n",
    "    print(len(tc))\n",
    "    print(len(w))\n",
    "\n",
    "    ##stack metrics\n",
    "    w1 = np.vstack(w)\n",
    "    sn1 = np.vstack(sn)\n",
    "    ct1 = np.vstack(ct)\n",
    "    eh1 = np.vstack(eh)\n",
    "    cs1 = np.vstack(cs)\n",
    "\n",
    "    print(w1.shape)\n",
    "\n",
    "    test = np.empty((len(w),5,5))\n",
    "    test[:,:,0]= w1\n",
    "    test[:,:,1]= sn1\n",
    "    test[:,:,2]= ct1\n",
    "    test[:,:,3]= eh1\n",
    "    test[:,:,4]= cs1\n",
    "\n",
    "    tc1 = np.stack(tc)\n",
    "    clim1 = np.stack(clim)\n",
    "    print(clim1.shape)\n",
    "\n",
    "    pickle.dump(tc1, open(\"./redo_NNfiles/WNC_temp3class_\"+str(leadbott[i])+\".p\", 'wb'))\n",
    "    pickle.dump(clim1, open(\"./redo_NNfiles/WNC_climo3class_\"+str(leadbott[i])+\".p\", 'wb'))\n",
    "    pickle.dump(test, open(\"./redo_NNfiles/WNC_DataAnom_3class_\"+str(leadbott[i])+\".p\", 'wb'))"
   ]
  },
  {
   "cell_type": "code",
   "execution_count": null,
   "id": "01486bbd-1bd9-4400-b045-96b99ef8f645",
   "metadata": {},
   "outputs": [],
   "source": []
  }
 ],
 "metadata": {
  "kernelspec": {
   "display_name": "Python 3 August 2021 Environment",
   "language": "python",
   "name": "aug21"
  },
  "language_info": {
   "codemirror_mode": {
    "name": "ipython",
    "version": 3
   },
   "file_extension": ".py",
   "mimetype": "text/x-python",
   "name": "python",
   "nbconvert_exporter": "python",
   "pygments_lexer": "ipython3",
   "version": "3.8.10"
  }
 },
 "nbformat": 4,
 "nbformat_minor": 5
}
