{
 "cells": [
  {
   "cell_type": "code",
   "execution_count": 2,
   "id": "5a7797d4-822d-49cd-aaea-e7288a139fae",
   "metadata": {},
   "outputs": [],
   "source": [
    "##PV and GPH joint"
   ]
  },
  {
   "cell_type": "code",
   "execution_count": 3,
   "id": "1c6a9159-890b-47f2-a080-f67b5e39f21c",
   "metadata": {
    "jupyter": {
     "source_hidden": true
    },
    "scrolled": true
   },
   "outputs": [
    {
     "name": "stderr",
     "output_type": "stream",
     "text": [
      "/tmp/ipykernel_155068/3801934532.py:6: DeprecationWarning: \n",
      "Pyarrow will become a required dependency of pandas in the next major release of pandas (pandas 3.0),\n",
      "(to allow more performant data types, such as the Arrow string type, and better interoperability with other libraries)\n",
      "but was not found to be installed on your system.\n",
      "If this would cause problems for you,\n",
      "please provide us feedback at https://github.com/pandas-dev/pandas/issues/54466\n",
      "        \n",
      "  import pandas as pd\n"
     ]
    }
   ],
   "source": [
    "%matplotlib inline\n",
    "##so-called \"math\" related imports\n",
    "from netCDF4 import Dataset as ncread\n",
    "import numpy as np\n",
    "from scipy.io import loadmat\n",
    "import pandas as pd\n",
    "import h5py\n",
    "import math\n",
    "from random import seed\n",
    "from random import randint\n",
    "from random import sample\n",
    "from scipy.ndimage import gaussian_filter\n",
    "from sklearn.metrics import brier_score_loss\n",
    "import xarray as xr\n",
    "\n",
    "import pickle\n",
    "\n",
    "##plotting related imports\n",
    "import matplotlib.pyplot as plt\n",
    "from matplotlib import rcParams #For changing text properties\n",
    "import cmocean #A package with beautiful colormaps\n",
    "from cartopy import crs as ccrs #Useful for plotting maps\n",
    "import cartopy.util #Requires separate import\n",
    "from cartopy.util import add_cyclic_point\n",
    "import cartopy.feature as cf\n",
    "from cartopy.mpl.ticker import LongitudeFormatter, LatitudeFormatter\n",
    "import matplotlib.path as mpath\n",
    "import matplotlib.colors as mcolors"
   ]
  },
  {
   "cell_type": "code",
   "execution_count": 4,
   "id": "40dfe88c-378d-4367-a65a-c17eb283aaee",
   "metadata": {
    "jupyter": {
     "source_hidden": true
    }
   },
   "outputs": [
    {
     "name": "stderr",
     "output_type": "stream",
     "text": [
      "2024-12-03 18:04:13.486212: E tensorflow/compiler/xla/stream_executor/cuda/cuda_dnn.cc:9342] Unable to register cuDNN factory: Attempting to register factory for plugin cuDNN when one has already been registered\n",
      "2024-12-03 18:04:13.486281: E tensorflow/compiler/xla/stream_executor/cuda/cuda_fft.cc:609] Unable to register cuFFT factory: Attempting to register factory for plugin cuFFT when one has already been registered\n",
      "2024-12-03 18:04:13.486322: E tensorflow/compiler/xla/stream_executor/cuda/cuda_blas.cc:1518] Unable to register cuBLAS factory: Attempting to register factory for plugin cuBLAS when one has already been registered\n",
      "2024-12-03 18:04:13.492714: I tensorflow/core/platform/cpu_feature_guard.cc:182] This TensorFlow binary is optimized to use available CPU instructions in performance-critical operations.\n",
      "To enable the following instructions: AVX2 FMA, in other operations, rebuild TensorFlow with the appropriate compiler flags.\n"
     ]
    }
   ],
   "source": [
    "##import tensorflow/keras related files\n",
    "import tensorflow as tf    \n",
    "#tf.compat.v1.disable_v2_behavior() # <-- HERE !\n",
    "\n",
    "from tensorflow import keras\n",
    "from tensorflow.keras import layers, models\n",
    "from tensorflow.keras import Input\n",
    "from tensorflow.keras.models import Model\n",
    "from tensorflow.keras.callbacks import ModelCheckpoint\n",
    "from tensorflow.keras import regularizers\n",
    "import tensorflow.keras.backend as K\n",
    "from tensorflow.keras.utils import to_categorical\n",
    "from tensorflow.keras.layers import Dropout, Activation, Reshape, Flatten, LSTM, Dense, Dropout, Embedding, Bidirectional, GRU, Concatenate\n",
    "from tensorflow.keras import Sequential\n",
    "from tensorflow.keras import initializers, regularizers\n",
    "from tensorflow.keras import optimizers\n",
    "from tensorflow.keras import constraints\n",
    "from tensorflow.keras.layers import Layer, InputSpec\n",
    "from tensorflow.keras.callbacks import EarlyStopping"
   ]
  },
  {
   "cell_type": "code",
   "execution_count": 5,
   "id": "e393572f-b47e-46f6-8823-1470a09445f9",
   "metadata": {},
   "outputs": [],
   "source": [
    "tf.compat.v1.disable_eager_execution()\n",
    "import innvestigate\n",
    "import investigate"
   ]
  },
  {
   "cell_type": "code",
   "execution_count": 6,
   "id": "0ca1bd8e-c6a9-4f22-a4a2-e0acbd0a9355",
   "metadata": {},
   "outputs": [],
   "source": [
    "from climoprobs import climo"
   ]
  },
  {
   "cell_type": "markdown",
   "id": "b67968bc-fc14-4805-95dd-146548796c3e",
   "metadata": {},
   "source": [
    "#### Upload data. "
   ]
  },
  {
   "cell_type": "code",
   "execution_count": 7,
   "id": "0817c222-c32c-4c7f-8f91-6e0fa11ff89c",
   "metadata": {},
   "outputs": [],
   "source": [
    "#inputs\n",
    "##now, PVU\n",
    "infile = open(\"../data/1203_pv.p\", 'rb') \n",
    "pvu = pickle.load(infile)\n",
    "infile.close()\n",
    "\n",
    "infile = open(\"../data/1203_g.p\", 'rb') \n",
    "gph = pickle.load(infile)\n",
    "infile.close()\n",
    "\n",
    "#outputs\n",
    "infile = open(\"../data/1203_classmedian_t.p\", 'rb')\n",
    "temp = pickle.load(infile)\n",
    "infile.close()\n",
    "\n",
    "infile = open(\"../data/1203_classmedian_g.p\", 'rb')\n",
    "gph_red = pickle.load(infile)\n",
    "infile.close()"
   ]
  },
  {
   "cell_type": "code",
   "execution_count": 8,
   "id": "a6c786eb-a205-44bc-88bf-76c99b18ce62",
   "metadata": {},
   "outputs": [
    {
     "data": {
      "text/plain": [
       "(63, 151, 11, 145)"
      ]
     },
     "execution_count": 8,
     "metadata": {},
     "output_type": "execute_result"
    }
   ],
   "source": [
    "pvu.shape"
   ]
  },
  {
   "cell_type": "code",
   "execution_count": 9,
   "id": "04ce2e36-2dde-4422-948d-dd0006ae695f",
   "metadata": {},
   "outputs": [],
   "source": [
    "length = 146\n",
    "end_pv = 146\n",
    "end_gph = 151"
   ]
  },
  {
   "cell_type": "code",
   "execution_count": 10,
   "id": "68a1c935-11ab-4f7b-8be4-8efbc0edbfcd",
   "metadata": {},
   "outputs": [],
   "source": [
    "gph_n = np.zeros((63,length))\n",
    "input_pvu = np.zeros((63,length,11,145))\n",
    "\n",
    "for i in range(63):\n",
    "    for j in range(5,end_pv):\n",
    "        gph_n[i,j-5] = gph_red[i,j]\n",
    "        input_pvu[i,j-5] = pvu[i,j-5,:,:]"
   ]
  },
  {
   "cell_type": "code",
   "execution_count": 11,
   "id": "fd84860e-5d6a-4af5-a2dd-49c87a768625",
   "metadata": {},
   "outputs": [],
   "source": [
    "temp_n = np.zeros((63,length))\n",
    "input_gph= np.zeros((63,length,21,37))\n",
    "\n",
    "for i in range(63):\n",
    "    for j in range(10,end_gph):\n",
    "        #print(j)\n",
    "        temp_n[i,j-10] = temp[i,j]\n",
    "        input_gph[i,j-10] = gph[i,j-5,:,:]"
   ]
  },
  {
   "cell_type": "code",
   "execution_count": 12,
   "id": "cd3a8f58-74a4-4111-95c2-c99a575b07a8",
   "metadata": {},
   "outputs": [
    {
     "name": "stdout",
     "output_type": "stream",
     "text": [
      "(63, 146, 21, 37)\n",
      "(63, 146, 11, 145)\n"
     ]
    }
   ],
   "source": [
    "##input shape (samples, lat, lon) and (#samples, window, features)\n",
    "print(input_gph.shape)\n",
    "print(input_pvu.shape)"
   ]
  },
  {
   "cell_type": "code",
   "execution_count": 13,
   "id": "2c7069d3-7e0f-498b-b5fb-855f9d28f335",
   "metadata": {},
   "outputs": [
    {
     "data": {
      "text/plain": [
       "(63, 146)"
      ]
     },
     "execution_count": 13,
     "metadata": {},
     "output_type": "execute_result"
    }
   ],
   "source": [
    "##output shape (samples), these will be different from the input\n",
    "gph_n.shape"
   ]
  },
  {
   "cell_type": "code",
   "execution_count": 14,
   "id": "9ee19e04-59b6-49a1-abf1-fcc0c0882ab6",
   "metadata": {},
   "outputs": [],
   "source": [
    "train_edge = int((63*length) - ((63*length)/63)*4)\n",
    "\n",
    "test_frac = int(((63*length)/63)*6)"
   ]
  },
  {
   "cell_type": "code",
   "execution_count": 15,
   "id": "46f1d582-c04a-4216-b229-bdcd632fa465",
   "metadata": {
    "scrolled": true
   },
   "outputs": [],
   "source": [
    "##Set X_all and Y_all datasets\n",
    "X_all1 = np.copy(input_pvu.reshape(63*length,11*145)) ##pvu\n",
    "Y_all1 = np.copy(gph_n.reshape(63*length))\n",
    "\n",
    "X_all2 = np.copy(input_gph.reshape(63*length,21*37)) ##gph\n",
    "Y_all2 = np.copy(temp_n.reshape(63*length))\n",
    "\n",
    "##training data partition out\n",
    "X_tri1 = X_all1[:train_edge,:] ##pvu\n",
    "Y_tri1 = Y_all1[:train_edge]\n",
    "\n",
    "X_tri2 = X_all2[:train_edge,:] ##gph\n",
    "Y_tri2 = Y_all2[:train_edge]\n",
    "\n",
    "#testing data partition out\n",
    "X_tes1 = X_all1[train_edge:,:]\n",
    "Y_tes1 = Y_all1[train_edge:]\n",
    "\n",
    "X_tes2 = X_all2[train_edge:,:]\n",
    "Y_tes2 = Y_all2[train_edge:]\n",
    "\n",
    "#Convert the Y array into a categorical array. This means we will create one-hot vector labels for all of the inputs.\n",
    "# The one-hot vectors have an index for each possible output category (two in our case)\n",
    "# A \"1\" is put in the index corresponding to the category to which the sample belongs\n",
    "Y_all1 = keras.utils.to_categorical(Y_all1)\n",
    "Y_tri1 = keras.utils.to_categorical(Y_tri1)\n",
    "Y_tes1= keras.utils.to_categorical(Y_tes1)\n",
    "\n",
    "Y_all2 = keras.utils.to_categorical(Y_all2)\n",
    "Y_tri2 = keras.utils.to_categorical(Y_tri2)\n",
    "Y_tes2= keras.utils.to_categorical(Y_tes2)"
   ]
  },
  {
   "cell_type": "code",
   "execution_count": 16,
   "id": "5beebb82-e25c-412f-a3a2-3dd18c343b52",
   "metadata": {},
   "outputs": [],
   "source": [
    "##checking my data for NaN of Infs because I need to make sure this doesn't cause\n",
    "#the model to throw back no loss\n",
    "\n",
    "if np.any(np.isnan(X_all2)) or np.any(np.isinf(X_all2)):\n",
    "    print(\"NaN or Inf values found in X_all!\")\n",
    "\n",
    "if np.any(np.isnan(Y_all2)) or np.any(np.isinf(Y_all2)):\n",
    "    print(\"NaN or Inf values found in Y_all!\")"
   ]
  },
  {
   "cell_type": "markdown",
   "id": "2edad085-2483-4eaa-a97c-79f4003a275e",
   "metadata": {},
   "source": [
    "### Begin establishing specifics of model."
   ]
  },
  {
   "cell_type": "code",
   "execution_count": 17,
   "id": "9c3b2fb4-4e7c-4781-b303-2f1b2cf14a41",
   "metadata": {},
   "outputs": [
    {
     "data": {
      "text/plain": [
       "876"
      ]
     },
     "execution_count": 17,
     "metadata": {},
     "output_type": "execute_result"
    }
   ],
   "source": [
    "##set 6 years of data for validation\n",
    "frac_ind = test_frac \n",
    "frac_ind"
   ]
  },
  {
   "cell_type": "code",
   "execution_count": 18,
   "id": "074e8204-f94d-4799-9e0f-5f4a3f73a3c7",
   "metadata": {},
   "outputs": [
    {
     "data": {
      "text/plain": [
       "(9198, 2)"
      ]
     },
     "execution_count": 18,
     "metadata": {},
     "output_type": "execute_result"
    }
   ],
   "source": [
    "##checking to make sure shape was properly one hot encoded\n",
    "Y_all2.shape"
   ]
  },
  {
   "cell_type": "code",
   "execution_count": 19,
   "id": "57b15f94-3206-4d31-82f3-c49d99bc026b",
   "metadata": {},
   "outputs": [
    {
     "data": {
      "text/plain": [
       "(9198, 2)"
      ]
     },
     "execution_count": 19,
     "metadata": {},
     "output_type": "execute_result"
    }
   ],
   "source": [
    "Y_all1.shape"
   ]
  },
  {
   "cell_type": "code",
   "execution_count": 20,
   "id": "1b2994bd-729c-443a-9ba6-01088e01ff5f",
   "metadata": {},
   "outputs": [],
   "source": [
    "##class weight creator for the instance where now I have a four dimensional output array \n",
    "def class_weight_creator(Y):\n",
    "    class_dict = {}\n",
    "    Y_reshaped = Y.reshape(-1, Y.shape[-1])\n",
    "    weights = np.max(np.sum(Y_reshaped, axis=0)) / np.sum(Y_reshaped, axis=0)\n",
    "    for i in range(Y.shape[-1] ):\n",
    "        class_dict[i] = weights[i]\n",
    "        \n",
    "    return class_dict"
   ]
  },
  {
   "cell_type": "code",
   "execution_count": 21,
   "id": "cb26fc72-176a-4be0-b175-1beb1a0da1f6",
   "metadata": {},
   "outputs": [],
   "source": [
    "##number of input nodes\n",
    "input_shape1=  X_all1.shape[-1] # pvu\n",
    "input_shape2= X_all2.shape[-1] ## gph\n",
    "\n",
    "##fraction of training data\n",
    "X_validation1 = X_tri1[0:frac_ind]\n",
    "Y_validation1 = Y_tri1[0:frac_ind]\n",
    "X_validation2 = X_tri2[0:frac_ind]\n",
    "Y_validation2 = Y_tri2[0:frac_ind]\n",
    "        \n",
    "X_train1 = X_tri1[frac_ind:len(X_tri1)]\n",
    "Y_train1 = Y_tri1[frac_ind:len(Y_tri1)]\n",
    "X_train2 = X_tri2[frac_ind:len(X_tri2)]\n",
    "Y_train2 = Y_tri2[frac_ind:len(Y_tri2)]\n",
    "\n",
    "X_test1 = X_tes1\n",
    "Y_test1 = Y_tes1\n",
    "X_test2 = X_tes2\n",
    "Y_test2 = Y_tes2"
   ]
  },
  {
   "cell_type": "code",
   "execution_count": 22,
   "id": "eb57347b-ceec-4e39-8fcf-0992b6b1b607",
   "metadata": {},
   "outputs": [
    {
     "data": {
      "text/plain": [
       "(7738, 2)"
      ]
     },
     "execution_count": 22,
     "metadata": {},
     "output_type": "execute_result"
    }
   ],
   "source": [
    "Y_train2.shape"
   ]
  },
  {
   "cell_type": "code",
   "execution_count": 23,
   "id": "8f044466-349a-46f4-bb70-f8d6a719465e",
   "metadata": {},
   "outputs": [
    {
     "data": {
      "text/plain": [
       "1595"
      ]
     },
     "execution_count": 23,
     "metadata": {},
     "output_type": "execute_result"
    }
   ],
   "source": [
    "input_shape1"
   ]
  },
  {
   "cell_type": "code",
   "execution_count": 24,
   "id": "2cd8fca7-a55e-459a-b908-71a462044f5e",
   "metadata": {},
   "outputs": [
    {
     "data": {
      "text/plain": [
       "777"
      ]
     },
     "execution_count": 24,
     "metadata": {},
     "output_type": "execute_result"
    }
   ],
   "source": [
    "input_shape2"
   ]
  },
  {
   "cell_type": "code",
   "execution_count": 25,
   "id": "00d61e2d-fe5e-43c9-95a2-75a559609794",
   "metadata": {},
   "outputs": [
    {
     "data": {
      "text/plain": [
       "{0: 1.0, 1: 1.0987252}"
      ]
     },
     "execution_count": 25,
     "metadata": {},
     "output_type": "execute_result"
    }
   ],
   "source": [
    "##do the class_dict weights\n",
    "class_weight1 = class_weight_creator(Y_train1)\n",
    "class_weight1"
   ]
  },
  {
   "cell_type": "code",
   "execution_count": 26,
   "id": "481596da-403f-4611-9813-602c5daec20e",
   "metadata": {},
   "outputs": [
    {
     "data": {
      "text/plain": [
       "{0: 1.0, 1: 1.1902066}"
      ]
     },
     "execution_count": 26,
     "metadata": {},
     "output_type": "execute_result"
    }
   ],
   "source": [
    "class_weight2 = class_weight_creator(Y_train2)\n",
    "class_weight2"
   ]
  },
  {
   "cell_type": "code",
   "execution_count": 27,
   "id": "95d07fa8-f968-4664-96dc-6c0f7c4b0b15",
   "metadata": {},
   "outputs": [],
   "source": [
    "##dictionaries for training and validation\n",
    "X_train = {'model1': X_train1, 'model2': X_train2}\n",
    "X_all = {'model1': X_all1, 'model2': X_all2}\n",
    "X_test = {'model1': X_test1, 'model2': X_test2}\n",
    "X_val = {'model1': X_validation1, 'model2': X_validation2}\n",
    "\n",
    "Y_train = {'output1': Y_train1, 'output2': Y_train2}\n",
    "Y_all = {'output1': Y_all1, 'output2': Y_all2}\n",
    "Y_test = {'output1': Y_test1, 'output2': Y_test2}\n",
    "Y_val = {'output1': Y_validation1, 'output2': Y_validation2}\n",
    "\n",
    "class_weight = {'output1': class_weight1, 'output2': class_weight2}"
   ]
  },
  {
   "cell_type": "markdown",
   "id": "a44275b4-b283-48c5-a2f8-87d4ce86683b",
   "metadata": {},
   "source": [
    "### Model Arcitecture."
   ]
  },
  {
   "cell_type": "raw",
   "id": "9ee32b82-5a1a-4a34-8139-76397523a97f",
   "metadata": {
    "jupyter": {
     "source_hidden": true
    }
   },
   "source": [
    "def combined(input_shape1, input_shape2, num_cats, n1, n2, n3, n4, reg1, reg2, reg3, reg4, learn):\n",
    "    ##first layers for PVU ANN\n",
    "    input_tensor1 = Input(shape=(int(input_shape1),), name='model1')\n",
    "    layer1 = layers.Dense(n1, activation='relu', use_bias=True,\n",
    "                          kernel_initializer='he_normal',bias_initializer='he_normal',\n",
    "                          kernel_regularizer=keras.regularizers.l2(l2= reg1))(input_tensor1)\n",
    "   \n",
    "    layer1 = layers.Dense(n2, activation='relu', use_bias=True,\n",
    "                          kernel_initializer='he_normal',bias_initializer='he_normal',\n",
    "                          kernel_regularizer=keras.regularizers.l2(l2= reg2))(layer1)\n",
    "    output_tensor1 = layers.Dense(num_cats,activation='softmax', name='output1')(layer1)\n",
    "    \n",
    "\n",
    "    ## second layers for GPH ANN\n",
    "    input_tensor2 = Input(shape=(int(input_shape2),), name='model2')\n",
    "    \n",
    "    repeated = layers.RepeatVector(input_shape2)(output_tensor1)\n",
    "    #flatten output_tensor1_\n",
    "    flattened = layers.Flatten()(repeated)\n",
    "    combined = layers.Concatenate(axis=-1)([input_tensor2, flattened])\n",
    "    \n",
    "    layer2 = layers.Dense(n3, activation='relu', use_bias=True,\n",
    "                          kernel_initializer='he_normal',bias_initializer='he_normal',\n",
    "                          kernel_regularizer=keras.regularizers.l2(l2= reg3))(combined)\n",
    "    layer2 = layers.Dense(n4, activation='relu', use_bias=True,\n",
    "                          kernel_initializer='he_normal',bias_initializer='he_normal',\n",
    "                          kernel_regularizer=keras.regularizers.l2(l2= reg4))(layer2)\n",
    "\n",
    "    output_tensor2 = layers.Dense(num_cats,activation='softmax', name='output2')(layer2)\n",
    "    \n",
    "    model = Model([input_tensor1, input_tensor2], output_tensor2)\n",
    "    \n",
    "    model.compile(optimizer=keras.optimizers.legacy.Adam(learning_rate=learn),\n",
    "              loss = {\"output2\":\"categorical_crossentropy\"}\n",
    "              , #Our loss function is based on categorical error\n",
    "             metrics={'output2': keras.metrics.categorical_accuracy}, #We will print out the categorical accuracy as the network is trained\n",
    "              )\n",
    "    return model"
   ]
  },
  {
   "cell_type": "code",
   "execution_count": 28,
   "id": "ff092005-a4ca-447a-822c-66fa44eafdb2",
   "metadata": {},
   "outputs": [],
   "source": [
    "######\n",
    "batch_size = 256 #The number of samples the network sees before it backpropagates (batch size)\n",
    "epochs = 50 #The number of times the network will loop through the entire dataset (epochs)\n",
    "shuffle = True #Set whether to shuffle the training data so the model doesn't see it sequentially \n",
    "verbose = 2 #Set whether the model will output information when trained (0 = no output; 2 = output accuracy every epoch)"
   ]
  },
  {
   "cell_type": "raw",
   "id": "8aa12550-9e5b-4004-9072-0fffa6b568be",
   "metadata": {
    "jupyter": {
     "source_hidden": true
    }
   },
   "source": [
    "##create model.\n",
    "model = combined(input_shape1, input_shape2, 2, 124, 12, 120, 16, 0.6, 0.09, 0.57, 0.053, 0.027)\n",
    "\n",
    "\n",
    "early_stopping = EarlyStopping(monitor='val_loss',patience=4,restore_best_weights=True,verbose=1)"
   ]
  },
  {
   "cell_type": "raw",
   "id": "6062eb1a-dce2-40b8-bc21-779c5807924d",
   "metadata": {
    "scrolled": true
   },
   "source": [
    "model.fit(X_train, Y_train, validation_data=(X_val, Y_val),\n",
    "          batch_size=batch_size, epochs=epochs, shuffle=shuffle,class_weight = class_weight)#callbacks=[early_stopping])"
   ]
  },
  {
   "cell_type": "raw",
   "id": "34cae6d3-fd87-42e7-948e-5df31f98a522",
   "metadata": {
    "jupyter": {
     "source_hidden": true
    }
   },
   "source": [
    "train_loss=model.history.history['loss']\n",
    "val_loss=model.history.history['val_loss']\n",
    "    \n",
    "cat_acc=model.history.history['categorical_accuracy']\n",
    "val_acc=model.history.history['val_categorical_accuracy']\n",
    "        \n",
    "pred = model.predict(X_all)\n",
    "pred_val = model.predict(X_val)\n",
    "pred_train = model.predict(X_train)\n",
    "pred_test = model.predict(X_test)"
   ]
  },
  {
   "cell_type": "raw",
   "id": "1c1633af-32e9-4dab-99b7-78308ea95f96",
   "metadata": {
    "jupyter": {
     "source_hidden": true
    }
   },
   "source": [
    "# Look at the optimization history\n",
    "fig, (ax1,ax2) = plt.subplots(1,2, figsize=plt.figaspect(0.25))\n",
    "ax1.plot(train_loss, label='Training loss')\n",
    "ax1.plot(val_loss, label='Validation loss')\n",
    "ax1.set_yscale('log')\n",
    "ax1.set_title('loss')\n",
    "ax1.set_xlabel('Epoch')\n",
    "ax1.set_ylabel('loss')\n",
    "ax1.legend()\n",
    "\n",
    "ax2.plot(cat_acc, label='Training ACC')\n",
    "ax2.plot(val_acc, label='Validation ACC')\n",
    "ax2.set_title('Accuracy')\n",
    "ax2.set_xlabel('Epoch')\n",
    "ax2.set_ylabel('Acc')\n",
    "ax2.legend"
   ]
  },
  {
   "cell_type": "code",
   "execution_count": null,
   "id": "54ba7c0c-5ba5-4d2b-bf30-4e26d8a5c56a",
   "metadata": {},
   "outputs": [],
   "source": [
    "#############################tuning#############################"
   ]
  },
  {
   "cell_type": "code",
   "execution_count": 34,
   "id": "ab630ef5-1b7e-460a-96bc-2d1a9cc6f80f",
   "metadata": {},
   "outputs": [],
   "source": [
    "def combined(hp):\n",
    "    ##set ranges for hyperparameters\n",
    "    n1 = hp.Int('n1', min_value=120, max_value=128, step=4)\n",
    "    n2 = hp.Int('n2', min_value=4, max_value=16, step=4)\n",
    "    n3= hp.Int('n3', min_value=120, max_value=128, step=4)\n",
    "    n4 = hp.Int('n4', min_value=4, max_value=16, step=4)\n",
    "\n",
    "    reg1 = hp.Float('reg1', min_value=0.01, max_value=1, default=0.01)\n",
    "    reg2 = hp.Float('reg2', min_value=0.001, max_value=0.1, default=0.01)\n",
    "    reg3 = hp.Float('reg3', min_value=0.01, max_value=1, default=0.01)\n",
    "    reg4 = hp.Float('reg4', min_value=0.001, max_value=0.1, default=0.01)\n",
    "    \n",
    "    ##first layers for PVU ANN\n",
    "    input_tensor1 = Input(shape=(int(1595),), name='model1')\n",
    "    layer1 = layers.Dense(n1, activation='relu', use_bias=True,\n",
    "                          kernel_initializer='he_normal',bias_initializer='he_normal',\n",
    "                          kernel_regularizer=keras.regularizers.l2(l2= reg1))(input_tensor1)\n",
    "   \n",
    "    layer1 = layers.Dense(n2, activation='relu', use_bias=True,\n",
    "                          kernel_initializer='he_normal',bias_initializer='he_normal',\n",
    "                          kernel_regularizer=keras.regularizers.l2(l2= reg2))(layer1)\n",
    "    output_tensor1 = layers.Dense(2,activation='softmax', name='output1')(layer1)\n",
    "    \n",
    "\n",
    "    ## second layers for GPH ANN\n",
    "    input_tensor2 = Input(shape=(int(777),), name='model2')\n",
    "    \n",
    "    repeated = layers.RepeatVector(777)(output_tensor1)\n",
    "    #flatten output_tensor1_\n",
    "    flattened = layers.Flatten()(repeated)\n",
    "    combined = layers.Concatenate(axis=-1)([input_tensor2, flattened])\n",
    "    \n",
    "    layer2 = layers.Dense(n3, activation='relu', use_bias=True,\n",
    "                          kernel_initializer='he_normal',bias_initializer='he_normal',\n",
    "                          kernel_regularizer=keras.regularizers.l2(l2= reg3))(combined)\n",
    "    layer2 = layers.Dense(n4, activation='relu', use_bias=True,\n",
    "                          kernel_initializer='he_normal',bias_initializer='he_normal',\n",
    "                          kernel_regularizer=keras.regularizers.l2(l2= reg4))(layer2)\n",
    "\n",
    "    output_tensor2 = layers.Dense(2,activation='softmax', name='output2')(layer2)\n",
    "    \n",
    "    model = Model([input_tensor1, input_tensor2], output_tensor2)\n",
    "\n",
    "    lr = hp.Float('learning_rate', min_value=1e-3, max_value=1, default=1e-3)\n",
    "    model.compile(optimizer=keras.optimizers.legacy.Adam(learning_rate=lr),\n",
    "              loss = {\"output2\":\"categorical_crossentropy\"}\n",
    "              , #Our loss function is based on categorical error\n",
    "             metrics={'output2': keras.metrics.categorical_accuracy}, #We will print out the categorical accuracy as the network is trained\n",
    "              )\n",
    "    return model"
   ]
  },
  {
   "cell_type": "code",
   "execution_count": 47,
   "id": "ae6d12f7-cbed-4894-9097-013a6b1ad81f",
   "metadata": {},
   "outputs": [
    {
     "name": "stdout",
     "output_type": "stream",
     "text": [
      "Reloading Tuner from tuning/joint1/tuner0.json\n"
     ]
    }
   ],
   "source": [
    "##intialize/setup the hyperband tuner\n",
    "import keras_tuner as kt\n",
    "\n",
    "tuner = kt.tuners.RandomSearch(\n",
    "    combined, #model\n",
    "    objective = [kt.Objective('val_loss', 'min'), kt.Objective('loss', 'min'),\n",
    "                kt.Objective('val_categorical_accuracy', 'max')], #target\n",
    "    max_trials=1000, #number of iterations of tuning to run\n",
    "    max_consecutive_failed_trials=3, #number of allowed failed trials\n",
    "    directory = 'tuning',\n",
    "    project_name='joint1'\n",
    ")"
   ]
  },
  {
   "cell_type": "code",
   "execution_count": 48,
   "id": "44bf4330-8fa7-4663-a300-bb96a759ed56",
   "metadata": {},
   "outputs": [],
   "source": [
    "stop_early = tf.keras.callbacks.EarlyStopping(monitor='val_loss', patience=5)"
   ]
  },
  {
   "cell_type": "code",
   "execution_count": 49,
   "id": "1b9cabb9-2f54-4601-aeca-f86698684952",
   "metadata": {
    "scrolled": true
   },
   "outputs": [],
   "source": [
    "##actual tuning process\n",
    "tuner.search(X_train, Y_train, validation_data=(X_val, Y_val),\n",
    "             batch_size=batch_size, epochs=epochs, shuffle=shuffle,\n",
    "             class_weight = class_weight, callbacks=[stop_early])"
   ]
  },
  {
   "cell_type": "code",
   "execution_count": 50,
   "id": "80016826-15c8-4301-a8da-13c6eef0c321",
   "metadata": {},
   "outputs": [
    {
     "name": "stdout",
     "output_type": "stream",
     "text": [
      "\n",
      "The hyperparameter search is complete. The optimal number of units in the first densely-connected\n",
      "layer is 124, the second is 4,\n",
      "regularizers are 0.7399673295339388 and 0.09789143529456881,\n",
      "and the optimal learning rate for the optimizer\n",
      "is 0.0016438185261663922.\n",
      "\n"
     ]
    }
   ],
   "source": [
    "# Get the optimal hyperparameters\n",
    "best_hps=tuner.get_best_hyperparameters(num_trials=1)[0]\n",
    "\n",
    "print(f\"\"\"\n",
    "The hyperparameter search is complete. The optimal number of units in the first densely-connected\n",
    "layer is {best_hps.get('n1')}, the second is {best_hps.get('n2')},\n",
    "regularizers are {best_hps.get('reg1')} and {best_hps.get('reg2')},\n",
    "and the optimal learning rate for the optimizer\n",
    "is {best_hps.get('learning_rate')}.\n",
    "\"\"\")"
   ]
  },
  {
   "cell_type": "code",
   "execution_count": 51,
   "id": "8df513e0-4d0c-4da9-bd6a-e1a8a69d423d",
   "metadata": {},
   "outputs": [
    {
     "data": {
      "text/plain": [
       "{'n1': 124,\n",
       " 'n2': 4,\n",
       " 'n3': 120,\n",
       " 'n4': 12,\n",
       " 'reg1': 0.7399673295339388,\n",
       " 'reg2': 0.09789143529456881,\n",
       " 'reg3': 0.020660636780558586,\n",
       " 'reg4': 0.055811274881584355,\n",
       " 'learning_rate': 0.0016438185261663922}"
      ]
     },
     "execution_count": 51,
     "metadata": {},
     "output_type": "execute_result"
    }
   ],
   "source": [
    "best_hps.values"
   ]
  },
  {
   "cell_type": "code",
   "execution_count": 52,
   "id": "958e5f34-161d-41b4-ba59-68c00afc60b4",
   "metadata": {
    "scrolled": true
   },
   "outputs": [
    {
     "name": "stdout",
     "output_type": "stream",
     "text": [
      "Train on 7738 samples, validate on 876 samples\n",
      "Epoch 1/50\n",
      " 256/7738 [..............................] - ETA: 1s - loss: 191.2866 - categorical_accuracy: 0.4961"
     ]
    },
    {
     "name": "stderr",
     "output_type": "stream",
     "text": [
      "2024-12-03 21:36:11.010988: W tensorflow/c/c_api.cc:305] Operation '{name:'training_4/Adam/dense_18/bias/v/Assign' id:3077 op device:{requested: '', assigned: ''} def:{{{node training_4/Adam/dense_18/bias/v/Assign}} = AssignVariableOp[_has_manual_control_dependencies=true, dtype=DT_FLOAT, validate_shape=false](training_4/Adam/dense_18/bias/v, training_4/Adam/dense_18/bias/v/Initializer/zeros)}}' was changed by setting attribute after it was run by a session. This mutation will have no effect, and will trigger an error in the future. Either don't modify nodes after running them or create a new session.\n"
     ]
    },
    {
     "name": "stdout",
     "output_type": "stream",
     "text": [
      "7738/7738 [==============================] - 0s 48us/sample - loss: 73.0121 - categorical_accuracy: 0.6154 - val_loss: 11.9539 - val_categorical_accuracy: 0.6518\n",
      "Epoch 2/50\n",
      "7738/7738 [==============================] - 0s 28us/sample - loss: 4.5124 - categorical_accuracy: 0.6431 - val_loss: 1.4956 - val_categorical_accuracy: 0.6279\n",
      "Epoch 3/50\n",
      "7738/7738 [==============================] - 0s 28us/sample - loss: 1.2202 - categorical_accuracy: 0.6427 - val_loss: 0.9453 - val_categorical_accuracy: 0.6712\n",
      "Epoch 4/50\n",
      "7738/7738 [==============================] - 0s 29us/sample - loss: 0.9325 - categorical_accuracy: 0.6437 - val_loss: 0.7984 - val_categorical_accuracy: 0.6655\n",
      "Epoch 5/50\n",
      "7738/7738 [==============================] - 0s 29us/sample - loss: 0.8196 - categorical_accuracy: 0.6379 - val_loss: 0.7144 - val_categorical_accuracy: 0.6667\n",
      "Epoch 6/50\n",
      "7738/7738 [==============================] - 0s 29us/sample - loss: 0.7756 - categorical_accuracy: 0.6247 - val_loss: 0.6864 - val_categorical_accuracy: 0.6461\n",
      "Epoch 7/50\n",
      "7738/7738 [==============================] - 0s 28us/sample - loss: 0.7311 - categorical_accuracy: 0.6423 - val_loss: 0.6530 - val_categorical_accuracy: 0.6621\n",
      "Epoch 8/50\n",
      "7738/7738 [==============================] - 0s 30us/sample - loss: 0.7319 - categorical_accuracy: 0.6296 - val_loss: 0.6552 - val_categorical_accuracy: 0.6370\n",
      "Epoch 9/50\n",
      "7738/7738 [==============================] - 0s 29us/sample - loss: 0.7160 - categorical_accuracy: 0.6348 - val_loss: 0.6610 - val_categorical_accuracy: 0.6347\n",
      "Epoch 10/50\n",
      "7738/7738 [==============================] - 0s 30us/sample - loss: 0.7164 - categorical_accuracy: 0.6285 - val_loss: 0.6406 - val_categorical_accuracy: 0.6347\n",
      "Epoch 11/50\n",
      "7738/7738 [==============================] - 0s 29us/sample - loss: 0.7101 - categorical_accuracy: 0.6380 - val_loss: 0.6309 - val_categorical_accuracy: 0.6678\n",
      "Epoch 12/50\n",
      "7738/7738 [==============================] - 0s 29us/sample - loss: 0.7090 - categorical_accuracy: 0.6407 - val_loss: 0.6344 - val_categorical_accuracy: 0.6712\n",
      "Epoch 13/50\n",
      "7738/7738 [==============================] - 0s 28us/sample - loss: 0.7048 - categorical_accuracy: 0.6356 - val_loss: 0.6277 - val_categorical_accuracy: 0.6689\n",
      "Epoch 14/50\n",
      "7738/7738 [==============================] - 0s 28us/sample - loss: 0.7044 - categorical_accuracy: 0.6369 - val_loss: 0.6367 - val_categorical_accuracy: 0.6610\n",
      "Epoch 15/50\n",
      "7738/7738 [==============================] - 0s 29us/sample - loss: 0.7017 - categorical_accuracy: 0.6491 - val_loss: 0.6316 - val_categorical_accuracy: 0.6621\n",
      "Epoch 16/50\n",
      "7738/7738 [==============================] - 0s 29us/sample - loss: 0.7025 - categorical_accuracy: 0.6447 - val_loss: 0.6354 - val_categorical_accuracy: 0.6701\n",
      "Epoch 17/50\n",
      "7738/7738 [==============================] - 0s 29us/sample - loss: 0.7031 - categorical_accuracy: 0.6498 - val_loss: 0.6292 - val_categorical_accuracy: 0.6758\n",
      "Epoch 18/50\n",
      "7738/7738 [==============================] - 0s 28us/sample - loss: 0.6983 - categorical_accuracy: 0.6515 - val_loss: 0.6654 - val_categorical_accuracy: 0.6233\n",
      "Epoch 19/50\n",
      "7738/7738 [==============================] - 0s 29us/sample - loss: 0.7075 - categorical_accuracy: 0.6407 - val_loss: 0.6456 - val_categorical_accuracy: 0.6769\n",
      "Epoch 20/50\n",
      "7738/7738 [==============================] - 0s 29us/sample - loss: 0.7027 - categorical_accuracy: 0.6424 - val_loss: 0.6294 - val_categorical_accuracy: 0.6747\n",
      "Epoch 21/50\n",
      "7738/7738 [==============================] - 0s 29us/sample - loss: 0.7012 - categorical_accuracy: 0.6460 - val_loss: 0.6500 - val_categorical_accuracy: 0.6233\n",
      "Epoch 22/50\n",
      "7738/7738 [==============================] - 0s 29us/sample - loss: 0.7002 - categorical_accuracy: 0.6397 - val_loss: 0.6524 - val_categorical_accuracy: 0.6267\n",
      "Epoch 23/50\n",
      "7738/7738 [==============================] - 0s 28us/sample - loss: 0.7001 - categorical_accuracy: 0.6431 - val_loss: 0.6314 - val_categorical_accuracy: 0.6712\n",
      "Epoch 24/50\n",
      "7738/7738 [==============================] - 0s 29us/sample - loss: 0.7058 - categorical_accuracy: 0.6383 - val_loss: 0.6364 - val_categorical_accuracy: 0.6678\n",
      "Epoch 25/50\n",
      "7738/7738 [==============================] - 0s 28us/sample - loss: 0.6994 - categorical_accuracy: 0.6477 - val_loss: 0.6316 - val_categorical_accuracy: 0.6553\n",
      "Epoch 26/50\n",
      "7738/7738 [==============================] - 0s 29us/sample - loss: 0.6998 - categorical_accuracy: 0.6418 - val_loss: 0.6349 - val_categorical_accuracy: 0.6678\n",
      "Epoch 27/50\n",
      "7738/7738 [==============================] - 0s 29us/sample - loss: 0.7027 - categorical_accuracy: 0.6476 - val_loss: 0.6455 - val_categorical_accuracy: 0.6667\n",
      "Epoch 28/50\n",
      "7738/7738 [==============================] - 0s 29us/sample - loss: 0.6980 - categorical_accuracy: 0.6462 - val_loss: 0.6376 - val_categorical_accuracy: 0.6701\n",
      "Epoch 29/50\n",
      "7738/7738 [==============================] - 0s 29us/sample - loss: 0.6994 - categorical_accuracy: 0.6475 - val_loss: 0.6396 - val_categorical_accuracy: 0.6678\n",
      "Epoch 30/50\n",
      "7738/7738 [==============================] - 0s 30us/sample - loss: 0.6991 - categorical_accuracy: 0.6403 - val_loss: 0.6276 - val_categorical_accuracy: 0.6667\n",
      "Epoch 31/50\n",
      "7738/7738 [==============================] - 0s 29us/sample - loss: 0.7032 - categorical_accuracy: 0.6446 - val_loss: 0.6314 - val_categorical_accuracy: 0.6724\n",
      "Epoch 32/50\n",
      "7738/7738 [==============================] - 0s 28us/sample - loss: 0.7014 - categorical_accuracy: 0.6520 - val_loss: 0.6518 - val_categorical_accuracy: 0.6210\n",
      "Epoch 33/50\n",
      "7738/7738 [==============================] - 0s 29us/sample - loss: 0.7034 - categorical_accuracy: 0.6434 - val_loss: 0.6493 - val_categorical_accuracy: 0.6758\n",
      "Epoch 34/50\n",
      "7738/7738 [==============================] - 0s 29us/sample - loss: 0.6985 - categorical_accuracy: 0.6489 - val_loss: 0.6374 - val_categorical_accuracy: 0.6724\n",
      "Epoch 35/50\n",
      "7738/7738 [==============================] - 0s 29us/sample - loss: 0.6965 - categorical_accuracy: 0.6467 - val_loss: 0.6423 - val_categorical_accuracy: 0.6712\n",
      "Epoch 36/50\n",
      "7738/7738 [==============================] - 0s 28us/sample - loss: 0.6958 - categorical_accuracy: 0.6495 - val_loss: 0.6263 - val_categorical_accuracy: 0.6792\n",
      "Epoch 37/50\n",
      "7738/7738 [==============================] - 0s 28us/sample - loss: 0.6968 - categorical_accuracy: 0.6484 - val_loss: 0.6281 - val_categorical_accuracy: 0.6701\n",
      "Epoch 38/50\n",
      "7738/7738 [==============================] - 0s 29us/sample - loss: 0.7007 - categorical_accuracy: 0.6449 - val_loss: 0.6470 - val_categorical_accuracy: 0.6655\n",
      "Epoch 39/50\n",
      "7738/7738 [==============================] - 0s 31us/sample - loss: 0.7005 - categorical_accuracy: 0.6495 - val_loss: 0.6437 - val_categorical_accuracy: 0.6735\n",
      "Epoch 40/50\n",
      "7738/7738 [==============================] - 0s 31us/sample - loss: 0.6968 - categorical_accuracy: 0.6528 - val_loss: 0.6564 - val_categorical_accuracy: 0.6678\n",
      "Epoch 41/50\n",
      "7738/7738 [==============================] - 0s 31us/sample - loss: 0.6969 - categorical_accuracy: 0.6487 - val_loss: 0.6323 - val_categorical_accuracy: 0.6678\n",
      "Epoch 42/50\n",
      "7738/7738 [==============================] - 0s 29us/sample - loss: 0.6964 - categorical_accuracy: 0.6528 - val_loss: 0.6340 - val_categorical_accuracy: 0.6655\n",
      "Epoch 43/50\n",
      "7738/7738 [==============================] - 0s 31us/sample - loss: 0.6995 - categorical_accuracy: 0.6498 - val_loss: 0.6399 - val_categorical_accuracy: 0.6747\n",
      "Epoch 44/50\n",
      "7738/7738 [==============================] - 0s 29us/sample - loss: 0.6977 - categorical_accuracy: 0.6480 - val_loss: 0.6443 - val_categorical_accuracy: 0.6632\n",
      "Epoch 45/50\n",
      "7738/7738 [==============================] - 0s 30us/sample - loss: 0.6971 - categorical_accuracy: 0.6518 - val_loss: 0.6409 - val_categorical_accuracy: 0.6632\n",
      "Epoch 46/50\n",
      "7738/7738 [==============================] - 0s 30us/sample - loss: 0.6992 - categorical_accuracy: 0.6493 - val_loss: 0.6327 - val_categorical_accuracy: 0.6564\n",
      "Epoch 47/50\n",
      "7738/7738 [==============================] - 0s 30us/sample - loss: 0.7053 - categorical_accuracy: 0.6469 - val_loss: 0.6405 - val_categorical_accuracy: 0.6689\n",
      "Epoch 48/50\n",
      "7738/7738 [==============================] - 0s 30us/sample - loss: 0.7089 - categorical_accuracy: 0.6506 - val_loss: 0.6326 - val_categorical_accuracy: 0.6724\n",
      "Epoch 49/50\n",
      "7738/7738 [==============================] - 0s 28us/sample - loss: 0.7014 - categorical_accuracy: 0.6481 - val_loss: 0.6469 - val_categorical_accuracy: 0.6632\n",
      "Epoch 50/50\n",
      "7738/7738 [==============================] - 0s 28us/sample - loss: 0.6961 - categorical_accuracy: 0.6499 - val_loss: 0.6470 - val_categorical_accuracy: 0.6747\n"
     ]
    }
   ],
   "source": [
    "# Build the model with the optimal hyperparameters and train it on the data for 50 epochs\n",
    "model = tuner.hypermodel.build(best_hps)\n",
    "history = model.fit(X_train,Y_train, validation_data=(X_val, Y_val),\n",
    "                    batch_size=batch_size, epochs=epochs, shuffle=shuffle,class_weight = class_weight)"
   ]
  },
  {
   "cell_type": "code",
   "execution_count": 53,
   "id": "7d617935-c60d-42f0-ac4b-c914a58a1761",
   "metadata": {},
   "outputs": [
    {
     "name": "stderr",
     "output_type": "stream",
     "text": [
      "2024-12-03 21:36:22.570862: W tensorflow/c/c_api.cc:305] Operation '{name:'output2_4/Softmax' id:2638 op device:{requested: '', assigned: ''} def:{{{node output2_4/Softmax}} = Softmax[T=DT_FLOAT, _has_manual_control_dependencies=true](output2_4/BiasAdd)}}' was changed by setting attribute after it was run by a session. This mutation will have no effect, and will trigger an error in the future. Either don't modify nodes after running them or create a new session.\n"
     ]
    },
    {
     "data": {
      "text/plain": [
       "<bound method Axes.legend of <Axes: title={'center': 'Accuracy'}, xlabel='Epoch', ylabel='Acc'>>"
      ]
     },
     "execution_count": 53,
     "metadata": {},
     "output_type": "execute_result"
    },
    {
     "data": {
      "image/png": "[encoded data removed]",
      "text/plain": [
       "<Figure size 1600x400 with 2 Axes>"
      ]
     },
     "metadata": {},
     "output_type": "display_data"
    }
   ],
   "source": [
    "train_loss=model.history.history['loss']\n",
    "val_loss=model.history.history['val_loss']\n",
    "    \n",
    "cat_acc=model.history.history['categorical_accuracy']\n",
    "val_acc=model.history.history['val_categorical_accuracy']\n",
    "        \n",
    "pred = model.predict(X_all)\n",
    "pred_val = model.predict(X_val)\n",
    "pred_train = model.predict(X_train)\n",
    "pred_test = model.predict(X_test)\n",
    "\n",
    "# Look at the optimization history\n",
    "fig, (ax1,ax2) = plt.subplots(1,2, figsize=plt.figaspect(0.25))\n",
    "ax1.plot(train_loss, label='Training loss')\n",
    "ax1.plot(val_loss, label='Validation loss')\n",
    "ax1.set_yscale('log')\n",
    "ax1.set_title('loss')\n",
    "ax1.set_xlabel('Epoch')\n",
    "ax1.set_ylabel('loss')\n",
    "ax1.legend()\n",
    "\n",
    "ax2.plot(cat_acc, label='Training ACC')\n",
    "ax2.plot(val_acc, label='Validation ACC')\n",
    "ax2.set_title('Accuracy')\n",
    "ax2.set_xlabel('Epoch')\n",
    "ax2.set_ylabel('Acc')\n",
    "ax2.legend"
   ]
  },
  {
   "cell_type": "code",
   "execution_count": null,
   "id": "0b0c5c6a-77ad-4c31-b378-e807ece19919",
   "metadata": {},
   "outputs": [],
   "source": []
  },
  {
   "cell_type": "code",
   "execution_count": null,
   "id": "48bd6bf1-efb5-4fae-96de-7c574438604b",
   "metadata": {},
   "outputs": [],
   "source": []
  }
 ],
 "metadata": {
  "kernelspec": {
   "display_name": "Python 3 (ipykernel)",
   "language": "python",
   "name": "python3"
  },
  "language_info": {
   "codemirror_mode": {
    "name": "ipython",
    "version": 3
   },
   "file_extension": ".py",
   "mimetype": "text/x-python",
   "name": "python",
   "nbconvert_exporter": "python",
   "pygments_lexer": "ipython3",
   "version": "3.10.13"
  }
 },
 "nbformat": 4,
 "nbformat_minor": 5
}
