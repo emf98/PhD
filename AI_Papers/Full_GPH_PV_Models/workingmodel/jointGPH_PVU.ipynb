{
 "cells": [
  {
   "cell_type": "code",
   "execution_count": 1,
   "id": "5a7797d4-822d-49cd-aaea-e7288a139fae",
   "metadata": {},
   "outputs": [],
   "source": [
    "##PV and GPH joint"
   ]
  },
  {
   "cell_type": "code",
   "execution_count": 2,
   "id": "1c6a9159-890b-47f2-a080-f67b5e39f21c",
   "metadata": {
    "jupyter": {
     "source_hidden": true
    },
    "scrolled": true
   },
   "outputs": [
    {
     "name": "stderr",
     "output_type": "stream",
     "text": [
      "/tmp/ipykernel_507630/3801934532.py:6: DeprecationWarning: \n",
      "Pyarrow will become a required dependency of pandas in the next major release of pandas (pandas 3.0),\n",
      "(to allow more performant data types, such as the Arrow string type, and better interoperability with other libraries)\n",
      "but was not found to be installed on your system.\n",
      "If this would cause problems for you,\n",
      "please provide us feedback at https://github.com/pandas-dev/pandas/issues/54466\n",
      "        \n",
      "  import pandas as pd\n"
     ]
    }
   ],
   "source": [
    "%matplotlib inline\n",
    "##so-called \"math\" related imports\n",
    "from netCDF4 import Dataset as ncread\n",
    "import numpy as np\n",
    "from scipy.io import loadmat\n",
    "import pandas as pd\n",
    "import h5py\n",
    "import math\n",
    "from random import seed\n",
    "from random import randint\n",
    "from random import sample\n",
    "from scipy.ndimage import gaussian_filter\n",
    "from sklearn.metrics import brier_score_loss\n",
    "import xarray as xr\n",
    "\n",
    "import pickle\n",
    "\n",
    "##plotting related imports\n",
    "import matplotlib.pyplot as plt\n",
    "from matplotlib import rcParams #For changing text properties\n",
    "import cmocean #A package with beautiful colormaps\n",
    "from cartopy import crs as ccrs #Useful for plotting maps\n",
    "import cartopy.util #Requires separate import\n",
    "from cartopy.util import add_cyclic_point\n",
    "import cartopy.feature as cf\n",
    "from cartopy.mpl.ticker import LongitudeFormatter, LatitudeFormatter\n",
    "import matplotlib.path as mpath\n",
    "import matplotlib.colors as mcolors"
   ]
  },
  {
   "cell_type": "code",
   "execution_count": 3,
   "id": "40dfe88c-378d-4367-a65a-c17eb283aaee",
   "metadata": {
    "jupyter": {
     "source_hidden": true
    }
   },
   "outputs": [
    {
     "name": "stderr",
     "output_type": "stream",
     "text": [
      "2024-12-03 02:18:30.844063: E tensorflow/compiler/xla/stream_executor/cuda/cuda_dnn.cc:9342] Unable to register cuDNN factory: Attempting to register factory for plugin cuDNN when one has already been registered\n",
      "2024-12-03 02:18:30.844135: E tensorflow/compiler/xla/stream_executor/cuda/cuda_fft.cc:609] Unable to register cuFFT factory: Attempting to register factory for plugin cuFFT when one has already been registered\n",
      "2024-12-03 02:18:30.844173: E tensorflow/compiler/xla/stream_executor/cuda/cuda_blas.cc:1518] Unable to register cuBLAS factory: Attempting to register factory for plugin cuBLAS when one has already been registered\n",
      "2024-12-03 02:18:30.850095: I tensorflow/core/platform/cpu_feature_guard.cc:182] This TensorFlow binary is optimized to use available CPU instructions in performance-critical operations.\n",
      "To enable the following instructions: AVX2 FMA, in other operations, rebuild TensorFlow with the appropriate compiler flags.\n"
     ]
    }
   ],
   "source": [
    "##import tensorflow/keras related files\n",
    "import tensorflow as tf    \n",
    "#tf.compat.v1.disable_v2_behavior() # <-- HERE !\n",
    "\n",
    "from tensorflow import keras\n",
    "from tensorflow.keras import layers, models\n",
    "from tensorflow.keras import Input\n",
    "from tensorflow.keras.models import Model\n",
    "from tensorflow.keras.callbacks import ModelCheckpoint\n",
    "from tensorflow.keras import regularizers\n",
    "import tensorflow.keras.backend as K\n",
    "from tensorflow.keras.utils import to_categorical\n",
    "from tensorflow.keras.layers import Dropout, Activation, Reshape, Flatten, LSTM, Dense, Dropout, Embedding, Bidirectional, GRU, Concatenate\n",
    "from tensorflow.keras import Sequential\n",
    "from tensorflow.keras import initializers, regularizers\n",
    "from tensorflow.keras import optimizers\n",
    "from tensorflow.keras import constraints\n",
    "from tensorflow.keras.layers import Layer, InputSpec\n",
    "from tensorflow.keras.callbacks import EarlyStopping"
   ]
  },
  {
   "cell_type": "code",
   "execution_count": 4,
   "id": "e393572f-b47e-46f6-8823-1470a09445f9",
   "metadata": {},
   "outputs": [],
   "source": [
    "tf.compat.v1.disable_eager_execution()\n",
    "import innvestigate\n",
    "import investigate"
   ]
  },
  {
   "cell_type": "code",
   "execution_count": 5,
   "id": "0ca1bd8e-c6a9-4f22-a4a2-e0acbd0a9355",
   "metadata": {},
   "outputs": [],
   "source": [
    "from climoprobs import climo"
   ]
  },
  {
   "cell_type": "markdown",
   "id": "b67968bc-fc14-4805-95dd-146548796c3e",
   "metadata": {},
   "source": [
    "#### Upload data. "
   ]
  },
  {
   "cell_type": "code",
   "execution_count": 6,
   "id": "0817c222-c32c-4c7f-8f91-6e0fa11ff89c",
   "metadata": {},
   "outputs": [],
   "source": [
    "#inputs\n",
    "##now, PVU\n",
    "infile = open(\"./pv&gph_data/1128_train_pv.p\", 'rb') \n",
    "pvu_train = pickle.load(infile)\n",
    "infile.close()\n",
    "\n",
    "infile = open(\"./pv&gph_data/1128_test_pv.p\", 'rb') \n",
    "pvu_test = pickle.load(infile)\n",
    "infile.close()\n",
    "\n",
    "infile = open(\"./pv&gph_data/1128_train_gph.p\", 'rb') \n",
    "gph_train = pickle.load(infile)\n",
    "infile.close()\n",
    "\n",
    "infile = open(\"./pv&gph_data/1128_test_gph.p\", 'rb') \n",
    "gph_test = pickle.load(infile)\n",
    "infile.close()\n",
    "\n",
    "#outputs\n",
    "infile = open(\"./pv&gph_data/1128_classmedian_t.p\", 'rb')\n",
    "temp = pickle.load(infile)\n",
    "infile.close()"
   ]
  },
  {
   "cell_type": "code",
   "execution_count": 7,
   "id": "e5b1828c-cde6-4a61-98d8-219fe180a752",
   "metadata": {},
   "outputs": [],
   "source": [
    "gph = np.concatenate((gph_train,gph_test),axis=0).reshape((63,151,21,37))\n",
    "pvu = np.concatenate((pvu_train,pvu_test),axis=0).reshape((63,151,11,145))"
   ]
  },
  {
   "cell_type": "code",
   "execution_count": 8,
   "id": "a6c786eb-a205-44bc-88bf-76c99b18ce62",
   "metadata": {},
   "outputs": [
    {
     "data": {
      "text/plain": [
       "(63, 151, 11, 145)"
      ]
     },
     "execution_count": 8,
     "metadata": {},
     "output_type": "execute_result"
    }
   ],
   "source": [
    "pvu.shape"
   ]
  },
  {
   "cell_type": "code",
   "execution_count": 79,
   "id": "04ce2e36-2dde-4422-948d-dd0006ae695f",
   "metadata": {},
   "outputs": [],
   "source": [
    "lag = 147"
   ]
  },
  {
   "cell_type": "code",
   "execution_count": 80,
   "id": "68a1c935-11ab-4f7b-8be4-8efbc0edbfcd",
   "metadata": {},
   "outputs": [],
   "source": [
    "temp_n = np.zeros((63,lag))\n",
    "input_pvu = np.zeros((63,lag,11,145))\n",
    "input_gph = np.zeros((63,lag,21,37))\n",
    "\n",
    "for i in range(63):\n",
    "    for j in range(lag):\n",
    "        temp_n[i,j] = temp[i,j+4]\n",
    "        input_pvu[i,j] = pvu[i,j,:,:]\n",
    "        input_gph[i,j] = gph[i,j+2,:,:]"
   ]
  },
  {
   "cell_type": "code",
   "execution_count": 81,
   "id": "cd3a8f58-74a4-4111-95c2-c99a575b07a8",
   "metadata": {},
   "outputs": [
    {
     "name": "stdout",
     "output_type": "stream",
     "text": [
      "(63, 147, 21, 37)\n",
      "(63, 147, 11, 145)\n"
     ]
    }
   ],
   "source": [
    "##input shape (samples, lat, lon) and (#samples, window, features)\n",
    "print(input_gph.shape)\n",
    "print(input_pvu.shape)"
   ]
  },
  {
   "cell_type": "code",
   "execution_count": 82,
   "id": "2c7069d3-7e0f-498b-b5fb-855f9d28f335",
   "metadata": {},
   "outputs": [
    {
     "data": {
      "text/plain": [
       "(63, 147)"
      ]
     },
     "execution_count": 82,
     "metadata": {},
     "output_type": "execute_result"
    }
   ],
   "source": [
    "##output shape (samples), these will be different from the input\n",
    "temp_n.shape"
   ]
  },
  {
   "cell_type": "code",
   "execution_count": 83,
   "id": "9ee19e04-59b6-49a1-abf1-fcc0c0882ab6",
   "metadata": {},
   "outputs": [],
   "source": [
    "train_edge = int((63*lag) - ((63*lag)/63)*4)\n",
    "\n",
    "test_frac = int(((63*lag)/63)*6)"
   ]
  },
  {
   "cell_type": "code",
   "execution_count": 84,
   "id": "46f1d582-c04a-4216-b229-bdcd632fa465",
   "metadata": {
    "scrolled": true
   },
   "outputs": [],
   "source": [
    "##Set X_all and Y_all datasets\n",
    "X_all1 = np.copy(input_pvu.reshape(63*lag,11*145)) ##pvu\n",
    "X_all2 = np.copy(input_gph.reshape(63*lag,21*37)) ##gph\n",
    "Y_all = np.copy(temp_n.reshape(63*lag))\n",
    "\n",
    "##training data partition out\n",
    "X_tri1 = X_all1[:train_edge,:] ##pvu\n",
    "X_tri2 = X_all2[:train_edge,:] ##gph\n",
    "Y_tri = Y_all[:train_edge]\n",
    "\n",
    "#testing data partition out\n",
    "X_tes1 = X_all1[train_edge:,:]\n",
    "X_tes2 = X_all2[train_edge:,:]\n",
    "Y_tes = Y_all[train_edge:]\n",
    "\n",
    "#Convert the Y array into a categorical array. This means we will create one-hot vector labels for all of the inputs.\n",
    "# The one-hot vectors have an index for each possible output category (two in our case)\n",
    "# A \"1\" is put in the index corresponding to the category to which the sample belongs\n",
    "Y_all = keras.utils.to_categorical(Y_all)\n",
    "Y_tri = keras.utils.to_categorical(Y_tri)\n",
    "Y_tes= keras.utils.to_categorical(Y_tes)"
   ]
  },
  {
   "cell_type": "code",
   "execution_count": 85,
   "id": "5beebb82-e25c-412f-a3a2-3dd18c343b52",
   "metadata": {},
   "outputs": [],
   "source": [
    "##checking my data for NaN of Infs because I need to make sure this doesn't cause\n",
    "#the model to throw back no loss\n",
    "\n",
    "if np.any(np.isnan(X_all2)) or np.any(np.isinf(X_all2)):\n",
    "    print(\"NaN or Inf values found in X_all!\")\n",
    "\n",
    "if np.any(np.isnan(Y_all)) or np.any(np.isinf(Y_all)):\n",
    "    print(\"NaN or Inf values found in Y_all!\")"
   ]
  },
  {
   "cell_type": "markdown",
   "id": "2edad085-2483-4eaa-a97c-79f4003a275e",
   "metadata": {},
   "source": [
    "### Begin establishing specifics of model."
   ]
  },
  {
   "cell_type": "code",
   "execution_count": 86,
   "id": "9c3b2fb4-4e7c-4781-b303-2f1b2cf14a41",
   "metadata": {},
   "outputs": [
    {
     "data": {
      "text/plain": [
       "882"
      ]
     },
     "execution_count": 86,
     "metadata": {},
     "output_type": "execute_result"
    }
   ],
   "source": [
    "##set 6 years of data for validation\n",
    "frac_ind = test_frac \n",
    "frac_ind"
   ]
  },
  {
   "cell_type": "code",
   "execution_count": 87,
   "id": "074e8204-f94d-4799-9e0f-5f4a3f73a3c7",
   "metadata": {},
   "outputs": [
    {
     "data": {
      "text/plain": [
       "(9261, 2)"
      ]
     },
     "execution_count": 87,
     "metadata": {},
     "output_type": "execute_result"
    }
   ],
   "source": [
    "##checking to make sure shape was properly one hot encoded\n",
    "Y_all.shape"
   ]
  },
  {
   "cell_type": "code",
   "execution_count": 88,
   "id": "1b2994bd-729c-443a-9ba6-01088e01ff5f",
   "metadata": {},
   "outputs": [],
   "source": [
    "##class weight creator for the instance where now I have a four dimensional output array \n",
    "def class_weight_creator(Y):\n",
    "    class_dict = {}\n",
    "    Y_reshaped = Y.reshape(-1, Y.shape[-1])\n",
    "    weights = np.max(np.sum(Y_reshaped, axis=0)) / np.sum(Y_reshaped, axis=0)\n",
    "    for i in range(Y.shape[-1] ):\n",
    "        class_dict[i] = weights[i]\n",
    "        \n",
    "    return class_dict"
   ]
  },
  {
   "cell_type": "code",
   "execution_count": 89,
   "id": "cb26fc72-176a-4be0-b175-1beb1a0da1f6",
   "metadata": {},
   "outputs": [],
   "source": [
    "##number of input nodes\n",
    "input_shape1=  X_all1.shape[-1] # pvu\n",
    "input_shape2= X_all2.shape[-1] ## gph\n",
    "\n",
    "##fraction of training data\n",
    "X_validation1 = X_tri1[0:frac_ind]\n",
    "X_validation2 = X_tri2[0:frac_ind]\n",
    "Y_validation = Y_tri[0:frac_ind]\n",
    "        \n",
    "X_train1 = X_tri1[frac_ind:len(X_tri1)]\n",
    "X_train2 = X_tri2[frac_ind:len(X_tri2)]\n",
    "Y_train = Y_tri[frac_ind:len(Y_tri)]\n",
    "\n",
    "X_test1 = X_tes1\n",
    "X_test2 = X_tes2\n",
    "Y_test = Y_tes"
   ]
  },
  {
   "cell_type": "code",
   "execution_count": 90,
   "id": "eb57347b-ceec-4e39-8fcf-0992b6b1b607",
   "metadata": {},
   "outputs": [
    {
     "data": {
      "text/plain": [
       "(7791, 2)"
      ]
     },
     "execution_count": 90,
     "metadata": {},
     "output_type": "execute_result"
    }
   ],
   "source": [
    "Y_train.shape"
   ]
  },
  {
   "cell_type": "code",
   "execution_count": 91,
   "id": "8f044466-349a-46f4-bb70-f8d6a719465e",
   "metadata": {},
   "outputs": [
    {
     "data": {
      "text/plain": [
       "1595"
      ]
     },
     "execution_count": 91,
     "metadata": {},
     "output_type": "execute_result"
    }
   ],
   "source": [
    "input_shape1"
   ]
  },
  {
   "cell_type": "code",
   "execution_count": 92,
   "id": "2cd8fca7-a55e-459a-b908-71a462044f5e",
   "metadata": {},
   "outputs": [
    {
     "data": {
      "text/plain": [
       "777"
      ]
     },
     "execution_count": 92,
     "metadata": {},
     "output_type": "execute_result"
    }
   ],
   "source": [
    "input_shape2"
   ]
  },
  {
   "cell_type": "code",
   "execution_count": 93,
   "id": "00d61e2d-fe5e-43c9-95a2-75a559609794",
   "metadata": {},
   "outputs": [
    {
     "data": {
      "text/plain": [
       "{0: 1.0, 1: 1.0454187}"
      ]
     },
     "execution_count": 93,
     "metadata": {},
     "output_type": "execute_result"
    }
   ],
   "source": [
    "##do the class_dict weights\n",
    "class_weight = class_weight_creator(Y_train)\n",
    "class_weight"
   ]
  },
  {
   "cell_type": "markdown",
   "id": "a44275b4-b283-48c5-a2f8-87d4ce86683b",
   "metadata": {},
   "source": [
    "### Model Arcitecture."
   ]
  },
  {
   "cell_type": "code",
   "execution_count": 94,
   "id": "a18fff27-71cf-40ff-a118-d2374cec2659",
   "metadata": {
    "jupyter": {
     "source_hidden": true
    }
   },
   "outputs": [],
   "source": [
    "def combined(number_inputs1, number_inputs2, num_cats, n1, n3, n5, reg1, reg3, reg5, learn):\n",
    "    ##first layers for PVU ANN\n",
    "    input_tensor1 = Input(shape=(int(1595),), name='layer1')\n",
    "    layer1 = layers.Dense(n1, activation='relu', use_bias=True,\n",
    "                          kernel_initializer='he_normal',bias_initializer='he_normal',\n",
    "                          kernel_regularizer=keras.regularizers.l2(l2= reg1))(input_tensor1)\n",
    "   \n",
    "    #layer1 = layers.Dense(n2, activation='leaky_relu', use_bias=True,\n",
    "                          #kernel_initializer='he_normal',bias_initializer='he_normal',\n",
    "                          #kernel_regularizer=keras.regularizers.l2(l2= reg2))(input_tensor1)\n",
    "    \n",
    "\n",
    "    ## second layers for GPH ANN\n",
    "    input_tensor2 = Input(shape=(int(777),), name='layer2')\n",
    "    layer2 = layers.Dense(n3, activation='relu', use_bias=True,\n",
    "                          kernel_initializer='he_normal',bias_initializer='he_normal',\n",
    "                          kernel_regularizer=keras.regularizers.l2(l2= reg3))(input_tensor2)\n",
    "    #layer2 = layers.Dense(n4, activation='leaky_relu', use_bias=True,\n",
    "                          #kernel_initializer='he_normal',bias_initializer='he_normal',\n",
    "                          #kernel_regularizer=keras.regularizers.l2(l2= reg4))(input_tensor2)\n",
    "    ##return_sequence = False\n",
    "    \n",
    "    \n",
    "    ##combine two model inputs\n",
    "    merge_layer = Concatenate()([layer1,layer2])\n",
    "\n",
    "    ##more dense layers\n",
    "    merge = layers.Dense(n5, activation='relu', use_bias=True,\n",
    "                          kernel_initializer='he_normal',bias_initializer='he_normal',\n",
    "                          kernel_regularizer=keras.regularizers.l2(l2= reg5))(merge_layer)\n",
    "\n",
    "    #decay_rate = learn / epochs\n",
    "    output_tensor = layers.Dense(num_cats,activation='softmax')(merge)\n",
    "    model = Model([input_tensor1, input_tensor2], output_tensor)\n",
    "    model.compile(optimizer=keras.optimizers.legacy.Adam(learning_rate=learn),\n",
    "              loss = 'categorical_crossentropy', #Our loss function is based on categorical error\n",
    "              metrics=[keras.metrics.categorical_accuracy], #We will print out the categorical accuracy as the network is trained\n",
    "              )\n",
    "    return model"
   ]
  },
  {
   "cell_type": "code",
   "execution_count": 95,
   "id": "95d07fa8-f968-4664-96dc-6c0f7c4b0b15",
   "metadata": {},
   "outputs": [],
   "source": [
    "##dictionaries for training and validation\n",
    "X_train = {'layer1': X_train1, 'layer2': X_train2}\n",
    "X_all = {'layer1': X_all1, 'layer2': X_all2}\n",
    "X_test = {'layer1': X_test1, 'layer2': X_test2}\n",
    "X_val = {'layer1': X_validation1, 'layer2': X_validation2}"
   ]
  },
  {
   "cell_type": "code",
   "execution_count": 96,
   "id": "ff092005-a4ca-447a-822c-66fa44eafdb2",
   "metadata": {},
   "outputs": [],
   "source": [
    "######\n",
    "batch_size = 256 #The number of samples the network sees before it backpropagates (batch size)\n",
    "epochs = 50 #The number of times the network will loop through the entire dataset (epochs)\n",
    "shuffle = True #Set whether to shuffle the training data so the model doesn't see it sequentially \n",
    "verbose = 2 #Set whether the model will output information when trained (0 = no output; 2 = output accuracy every epoch)"
   ]
  },
  {
   "cell_type": "code",
   "execution_count": 97,
   "id": "318a54af-570e-4831-a719-ac6411bfdad7",
   "metadata": {},
   "outputs": [
    {
     "data": {
      "text/plain": [
       "(882, 2)"
      ]
     },
     "execution_count": 97,
     "metadata": {},
     "output_type": "execute_result"
    }
   ],
   "source": [
    "Y_validation.shape"
   ]
  },
  {
   "cell_type": "code",
   "execution_count": 98,
   "id": "72ff3cda-ce59-447d-9878-929215aee56b",
   "metadata": {},
   "outputs": [],
   "source": [
    "##create model.\n",
    "#model = combined(numb_int1, input_shape2, 2, 120, 16, 56, 64, 12, 0.02, 0.009, 0.12, 0.057, 0.038, 0.0192)\n",
    "#model = combined(input_shape1, input_shape2, 2, 120, 16, 120, 4, 24, 0.043, 0.0057, 0.53, 0.0496, 0.0978, 0.11)\n",
    "#model = combined(input_shape1, input_shape2, 2, 124, 12, 120, 4, 4, 0.6, 0.09, 0.57, 0.053, 0.072, 0.027)\n",
    "\n",
    "model = combined(input_shape1, input_shape2, 2, 128, 124, 28, 0.54, 0.102, 0.087, 0.008)\n",
    "\n",
    "\n",
    "early_stopping = EarlyStopping(monitor='val_loss',patience=4,restore_best_weights=True,verbose=1)"
   ]
  },
  {
   "cell_type": "raw",
   "id": "22069ab3-89c3-4fd9-a737-62a6fd6af1a3",
   "metadata": {},
   "source": [
    "##leaky \n",
    "{'n1': 128,\n",
    " 'n3': 124,\n",
    " 'n5': 28,\n",
    " 'reg1': 0.26001494202047,\n",
    " 'reg3': 0.1092320356948225,\n",
    " 'reg5': 0.0867239344565005,\n",
    " 'learning_rate': 0.02535704352158331}\n",
    "\n",
    "##relu\n",
    "{'n1': 128,\n",
    " 'n3': 124,\n",
    " 'n5': 28,\n",
    " 'reg1': 0.5415209531445992,\n",
    " 'reg3': 0.1015285940697801,\n",
    " 'reg5': 0.08753231141013672,\n",
    " 'learning_rate': 0.008427460617978033}"
   ]
  },
  {
   "cell_type": "code",
   "execution_count": 99,
   "id": "6044ca41-896b-4ba0-b9b1-03f0d957bad3",
   "metadata": {
    "scrolled": true
   },
   "outputs": [
    {
     "name": "stdout",
     "output_type": "stream",
     "text": [
      "Train on 7791 samples, validate on 882 samples\n",
      "Epoch 1/50\n",
      "2816/7791 [=========>....................] - ETA: 0s - loss: 137.5010 - categorical_accuracy: 0.5781"
     ]
    },
    {
     "name": "stderr",
     "output_type": "stream",
     "text": [
      "2024-12-03 16:05:41.591867: W tensorflow/c/c_api.cc:305] Operation '{name:'training_6/Adam/dense_14/bias/m/Assign' id:2397 op device:{requested: '', assigned: ''} def:{{{node training_6/Adam/dense_14/bias/m/Assign}} = AssignVariableOp[_has_manual_control_dependencies=true, dtype=DT_FLOAT, validate_shape=false](training_6/Adam/dense_14/bias/m, training_6/Adam/dense_14/bias/m/Initializer/zeros)}}' was changed by setting attribute after it was run by a session. This mutation will have no effect, and will trigger an error in the future. Either don't modify nodes after running them or create a new session.\n"
     ]
    },
    {
     "name": "stdout",
     "output_type": "stream",
     "text": [
      "7791/7791 [==============================] - 0s 38us/sample - loss: 77.8317 - categorical_accuracy: 0.5757 - val_loss: 31.4778 - val_categorical_accuracy: 0.5658\n",
      "Epoch 2/50\n",
      "7791/7791 [==============================] - 0s 21us/sample - loss: 24.0232 - categorical_accuracy: 0.5327 - val_loss: 17.0912 - val_categorical_accuracy: 0.5249\n",
      "Epoch 3/50\n",
      "7791/7791 [==============================] - 0s 23us/sample - loss: 13.0561 - categorical_accuracy: 0.5176 - val_loss: 9.5675 - val_categorical_accuracy: 0.5227\n",
      "Epoch 4/50\n",
      "7791/7791 [==============================] - 0s 22us/sample - loss: 7.6033 - categorical_accuracy: 0.5995 - val_loss: 5.8616 - val_categorical_accuracy: 0.6406\n",
      "Epoch 5/50\n",
      "7791/7791 [==============================] - 0s 22us/sample - loss: 4.8984 - categorical_accuracy: 0.6130 - val_loss: 4.0224 - val_categorical_accuracy: 0.6259\n",
      "Epoch 6/50\n",
      "7791/7791 [==============================] - 0s 22us/sample - loss: 3.4415 - categorical_accuracy: 0.6244 - val_loss: 2.8778 - val_categorical_accuracy: 0.6723\n",
      "Epoch 7/50\n",
      "7791/7791 [==============================] - 0s 23us/sample - loss: 2.5448 - categorical_accuracy: 0.6663 - val_loss: 2.2290 - val_categorical_accuracy: 0.6576\n",
      "Epoch 8/50\n",
      "7791/7791 [==============================] - 0s 21us/sample - loss: 2.0271 - categorical_accuracy: 0.6730 - val_loss: 1.8511 - val_categorical_accuracy: 0.6361\n",
      "Epoch 9/50\n",
      "7791/7791 [==============================] - 0s 23us/sample - loss: 1.7016 - categorical_accuracy: 0.6786 - val_loss: 1.5841 - val_categorical_accuracy: 0.6689\n",
      "Epoch 10/50\n",
      "7791/7791 [==============================] - 0s 23us/sample - loss: 1.4788 - categorical_accuracy: 0.6804 - val_loss: 1.4278 - val_categorical_accuracy: 0.6814\n",
      "Epoch 11/50\n",
      "7791/7791 [==============================] - 0s 23us/sample - loss: 1.4767 - categorical_accuracy: 0.6687 - val_loss: 1.4393 - val_categorical_accuracy: 0.6825\n",
      "Epoch 12/50\n",
      "7791/7791 [==============================] - 0s 22us/sample - loss: 1.3705 - categorical_accuracy: 0.6676 - val_loss: 1.2962 - val_categorical_accuracy: 0.6927\n",
      "Epoch 13/50\n",
      "7791/7791 [==============================] - 0s 22us/sample - loss: 1.2937 - categorical_accuracy: 0.6660 - val_loss: 1.1990 - val_categorical_accuracy: 0.6678\n",
      "Epoch 14/50\n",
      "7791/7791 [==============================] - 0s 23us/sample - loss: 1.1461 - categorical_accuracy: 0.6860 - val_loss: 1.1773 - val_categorical_accuracy: 0.6451\n",
      "Epoch 15/50\n",
      "7791/7791 [==============================] - 0s 23us/sample - loss: 1.1105 - categorical_accuracy: 0.6774 - val_loss: 1.1142 - val_categorical_accuracy: 0.6961\n",
      "Epoch 16/50\n",
      "7791/7791 [==============================] - 0s 23us/sample - loss: 1.0453 - categorical_accuracy: 0.6853 - val_loss: 0.9507 - val_categorical_accuracy: 0.6814\n",
      "Epoch 17/50\n",
      "7791/7791 [==============================] - 0s 22us/sample - loss: 0.9713 - categorical_accuracy: 0.6777 - val_loss: 0.9742 - val_categorical_accuracy: 0.6939\n",
      "Epoch 18/50\n",
      "7791/7791 [==============================] - 0s 23us/sample - loss: 0.9390 - categorical_accuracy: 0.6818 - val_loss: 0.8891 - val_categorical_accuracy: 0.6871\n",
      "Epoch 19/50\n",
      "7791/7791 [==============================] - 0s 23us/sample - loss: 1.4010 - categorical_accuracy: 0.6741 - val_loss: 1.4789 - val_categorical_accuracy: 0.6655\n",
      "Epoch 20/50\n",
      "7791/7791 [==============================] - 0s 22us/sample - loss: 1.1015 - categorical_accuracy: 0.6826 - val_loss: 0.8893 - val_categorical_accuracy: 0.6701\n",
      "Epoch 21/50\n",
      "7791/7791 [==============================] - 0s 21us/sample - loss: 0.8603 - categorical_accuracy: 0.6760 - val_loss: 0.8493 - val_categorical_accuracy: 0.7120\n",
      "Epoch 22/50\n",
      "7791/7791 [==============================] - 0s 23us/sample - loss: 0.8192 - categorical_accuracy: 0.6921 - val_loss: 0.8354 - val_categorical_accuracy: 0.6882\n",
      "Epoch 23/50\n",
      "7791/7791 [==============================] - 0s 22us/sample - loss: 0.8507 - categorical_accuracy: 0.6882 - val_loss: 0.8468 - val_categorical_accuracy: 0.6542\n",
      "Epoch 24/50\n",
      "7791/7791 [==============================] - 0s 23us/sample - loss: 0.7959 - categorical_accuracy: 0.6903 - val_loss: 0.7955 - val_categorical_accuracy: 0.6701\n",
      "Epoch 25/50\n",
      "7791/7791 [==============================] - 0s 21us/sample - loss: 0.7844 - categorical_accuracy: 0.6903 - val_loss: 0.7519 - val_categorical_accuracy: 0.6893\n",
      "Epoch 26/50\n",
      "7791/7791 [==============================] - 0s 23us/sample - loss: 0.7916 - categorical_accuracy: 0.6887 - val_loss: 0.8605 - val_categorical_accuracy: 0.6791\n",
      "Epoch 27/50\n",
      "7791/7791 [==============================] - 0s 22us/sample - loss: 0.7968 - categorical_accuracy: 0.6836 - val_loss: 0.8092 - val_categorical_accuracy: 0.6610\n",
      "Epoch 28/50\n",
      "7791/7791 [==============================] - 0s 22us/sample - loss: 0.7913 - categorical_accuracy: 0.6777 - val_loss: 0.7070 - val_categorical_accuracy: 0.6859\n",
      "Epoch 29/50\n",
      "7791/7791 [==============================] - 0s 22us/sample - loss: 0.7205 - categorical_accuracy: 0.6831 - val_loss: 0.7198 - val_categorical_accuracy: 0.6893\n",
      "Epoch 30/50\n",
      "7791/7791 [==============================] - 0s 23us/sample - loss: 0.7138 - categorical_accuracy: 0.6899 - val_loss: 0.6862 - val_categorical_accuracy: 0.6927\n",
      "Epoch 31/50\n",
      "7791/7791 [==============================] - 0s 23us/sample - loss: 0.6964 - categorical_accuracy: 0.6921 - val_loss: 0.6816 - val_categorical_accuracy: 0.7041\n",
      "Epoch 32/50\n",
      "7791/7791 [==============================] - 0s 22us/sample - loss: 0.7124 - categorical_accuracy: 0.6903 - val_loss: 0.6770 - val_categorical_accuracy: 0.6837\n",
      "Epoch 33/50\n",
      "7791/7791 [==============================] - 0s 22us/sample - loss: 0.6899 - categorical_accuracy: 0.6886 - val_loss: 0.6766 - val_categorical_accuracy: 0.6757\n",
      "Epoch 34/50\n",
      "7791/7791 [==============================] - 0s 22us/sample - loss: 0.6728 - categorical_accuracy: 0.6912 - val_loss: 0.6449 - val_categorical_accuracy: 0.7018\n",
      "Epoch 35/50\n",
      "7791/7791 [==============================] - 0s 22us/sample - loss: 0.6593 - categorical_accuracy: 0.6916 - val_loss: 0.6380 - val_categorical_accuracy: 0.6961\n",
      "Epoch 36/50\n",
      "7791/7791 [==============================] - 0s 22us/sample - loss: 0.6530 - categorical_accuracy: 0.6845 - val_loss: 0.6378 - val_categorical_accuracy: 0.6871\n",
      "Epoch 37/50\n",
      "7791/7791 [==============================] - 0s 23us/sample - loss: 0.6500 - categorical_accuracy: 0.6905 - val_loss: 0.6358 - val_categorical_accuracy: 0.6973\n",
      "Epoch 38/50\n",
      "7791/7791 [==============================] - 0s 21us/sample - loss: 0.6496 - categorical_accuracy: 0.6830 - val_loss: 0.6441 - val_categorical_accuracy: 0.6780\n",
      "Epoch 39/50\n",
      "7791/7791 [==============================] - 0s 23us/sample - loss: 0.6476 - categorical_accuracy: 0.6863 - val_loss: 0.6365 - val_categorical_accuracy: 0.6735\n",
      "Epoch 40/50\n",
      "7791/7791 [==============================] - 0s 22us/sample - loss: 0.6520 - categorical_accuracy: 0.6836 - val_loss: 0.6310 - val_categorical_accuracy: 0.6995\n",
      "Epoch 41/50\n",
      "7791/7791 [==============================] - 0s 22us/sample - loss: 0.6504 - categorical_accuracy: 0.6889 - val_loss: 0.6367 - val_categorical_accuracy: 0.6882\n",
      "Epoch 42/50\n",
      "7791/7791 [==============================] - 0s 23us/sample - loss: 0.6502 - categorical_accuracy: 0.6939 - val_loss: 0.6430 - val_categorical_accuracy: 0.7052\n",
      "Epoch 43/50\n",
      "7791/7791 [==============================] - 0s 22us/sample - loss: 0.6478 - categorical_accuracy: 0.6848 - val_loss: 0.6337 - val_categorical_accuracy: 0.6916\n",
      "Epoch 44/50\n",
      "7791/7791 [==============================] - 0s 21us/sample - loss: 0.6403 - categorical_accuracy: 0.6905 - val_loss: 0.6659 - val_categorical_accuracy: 0.6644\n",
      "Epoch 45/50\n",
      "7791/7791 [==============================] - 0s 22us/sample - loss: 0.6438 - categorical_accuracy: 0.6835 - val_loss: 0.6504 - val_categorical_accuracy: 0.6871\n",
      "Epoch 46/50\n",
      "7791/7791 [==============================] - 0s 23us/sample - loss: 0.6399 - categorical_accuracy: 0.6880 - val_loss: 0.6714 - val_categorical_accuracy: 0.6939\n",
      "Epoch 47/50\n",
      "7791/7791 [==============================] - 0s 22us/sample - loss: 0.7166 - categorical_accuracy: 0.6742 - val_loss: 0.6597 - val_categorical_accuracy: 0.6746\n",
      "Epoch 48/50\n",
      "7791/7791 [==============================] - 0s 22us/sample - loss: 0.6573 - categorical_accuracy: 0.6816 - val_loss: 0.6309 - val_categorical_accuracy: 0.6950\n",
      "Epoch 49/50\n",
      "7791/7791 [==============================] - 0s 22us/sample - loss: 0.6475 - categorical_accuracy: 0.6832 - val_loss: 0.6414 - val_categorical_accuracy: 0.6916\n",
      "Epoch 50/50\n",
      "7791/7791 [==============================] - 0s 22us/sample - loss: 0.6449 - categorical_accuracy: 0.6882 - val_loss: 0.6366 - val_categorical_accuracy: 0.6837\n"
     ]
    },
    {
     "data": {
      "text/plain": [
       "<keras.src.callbacks.History at 0x7f35e4536da0>"
      ]
     },
     "execution_count": 99,
     "metadata": {},
     "output_type": "execute_result"
    }
   ],
   "source": [
    "model.fit(X_train, Y_train, validation_data=(X_val, Y_validation),\n",
    "          batch_size=batch_size, epochs=epochs, shuffle=shuffle,class_weight = class_weight) #callbacks=[early_stopping])"
   ]
  },
  {
   "cell_type": "code",
   "execution_count": 100,
   "id": "0449d92b-f742-4e01-a79a-d67f7c2e41a6",
   "metadata": {},
   "outputs": [
    {
     "name": "stderr",
     "output_type": "stream",
     "text": [
      "2024-12-03 16:05:50.539973: W tensorflow/c/c_api.cc:305] Operation '{name:'dense_15/Softmax' id:2080 op device:{requested: '', assigned: ''} def:{{{node dense_15/Softmax}} = Softmax[T=DT_FLOAT, _has_manual_control_dependencies=true](dense_15/BiasAdd)}}' was changed by setting attribute after it was run by a session. This mutation will have no effect, and will trigger an error in the future. Either don't modify nodes after running them or create a new session.\n"
     ]
    }
   ],
   "source": [
    "train_loss=model.history.history['loss']\n",
    "val_loss=model.history.history['val_loss']\n",
    "    \n",
    "cat_acc=model.history.history['categorical_accuracy']\n",
    "val_acc=model.history.history['val_categorical_accuracy']\n",
    "        \n",
    "pred = model.predict(X_all)\n",
    "pred_val = model.predict(X_val)\n",
    "pred_train = model.predict(X_train)\n",
    "pred_test = model.predict(X_test)"
   ]
  },
  {
   "cell_type": "code",
   "execution_count": 101,
   "id": "8a7ef8db-8dde-45dc-89b3-58dcc6c72a28",
   "metadata": {},
   "outputs": [
    {
     "data": {
      "text/plain": [
       "<bound method Axes.legend of <Axes: title={'center': 'Accuracy'}, xlabel='Epoch', ylabel='Acc'>>"
      ]
     },
     "execution_count": 101,
     "metadata": {},
     "output_type": "execute_result"
    },
    {
     "data": {
      "image/png": "[encoded data removed]",
      "text/plain": [
       "<Figure size 1600x400 with 2 Axes>"
      ]
     },
     "metadata": {},
     "output_type": "display_data"
    }
   ],
   "source": [
    "# Look at the optimization history\n",
    "fig, (ax1,ax2) = plt.subplots(1,2, figsize=plt.figaspect(0.25))\n",
    "ax1.plot(train_loss, label='Training loss')\n",
    "ax1.plot(val_loss, label='Validation loss')\n",
    "ax1.set_yscale('log')\n",
    "ax1.set_title('loss')\n",
    "ax1.set_xlabel('Epoch')\n",
    "ax1.set_ylabel('loss')\n",
    "ax1.legend()\n",
    "\n",
    "ax2.plot(cat_acc, label='Training ACC')\n",
    "ax2.plot(val_acc, label='Validation ACC')\n",
    "ax2.set_title('Accuracy')\n",
    "ax2.set_xlabel('Epoch')\n",
    "ax2.set_ylabel('Acc')\n",
    "ax2.legend"
   ]
  },
  {
   "cell_type": "code",
   "execution_count": 102,
   "id": "097f1f4c-3b78-4f07-8921-b50e895f0742",
   "metadata": {},
   "outputs": [
    {
     "data": {
      "text/plain": [
       "array([[0.15217178, 0.84782827],\n",
       "       [0.06684337, 0.9331566 ],\n",
       "       [0.08163448, 0.9183656 ],\n",
       "       ...,\n",
       "       [0.9546196 , 0.04538038],\n",
       "       [0.9053584 , 0.09464157],\n",
       "       [0.9234303 , 0.07656967]], dtype=float32)"
      ]
     },
     "execution_count": 102,
     "metadata": {},
     "output_type": "execute_result"
    }
   ],
   "source": [
    "pred_test"
   ]
  },
  {
   "cell_type": "code",
   "execution_count": 103,
   "id": "df854a2e-e633-4511-972b-7d0f35f7a8b8",
   "metadata": {},
   "outputs": [],
   "source": [
    "# Creating an analyzer\n",
    "model_wo_sm = innvestigate.model_wo_softmax(model)\n",
    "gradient_analyzer = innvestigate.create_analyzer(\"deep_taylor\", model_wo_sm)"
   ]
  },
  {
   "cell_type": "code",
   "execution_count": 104,
   "id": "320ebf13-bb94-43e5-82f5-6d91e00ccd35",
   "metadata": {},
   "outputs": [
    {
     "name": "stderr",
     "output_type": "stream",
     "text": [
      "2024-12-03 16:05:51.503645: W tensorflow/c/c_api.cc:305] Operation '{name:'kernel_2/Assign' id:2675 op device:{requested: '', assigned: ''} def:{{{node kernel_2/Assign}} = AssignVariableOp[_has_manual_control_dependencies=true, dtype=DT_FLOAT, validate_shape=false](kernel_2, kernel_2/Initializer/stateless_truncated_normal)}}' was changed by setting attribute after it was run by a session. This mutation will have no effect, and will trigger an error in the future. Either don't modify nodes after running them or create a new session.\n",
      "2024-12-03 16:05:51.578319: W tensorflow/c/c_api.cc:305] Operation '{name:'gradients/MaxNeuronSelection/Max_grad/range' id:2801 op device:{requested: '', assigned: ''} def:{{{node gradients/MaxNeuronSelection/Max_grad/range}} = Range[Tidx=DT_INT32, _class=[\"loc:@MaxNeuronSelection/Max\"], _has_manual_control_dependencies=true](gradients/MaxNeuronSelection/Max_grad/range/start, gradients/MaxNeuronSelection/Max_grad/Size, gradients/MaxNeuronSelection/Max_grad/range/delta)}}' was changed by setting attribute after it was run by a session. This mutation will have no effect, and will trigger an error in the future. Either don't modify nodes after running them or create a new session.\n",
      "2024-12-03 16:05:51.611131: W tensorflow/c/c_api.cc:305] Operation '{name:'gradients/MaxNeuronSelection/Max_grad/mod' id:2797 op device:{requested: '', assigned: ''} def:{{{node gradients/MaxNeuronSelection/Max_grad/mod}} = FloorMod[T=DT_INT32, _class=[\"loc:@MaxNeuronSelection/Max\"], _has_manual_control_dependencies=true](gradients/MaxNeuronSelection/Max_grad/add, gradients/MaxNeuronSelection/Max_grad/Size)}}' was changed by setting attribute after it was run by a session. This mutation will have no effect, and will trigger an error in the future. Either don't modify nodes after running them or create a new session.\n",
      "2024-12-03 16:05:51.643698: W tensorflow/c/c_api.cc:305] Operation '{name:'gradients/MaxNeuronSelection/Max_grad/ones' id:2803 op device:{requested: '', assigned: ''} def:{{{node gradients/MaxNeuronSelection/Max_grad/ones}} = Fill[T=DT_INT32, _class=[\"loc:@MaxNeuronSelection/Max\"], _has_manual_control_dependencies=true, index_type=DT_INT32](gradients/MaxNeuronSelection/Max_grad/Shape_1, gradients/MaxNeuronSelection/Max_grad/ones/Const)}}' was changed by setting attribute after it was run by a session. This mutation will have no effect, and will trigger an error in the future. Either don't modify nodes after running them or create a new session.\n",
      "2024-12-03 16:05:51.680735: W tensorflow/c/c_api.cc:305] Operation '{name:'MaxNeuronSelection/Max/reduction_indices' id:2637 op device:{requested: '', assigned: ''} def:{{{node MaxNeuronSelection/Max/reduction_indices}} = Const[_has_manual_control_dependencies=true, dtype=DT_INT32, value=Tensor<type: int32 shape: [] values: -1>]()}}' was changed by setting attribute after it was run by a session. This mutation will have no effect, and will trigger an error in the future. Either don't modify nodes after running them or create a new session.\n",
      "2024-12-03 16:05:51.718873: W tensorflow/c/c_api.cc:305] Operation '{name:'mul_8/x' id:2830 op device:{requested: '', assigned: ''} def:{{{node mul_8/x}} = Const[_has_manual_control_dependencies=true, dtype=DT_FLOAT, value=Tensor<type: float shape: [] values: 1e-07>]()}}' was changed by setting attribute after it was run by a session. This mutation will have no effect, and will trigger an error in the future. Either don't modify nodes after running them or create a new session.\n",
      "2024-12-03 16:05:51.751158: W tensorflow/c/c_api.cc:305] Operation '{name:'Const_4' id:2827 op device:{requested: '', assigned: ''} def:{{{node Const_4}} = Const[_has_manual_control_dependencies=true, dtype=DT_FLOAT, value=Tensor<type: float shape: [] values: 0>]()}}' was changed by setting attribute after it was run by a session. This mutation will have no effect, and will trigger an error in the future. Either don't modify nodes after running them or create a new session.\n",
      "2024-12-03 16:05:51.788750: W tensorflow/c/c_api.cc:305] Operation '{name:'mul_7' id:2764 op device:{requested: '', assigned: ''} def:{{{node mul_7}} = Mul[T=DT_FLOAT, _has_manual_control_dependencies=true](ReadVariableOp_23, Cast_7)}}' was changed by setting attribute after it was run by a session. This mutation will have no effect, and will trigger an error in the future. Either don't modify nodes after running them or create a new session.\n",
      "2024-12-03 16:05:51.846040: W tensorflow/c/c_api.cc:305] Operation '{name:'mul_4' id:2720 op device:{requested: '', assigned: ''} def:{{{node mul_4}} = Mul[T=DT_FLOAT, _has_manual_control_dependencies=true](ReadVariableOp_17, Cast_4)}}' was changed by setting attribute after it was run by a session. This mutation will have no effect, and will trigger an error in the future. Either don't modify nodes after running them or create a new session.\n",
      "2024-12-03 16:05:51.881373: W tensorflow/c/c_api.cc:305] Operation '{name:'mul_9/x' id:2876 op device:{requested: '', assigned: ''} def:{{{node mul_9/x}} = Const[_has_manual_control_dependencies=true, dtype=DT_FLOAT, value=Tensor<type: float shape: [] values: 1e-07>]()}}' was changed by setting attribute after it was run by a session. This mutation will have no effect, and will trigger an error in the future. Either don't modify nodes after running them or create a new session.\n",
      "2024-12-03 16:05:51.920378: W tensorflow/c/c_api.cc:305] Operation '{name:'Const_5' id:2873 op device:{requested: '', assigned: ''} def:{{{node Const_5}} = Const[_has_manual_control_dependencies=true, dtype=DT_FLOAT, value=Tensor<type: float shape: [] values: 0>]()}}' was changed by setting attribute after it was run by a session. This mutation will have no effect, and will trigger an error in the future. Either don't modify nodes after running them or create a new session.\n",
      "2024-12-03 16:05:51.959197: W tensorflow/c/c_api.cc:305] Operation '{name:'mul_5' id:2726 op device:{requested: '', assigned: ''} def:{{{node mul_5}} = Mul[T=DT_FLOAT, _has_manual_control_dependencies=true](ReadVariableOp_19, Cast_5)}}' was changed by setting attribute after it was run by a session. This mutation will have no effect, and will trigger an error in the future. Either don't modify nodes after running them or create a new session.\n",
      "2024-12-03 16:05:52.021157: W tensorflow/c/c_api.cc:305] Operation '{name:'mul' id:2644 op device:{requested: '', assigned: ''} def:{{{node mul}} = Mul[T=DT_FLOAT, _has_manual_control_dependencies=true](ReadVariableOp_9, Cast)}}' was changed by setting attribute after it was run by a session. This mutation will have no effect, and will trigger an error in the future. Either don't modify nodes after running them or create a new session.\n",
      "2024-12-03 16:05:52.058244: W tensorflow/c/c_api.cc:305] Operation '{name:'gradients_6/concatenate_3/concat_grad/mod' id:2895 op device:{requested: '', assigned: ''} def:{{{node gradients_6/concatenate_3/concat_grad/mod}} = FloorMod[T=DT_INT32, _class=[\"loc:@concatenate_3/concat\"], _has_manual_control_dependencies=true](concatenate_3/concat/axis, gradients_6/concatenate_3/concat_grad/Rank)}}' was changed by setting attribute after it was run by a session. This mutation will have no effect, and will trigger an error in the future. Either don't modify nodes after running them or create a new session.\n",
      "2024-12-03 16:05:52.093453: W tensorflow/c/c_api.cc:305] Operation '{name:'mul_10/x' id:2915 op device:{requested: '', assigned: ''} def:{{{node mul_10/x}} = Const[_has_manual_control_dependencies=true, dtype=DT_FLOAT, value=Tensor<type: float shape: [] values: 1e-07>]()}}' was changed by setting attribute after it was run by a session. This mutation will have no effect, and will trigger an error in the future. Either don't modify nodes after running them or create a new session.\n",
      "2024-12-03 16:05:52.126298: W tensorflow/c/c_api.cc:305] Operation '{name:'Const_6' id:2912 op device:{requested: '', assigned: ''} def:{{{node Const_6}} = Const[_has_manual_control_dependencies=true, dtype=DT_FLOAT, value=Tensor<type: float shape: [] values: 0>]()}}' was changed by setting attribute after it was run by a session. This mutation will have no effect, and will trigger an error in the future. Either don't modify nodes after running them or create a new session.\n",
      "2024-12-03 16:05:52.164892: W tensorflow/c/c_api.cc:305] Operation '{name:'mul_1' id:2650 op device:{requested: '', assigned: ''} def:{{{node mul_1}} = Mul[T=DT_FLOAT, _has_manual_control_dependencies=true](ReadVariableOp_11, Cast_1)}}' was changed by setting attribute after it was run by a session. This mutation will have no effect, and will trigger an error in the future. Either don't modify nodes after running them or create a new session.\n",
      "2024-12-03 16:05:52.218965: W tensorflow/c/c_api.cc:305] Operation '{name:'mul_2' id:2682 op device:{requested: '', assigned: ''} def:{{{node mul_2}} = Mul[T=DT_FLOAT, _has_manual_control_dependencies=true](ReadVariableOp_13, Cast_2)}}' was changed by setting attribute after it was run by a session. This mutation will have no effect, and will trigger an error in the future. Either don't modify nodes after running them or create a new session.\n",
      "2024-12-03 16:05:52.256096: W tensorflow/c/c_api.cc:305] Operation '{name:'mul_11/x' id:2947 op device:{requested: '', assigned: ''} def:{{{node mul_11/x}} = Const[_has_manual_control_dependencies=true, dtype=DT_FLOAT, value=Tensor<type: float shape: [] values: 1e-07>]()}}' was changed by setting attribute after it was run by a session. This mutation will have no effect, and will trigger an error in the future. Either don't modify nodes after running them or create a new session.\n",
      "2024-12-03 16:05:52.289103: W tensorflow/c/c_api.cc:305] Operation '{name:'Const_7' id:2944 op device:{requested: '', assigned: ''} def:{{{node Const_7}} = Const[_has_manual_control_dependencies=true, dtype=DT_FLOAT, value=Tensor<type: float shape: [] values: 0>]()}}' was changed by setting attribute after it was run by a session. This mutation will have no effect, and will trigger an error in the future. Either don't modify nodes after running them or create a new session.\n",
      "2024-12-03 16:05:52.328690: W tensorflow/c/c_api.cc:305] Operation '{name:'mul_3' id:2688 op device:{requested: '', assigned: ''} def:{{{node mul_3}} = Mul[T=DT_FLOAT, _has_manual_control_dependencies=true](ReadVariableOp_15, Cast_3)}}' was changed by setting attribute after it was run by a session. This mutation will have no effect, and will trigger an error in the future. Either don't modify nodes after running them or create a new session.\n",
      "2024-12-03 16:05:52.373922: W tensorflow/c/c_api.cc:305] Operation '{name:'add_5_1/add' id:2932 op device:{requested: '', assigned: ''} def:{{{node add_5_1/add}} = AddV2[T=DT_FLOAT, _has_manual_control_dependencies=true](multiply_4/mul, multiply_5/mul)}}' was changed by setting attribute after it was run by a session. This mutation will have no effect, and will trigger an error in the future. Either don't modify nodes after running them or create a new session.\n"
     ]
    }
   ],
   "source": [
    "# Applying the analyzer\n",
    "analysis = gradient_analyzer.analyze(X_test)"
   ]
  },
  {
   "cell_type": "raw",
   "id": "d821cafb-6f2b-454f-bb97-d9317ca6852b",
   "metadata": {
    "jupyter": {
     "source_hidden": true
    }
   },
   "source": [
    "test = analysis[1]\n",
    "test.shape"
   ]
  },
  {
   "cell_type": "raw",
   "id": "d4b1c2fa-4f9d-49ac-86c5-acc926d3dacf",
   "metadata": {
    "jupyter": {
     "source_hidden": true
    }
   },
   "source": [
    "q90 = np.percentile(pred_test,90,axis=0) ##identify the threshold for the 90th percentile of confidence\n",
    "    ##AS before with checking the threshold\n",
    "great90 = [i for i, row in enumerate(pred_test) if (row[0] > q90[0]) or (row[1] > q90[1])]\n",
    "    \n",
    "    ##classify the accuracy of predicitons\n",
    "correct_pos = [] #correct positive anomaly\n",
    "correct_neg = [] #correct negative anomaly\n",
    "    \n",
    "false_pos = [] #false positive\n",
    "false_neg = [] #false negative\n",
    "    \n",
    "for j in range(len(great90)):\n",
    "    #print(j)\n",
    "    #print(great90[j])\n",
    "    index = great90[j]\n",
    "    if pred_test[index,0] < pred_test[index,1] and Y_tes[index,0] == 0:\n",
    "        correct_pos.append(index)\n",
    "        #print('###########')\n",
    "    elif pred_test[index,0] > pred_test[index,1] and Y_tes[index,0] == 1:\n",
    "        correct_neg.append(index)\n",
    "        #print('###########')\n",
    "    elif pred_test[index,0] < pred_test[index,1] and Y_tes[index,0] == 1:\n",
    "        false_neg.append(index)\n",
    "        #print('###########')\n",
    "    elif pred_test[index,0] > pred_test[index,1] and Y_tes[index,0] == 0:\n",
    "        false_pos.append(index)\n",
    "        #print('###########')\n",
    "\n",
    "PV_posXtest = np.array(test[correct_pos])\n",
    "posXtest_comp = X_test2[correct_pos]"
   ]
  },
  {
   "cell_type": "raw",
   "id": "039c4ecd-b0eb-4fa0-b04a-ece2544d3c42",
   "metadata": {
    "jupyter": {
     "source_hidden": true
    }
   },
   "source": [
    "PV_posLRP_heatmaps = PV_posXtest.reshape(PV_posXtest.shape[0], 21, 37)\n",
    "PV_posLRP_heatmaps_scaled = PV_posLRP_heatmaps/np.nanmax(PV_posLRP_heatmaps, axis=(-2,-1))[:,np.newaxis,np.newaxis]\n",
    "PV_posLRP_heatmaps_mean = np.nanmean(PV_posLRP_heatmaps_scaled, axis=0)\n",
    "PV_pos90_LRP[l,:,:] = PV_posLRP_heatmaps_mean[:,:]"
   ]
  },
  {
   "cell_type": "code",
   "execution_count": 105,
   "id": "54ba7c0c-5ba5-4d2b-bf30-4e26d8a5c56a",
   "metadata": {},
   "outputs": [],
   "source": [
    "#############################tuning#############################"
   ]
  },
  {
   "cell_type": "code",
   "execution_count": 106,
   "id": "1ae20787-ceab-4dd1-8845-6d2a60e09c09",
   "metadata": {},
   "outputs": [],
   "source": [
    "def combined(hp):\n",
    "    ##set ranges for hyperparameters\n",
    "    n1 = hp.Int('n1', min_value=120, max_value=128, step=4)\n",
    "    #n2 = hp.Int('n2', min_value=4, max_value=16, step=4)\n",
    "    n3= hp.Int('n3', min_value=120, max_value=128, step=4)\n",
    "    #n4 = hp.Int('n4', min_value=4, max_value=16, step=4)\n",
    "    n5 = hp.Int('n5', min_value=4, max_value=32, step=4)\n",
    "   \n",
    "\n",
    "    reg1 = hp.Float('reg1', min_value=0.01, max_value=1, default=0.01)\n",
    "    #reg2 = hp.Float('reg2', min_value=0.001, max_value=0.1, default=0.01)\n",
    "    reg3 = hp.Float('reg3', min_value=0.01, max_value=1, default=0.01)\n",
    "    #reg4 = hp.Float('reg4', min_value=0.001, max_value=0.1, default=0.01)\n",
    "    reg5 = hp.Float('reg5', min_value=0.001, max_value=0.1, default=0.01)\n",
    "    \n",
    "    ##first layers for ANN\n",
    "    input_tensor1 = Input(shape=(int(1595),), name='layer1')\n",
    "    layer1 = layers.Dense(n1, activation='relu', use_bias=True,\n",
    "                          kernel_initializer='he_normal',bias_initializer='he_normal',\n",
    "                          kernel_regularizer=keras.regularizers.l2(l2= reg1))(input_tensor1)\n",
    "   \n",
    "    #layer1 = layers.Dense(n2, activation='relu', use_bias=True,\n",
    "                          #kernel_initializer='he_normal',bias_initializer='he_normal',\n",
    "                          #kernel_regularizer=keras.regularizers.l2(l2= reg2))(input_tensor1)\n",
    "    \n",
    "\n",
    "    ## second layers for ANN\n",
    "    input_tensor2 = Input(shape=(int(777),), name='layer2')\n",
    "    layer2 = layers.Dense(n3, activation='relu', use_bias=True,\n",
    "                          kernel_initializer='he_normal',bias_initializer='he_normal',\n",
    "                          kernel_regularizer=keras.regularizers.l2(l2= reg3))(input_tensor2)\n",
    "    #layer2 = layers.Dense(n4, activation='relu', use_bias=True,\n",
    "                          #kernel_initializer='he_normal',bias_initializer='he_normal',\n",
    "                          #kernel_regularizer=keras.regularizers.l2(l2= reg4))(input_tensor2)\n",
    "    ##return_sequence = False\n",
    "    \n",
    "    \n",
    "    ##combine two model inputs\n",
    "    merge_layer = Concatenate()([layer1,layer2])\n",
    "\n",
    "    ##more dense layers\n",
    "    merge = layers.Dense(n5, activation='relu', use_bias=True,\n",
    "                          kernel_initializer='he_normal',bias_initializer='he_normal',\n",
    "                          kernel_regularizer=keras.regularizers.l2(l2= reg5))(merge_layer)\n",
    "\n",
    "    #decay_rate = learn / epochs\n",
    "    lr = hp.Float('learning_rate', min_value=1e-3, max_value=1, default=1e-3)\n",
    "    output_tensor = layers.Dense(2,activation='softmax')(merge)\n",
    "    model = Model([input_tensor1, input_tensor2], output_tensor)\n",
    "    model.compile(optimizer=keras.optimizers.legacy.Adam(learning_rate=lr),\n",
    "              loss = 'categorical_crossentropy', #Our loss function is based on categorical error\n",
    "              metrics=[keras.metrics.categorical_accuracy], #We will print out the categorical accuracy as the network is trained\n",
    "              )\n",
    "    return model"
   ]
  },
  {
   "cell_type": "code",
   "execution_count": null,
   "id": "a9a0be70-6e16-438d-8cdb-54312ea07aa0",
   "metadata": {},
   "outputs": [],
   "source": [
    "##intialize/setup the hyperband tuner\n",
    "import keras_tuner as kt\n",
    "\n",
    "tuner = kt.tuners.RandomSearch(\n",
    "    combined, #model\n",
    "    objective = [kt.Objective('val_loss', 'min'), kt.Objective('loss', 'min'),\n",
    "                kt.Objective('val_categorical_accuracy', 'max')], #target\n",
    "    max_trials=1000, #number of iterations of tuning to run\n",
    "    max_consecutive_failed_trials=3, #number of allowed failed trials\n",
    "    directory = 'tuning',\n",
    "    project_name='joint13'\n",
    ")"
   ]
  },
  {
   "cell_type": "code",
   "execution_count": null,
   "id": "1d044405-f3c1-4355-8107-532cd267cfee",
   "metadata": {},
   "outputs": [],
   "source": [
    "stop_early = tf.keras.callbacks.EarlyStopping(monitor='val_loss', patience=5)"
   ]
  },
  {
   "cell_type": "code",
   "execution_count": null,
   "id": "86360fcb-8843-4430-a1d2-c69535b5e2a3",
   "metadata": {
    "scrolled": true
   },
   "outputs": [],
   "source": [
    "##actual tuning process\n",
    "tuner.search(X_train, Y_train, validation_data=(X_val, Y_validation),\n",
    "             batch_size=batch_size, epochs=epochs, shuffle=shuffle,\n",
    "             class_weight = class_weight, callbacks=[stop_early])"
   ]
  },
  {
   "cell_type": "code",
   "execution_count": null,
   "id": "ba0b10f4-0d55-4363-ba49-628f7acb3206",
   "metadata": {},
   "outputs": [],
   "source": [
    "# Get the optimal hyperparameters\n",
    "best_hps=tuner.get_best_hyperparameters(num_trials=1)[0]\n",
    "\n",
    "print(f\"\"\"\n",
    "The hyperparameter search is complete. The optimal number of units in the first densely-connected\n",
    "layer is {best_hps.get('n1')}, the second is {best_hps.get('n3')},\n",
    "regularizers are {best_hps.get('reg1')} and {best_hps.get('reg3')},\n",
    "and the optimal learning rate for the optimizer\n",
    "is {best_hps.get('learning_rate')}.\n",
    "\"\"\")"
   ]
  },
  {
   "cell_type": "code",
   "execution_count": null,
   "id": "7f63125d-813c-410b-8aa8-08669dcb66ef",
   "metadata": {},
   "outputs": [],
   "source": [
    "best_hps.values"
   ]
  },
  {
   "cell_type": "raw",
   "id": "4bf4b405-40df-42e9-8600-cbf17d705eff",
   "metadata": {},
   "source": [
    "##13 days\n",
    "{'n1': 124,\n",
    " 'n3': 124,\n",
    " 'n5': 24,\n",
    " 'reg1': 0.14963108058375985,\n",
    " 'reg3': 0.05468294977218689,\n",
    " 'reg5': 0.09605404164075619,\n",
    " 'learning_rate': 0.0419110059786085}\n",
    "\n",
    "##14 days \n",
    "{'n1': 128,\n",
    " 'n3': 124,\n",
    " 'n5': 28,\n",
    " 'reg1': 0.26001494202047,\n",
    " 'reg3': 0.1092320356948225,\n",
    " 'reg5': 0.0867239344565005,\n",
    " 'learning_rate': 0.02535704352158331}"
   ]
  },
  {
   "cell_type": "code",
   "execution_count": null,
   "id": "f13c3c6f-6c68-43a7-b521-8cff0a65222b",
   "metadata": {
    "scrolled": true
   },
   "outputs": [],
   "source": [
    "# Build the model with the optimal hyperparameters and train it on the data for 50 epochs\n",
    "model = tuner.hypermodel.build(best_hps)\n",
    "history = model.fit(X_train,Y_train, validation_data=(X_val, Y_validation),\n",
    "                    batch_size=batch_size, epochs=epochs, shuffle=shuffle,class_weight = class_weight)"
   ]
  },
  {
   "cell_type": "code",
   "execution_count": null,
   "id": "35814d48-e48f-4e52-a751-037e9035c899",
   "metadata": {},
   "outputs": [],
   "source": [
    "train_loss=model.history.history['loss']\n",
    "val_loss=model.history.history['val_loss']\n",
    "    \n",
    "cat_acc=model.history.history['categorical_accuracy']\n",
    "val_acc=model.history.history['val_categorical_accuracy']\n",
    "        \n",
    "pred = model.predict(X_all)\n",
    "pred_val = model.predict(X_val)\n",
    "pred_train = model.predict(X_train)\n",
    "pred_test = model.predict(X_test)\n",
    "\n",
    "# Look at the optimization history\n",
    "fig, (ax1,ax2) = plt.subplots(1,2, figsize=plt.figaspect(0.25))\n",
    "ax1.plot(train_loss, label='Training loss')\n",
    "ax1.plot(val_loss, label='Validation loss')\n",
    "ax1.set_yscale('log')\n",
    "ax1.set_title('loss')\n",
    "ax1.set_xlabel('Epoch')\n",
    "ax1.set_ylabel('loss')\n",
    "ax1.legend()\n",
    "\n",
    "ax2.plot(cat_acc, label='Training ACC')\n",
    "ax2.plot(val_acc, label='Validation ACC')\n",
    "ax2.set_title('Accuracy')\n",
    "ax2.set_xlabel('Epoch')\n",
    "ax2.set_ylabel('Acc')\n",
    "ax2.legend"
   ]
  },
  {
   "cell_type": "code",
   "execution_count": null,
   "id": "9d83078b-8c4b-4191-9d71-21e6a0dbb56a",
   "metadata": {},
   "outputs": [],
   "source": []
  }
 ],
 "metadata": {
  "kernelspec": {
   "display_name": "Python 3 (ipykernel)",
   "language": "python",
   "name": "python3"
  },
  "language_info": {
   "codemirror_mode": {
    "name": "ipython",
    "version": 3
   },
   "file_extension": ".py",
   "mimetype": "text/x-python",
   "name": "python",
   "nbconvert_exporter": "python",
   "pygments_lexer": "ipython3",
   "version": "3.10.13"
  }
 },
 "nbformat": 4,
 "nbformat_minor": 5
}
