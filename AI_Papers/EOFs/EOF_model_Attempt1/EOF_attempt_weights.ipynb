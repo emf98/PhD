{
 "cells": [
  {
   "cell_type": "markdown",
   "id": "700ff063-1c88-4991-878b-6fc8365692af",
   "metadata": {},
   "source": [
    "#### Simple ANN model using PCs as input for a model.\n",
    "\n",
    "File created on April 2, 2025. \n",
    "\n",
    "This time I am going to be trying to weight the lat/lon grid before calculating the EOFs per Zheng's suggestions. "
   ]
  },
  {
   "cell_type": "raw",
   "id": "66dd3913-cd6b-4796-b9fa-35be832e03f8",
   "metadata": {
    "jupyter": {
     "source_hidden": true
    }
   },
   "source": [
    "!pip install eofs"
   ]
  },
  {
   "cell_type": "raw",
   "id": "610adfca-f618-4daf-9d6e-f91bacdf44d6",
   "metadata": {
    "collapsed": true,
    "jupyter": {
     "outputs_hidden": true,
     "source_hidden": true
    }
   },
   "source": [
    "!pip install innvestigate"
   ]
  },
  {
   "cell_type": "code",
   "execution_count": 1,
   "id": "4b62a369-6e80-46f2-957b-a2e9b386c035",
   "metadata": {
    "jupyter": {
     "source_hidden": true
    }
   },
   "outputs": [
    {
     "name": "stderr",
     "output_type": "stream",
     "text": [
      "2025-04-02 15:37:37.408193: I tensorflow/core/util/port.cc:113] oneDNN custom operations are on. You may see slightly different numerical results due to floating-point round-off errors from different computation orders. To turn them off, set the environment variable `TF_ENABLE_ONEDNN_OPTS=0`.\n",
      "2025-04-02 15:37:37.454314: E external/local_xla/xla/stream_executor/cuda/cuda_dnn.cc:9261] Unable to register cuDNN factory: Attempting to register factory for plugin cuDNN when one has already been registered\n",
      "2025-04-02 15:37:37.454343: E external/local_xla/xla/stream_executor/cuda/cuda_fft.cc:607] Unable to register cuFFT factory: Attempting to register factory for plugin cuFFT when one has already been registered\n",
      "2025-04-02 15:37:37.455984: E external/local_xla/xla/stream_executor/cuda/cuda_blas.cc:1515] Unable to register cuBLAS factory: Attempting to register factory for plugin cuBLAS when one has already been registered\n",
      "2025-04-02 15:37:37.463977: I tensorflow/core/platform/cpu_feature_guard.cc:182] This TensorFlow binary is optimized to use available CPU instructions in performance-critical operations.\n",
      "To enable the following instructions: AVX2 AVX512F AVX512_VNNI FMA, in other operations, rebuild TensorFlow with the appropriate compiler flags.\n",
      "2025-04-02 15:37:39.794613: W tensorflow/compiler/tf2tensorrt/utils/py_utils.cc:38] TF-TRT Warning: Could not find TensorRT\n"
     ]
    }
   ],
   "source": [
    "#relevant import statements\n",
    "import numpy as np\n",
    "import math\n",
    "import pandas as pd\n",
    "import xarray as xr \n",
    "import pickle \n",
    "#plotting related imports\n",
    "import matplotlib.pyplot as plt\n",
    "from matplotlib import rcParams #For changing text properties\n",
    "from cartopy import crs as ccrs #Useful for plotting maps\n",
    "import cartopy.util #Requires separate import\n",
    "from cartopy.util import add_cyclic_point\n",
    "import cartopy.feature as cf\n",
    "from cartopy.mpl.ticker import LongitudeFormatter, LatitudeFormatter\n",
    "import matplotlib.path as mpath\n",
    "import matplotlib.colors as mcolors\n",
    "\n",
    "import random\n",
    "from random import seed\n",
    "from random import randint\n",
    "from random import sample\n",
    "\n",
    "import seaborn as sns # statistical data visualization\n",
    "from scipy.ndimage import gaussian_filter\n",
    "from sklearn.metrics import brier_score_loss\n",
    "from sklearn.metrics import accuracy_score\n",
    "from sklearn.model_selection import train_test_split\n",
    "from sklearn.metrics import mean_squared_error, r2_score\n",
    "\n",
    "from sklearn.feature_selection import SelectFromModel\n",
    "\n",
    "##just to stop the excess number of warnings \n",
    "import warnings\n",
    "warnings.filterwarnings('ignore')\n",
    "\n",
    "from eofs.standard import Eof\n",
    "\n",
    "##import tensorflow/keras related files\n",
    "import tensorflow as tf    \n",
    "#tf.compat.v1.disable_v2_behavior() # <-- HERE !\n",
    "\n",
    "from tensorflow import keras\n",
    "from tensorflow.keras import layers\n",
    "from tensorflow.keras import Input\n",
    "from tensorflow.keras.models import Model\n",
    "from tensorflow.keras.callbacks import ModelCheckpoint\n",
    "from tensorflow.keras import regularizers\n",
    "import tensorflow.keras.backend as K\n",
    "from tensorflow.keras.utils import to_categorical\n",
    "from tensorflow.keras.layers import Dropout, Activation, Reshape, Flatten, LSTM, Dense, Dropout, Embedding, Bidirectional, GRU\n",
    "from tensorflow.keras import Sequential\n",
    "from tensorflow.keras import initializers, regularizers\n",
    "from tensorflow.keras import optimizers\n",
    "from tensorflow.keras import constraints\n",
    "from tensorflow.keras.layers import Layer, InputSpec\n",
    "from tensorflow.keras.callbacks import EarlyStopping\n",
    "\n",
    "tf.compat.v1.disable_eager_execution()\n",
    "import innvestigate"
   ]
  },
  {
   "cell_type": "markdown",
   "id": "cf69dc27-ebbe-4e4a-a11d-fe18abfd0d24",
   "metadata": {},
   "source": [
    "##### First, I am going to pickle in the input data. I will then remove the seasonal climo from the dataset...\n",
    "\n",
    "If I were working with one of the lev/lon files here I would take the lat average ... but for PV on the isentropic surface this is unnecessary. "
   ]
  },
  {
   "cell_type": "code",
   "execution_count": 2,
   "id": "279de59e-88c8-442f-8eb6-9f4f8c12a422",
   "metadata": {},
   "outputs": [],
   "source": [
    "#load input data\n",
    "infile = open(\"/network/rit/lab/langlab_rit/efernandez/Research/Dissertation/AI_Paper/ANN_2025/EOFs/cap_pv350pt.p\", 'rb') \n",
    "pv_input = pickle.load(infile) ##pv on an isentropic surface, 350 \n",
    "infile.close()"
   ]
  },
  {
   "cell_type": "code",
   "execution_count": 3,
   "id": "0ad6f1d9-7cc4-4374-95d8-b407fb20a6c5",
   "metadata": {},
   "outputs": [
    {
     "data": {
      "text/plain": [
       "(63, 183, 16, 180)"
      ]
     },
     "execution_count": 3,
     "metadata": {},
     "output_type": "execute_result"
    }
   ],
   "source": [
    "pv_input.shape ##63 years, october through march, 16 lats (90,60), all lons."
   ]
  },
  {
   "cell_type": "code",
   "execution_count": 4,
   "id": "bc7603d0-6568-4a70-a0f3-2d46fd407334",
   "metadata": {},
   "outputs": [],
   "source": [
    "## remove leap day. \n",
    "pv_input = np.delete(pv_input,[151],1)"
   ]
  },
  {
   "cell_type": "code",
   "execution_count": 5,
   "id": "0c2abc0d-8a90-4f46-a4e2-287c45466800",
   "metadata": {},
   "outputs": [
    {
     "data": {
      "text/plain": [
       "array([7.82001916, 9.28516056, 9.84458711, 9.82206802, 9.16532372,\n",
       "       8.47395495, 8.61945045, 8.84344809, 9.11291681, 9.56151052,\n",
       "       9.01149178, 8.95853645, 8.5347574 , 8.29113287, 8.8833267 ,\n",
       "       8.91875607, 8.4328276 , 8.78032915, 9.45409101, 9.83351492,\n",
       "       8.44626356, 8.01245187, 7.47671766, 7.82551524, 7.4089844 ,\n",
       "       8.444782  , 8.6118107 , 8.58778367, 8.25092866, 7.98703331,\n",
       "       8.63651803, 7.73850115])"
      ]
     },
     "execution_count": 5,
     "metadata": {},
     "output_type": "execute_result"
    }
   ],
   "source": [
    "pv_input[1,150:,0,0]"
   ]
  },
  {
   "cell_type": "code",
   "execution_count": 6,
   "id": "97d38241-68b9-409e-8325-26e57f06da68",
   "metadata": {},
   "outputs": [
    {
     "data": {
      "text/plain": [
       "(63, 182, 16, 180)"
      ]
     },
     "execution_count": 6,
     "metadata": {},
     "output_type": "execute_result"
    }
   ],
   "source": [
    "##take seasonal daily average/remove seasonal climatology\n",
    "dailymean_pv = np.nanmean(pv_input,axis=1)\n",
    "anom_pv=np.zeros_like(pv_input)\n",
    "for t in np.arange(pv_input.shape[1]):\n",
    "     anom_pv[:,t,:,:] = pv_input[:,t,:,:] - dailymean_pv\n",
    "anom_pv.shape"
   ]
  },
  {
   "cell_type": "code",
   "execution_count": 7,
   "id": "65c70f1d-1cdc-4b40-8351-f400c0306e84",
   "metadata": {},
   "outputs": [],
   "source": [
    "##check for NaNs\n",
    "if np.any(np.isnan(anom_pv)) or np.any(np.isinf(anom_pv)):\n",
    "    print(\"NaN or Inf values found in PV!\")"
   ]
  },
  {
   "cell_type": "code",
   "execution_count": 8,
   "id": "f1eaaf0e-2eb0-43cc-851d-4b50e52e9d1f",
   "metadata": {},
   "outputs": [
    {
     "data": {
      "text/plain": [
       "(62, 151, 16, 180)"
      ]
     },
     "execution_count": 8,
     "metadata": {},
     "output_type": "execute_result"
    }
   ],
   "source": [
    "anom_pv[:62,21:172,:,:].shape\n",
    "#anom_pv[:62,31:,:,:].shape"
   ]
  },
  {
   "cell_type": "code",
   "execution_count": 9,
   "id": "f37bbdc5-8af0-4028-9166-b03344eabbe4",
   "metadata": {},
   "outputs": [
    {
     "data": {
      "text/plain": [
       "(9362, 16, 180)"
      ]
     },
     "execution_count": 9,
     "metadata": {},
     "output_type": "execute_result"
    }
   ],
   "source": [
    "##flatten pv array \n",
    "flat_anom_pv = anom_pv[:62,21:172,:,:].reshape((62*151,16,180))\n",
    "flat_anom_pv.shape"
   ]
  },
  {
   "cell_type": "code",
   "execution_count": 10,
   "id": "2d442714-06c0-41e1-b14c-74797a41ecf7",
   "metadata": {},
   "outputs": [],
   "source": [
    "##I DID NOT USE THIS FOR THE EOFs, JUST TRIED TO CALCULATE HERE...\n",
    "flat_anom = xr.DataArray(data= flat_anom_pv, dims = [\"dates\",\"lat\",\"lon\"],coords = dict(dates = range(0,9362,1),\n",
    "                                                                                lat = np.arange(90,58,-2),\n",
    "                                                                                lon = np.arange(0,360,2)))\n",
    "wgts = np.cos(flat_anom.lat/180*np.pi)**0.5\n",
    "flat_anom = flat_anom*wgts\n",
    "#weights=np.cos(np.deg2rad(flat_anom.lat))\n",
    "#flat_anom = flat_anom.weighted(weights).mean(dim=\"lon\").mean(dim=\"lat\") #average over the full area\n",
    "#flat_anom"
   ]
  },
  {
   "cell_type": "code",
   "execution_count": 11,
   "id": "b92ec520-db71-4d63-9310-6b4018573d43",
   "metadata": {
    "collapsed": true,
    "jupyter": {
     "outputs_hidden": true
    }
   },
   "outputs": [
    {
     "data": {
      "text/html": [
       "<div><svg style=\"position: absolute; width: 0; height: 0; overflow: hidden\">\n",
       "<defs>\n",
       "<symbol id=\"icon-database\" viewBox=\"0 0 32 32\">\n",
       "<path d=\"M16 0c-8.837 0-16 2.239-16 5v4c0 2.761 7.163 5 16 5s16-2.239 16-5v-4c0-2.761-7.163-5-16-5z\"></path>\n",
       "<path d=\"M16 17c-8.837 0-16-2.239-16-5v6c0 2.761 7.163 5 16 5s16-2.239 16-5v-6c0 2.761-7.163 5-16 5z\"></path>\n",
       "<path d=\"M16 26c-8.837 0-16-2.239-16-5v6c0 2.761 7.163 5 16 5s16-2.239 16-5v-6c0 2.761-7.163 5-16 5z\"></path>\n",
       "</symbol>\n",
       "<symbol id=\"icon-file-text2\" viewBox=\"0 0 32 32\">\n",
       "<path d=\"M28.681 7.159c-0.694-0.947-1.662-2.053-2.724-3.116s-2.169-2.030-3.116-2.724c-1.612-1.182-2.393-1.319-2.841-1.319h-15.5c-1.378 0-2.5 1.121-2.5 2.5v27c0 1.378 1.122 2.5 2.5 2.5h23c1.378 0 2.5-1.122 2.5-2.5v-19.5c0-0.448-0.137-1.23-1.319-2.841zM24.543 5.457c0.959 0.959 1.712 1.825 2.268 2.543h-4.811v-4.811c0.718 0.556 1.584 1.309 2.543 2.268zM28 29.5c0 0.271-0.229 0.5-0.5 0.5h-23c-0.271 0-0.5-0.229-0.5-0.5v-27c0-0.271 0.229-0.5 0.5-0.5 0 0 15.499-0 15.5 0v7c0 0.552 0.448 1 1 1h7v19.5z\"></path>\n",
       "<path d=\"M23 26h-14c-0.552 0-1-0.448-1-1s0.448-1 1-1h14c0.552 0 1 0.448 1 1s-0.448 1-1 1z\"></path>\n",
       "<path d=\"M23 22h-14c-0.552 0-1-0.448-1-1s0.448-1 1-1h14c0.552 0 1 0.448 1 1s-0.448 1-1 1z\"></path>\n",
       "<path d=\"M23 18h-14c-0.552 0-1-0.448-1-1s0.448-1 1-1h14c0.552 0 1 0.448 1 1s-0.448 1-1 1z\"></path>\n",
       "</symbol>\n",
       "</defs>\n",
       "</svg>\n",
       "<style>/* CSS stylesheet for displaying xarray objects in jupyterlab.\n",
       " *\n",
       " */\n",
       "\n",
       ":root {\n",
       "  --xr-font-color0: var(--jp-content-font-color0, rgba(0, 0, 0, 1));\n",
       "  --xr-font-color2: var(--jp-content-font-color2, rgba(0, 0, 0, 0.54));\n",
       "  --xr-font-color3: var(--jp-content-font-color3, rgba(0, 0, 0, 0.38));\n",
       "  --xr-border-color: var(--jp-border-color2, #e0e0e0);\n",
       "  --xr-disabled-color: var(--jp-layout-color3, #bdbdbd);\n",
       "  --xr-background-color: var(--jp-layout-color0, white);\n",
       "  --xr-background-color-row-even: var(--jp-layout-color1, white);\n",
       "  --xr-background-color-row-odd: var(--jp-layout-color2, #eeeeee);\n",
       "}\n",
       "\n",
       "html[theme=dark],\n",
       "body[data-theme=dark],\n",
       "body.vscode-dark {\n",
       "  --xr-font-color0: rgba(255, 255, 255, 1);\n",
       "  --xr-font-color2: rgba(255, 255, 255, 0.54);\n",
       "  --xr-font-color3: rgba(255, 255, 255, 0.38);\n",
       "  --xr-border-color: #1F1F1F;\n",
       "  --xr-disabled-color: #515151;\n",
       "  --xr-background-color: #111111;\n",
       "  --xr-background-color-row-even: #111111;\n",
       "  --xr-background-color-row-odd: #313131;\n",
       "}\n",
       "\n",
       ".xr-wrap {\n",
       "  display: block !important;\n",
       "  min-width: 300px;\n",
       "  max-width: 700px;\n",
       "}\n",
       "\n",
       ".xr-text-repr-fallback {\n",
       "  /* fallback to plain text repr when CSS is not injected (untrusted notebook) */\n",
       "  display: none;\n",
       "}\n",
       "\n",
       ".xr-header {\n",
       "  padding-top: 6px;\n",
       "  padding-bottom: 6px;\n",
       "  margin-bottom: 4px;\n",
       "  border-bottom: solid 1px var(--xr-border-color);\n",
       "}\n",
       "\n",
       ".xr-header > div,\n",
       ".xr-header > ul {\n",
       "  display: inline;\n",
       "  margin-top: 0;\n",
       "  margin-bottom: 0;\n",
       "}\n",
       "\n",
       ".xr-obj-type,\n",
       ".xr-array-name {\n",
       "  margin-left: 2px;\n",
       "  margin-right: 10px;\n",
       "}\n",
       "\n",
       ".xr-obj-type {\n",
       "  color: var(--xr-font-color2);\n",
       "}\n",
       "\n",
       ".xr-sections {\n",
       "  padding-left: 0 !important;\n",
       "  display: grid;\n",
       "  grid-template-columns: 150px auto auto 1fr 20px 20px;\n",
       "}\n",
       "\n",
       ".xr-section-item {\n",
       "  display: contents;\n",
       "}\n",
       "\n",
       ".xr-section-item input {\n",
       "  display: none;\n",
       "}\n",
       "\n",
       ".xr-section-item input + label {\n",
       "  color: var(--xr-disabled-color);\n",
       "}\n",
       "\n",
       ".xr-section-item input:enabled + label {\n",
       "  cursor: pointer;\n",
       "  color: var(--xr-font-color2);\n",
       "}\n",
       "\n",
       ".xr-section-item input:enabled + label:hover {\n",
       "  color: var(--xr-font-color0);\n",
       "}\n",
       "\n",
       ".xr-section-summary {\n",
       "  grid-column: 1;\n",
       "  color: var(--xr-font-color2);\n",
       "  font-weight: 500;\n",
       "}\n",
       "\n",
       ".xr-section-summary > span {\n",
       "  display: inline-block;\n",
       "  padding-left: 0.5em;\n",
       "}\n",
       "\n",
       ".xr-section-summary-in:disabled + label {\n",
       "  color: var(--xr-font-color2);\n",
       "}\n",
       "\n",
       ".xr-section-summary-in + label:before {\n",
       "  display: inline-block;\n",
       "  content: '►';\n",
       "  font-size: 11px;\n",
       "  width: 15px;\n",
       "  text-align: center;\n",
       "}\n",
       "\n",
       ".xr-section-summary-in:disabled + label:before {\n",
       "  color: var(--xr-disabled-color);\n",
       "}\n",
       "\n",
       ".xr-section-summary-in:checked + label:before {\n",
       "  content: '▼';\n",
       "}\n",
       "\n",
       ".xr-section-summary-in:checked + label > span {\n",
       "  display: none;\n",
       "}\n",
       "\n",
       ".xr-section-summary,\n",
       ".xr-section-inline-details {\n",
       "  padding-top: 4px;\n",
       "  padding-bottom: 4px;\n",
       "}\n",
       "\n",
       ".xr-section-inline-details {\n",
       "  grid-column: 2 / -1;\n",
       "}\n",
       "\n",
       ".xr-section-details {\n",
       "  display: none;\n",
       "  grid-column: 1 / -1;\n",
       "  margin-bottom: 5px;\n",
       "}\n",
       "\n",
       ".xr-section-summary-in:checked ~ .xr-section-details {\n",
       "  display: contents;\n",
       "}\n",
       "\n",
       ".xr-array-wrap {\n",
       "  grid-column: 1 / -1;\n",
       "  display: grid;\n",
       "  grid-template-columns: 20px auto;\n",
       "}\n",
       "\n",
       ".xr-array-wrap > label {\n",
       "  grid-column: 1;\n",
       "  vertical-align: top;\n",
       "}\n",
       "\n",
       ".xr-preview {\n",
       "  color: var(--xr-font-color3);\n",
       "}\n",
       "\n",
       ".xr-array-preview,\n",
       ".xr-array-data {\n",
       "  padding: 0 5px !important;\n",
       "  grid-column: 2;\n",
       "}\n",
       "\n",
       ".xr-array-data,\n",
       ".xr-array-in:checked ~ .xr-array-preview {\n",
       "  display: none;\n",
       "}\n",
       "\n",
       ".xr-array-in:checked ~ .xr-array-data,\n",
       ".xr-array-preview {\n",
       "  display: inline-block;\n",
       "}\n",
       "\n",
       ".xr-dim-list {\n",
       "  display: inline-block !important;\n",
       "  list-style: none;\n",
       "  padding: 0 !important;\n",
       "  margin: 0;\n",
       "}\n",
       "\n",
       ".xr-dim-list li {\n",
       "  display: inline-block;\n",
       "  padding: 0;\n",
       "  margin: 0;\n",
       "}\n",
       "\n",
       ".xr-dim-list:before {\n",
       "  content: '(';\n",
       "}\n",
       "\n",
       ".xr-dim-list:after {\n",
       "  content: ')';\n",
       "}\n",
       "\n",
       ".xr-dim-list li:not(:last-child):after {\n",
       "  content: ',';\n",
       "  padding-right: 5px;\n",
       "}\n",
       "\n",
       ".xr-has-index {\n",
       "  font-weight: bold;\n",
       "}\n",
       "\n",
       ".xr-var-list,\n",
       ".xr-var-item {\n",
       "  display: contents;\n",
       "}\n",
       "\n",
       ".xr-var-item > div,\n",
       ".xr-var-item label,\n",
       ".xr-var-item > .xr-var-name span {\n",
       "  background-color: var(--xr-background-color-row-even);\n",
       "  margin-bottom: 0;\n",
       "}\n",
       "\n",
       ".xr-var-item > .xr-var-name:hover span {\n",
       "  padding-right: 5px;\n",
       "}\n",
       "\n",
       ".xr-var-list > li:nth-child(odd) > div,\n",
       ".xr-var-list > li:nth-child(odd) > label,\n",
       ".xr-var-list > li:nth-child(odd) > .xr-var-name span {\n",
       "  background-color: var(--xr-background-color-row-odd);\n",
       "}\n",
       "\n",
       ".xr-var-name {\n",
       "  grid-column: 1;\n",
       "}\n",
       "\n",
       ".xr-var-dims {\n",
       "  grid-column: 2;\n",
       "}\n",
       "\n",
       ".xr-var-dtype {\n",
       "  grid-column: 3;\n",
       "  text-align: right;\n",
       "  color: var(--xr-font-color2);\n",
       "}\n",
       "\n",
       ".xr-var-preview {\n",
       "  grid-column: 4;\n",
       "}\n",
       "\n",
       ".xr-index-preview {\n",
       "  grid-column: 2 / 5;\n",
       "  color: var(--xr-font-color2);\n",
       "}\n",
       "\n",
       ".xr-var-name,\n",
       ".xr-var-dims,\n",
       ".xr-var-dtype,\n",
       ".xr-preview,\n",
       ".xr-attrs dt {\n",
       "  white-space: nowrap;\n",
       "  overflow: hidden;\n",
       "  text-overflow: ellipsis;\n",
       "  padding-right: 10px;\n",
       "}\n",
       "\n",
       ".xr-var-name:hover,\n",
       ".xr-var-dims:hover,\n",
       ".xr-var-dtype:hover,\n",
       ".xr-attrs dt:hover {\n",
       "  overflow: visible;\n",
       "  width: auto;\n",
       "  z-index: 1;\n",
       "}\n",
       "\n",
       ".xr-var-attrs,\n",
       ".xr-var-data,\n",
       ".xr-index-data {\n",
       "  display: none;\n",
       "  background-color: var(--xr-background-color) !important;\n",
       "  padding-bottom: 5px !important;\n",
       "}\n",
       "\n",
       ".xr-var-attrs-in:checked ~ .xr-var-attrs,\n",
       ".xr-var-data-in:checked ~ .xr-var-data,\n",
       ".xr-index-data-in:checked ~ .xr-index-data {\n",
       "  display: block;\n",
       "}\n",
       "\n",
       ".xr-var-data > table {\n",
       "  float: right;\n",
       "}\n",
       "\n",
       ".xr-var-name span,\n",
       ".xr-var-data,\n",
       ".xr-index-name div,\n",
       ".xr-index-data,\n",
       ".xr-attrs {\n",
       "  padding-left: 25px !important;\n",
       "}\n",
       "\n",
       ".xr-attrs,\n",
       ".xr-var-attrs,\n",
       ".xr-var-data,\n",
       ".xr-index-data {\n",
       "  grid-column: 1 / -1;\n",
       "}\n",
       "\n",
       "dl.xr-attrs {\n",
       "  padding: 0;\n",
       "  margin: 0;\n",
       "  display: grid;\n",
       "  grid-template-columns: 125px auto;\n",
       "}\n",
       "\n",
       ".xr-attrs dt,\n",
       ".xr-attrs dd {\n",
       "  padding: 0;\n",
       "  margin: 0;\n",
       "  float: left;\n",
       "  padding-right: 10px;\n",
       "  width: auto;\n",
       "}\n",
       "\n",
       ".xr-attrs dt {\n",
       "  font-weight: normal;\n",
       "  grid-column: 1;\n",
       "}\n",
       "\n",
       ".xr-attrs dt:hover span {\n",
       "  display: inline-block;\n",
       "  background: var(--xr-background-color);\n",
       "  padding-right: 10px;\n",
       "}\n",
       "\n",
       ".xr-attrs dd {\n",
       "  grid-column: 2;\n",
       "  white-space: pre-wrap;\n",
       "  word-break: break-all;\n",
       "}\n",
       "\n",
       ".xr-icon-database,\n",
       ".xr-icon-file-text2,\n",
       ".xr-no-icon {\n",
       "  display: inline-block;\n",
       "  vertical-align: middle;\n",
       "  width: 1em;\n",
       "  height: 1.5em !important;\n",
       "  stroke-width: 0;\n",
       "  stroke: currentColor;\n",
       "  fill: currentColor;\n",
       "}\n",
       "</style><pre class='xr-text-repr-fallback'>&lt;xarray.DataArray (dates: 9362, lat: 16, lon: 180)&gt;\n",
       "array([[[ 3.64247176e-09,  3.64247176e-09,  3.64247176e-09, ...,\n",
       "          3.64247176e-09,  3.64247176e-09,  3.64247176e-09],\n",
       "        [ 2.12147938e-01,  2.17419084e-01,  2.24224182e-01, ...,\n",
       "          1.93594606e-01,  2.00312116e-01,  2.06913596e-01],\n",
       "        [ 1.05887265e-01,  8.96199192e-02,  7.05591595e-02, ...,\n",
       "          1.56396945e-01,  1.45620468e-01,  1.26725775e-01],\n",
       "        ...,\n",
       "        [ 7.54293496e-01,  5.57327989e-01,  4.93213810e-01, ...,\n",
       "          9.71047776e-01,  8.39223431e-01,  7.34936303e-01],\n",
       "        [ 9.38652368e-01,  8.54210126e-01,  6.84922001e-01, ...,\n",
       "          9.48936419e-01,  1.08572627e+00,  1.11633472e+00],\n",
       "        [ 8.89917761e-01,  7.84234480e-01,  6.35202154e-01, ...,\n",
       "          1.26484081e+00,  1.30367729e+00,  9.79364016e-01]],\n",
       "\n",
       "       [[ 7.42507336e-09,  7.42507336e-09,  7.42507336e-09, ...,\n",
       "          7.42507336e-09,  7.42507336e-09,  7.42507336e-09],\n",
       "        [ 2.10719365e-01,  2.07095571e-01,  2.08441916e-01, ...,\n",
       "          2.14196778e-01,  2.14520369e-01,  2.14097239e-01],\n",
       "        [ 8.61880626e-02,  9.25197433e-02,  1.02238153e-01, ...,\n",
       "          7.17293825e-02,  7.44200814e-02,  8.01844622e-02],\n",
       "...\n",
       "        [-1.03661135e-01, -1.56211474e-01, -1.73772156e-01, ...,\n",
       "         -2.55323773e-01, -1.59774424e-01, -1.67850270e-01],\n",
       "        [-1.82065022e-01, -2.09637563e-01, -5.29431265e-01, ...,\n",
       "         -6.96220394e-02, -4.49561216e-02,  3.78899394e-02],\n",
       "        [ 2.22669505e-01, -9.06081031e-03, -1.63200483e-01, ...,\n",
       "          3.55210631e-01,  1.58222588e-01,  1.89272790e-01]],\n",
       "\n",
       "       [[ 3.16983926e-09,  3.16983926e-09,  3.16983926e-09, ...,\n",
       "          3.16983926e-09,  3.16983926e-09,  3.16983926e-09],\n",
       "        [ 6.03217050e-02,  5.83922268e-02,  5.77624916e-02, ...,\n",
       "          6.59412973e-02,  6.43107937e-02,  6.30275406e-02],\n",
       "        [-9.88736686e-02, -1.04764078e-01, -1.09771442e-01, ...,\n",
       "         -8.30077198e-02, -8.57735954e-02, -9.34385501e-02],\n",
       "        ...,\n",
       "        [ 2.58740686e-02,  1.68485533e-01,  3.56569281e-01, ...,\n",
       "         -4.45585698e-01, -2.04821166e-01, -1.62873312e-01],\n",
       "        [ 1.40439312e-02,  3.15344317e-01,  5.48803737e-01, ...,\n",
       "          4.11568612e-01,  2.64794422e-02, -3.36141729e-02],\n",
       "        [-1.90931817e-01,  1.79000594e-01,  4.58594797e-01, ...,\n",
       "          2.18938865e-01,  5.09767667e-01,  2.97050117e-02]]])\n",
       "Coordinates:\n",
       "  * dates    (dates) int64 0 1 2 3 4 5 6 ... 9355 9356 9357 9358 9359 9360 9361\n",
       "  * lat      (lat) int64 90 88 86 84 82 80 78 76 74 72 70 68 66 64 62 60\n",
       "  * lon      (lon) int64 0 2 4 6 8 10 12 14 ... 344 346 348 350 352 354 356 358</pre><div class='xr-wrap' style='display:none'><div class='xr-header'><div class='xr-obj-type'>xarray.DataArray</div><div class='xr-array-name'></div><ul class='xr-dim-list'><li><span class='xr-has-index'>dates</span>: 9362</li><li><span class='xr-has-index'>lat</span>: 16</li><li><span class='xr-has-index'>lon</span>: 180</li></ul></div><ul class='xr-sections'><li class='xr-section-item'><div class='xr-array-wrap'><input id='section-cb35ff08-f739-4d09-84d9-ad4c8ed5f515' class='xr-array-in' type='checkbox' checked><label for='section-cb35ff08-f739-4d09-84d9-ad4c8ed5f515' title='Show/hide data repr'><svg class='icon xr-icon-database'><use xlink:href='#icon-database'></use></svg></label><div class='xr-array-preview xr-preview'><span>3.642e-09 3.642e-09 3.642e-09 3.642e-09 ... 0.2189 0.5098 0.02971</span></div><div class='xr-array-data'><pre>array([[[ 3.64247176e-09,  3.64247176e-09,  3.64247176e-09, ...,\n",
       "          3.64247176e-09,  3.64247176e-09,  3.64247176e-09],\n",
       "        [ 2.12147938e-01,  2.17419084e-01,  2.24224182e-01, ...,\n",
       "          1.93594606e-01,  2.00312116e-01,  2.06913596e-01],\n",
       "        [ 1.05887265e-01,  8.96199192e-02,  7.05591595e-02, ...,\n",
       "          1.56396945e-01,  1.45620468e-01,  1.26725775e-01],\n",
       "        ...,\n",
       "        [ 7.54293496e-01,  5.57327989e-01,  4.93213810e-01, ...,\n",
       "          9.71047776e-01,  8.39223431e-01,  7.34936303e-01],\n",
       "        [ 9.38652368e-01,  8.54210126e-01,  6.84922001e-01, ...,\n",
       "          9.48936419e-01,  1.08572627e+00,  1.11633472e+00],\n",
       "        [ 8.89917761e-01,  7.84234480e-01,  6.35202154e-01, ...,\n",
       "          1.26484081e+00,  1.30367729e+00,  9.79364016e-01]],\n",
       "\n",
       "       [[ 7.42507336e-09,  7.42507336e-09,  7.42507336e-09, ...,\n",
       "          7.42507336e-09,  7.42507336e-09,  7.42507336e-09],\n",
       "        [ 2.10719365e-01,  2.07095571e-01,  2.08441916e-01, ...,\n",
       "          2.14196778e-01,  2.14520369e-01,  2.14097239e-01],\n",
       "        [ 8.61880626e-02,  9.25197433e-02,  1.02238153e-01, ...,\n",
       "          7.17293825e-02,  7.44200814e-02,  8.01844622e-02],\n",
       "...\n",
       "        [-1.03661135e-01, -1.56211474e-01, -1.73772156e-01, ...,\n",
       "         -2.55323773e-01, -1.59774424e-01, -1.67850270e-01],\n",
       "        [-1.82065022e-01, -2.09637563e-01, -5.29431265e-01, ...,\n",
       "         -6.96220394e-02, -4.49561216e-02,  3.78899394e-02],\n",
       "        [ 2.22669505e-01, -9.06081031e-03, -1.63200483e-01, ...,\n",
       "          3.55210631e-01,  1.58222588e-01,  1.89272790e-01]],\n",
       "\n",
       "       [[ 3.16983926e-09,  3.16983926e-09,  3.16983926e-09, ...,\n",
       "          3.16983926e-09,  3.16983926e-09,  3.16983926e-09],\n",
       "        [ 6.03217050e-02,  5.83922268e-02,  5.77624916e-02, ...,\n",
       "          6.59412973e-02,  6.43107937e-02,  6.30275406e-02],\n",
       "        [-9.88736686e-02, -1.04764078e-01, -1.09771442e-01, ...,\n",
       "         -8.30077198e-02, -8.57735954e-02, -9.34385501e-02],\n",
       "        ...,\n",
       "        [ 2.58740686e-02,  1.68485533e-01,  3.56569281e-01, ...,\n",
       "         -4.45585698e-01, -2.04821166e-01, -1.62873312e-01],\n",
       "        [ 1.40439312e-02,  3.15344317e-01,  5.48803737e-01, ...,\n",
       "          4.11568612e-01,  2.64794422e-02, -3.36141729e-02],\n",
       "        [-1.90931817e-01,  1.79000594e-01,  4.58594797e-01, ...,\n",
       "          2.18938865e-01,  5.09767667e-01,  2.97050117e-02]]])</pre></div></div></li><li class='xr-section-item'><input id='section-372878c6-f7b5-4df9-b88c-74b175428c48' class='xr-section-summary-in' type='checkbox'  checked><label for='section-372878c6-f7b5-4df9-b88c-74b175428c48' class='xr-section-summary' >Coordinates: <span>(3)</span></label><div class='xr-section-inline-details'></div><div class='xr-section-details'><ul class='xr-var-list'><li class='xr-var-item'><div class='xr-var-name'><span class='xr-has-index'>dates</span></div><div class='xr-var-dims'>(dates)</div><div class='xr-var-dtype'>int64</div><div class='xr-var-preview xr-preview'>0 1 2 3 4 ... 9358 9359 9360 9361</div><input id='attrs-6da4527f-f55a-4c9e-89a1-e600a7b8b082' class='xr-var-attrs-in' type='checkbox' disabled><label for='attrs-6da4527f-f55a-4c9e-89a1-e600a7b8b082' title='Show/Hide attributes'><svg class='icon xr-icon-file-text2'><use xlink:href='#icon-file-text2'></use></svg></label><input id='data-05c07294-0a43-4d47-b971-ecea16d3fd61' class='xr-var-data-in' type='checkbox'><label for='data-05c07294-0a43-4d47-b971-ecea16d3fd61' title='Show/Hide data repr'><svg class='icon xr-icon-database'><use xlink:href='#icon-database'></use></svg></label><div class='xr-var-attrs'><dl class='xr-attrs'></dl></div><div class='xr-var-data'><pre>array([   0,    1,    2, ..., 9359, 9360, 9361])</pre></div></li><li class='xr-var-item'><div class='xr-var-name'><span class='xr-has-index'>lat</span></div><div class='xr-var-dims'>(lat)</div><div class='xr-var-dtype'>int64</div><div class='xr-var-preview xr-preview'>90 88 86 84 82 ... 68 66 64 62 60</div><input id='attrs-5725e669-fa16-4a61-8efc-630e9126a474' class='xr-var-attrs-in' type='checkbox' disabled><label for='attrs-5725e669-fa16-4a61-8efc-630e9126a474' title='Show/Hide attributes'><svg class='icon xr-icon-file-text2'><use xlink:href='#icon-file-text2'></use></svg></label><input id='data-b7cec8f0-8e43-47ca-ab6e-de0320480738' class='xr-var-data-in' type='checkbox'><label for='data-b7cec8f0-8e43-47ca-ab6e-de0320480738' title='Show/Hide data repr'><svg class='icon xr-icon-database'><use xlink:href='#icon-database'></use></svg></label><div class='xr-var-attrs'><dl class='xr-attrs'></dl></div><div class='xr-var-data'><pre>array([90, 88, 86, 84, 82, 80, 78, 76, 74, 72, 70, 68, 66, 64, 62, 60])</pre></div></li><li class='xr-var-item'><div class='xr-var-name'><span class='xr-has-index'>lon</span></div><div class='xr-var-dims'>(lon)</div><div class='xr-var-dtype'>int64</div><div class='xr-var-preview xr-preview'>0 2 4 6 8 ... 350 352 354 356 358</div><input id='attrs-625b165d-3545-4760-99dc-18d7365b41c5' class='xr-var-attrs-in' type='checkbox' disabled><label for='attrs-625b165d-3545-4760-99dc-18d7365b41c5' title='Show/Hide attributes'><svg class='icon xr-icon-file-text2'><use xlink:href='#icon-file-text2'></use></svg></label><input id='data-9f9e9219-38bf-4588-8a0b-44a82b226e84' class='xr-var-data-in' type='checkbox'><label for='data-9f9e9219-38bf-4588-8a0b-44a82b226e84' title='Show/Hide data repr'><svg class='icon xr-icon-database'><use xlink:href='#icon-database'></use></svg></label><div class='xr-var-attrs'><dl class='xr-attrs'></dl></div><div class='xr-var-data'><pre>array([  0,   2,   4,   6,   8,  10,  12,  14,  16,  18,  20,  22,  24,  26,\n",
       "        28,  30,  32,  34,  36,  38,  40,  42,  44,  46,  48,  50,  52,  54,\n",
       "        56,  58,  60,  62,  64,  66,  68,  70,  72,  74,  76,  78,  80,  82,\n",
       "        84,  86,  88,  90,  92,  94,  96,  98, 100, 102, 104, 106, 108, 110,\n",
       "       112, 114, 116, 118, 120, 122, 124, 126, 128, 130, 132, 134, 136, 138,\n",
       "       140, 142, 144, 146, 148, 150, 152, 154, 156, 158, 160, 162, 164, 166,\n",
       "       168, 170, 172, 174, 176, 178, 180, 182, 184, 186, 188, 190, 192, 194,\n",
       "       196, 198, 200, 202, 204, 206, 208, 210, 212, 214, 216, 218, 220, 222,\n",
       "       224, 226, 228, 230, 232, 234, 236, 238, 240, 242, 244, 246, 248, 250,\n",
       "       252, 254, 256, 258, 260, 262, 264, 266, 268, 270, 272, 274, 276, 278,\n",
       "       280, 282, 284, 286, 288, 290, 292, 294, 296, 298, 300, 302, 304, 306,\n",
       "       308, 310, 312, 314, 316, 318, 320, 322, 324, 326, 328, 330, 332, 334,\n",
       "       336, 338, 340, 342, 344, 346, 348, 350, 352, 354, 356, 358])</pre></div></li></ul></div></li><li class='xr-section-item'><input id='section-020a177f-019d-45f1-b652-3bd039651ab7' class='xr-section-summary-in' type='checkbox'  ><label for='section-020a177f-019d-45f1-b652-3bd039651ab7' class='xr-section-summary' >Indexes: <span>(3)</span></label><div class='xr-section-inline-details'></div><div class='xr-section-details'><ul class='xr-var-list'><li class='xr-var-item'><div class='xr-index-name'><div>dates</div></div><div class='xr-index-preview'>PandasIndex</div><div></div><input id='index-e1b37692-ebd9-4db2-b141-2eda3a3996f9' class='xr-index-data-in' type='checkbox'/><label for='index-e1b37692-ebd9-4db2-b141-2eda3a3996f9' title='Show/Hide index repr'><svg class='icon xr-icon-database'><use xlink:href='#icon-database'></use></svg></label><div class='xr-index-data'><pre>PandasIndex(Index([   0,    1,    2,    3,    4,    5,    6,    7,    8,    9,\n",
       "       ...\n",
       "       9352, 9353, 9354, 9355, 9356, 9357, 9358, 9359, 9360, 9361],\n",
       "      dtype=&#x27;int64&#x27;, name=&#x27;dates&#x27;, length=9362))</pre></div></li><li class='xr-var-item'><div class='xr-index-name'><div>lat</div></div><div class='xr-index-preview'>PandasIndex</div><div></div><input id='index-0b08a549-827e-41ee-84b2-1c75ec2e3248' class='xr-index-data-in' type='checkbox'/><label for='index-0b08a549-827e-41ee-84b2-1c75ec2e3248' title='Show/Hide index repr'><svg class='icon xr-icon-database'><use xlink:href='#icon-database'></use></svg></label><div class='xr-index-data'><pre>PandasIndex(Index([90, 88, 86, 84, 82, 80, 78, 76, 74, 72, 70, 68, 66, 64, 62, 60], dtype=&#x27;int64&#x27;, name=&#x27;lat&#x27;))</pre></div></li><li class='xr-var-item'><div class='xr-index-name'><div>lon</div></div><div class='xr-index-preview'>PandasIndex</div><div></div><input id='index-5cfa6cc8-1725-4649-bf6c-4c0ba4ccbeb5' class='xr-index-data-in' type='checkbox'/><label for='index-5cfa6cc8-1725-4649-bf6c-4c0ba4ccbeb5' title='Show/Hide index repr'><svg class='icon xr-icon-database'><use xlink:href='#icon-database'></use></svg></label><div class='xr-index-data'><pre>PandasIndex(Index([  0,   2,   4,   6,   8,  10,  12,  14,  16,  18,\n",
       "       ...\n",
       "       340, 342, 344, 346, 348, 350, 352, 354, 356, 358],\n",
       "      dtype=&#x27;int64&#x27;, name=&#x27;lon&#x27;, length=180))</pre></div></li></ul></div></li><li class='xr-section-item'><input id='section-d77bb918-4bce-47cd-a44f-73a5431af224' class='xr-section-summary-in' type='checkbox' disabled ><label for='section-d77bb918-4bce-47cd-a44f-73a5431af224' class='xr-section-summary'  title='Expand/collapse section'>Attributes: <span>(0)</span></label><div class='xr-section-inline-details'></div><div class='xr-section-details'><dl class='xr-attrs'></dl></div></li></ul></div></div>"
      ],
      "text/plain": [
       "<xarray.DataArray (dates: 9362, lat: 16, lon: 180)>\n",
       "array([[[ 3.64247176e-09,  3.64247176e-09,  3.64247176e-09, ...,\n",
       "          3.64247176e-09,  3.64247176e-09,  3.64247176e-09],\n",
       "        [ 2.12147938e-01,  2.17419084e-01,  2.24224182e-01, ...,\n",
       "          1.93594606e-01,  2.00312116e-01,  2.06913596e-01],\n",
       "        [ 1.05887265e-01,  8.96199192e-02,  7.05591595e-02, ...,\n",
       "          1.56396945e-01,  1.45620468e-01,  1.26725775e-01],\n",
       "        ...,\n",
       "        [ 7.54293496e-01,  5.57327989e-01,  4.93213810e-01, ...,\n",
       "          9.71047776e-01,  8.39223431e-01,  7.34936303e-01],\n",
       "        [ 9.38652368e-01,  8.54210126e-01,  6.84922001e-01, ...,\n",
       "          9.48936419e-01,  1.08572627e+00,  1.11633472e+00],\n",
       "        [ 8.89917761e-01,  7.84234480e-01,  6.35202154e-01, ...,\n",
       "          1.26484081e+00,  1.30367729e+00,  9.79364016e-01]],\n",
       "\n",
       "       [[ 7.42507336e-09,  7.42507336e-09,  7.42507336e-09, ...,\n",
       "          7.42507336e-09,  7.42507336e-09,  7.42507336e-09],\n",
       "        [ 2.10719365e-01,  2.07095571e-01,  2.08441916e-01, ...,\n",
       "          2.14196778e-01,  2.14520369e-01,  2.14097239e-01],\n",
       "        [ 8.61880626e-02,  9.25197433e-02,  1.02238153e-01, ...,\n",
       "          7.17293825e-02,  7.44200814e-02,  8.01844622e-02],\n",
       "...\n",
       "        [-1.03661135e-01, -1.56211474e-01, -1.73772156e-01, ...,\n",
       "         -2.55323773e-01, -1.59774424e-01, -1.67850270e-01],\n",
       "        [-1.82065022e-01, -2.09637563e-01, -5.29431265e-01, ...,\n",
       "         -6.96220394e-02, -4.49561216e-02,  3.78899394e-02],\n",
       "        [ 2.22669505e-01, -9.06081031e-03, -1.63200483e-01, ...,\n",
       "          3.55210631e-01,  1.58222588e-01,  1.89272790e-01]],\n",
       "\n",
       "       [[ 3.16983926e-09,  3.16983926e-09,  3.16983926e-09, ...,\n",
       "          3.16983926e-09,  3.16983926e-09,  3.16983926e-09],\n",
       "        [ 6.03217050e-02,  5.83922268e-02,  5.77624916e-02, ...,\n",
       "          6.59412973e-02,  6.43107937e-02,  6.30275406e-02],\n",
       "        [-9.88736686e-02, -1.04764078e-01, -1.09771442e-01, ...,\n",
       "         -8.30077198e-02, -8.57735954e-02, -9.34385501e-02],\n",
       "        ...,\n",
       "        [ 2.58740686e-02,  1.68485533e-01,  3.56569281e-01, ...,\n",
       "         -4.45585698e-01, -2.04821166e-01, -1.62873312e-01],\n",
       "        [ 1.40439312e-02,  3.15344317e-01,  5.48803737e-01, ...,\n",
       "          4.11568612e-01,  2.64794422e-02, -3.36141729e-02],\n",
       "        [-1.90931817e-01,  1.79000594e-01,  4.58594797e-01, ...,\n",
       "          2.18938865e-01,  5.09767667e-01,  2.97050117e-02]]])\n",
       "Coordinates:\n",
       "  * dates    (dates) int64 0 1 2 3 4 5 6 ... 9355 9356 9357 9358 9359 9360 9361\n",
       "  * lat      (lat) int64 90 88 86 84 82 80 78 76 74 72 70 68 66 64 62 60\n",
       "  * lon      (lon) int64 0 2 4 6 8 10 12 14 ... 344 346 348 350 352 354 356 358"
      ]
     },
     "execution_count": 11,
     "metadata": {},
     "output_type": "execute_result"
    }
   ],
   "source": [
    "flat_anom"
   ]
  },
  {
   "cell_type": "markdown",
   "id": "f281090b-8f7d-4a1a-aef6-16acfe548b2d",
   "metadata": {},
   "source": [
    "##### Now ... attempt at EOF analysis/PC decomp based on Zheng's example code. "
   ]
  },
  {
   "cell_type": "raw",
   "id": "ff436bae-c4e0-4d3b-9528-4c820a4a02ac",
   "metadata": {
    "jupyter": {
     "source_hidden": true
    }
   },
   "source": [
    "# EOF\n",
    "lev2 = lev[7:]\n",
    "print(lev2)\n",
    "f2_winter_anom_hl = np.squeeze(f2_winter_anom[:,7:,np.where(lat >= 45)])\n",
    "print(np.shape(f2_winter_anom_hl))\n",
    "solver = Eof(f2_winter_anom_hl)"
   ]
  },
  {
   "cell_type": "code",
   "execution_count": 13,
   "id": "81b548fb-26f3-49ef-bb88-6da883bd4a87",
   "metadata": {},
   "outputs": [],
   "source": [
    "#EOF, the code above had selection of certain pressure levels and latitude bands. I do not need to do that here. \n",
    "solver = Eof(flat_anom.values)"
   ]
  },
  {
   "cell_type": "code",
   "execution_count": 72,
   "id": "418dbaa6-fa4d-4357-9e60-6e87d6ae8755",
   "metadata": {},
   "outputs": [
    {
     "name": "stdout",
     "output_type": "stream",
     "text": [
      "<class 'numpy.ndarray'> (20, 16, 180)\n"
     ]
    }
   ],
   "source": [
    "##select the desired number of eofs\n",
    "nmode = 20\n",
    "EOF = solver.eofs(neofs=nmode,eofscaling=0) \n",
    "print(type(EOF),np.shape(EOF))"
   ]
  },
  {
   "cell_type": "code",
   "execution_count": 73,
   "id": "3dddcb07-73d7-445d-89ed-14c6402db75c",
   "metadata": {},
   "outputs": [],
   "source": [
    "EOF_nw = EOF #non-weighted, I believe for plotting ... not really relevant here because I did not do that anyways"
   ]
  },
  {
   "cell_type": "code",
   "execution_count": 74,
   "id": "c37de761-2369-45ee-90f9-d9d069b4f52e",
   "metadata": {},
   "outputs": [
    {
     "name": "stdout",
     "output_type": "stream",
     "text": [
      "(20, 2880)\n"
     ]
    }
   ],
   "source": [
    "##make the EOF 2-dimensional\n",
    "EOF2d = EOF.reshape(EOF.shape[0],EOF.shape[-2]*EOF.shape[-1])\n",
    "print(np.shape(EOF2d))"
   ]
  },
  {
   "cell_type": "code",
   "execution_count": 75,
   "id": "1ecc4f4e-7348-4d68-aed1-48b2a5320230",
   "metadata": {},
   "outputs": [
    {
     "name": "stdout",
     "output_type": "stream",
     "text": [
      "(20, 20)\n"
     ]
    }
   ],
   "source": [
    "##I am unclear what is going on here. \n",
    "pv = np.dot(EOF2d,np.transpose(EOF2d))\n",
    "EOF_nw2d = EOF2d\n",
    "print(pv.shape)"
   ]
  },
  {
   "cell_type": "code",
   "execution_count": 76,
   "id": "9e2e1b4b-5161-4649-aac1-8aad5ddb3aa2",
   "metadata": {},
   "outputs": [
    {
     "name": "stdout",
     "output_type": "stream",
     "text": [
      "54.860551608701044\n"
     ]
    }
   ],
   "source": [
    "eigenv = solver.eigenvalues(neigs=nmode)\n",
    "VarEx = solver.varianceFraction(neigs=nmode)*100\n",
    "print(sum(VarEx))"
   ]
  },
  {
   "cell_type": "code",
   "execution_count": 77,
   "id": "e0979a24-e3b9-4829-b17d-2f561198e93c",
   "metadata": {},
   "outputs": [
    {
     "name": "stdout",
     "output_type": "stream",
     "text": [
      "<class 'numpy.ndarray'> (9362, 20)\n"
     ]
    },
    {
     "data": {
      "text/plain": [
       "(9362, 20)"
      ]
     },
     "execution_count": 77,
     "metadata": {},
     "output_type": "execute_result"
    }
   ],
   "source": [
    "PC = solver.pcs(npcs=nmode,pcscaling=1)\n",
    "print(type(PC),np.shape(PC))\n",
    "del pv\n",
    "pv = np.dot(np.transpose(PC),PC)\n",
    "PC.shape"
   ]
  },
  {
   "cell_type": "code",
   "execution_count": 78,
   "id": "1de2c8d2-aad5-477f-a952-8e04691251bf",
   "metadata": {
    "jupyter": {
     "source_hidden": true
    }
   },
   "outputs": [
    {
     "data": {
      "text/plain": [
       "180"
      ]
     },
     "execution_count": 78,
     "metadata": {},
     "output_type": "execute_result"
    }
   ],
   "source": [
    "##set lat and lon arrays\n",
    "lat = np.arange(90,58,-2)\n",
    "lon = np.arange(0,360,2)\n",
    "len(lon)"
   ]
  },
  {
   "cell_type": "code",
   "execution_count": 79,
   "id": "95c1e8e1-f75a-43e9-ab0c-e5bdf3ef17c4",
   "metadata": {},
   "outputs": [],
   "source": [
    "## Zheng had sent me an alternative plot sample that used log pressure coordinates. "
   ]
  },
  {
   "cell_type": "code",
   "execution_count": 80,
   "id": "c15ea604-7444-4ed2-8747-3c926118685d",
   "metadata": {},
   "outputs": [
    {
     "data": {
      "image/png": "[encoded data removed]",
      "text/plain": [
       "<Figure size 1000x1000 with 16 Axes>"
      ]
     },
     "metadata": {},
     "output_type": "display_data"
    }
   ],
   "source": [
    "PC_plot = [\"PC 1\", \"PC 2\", \"PC 3\", \"PC 4\", \"PC 5\", \"PC 6\", \"PC 7\", \"PC 8\"]\n",
    "fs = 11 \n",
    "\n",
    "fig, axes = plt.subplots(4, 2, figsize=(10, 10))\n",
    "plt.suptitle(\"8 PCs for Polar Cap PV on a 350 Isentropic Surface for NH Winter (1959/1960-2021/2022)\", fontsize = 14)\n",
    "\n",
    "axes = axes.flatten()\n",
    "for i in range(0,8):\n",
    "    color = 'RdBu_r'\n",
    "    #colorbar options:\n",
    "    colorbarMin = -0.06\n",
    "    colorbarMax = 0.06\n",
    "    colorspace = 0.01\n",
    "    \n",
    "    clevel = np.arange(colorbarMin,colorbarMax+colorspace,colorspace)\n",
    "    axes[i].set_title(\"PC \"+str(i+1)+\"; Var = \"+str(round(VarEx[i],2))+ \"%\", fontsize= 12)\n",
    "    h = axes[i].contourf(lon, lat, EOF_nw[i,:,:], clevel, cmap=color, extend='both', label = str(VarEx[i]))\n",
    "    cbar = plt.colorbar(h, orientation='vertical', shrink=1,fraction=0.1,pad=0.1,aspect=40)\n",
    "    cbar.ax.tick_params(labelsize= fs)\n",
    "    #colorLabel='Z (m)'\n",
    "    #cbar.set_label(label=colorLabel,fontsize=10)\n",
    "\n",
    "plt.tight_layout()\n",
    "plt.subplots_adjust(top=0.93)  \n",
    "#plt.savefig(\"First_EOF_8PC_PV.png\")"
   ]
  },
  {
   "cell_type": "markdown",
   "id": "60990e90-afc6-494e-b0d4-b9751474ef2f",
   "metadata": {},
   "source": [
    "### Now I am going to import temperature data for attempts at running a simple ANN. \n",
    "\n",
    "Below is 12 PCs for PV with 10-day lagged temperatures. 1959/1960 to 2020/2021. "
   ]
  },
  {
   "cell_type": "code",
   "execution_count": 81,
   "id": "ee2b5841-bea9-4a66-b32a-6f1258a6f787",
   "metadata": {},
   "outputs": [],
   "source": [
    "#load output data\n",
    "infile = open(\"/network/rit/lab/langlab_rit/efernandez/Research/Dissertation/AI_Paper/ANN_2025/EOFs/classed_europetemps_median.p\", 'rb') \n",
    "output = pickle.load(infile) ##pv on an isentropic surface, 350 \n",
    "infile.close()"
   ]
  },
  {
   "cell_type": "code",
   "execution_count": 82,
   "id": "4cad52be-3840-4134-8db8-e93e70082ee0",
   "metadata": {},
   "outputs": [
    {
     "data": {
      "text/plain": [
       "(9362, 20)"
      ]
     },
     "execution_count": 82,
     "metadata": {},
     "output_type": "execute_result"
    }
   ],
   "source": [
    "PC.shape ##this is the input."
   ]
  },
  {
   "cell_type": "code",
   "execution_count": 115,
   "id": "66423761-1eab-417f-adde-6b3ad870fc90",
   "metadata": {},
   "outputs": [
    {
     "data": {
      "text/plain": [
       "(9362,)"
      ]
     },
     "execution_count": 115,
     "metadata": {},
     "output_type": "execute_result"
    }
   ],
   "source": [
    "temp = output.reshape(62,182)\n",
    "#temp = temp[:,26:177]\n",
    "temp = temp[:,31:]\n",
    "temp = temp.reshape(9362,)\n",
    "temp.shape"
   ]
  },
  {
   "cell_type": "code",
   "execution_count": 100,
   "id": "ea85214c-4369-47c3-b9aa-779cf05f331b",
   "metadata": {},
   "outputs": [],
   "source": [
    "##Set X_all and Y_all datasets\n",
    "X_all = np.copy(PC)\n",
    "Y_all = np.copy(temp)\n",
    "\n",
    "##training data partition out\n",
    "X_tri = X_all[:57*151,:]\n",
    "Y_tri = Y_all[:57*151]\n",
    "\n",
    "#testing data partition out\n",
    "X_tes = X_all[57*151:,:]\n",
    "Y_tes = Y_all[57*151:]\n",
    "\n",
    "#Convert the Y array into a categorical array. This means we will create one-hot vector labels for all of the inputs.\n",
    "# The one-hot vectors have an index for each possible output category (two in our case)\n",
    "# A \"1\" is put in the index corresponding to the category to which the sample belongs\n",
    "Y_all = keras.utils.to_categorical(Y_all)\n",
    "Y_tri = keras.utils.to_categorical(Y_tri)\n",
    "Y_tes= keras.utils.to_categorical(Y_tes)"
   ]
  },
  {
   "cell_type": "code",
   "execution_count": 101,
   "id": "ebebc3f8-69b2-4573-974f-9a85e27b599b",
   "metadata": {},
   "outputs": [],
   "source": [
    "##checking my data for NaN of Infs because I need to make sure this doesn't cause\n",
    "#the model to throw back no loss\n",
    "if np.any(np.isnan(X_all)) or np.any(np.isinf(X_all)):\n",
    "    print(\"NaN or Inf values found in X_all!\")\n",
    "\n",
    "if np.any(np.isnan(Y_all)) or np.any(np.isinf(Y_all)):\n",
    "    print(\"NaN or Inf values found in Y_all!\")"
   ]
  },
  {
   "cell_type": "markdown",
   "id": "ce20fcf8-6fc1-44f5-b7bf-6b92c17058ee",
   "metadata": {},
   "source": [
    "### Begin setting up parts of my model architecture.\n",
    "\n",
    "The first few cells here are for partitioning data and setting up lists to save skill scores. "
   ]
  },
  {
   "cell_type": "code",
   "execution_count": 102,
   "id": "ac040fde-9836-4828-8cad-a22e458643a1",
   "metadata": {},
   "outputs": [
    {
     "data": {
      "text/plain": [
       "755"
      ]
     },
     "execution_count": 102,
     "metadata": {},
     "output_type": "execute_result"
    }
   ],
   "source": [
    "##set fraction of data as 5 years\n",
    "frac_ind = 151*5\n",
    "frac_ind"
   ]
  },
  {
   "cell_type": "code",
   "execution_count": 103,
   "id": "ac44a7ad-0e58-4d38-80d9-2dcd8e49e9d4",
   "metadata": {},
   "outputs": [],
   "source": [
    "##fraction of training data\n",
    "X_validation = X_tri[0:frac_ind]\n",
    "Y_validation = Y_tri[0:frac_ind]\n",
    "        \n",
    "X_train = X_tri[frac_ind:len(X_tri)]\n",
    "Y_train = Y_tri[frac_ind:len(Y_tri)]\n",
    "\n",
    "X_test = X_tes\n",
    "Y_test = Y_tes"
   ]
  },
  {
   "cell_type": "code",
   "execution_count": 104,
   "id": "7ac646d2-1616-4bd5-a417-b56bb050abbc",
   "metadata": {},
   "outputs": [
    {
     "data": {
      "text/plain": [
       "(7852, 2)"
      ]
     },
     "execution_count": 104,
     "metadata": {},
     "output_type": "execute_result"
    }
   ],
   "source": [
    "Y_train.shape"
   ]
  },
  {
   "cell_type": "code",
   "execution_count": 105,
   "id": "02633abb-5c25-4c0a-a8c1-8ee47824c4f1",
   "metadata": {},
   "outputs": [
    {
     "data": {
      "text/plain": [
       "20"
      ]
     },
     "execution_count": 105,
     "metadata": {},
     "output_type": "execute_result"
    }
   ],
   "source": [
    "##number of input nodes, PCs\n",
    "numb_int = X_all.shape[-1]\n",
    "numb_int"
   ]
  },
  {
   "cell_type": "code",
   "execution_count": 106,
   "id": "7a9ff7e0-d724-428b-8a27-5d10069e11da",
   "metadata": {},
   "outputs": [],
   "source": [
    "###### batch, epochs, etc\n",
    "batch_size = 256 #The number of samples the network sees before it backpropagates (batch size)\n",
    "epochs = 50 #The number of times the network will loop through the entire dataset (epochs)\n",
    "shuffle = True #Set whether to shuffle the training data so the model doesn't see it sequentially \n",
    "verbose = 2 #Set whether the model will output information when trained (0 = no output; 2 = output accuracy every epoch)"
   ]
  },
  {
   "cell_type": "code",
   "execution_count": 107,
   "id": "4bf6d215-1f03-4b98-88e7-b97a34734395",
   "metadata": {
    "jupyter": {
     "source_hidden": true
    }
   },
   "outputs": [],
   "source": [
    "##class weight creator for the instance where now I have a four dimensional output array \n",
    "def class_weight_creator(Y):\n",
    "    class_dict = {}\n",
    "    Y_reshaped = Y.reshape(-1, Y.shape[-1])\n",
    "    weights = np.max(np.sum(Y_reshaped, axis=0)) / np.sum(Y_reshaped, axis=0)\n",
    "    for i in range(Y.shape[-1] ):\n",
    "        class_dict[i] = weights[i]\n",
    "        \n",
    "    return class_dict"
   ]
  },
  {
   "cell_type": "code",
   "execution_count": 108,
   "id": "bea6b0a9-f83d-4074-8a24-a1a19f71c964",
   "metadata": {},
   "outputs": [
    {
     "data": {
      "text/plain": [
       "{0: 1.0, 1: 1.4204686}"
      ]
     },
     "execution_count": 108,
     "metadata": {},
     "output_type": "execute_result"
    }
   ],
   "source": [
    "##do the class_dict weights\n",
    "class_weight = class_weight_creator(Y_train)\n",
    "class_weight"
   ]
  },
  {
   "cell_type": "code",
   "execution_count": 109,
   "id": "cb709055-02dc-4795-8efc-629e193e6e1b",
   "metadata": {},
   "outputs": [],
   "source": [
    "##DEFINITION STATEMENT FOR MODEL ITSELF\n",
    "def basic_ANN(number_inputs,num_cats,n1,n2,rl1,rl2,learn,epochs):\n",
    "    ##input tensor has the shape of the number of nodes, 777\n",
    "    input_tensor = Input(shape=(int(number_inputs),))\n",
    "    #first dense layer\n",
    "    layer1 = layers.Dense(n1, activation='relu', use_bias=True,\n",
    "                          kernel_initializer='he_normal',bias_initializer='he_normal',\n",
    "                          kernel_regularizer=keras.regularizers.l2(l2= rl1))(input_tensor)\n",
    "    #second dense layer\n",
    "    layer1 = layers.Dense(n2, activation='relu',use_bias=True,\n",
    "                          kernel_initializer='he_normal',bias_initializer='he_normal',\n",
    "                          kernel_regularizer=keras.regularizers.l2(l2=rl2))(layer1)\n",
    "    #decay_rate = learn / epochs ###option for decaying learning rate\n",
    "    #output layer with 2 categories\n",
    "    output_tensor = layers.Dense(num_cats,activation='softmax')(layer1)\n",
    "    model = Model(input_tensor, output_tensor)\n",
    "    model.compile(optimizer=keras.optimizers.legacy.Adam(learning_rate=learn),\n",
    "              loss = 'categorical_crossentropy', #Our loss function is based on categorical error\n",
    "              metrics=[keras.metrics.categorical_accuracy], #We will print out the categorical accuracy as the network is trained\n",
    "              )\n",
    "    return model"
   ]
  },
  {
   "cell_type": "code",
   "execution_count": 110,
   "id": "863682df-8f1d-4598-908e-e29532e6f1f8",
   "metadata": {},
   "outputs": [],
   "source": [
    "##Early Stopping Condition, if desired\n",
    "early_stopping = EarlyStopping(monitor='val_loss',patience=4,restore_best_weights=True,verbose=1)"
   ]
  },
  {
   "cell_type": "code",
   "execution_count": 111,
   "id": "04fef822-35a4-432d-a604-752ac306df8b",
   "metadata": {},
   "outputs": [],
   "source": [
    "model = basic_ANN(numb_int, 2, 256, 64, 0.005, 0.005, 0.01, epochs)"
   ]
  },
  {
   "cell_type": "code",
   "execution_count": 112,
   "id": "403683c3-f09b-4155-9780-e93e6838851b",
   "metadata": {
    "scrolled": true
   },
   "outputs": [
    {
     "name": "stdout",
     "output_type": "stream",
     "text": [
      "Train on 7852 samples, validate on 755 samples\n",
      "Epoch 1/50\n",
      "5632/7852 [====================>.........] - ETA: 0s - loss: 3.4531 - categorical_accuracy: 0.5005"
     ]
    },
    {
     "name": "stderr",
     "output_type": "stream",
     "text": [
      "2025-04-02 15:50:54.626942: W tensorflow/c/c_api.cc:305] Operation '{name:'dense_10/kernel/Assign' id:1667 op device:{requested: '', assigned: ''} def:{{{node dense_10/kernel/Assign}} = AssignVariableOp[_has_manual_control_dependencies=true, dtype=DT_FLOAT, validate_shape=false](dense_10/kernel, dense_10/kernel/Initializer/stateless_truncated_normal)}}' was changed by setting attribute after it was run by a session. This mutation will have no effect, and will trigger an error in the future. Either don't modify nodes after running them or create a new session.\n"
     ]
    },
    {
     "name": "stdout",
     "output_type": "stream",
     "text": [
      "7852/7852 [==============================] - 0s 25us/sample - loss: 3.0714 - categorical_accuracy: 0.5039 - val_loss: 1.7127 - val_categorical_accuracy: 0.6318\n",
      "Epoch 2/50\n",
      "7852/7852 [==============================] - 0s 10us/sample - loss: 1.4120 - categorical_accuracy: 0.5676 - val_loss: 0.9774 - val_categorical_accuracy: 0.5881\n",
      "Epoch 3/50\n",
      "7852/7852 [==============================] - 0s 10us/sample - loss: 0.9927 - categorical_accuracy: 0.5926 - val_loss: 0.8015 - val_categorical_accuracy: 0.5589\n",
      "Epoch 4/50\n",
      "7852/7852 [==============================] - 0s 10us/sample - loss: 0.8812 - categorical_accuracy: 0.5785 - val_loss: 0.7101 - val_categorical_accuracy: 0.6411\n",
      "Epoch 5/50\n",
      "7852/7852 [==============================] - 0s 10us/sample - loss: 0.8431 - categorical_accuracy: 0.5846 - val_loss: 0.6915 - val_categorical_accuracy: 0.6318\n",
      "Epoch 6/50\n",
      "7852/7852 [==============================] - 0s 10us/sample - loss: 0.8206 - categorical_accuracy: 0.6000 - val_loss: 0.6747 - val_categorical_accuracy: 0.6172\n",
      "Epoch 7/50\n",
      "7852/7852 [==============================] - 0s 11us/sample - loss: 0.8081 - categorical_accuracy: 0.5922 - val_loss: 0.6845 - val_categorical_accuracy: 0.6026\n",
      "Epoch 8/50\n",
      "7852/7852 [==============================] - 0s 10us/sample - loss: 0.8053 - categorical_accuracy: 0.5968 - val_loss: 0.6684 - val_categorical_accuracy: 0.6252\n",
      "Epoch 9/50\n",
      "7852/7852 [==============================] - 0s 10us/sample - loss: 0.8043 - categorical_accuracy: 0.5885 - val_loss: 0.6514 - val_categorical_accuracy: 0.6291\n",
      "Epoch 10/50\n",
      "7852/7852 [==============================] - 0s 11us/sample - loss: 0.7999 - categorical_accuracy: 0.6038 - val_loss: 0.6573 - val_categorical_accuracy: 0.6040\n",
      "Epoch 11/50\n",
      "7852/7852 [==============================] - 0s 10us/sample - loss: 0.7944 - categorical_accuracy: 0.6026 - val_loss: 0.6602 - val_categorical_accuracy: 0.6265\n",
      "Epoch 12/50\n",
      "7852/7852 [==============================] - 0s 10us/sample - loss: 0.7947 - categorical_accuracy: 0.6055 - val_loss: 0.6608 - val_categorical_accuracy: 0.6159\n",
      "Epoch 13/50\n",
      "7852/7852 [==============================] - 0s 10us/sample - loss: 0.7945 - categorical_accuracy: 0.6053 - val_loss: 0.6628 - val_categorical_accuracy: 0.6106\n",
      "Epoch 14/50\n",
      "7852/7852 [==============================] - 0s 10us/sample - loss: 0.7925 - categorical_accuracy: 0.6077 - val_loss: 0.6567 - val_categorical_accuracy: 0.6093\n",
      "Epoch 15/50\n",
      "7852/7852 [==============================] - 0s 10us/sample - loss: 0.7914 - categorical_accuracy: 0.6114 - val_loss: 0.6549 - val_categorical_accuracy: 0.6305\n",
      "Epoch 16/50\n",
      "7852/7852 [==============================] - 0s 10us/sample - loss: 0.7964 - categorical_accuracy: 0.6086 - val_loss: 0.6614 - val_categorical_accuracy: 0.6093\n",
      "Epoch 17/50\n",
      "7852/7852 [==============================] - 0s 10us/sample - loss: 0.7898 - categorical_accuracy: 0.6077 - val_loss: 0.6502 - val_categorical_accuracy: 0.6212\n",
      "Epoch 18/50\n",
      "7852/7852 [==============================] - 0s 10us/sample - loss: 0.7878 - categorical_accuracy: 0.6144 - val_loss: 0.6515 - val_categorical_accuracy: 0.6318\n",
      "Epoch 19/50\n",
      "7852/7852 [==============================] - 0s 10us/sample - loss: 0.7868 - categorical_accuracy: 0.6164 - val_loss: 0.6559 - val_categorical_accuracy: 0.6238\n",
      "Epoch 20/50\n",
      "7852/7852 [==============================] - 0s 10us/sample - loss: 0.7868 - categorical_accuracy: 0.6159 - val_loss: 0.6618 - val_categorical_accuracy: 0.6212\n",
      "Epoch 21/50\n",
      "7852/7852 [==============================] - 0s 11us/sample - loss: 0.7872 - categorical_accuracy: 0.6135 - val_loss: 0.6629 - val_categorical_accuracy: 0.6225\n",
      "Epoch 22/50\n",
      "7852/7852 [==============================] - 0s 10us/sample - loss: 0.7857 - categorical_accuracy: 0.6212 - val_loss: 0.6458 - val_categorical_accuracy: 0.6344\n",
      "Epoch 23/50\n",
      "7852/7852 [==============================] - 0s 10us/sample - loss: 0.7813 - categorical_accuracy: 0.6298 - val_loss: 0.6470 - val_categorical_accuracy: 0.6238\n",
      "Epoch 24/50\n",
      "7852/7852 [==============================] - 0s 10us/sample - loss: 0.7853 - categorical_accuracy: 0.6160 - val_loss: 0.6594 - val_categorical_accuracy: 0.6199\n",
      "Epoch 25/50\n",
      "7852/7852 [==============================] - 0s 10us/sample - loss: 0.7865 - categorical_accuracy: 0.6155 - val_loss: 0.6834 - val_categorical_accuracy: 0.5788\n",
      "Epoch 26/50\n",
      "7852/7852 [==============================] - 0s 10us/sample - loss: 0.7838 - categorical_accuracy: 0.6150 - val_loss: 0.6518 - val_categorical_accuracy: 0.6305\n",
      "Epoch 27/50\n",
      "7852/7852 [==============================] - 0s 10us/sample - loss: 0.7811 - categorical_accuracy: 0.6178 - val_loss: 0.6553 - val_categorical_accuracy: 0.6199\n",
      "Epoch 28/50\n",
      "7852/7852 [==============================] - 0s 10us/sample - loss: 0.7818 - categorical_accuracy: 0.6202 - val_loss: 0.6587 - val_categorical_accuracy: 0.6278\n",
      "Epoch 29/50\n",
      "7852/7852 [==============================] - 0s 10us/sample - loss: 0.7801 - categorical_accuracy: 0.6246 - val_loss: 0.6451 - val_categorical_accuracy: 0.6503\n",
      "Epoch 30/50\n",
      "7852/7852 [==============================] - 0s 10us/sample - loss: 0.7806 - categorical_accuracy: 0.6225 - val_loss: 0.6533 - val_categorical_accuracy: 0.6225\n",
      "Epoch 31/50\n",
      "7852/7852 [==============================] - 0s 9us/sample - loss: 0.7807 - categorical_accuracy: 0.6249 - val_loss: 0.6481 - val_categorical_accuracy: 0.6384\n",
      "Epoch 32/50\n",
      "7852/7852 [==============================] - 0s 10us/sample - loss: 0.7799 - categorical_accuracy: 0.6252 - val_loss: 0.6456 - val_categorical_accuracy: 0.6358\n",
      "Epoch 33/50\n",
      "7852/7852 [==============================] - 0s 10us/sample - loss: 0.7808 - categorical_accuracy: 0.6164 - val_loss: 0.6601 - val_categorical_accuracy: 0.6106\n",
      "Epoch 34/50\n",
      "7852/7852 [==============================] - 0s 10us/sample - loss: 0.7765 - categorical_accuracy: 0.6330 - val_loss: 0.6536 - val_categorical_accuracy: 0.6397\n",
      "Epoch 35/50\n",
      "7852/7852 [==============================] - 0s 10us/sample - loss: 0.7837 - categorical_accuracy: 0.6198 - val_loss: 0.6565 - val_categorical_accuracy: 0.6318\n",
      "Epoch 36/50\n",
      "7852/7852 [==============================] - 0s 10us/sample - loss: 0.7793 - categorical_accuracy: 0.6214 - val_loss: 0.6506 - val_categorical_accuracy: 0.6291\n",
      "Epoch 37/50\n",
      "7852/7852 [==============================] - 0s 10us/sample - loss: 0.7835 - categorical_accuracy: 0.6216 - val_loss: 0.6409 - val_categorical_accuracy: 0.6450\n",
      "Epoch 38/50\n",
      "7852/7852 [==============================] - 0s 11us/sample - loss: 0.7788 - categorical_accuracy: 0.6299 - val_loss: 0.6569 - val_categorical_accuracy: 0.6358\n",
      "Epoch 39/50\n",
      "7852/7852 [==============================] - 0s 10us/sample - loss: 0.7783 - categorical_accuracy: 0.6271 - val_loss: 0.6415 - val_categorical_accuracy: 0.6477\n",
      "Epoch 40/50\n",
      "7852/7852 [==============================] - 0s 10us/sample - loss: 0.7817 - categorical_accuracy: 0.6237 - val_loss: 0.6433 - val_categorical_accuracy: 0.6397\n",
      "Epoch 41/50\n",
      "7852/7852 [==============================] - 0s 10us/sample - loss: 0.7779 - categorical_accuracy: 0.6254 - val_loss: 0.6600 - val_categorical_accuracy: 0.6212\n",
      "Epoch 42/50\n",
      "7852/7852 [==============================] - 0s 10us/sample - loss: 0.7778 - categorical_accuracy: 0.6244 - val_loss: 0.6450 - val_categorical_accuracy: 0.6384\n",
      "Epoch 43/50\n",
      "7852/7852 [==============================] - 0s 10us/sample - loss: 0.7763 - categorical_accuracy: 0.6307 - val_loss: 0.6553 - val_categorical_accuracy: 0.6371\n",
      "Epoch 44/50\n",
      "7852/7852 [==============================] - 0s 10us/sample - loss: 0.7745 - categorical_accuracy: 0.6309 - val_loss: 0.6618 - val_categorical_accuracy: 0.6225\n",
      "Epoch 45/50\n",
      "7852/7852 [==============================] - 0s 10us/sample - loss: 0.7762 - categorical_accuracy: 0.6262 - val_loss: 0.6685 - val_categorical_accuracy: 0.6119\n",
      "Epoch 46/50\n",
      "7852/7852 [==============================] - 0s 10us/sample - loss: 0.7774 - categorical_accuracy: 0.6267 - val_loss: 0.6586 - val_categorical_accuracy: 0.6265\n",
      "Epoch 47/50\n",
      "7852/7852 [==============================] - 0s 10us/sample - loss: 0.7750 - categorical_accuracy: 0.6295 - val_loss: 0.6514 - val_categorical_accuracy: 0.6053\n",
      "Epoch 48/50\n",
      "7852/7852 [==============================] - 0s 10us/sample - loss: 0.7764 - categorical_accuracy: 0.6210 - val_loss: 0.6455 - val_categorical_accuracy: 0.6543\n",
      "Epoch 49/50\n",
      "7852/7852 [==============================] - 0s 10us/sample - loss: 0.7741 - categorical_accuracy: 0.6351 - val_loss: 0.6712 - val_categorical_accuracy: 0.6013\n",
      "Epoch 50/50\n",
      "7852/7852 [==============================] - 0s 10us/sample - loss: 0.7766 - categorical_accuracy: 0.6327 - val_loss: 0.6861 - val_categorical_accuracy: 0.5868\n"
     ]
    },
    {
     "data": {
      "text/plain": [
       "<keras.src.callbacks.History at 0x7fb6f7f37c90>"
      ]
     },
     "execution_count": 112,
     "metadata": {},
     "output_type": "execute_result"
    }
   ],
   "source": [
    "model.fit(X_train, Y_train, validation_data=(X_validation, Y_validation),\n",
    "              batch_size=batch_size, epochs=epochs, shuffle=shuffle,\n",
    "              class_weight = class_weight)#,callbacks=[early_stopping])"
   ]
  },
  {
   "cell_type": "code",
   "execution_count": 113,
   "id": "8d4021df-2977-479b-a593-94d9e260c5ee",
   "metadata": {},
   "outputs": [
    {
     "name": "stderr",
     "output_type": "stream",
     "text": [
      "2025-04-02 15:50:58.785556: W tensorflow/c/c_api.cc:305] Operation '{name:'dense_11/Softmax' id:1710 op device:{requested: '', assigned: ''} def:{{{node dense_11/Softmax}} = Softmax[T=DT_FLOAT, _has_manual_control_dependencies=true](dense_11/BiasAdd)}}' was changed by setting attribute after it was run by a session. This mutation will have no effect, and will trigger an error in the future. Either don't modify nodes after running them or create a new session.\n"
     ]
    }
   ],
   "source": [
    "train_loss=model.history.history['loss']\n",
    "val_loss=model.history.history['val_loss']\n",
    "    \n",
    "cat_acc=model.history.history['categorical_accuracy']\n",
    "val_acc=model.history.history['val_categorical_accuracy']\n",
    "        \n",
    "pred = model.predict(X_all)\n",
    "pred_val = model.predict(X_validation)\n",
    "pred_train = model.predict(X_train)\n",
    "pred_test = model.predict(X_test)"
   ]
  },
  {
   "cell_type": "code",
   "execution_count": 114,
   "id": "57797a9e-6777-465d-a8cf-90f66980093d",
   "metadata": {},
   "outputs": [
    {
     "data": {
      "text/plain": [
       "<bound method Axes.legend of <Axes: title={'center': 'Accuracy'}, xlabel='Epoch', ylabel='Acc'>>"
      ]
     },
     "execution_count": 114,
     "metadata": {},
     "output_type": "execute_result"
    },
    {
     "data": {
      "image/png": "[encoded data removed]",
      "text/plain": [
       "<Figure size 1600x400 with 2 Axes>"
      ]
     },
     "metadata": {},
     "output_type": "display_data"
    }
   ],
   "source": [
    "# Look at the optimization history\n",
    "fig, (ax1,ax2) = plt.subplots(1,2, figsize=plt.figaspect(0.25))\n",
    "ax1.plot(train_loss, label='Training loss')\n",
    "ax1.plot(val_loss, label='Validation loss')\n",
    "ax1.set_yscale('log')\n",
    "ax1.set_title('loss')\n",
    "ax1.set_xlabel('Epoch')\n",
    "ax1.set_ylabel('loss')\n",
    "ax1.legend()\n",
    "\n",
    "ax2.plot(cat_acc, label='Training ACC')\n",
    "ax2.plot(val_acc, label='Validation ACC')\n",
    "ax2.set_title('Accuracy')\n",
    "ax2.set_xlabel('Epoch')\n",
    "ax2.set_ylabel('Acc')\n",
    "ax2.legend"
   ]
  },
  {
   "cell_type": "code",
   "execution_count": null,
   "id": "19ac77f0-223a-4dc9-8cb6-caef158d2936",
   "metadata": {},
   "outputs": [],
   "source": []
  }
 ],
 "metadata": {
  "kernelspec": {
   "display_name": "Python 3 AI Environment",
   "language": "python",
   "name": "ai"
  },
  "language_info": {
   "codemirror_mode": {
    "name": "ipython",
    "version": 3
   },
   "file_extension": ".py",
   "mimetype": "text/x-python",
   "name": "python",
   "nbconvert_exporter": "python",
   "pygments_lexer": "ipython3",
   "version": "3.11.7"
  }
 },
 "nbformat": 4,
 "nbformat_minor": 5
}
