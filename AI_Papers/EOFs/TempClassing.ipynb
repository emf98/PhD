{
 "cells": [
  {
   "cell_type": "markdown",
   "id": "a2fcc4b6-51d4-4276-84e7-43b9f9f46695",
   "metadata": {},
   "source": [
    "### Climatology of temperature classification. \n",
    "\n",
    "Updated April 1, 2025. \n",
    "\n",
    "This file allows you to designate your desired area from the 2 degree gridded dataset I have on hand. "
   ]
  },
  {
   "cell_type": "code",
   "execution_count": 1,
   "id": "181fb0ec-33df-4b92-9bd9-e1efcf527bfe",
   "metadata": {},
   "outputs": [],
   "source": [
    "import datetime as dt\n",
    "import numpy as np\n",
    "import xarray as xr\n",
    "import pickle"
   ]
  },
  {
   "cell_type": "code",
   "execution_count": 2,
   "id": "03120d35-0d52-4b79-bff0-097d9f74a5f1",
   "metadata": {},
   "outputs": [],
   "source": [
    "# temperature at 1000hPa over the full NH\n",
    "infile = open(\"FullNH_1959_temps_2deg.p\", 'rb') \n",
    "temp = pickle.load(infile)\n",
    "infile.close()"
   ]
  },
  {
   "cell_type": "code",
   "execution_count": 3,
   "id": "10d4247d-1e62-4abf-b56f-97b4db564c17",
   "metadata": {},
   "outputs": [
    {
     "name": "stdout",
     "output_type": "stream",
     "text": [
      "(62, 183, 46, 180)\n"
     ]
    }
   ],
   "source": [
    "print(temp.shape)"
   ]
  },
  {
   "cell_type": "code",
   "execution_count": 4,
   "id": "26f44b8f-46cd-4b32-b70c-4acd7c5d250a",
   "metadata": {},
   "outputs": [],
   "source": [
    "##remove leap day\n",
    "temp = np.delete(temp,[151],1)"
   ]
  },
  {
   "cell_type": "code",
   "execution_count": 5,
   "id": "58d4cf4c-d70a-4820-ad55-5ed833a6d5ad",
   "metadata": {},
   "outputs": [
    {
     "name": "stdout",
     "output_type": "stream",
     "text": [
      "46\n",
      "180\n"
     ]
    }
   ],
   "source": [
    "##choose desired region\n",
    "##for that europe area it is lon = (10,45 E) and lat = (60, 75 N)\n",
    "###so ... to check the indexing I am quickly going to generate some arrays to check lol\n",
    "lat = np.arange(90,-2,-2)\n",
    "lon = np.arange(0,360,2)\n",
    "\n",
    "print(len(lat))\n",
    "print(len(lon))"
   ]
  },
  {
   "cell_type": "code",
   "execution_count": 6,
   "id": "28312beb-f1c5-4f64-8bec-90811e521a2b",
   "metadata": {},
   "outputs": [
    {
     "data": {
      "text/plain": [
       "9"
      ]
     },
     "execution_count": 6,
     "metadata": {},
     "output_type": "execute_result"
    }
   ],
   "source": [
    "len(lat[7:16])"
   ]
  },
  {
   "cell_type": "code",
   "execution_count": 7,
   "id": "a0b3329e-e1d8-4819-8f82-2dca0d6d7d08",
   "metadata": {},
   "outputs": [
    {
     "data": {
      "text/plain": [
       "19"
      ]
     },
     "execution_count": 7,
     "metadata": {},
     "output_type": "execute_result"
    }
   ],
   "source": [
    "len(lon[5:24])"
   ]
  },
  {
   "cell_type": "code",
   "execution_count": 8,
   "id": "5b424dc9-fd06-44d4-881e-95039257c396",
   "metadata": {},
   "outputs": [
    {
     "data": {
      "text/plain": [
       "(62, 182, 9, 19)"
      ]
     },
     "execution_count": 8,
     "metadata": {},
     "output_type": "execute_result"
    }
   ],
   "source": [
    "##designate area of northern europe\n",
    "eur_t = temp[:,:,7:16,5:24]\n",
    "eur_t.shape"
   ]
  },
  {
   "cell_type": "code",
   "execution_count": 9,
   "id": "40030340-51ce-4298-bebd-8d39d883b17f",
   "metadata": {},
   "outputs": [],
   "source": [
    "##weighting\n",
    "##create array... \n",
    "eur_t = xr.DataArray(data= eur_t, dims = [\"year\",\"day\",\"lat\",\"lon\"],coords = dict(year = range(1959,2021,1),\n",
    "                                                                                day = range(0,182,1),\n",
    "                                                                                lat = lat[7:16],\n",
    "                                                                                lon = lon[5:24]))"
   ]
  },
  {
   "cell_type": "code",
   "execution_count": 10,
   "id": "61c0b199-fb76-4a06-937b-df0dae3035f8",
   "metadata": {},
   "outputs": [
    {
     "data": {
      "text/html": [
       "<div><svg style=\"position: absolute; width: 0; height: 0; overflow: hidden\">\n",
       "<defs>\n",
       "<symbol id=\"icon-database\" viewBox=\"0 0 32 32\">\n",
       "<path d=\"M16 0c-8.837 0-16 2.239-16 5v4c0 2.761 7.163 5 16 5s16-2.239 16-5v-4c0-2.761-7.163-5-16-5z\"></path>\n",
       "<path d=\"M16 17c-8.837 0-16-2.239-16-5v6c0 2.761 7.163 5 16 5s16-2.239 16-5v-6c0 2.761-7.163 5-16 5z\"></path>\n",
       "<path d=\"M16 26c-8.837 0-16-2.239-16-5v6c0 2.761 7.163 5 16 5s16-2.239 16-5v-6c0 2.761-7.163 5-16 5z\"></path>\n",
       "</symbol>\n",
       "<symbol id=\"icon-file-text2\" viewBox=\"0 0 32 32\">\n",
       "<path d=\"M28.681 7.159c-0.694-0.947-1.662-2.053-2.724-3.116s-2.169-2.030-3.116-2.724c-1.612-1.182-2.393-1.319-2.841-1.319h-15.5c-1.378 0-2.5 1.121-2.5 2.5v27c0 1.378 1.122 2.5 2.5 2.5h23c1.378 0 2.5-1.122 2.5-2.5v-19.5c0-0.448-0.137-1.23-1.319-2.841zM24.543 5.457c0.959 0.959 1.712 1.825 2.268 2.543h-4.811v-4.811c0.718 0.556 1.584 1.309 2.543 2.268zM28 29.5c0 0.271-0.229 0.5-0.5 0.5h-23c-0.271 0-0.5-0.229-0.5-0.5v-27c0-0.271 0.229-0.5 0.5-0.5 0 0 15.499-0 15.5 0v7c0 0.552 0.448 1 1 1h7v19.5z\"></path>\n",
       "<path d=\"M23 26h-14c-0.552 0-1-0.448-1-1s0.448-1 1-1h14c0.552 0 1 0.448 1 1s-0.448 1-1 1z\"></path>\n",
       "<path d=\"M23 22h-14c-0.552 0-1-0.448-1-1s0.448-1 1-1h14c0.552 0 1 0.448 1 1s-0.448 1-1 1z\"></path>\n",
       "<path d=\"M23 18h-14c-0.552 0-1-0.448-1-1s0.448-1 1-1h14c0.552 0 1 0.448 1 1s-0.448 1-1 1z\"></path>\n",
       "</symbol>\n",
       "</defs>\n",
       "</svg>\n",
       "<style>/* CSS stylesheet for displaying xarray objects in jupyterlab.\n",
       " *\n",
       " */\n",
       "\n",
       ":root {\n",
       "  --xr-font-color0: var(--jp-content-font-color0, rgba(0, 0, 0, 1));\n",
       "  --xr-font-color2: var(--jp-content-font-color2, rgba(0, 0, 0, 0.54));\n",
       "  --xr-font-color3: var(--jp-content-font-color3, rgba(0, 0, 0, 0.38));\n",
       "  --xr-border-color: var(--jp-border-color2, #e0e0e0);\n",
       "  --xr-disabled-color: var(--jp-layout-color3, #bdbdbd);\n",
       "  --xr-background-color: var(--jp-layout-color0, white);\n",
       "  --xr-background-color-row-even: var(--jp-layout-color1, white);\n",
       "  --xr-background-color-row-odd: var(--jp-layout-color2, #eeeeee);\n",
       "}\n",
       "\n",
       "html[theme=dark],\n",
       "body.vscode-dark {\n",
       "  --xr-font-color0: rgba(255, 255, 255, 1);\n",
       "  --xr-font-color2: rgba(255, 255, 255, 0.54);\n",
       "  --xr-font-color3: rgba(255, 255, 255, 0.38);\n",
       "  --xr-border-color: #1F1F1F;\n",
       "  --xr-disabled-color: #515151;\n",
       "  --xr-background-color: #111111;\n",
       "  --xr-background-color-row-even: #111111;\n",
       "  --xr-background-color-row-odd: #313131;\n",
       "}\n",
       "\n",
       ".xr-wrap {\n",
       "  display: block;\n",
       "  min-width: 300px;\n",
       "  max-width: 700px;\n",
       "}\n",
       "\n",
       ".xr-text-repr-fallback {\n",
       "  /* fallback to plain text repr when CSS is not injected (untrusted notebook) */\n",
       "  display: none;\n",
       "}\n",
       "\n",
       ".xr-header {\n",
       "  padding-top: 6px;\n",
       "  padding-bottom: 6px;\n",
       "  margin-bottom: 4px;\n",
       "  border-bottom: solid 1px var(--xr-border-color);\n",
       "}\n",
       "\n",
       ".xr-header > div,\n",
       ".xr-header > ul {\n",
       "  display: inline;\n",
       "  margin-top: 0;\n",
       "  margin-bottom: 0;\n",
       "}\n",
       "\n",
       ".xr-obj-type,\n",
       ".xr-array-name {\n",
       "  margin-left: 2px;\n",
       "  margin-right: 10px;\n",
       "}\n",
       "\n",
       ".xr-obj-type {\n",
       "  color: var(--xr-font-color2);\n",
       "}\n",
       "\n",
       ".xr-sections {\n",
       "  padding-left: 0 !important;\n",
       "  display: grid;\n",
       "  grid-template-columns: 150px auto auto 1fr 20px 20px;\n",
       "}\n",
       "\n",
       ".xr-section-item {\n",
       "  display: contents;\n",
       "}\n",
       "\n",
       ".xr-section-item input {\n",
       "  display: none;\n",
       "}\n",
       "\n",
       ".xr-section-item input + label {\n",
       "  color: var(--xr-disabled-color);\n",
       "}\n",
       "\n",
       ".xr-section-item input:enabled + label {\n",
       "  cursor: pointer;\n",
       "  color: var(--xr-font-color2);\n",
       "}\n",
       "\n",
       ".xr-section-item input:enabled + label:hover {\n",
       "  color: var(--xr-font-color0);\n",
       "}\n",
       "\n",
       ".xr-section-summary {\n",
       "  grid-column: 1;\n",
       "  color: var(--xr-font-color2);\n",
       "  font-weight: 500;\n",
       "}\n",
       "\n",
       ".xr-section-summary > span {\n",
       "  display: inline-block;\n",
       "  padding-left: 0.5em;\n",
       "}\n",
       "\n",
       ".xr-section-summary-in:disabled + label {\n",
       "  color: var(--xr-font-color2);\n",
       "}\n",
       "\n",
       ".xr-section-summary-in + label:before {\n",
       "  display: inline-block;\n",
       "  content: '►';\n",
       "  font-size: 11px;\n",
       "  width: 15px;\n",
       "  text-align: center;\n",
       "}\n",
       "\n",
       ".xr-section-summary-in:disabled + label:before {\n",
       "  color: var(--xr-disabled-color);\n",
       "}\n",
       "\n",
       ".xr-section-summary-in:checked + label:before {\n",
       "  content: '▼';\n",
       "}\n",
       "\n",
       ".xr-section-summary-in:checked + label > span {\n",
       "  display: none;\n",
       "}\n",
       "\n",
       ".xr-section-summary,\n",
       ".xr-section-inline-details {\n",
       "  padding-top: 4px;\n",
       "  padding-bottom: 4px;\n",
       "}\n",
       "\n",
       ".xr-section-inline-details {\n",
       "  grid-column: 2 / -1;\n",
       "}\n",
       "\n",
       ".xr-section-details {\n",
       "  display: none;\n",
       "  grid-column: 1 / -1;\n",
       "  margin-bottom: 5px;\n",
       "}\n",
       "\n",
       ".xr-section-summary-in:checked ~ .xr-section-details {\n",
       "  display: contents;\n",
       "}\n",
       "\n",
       ".xr-array-wrap {\n",
       "  grid-column: 1 / -1;\n",
       "  display: grid;\n",
       "  grid-template-columns: 20px auto;\n",
       "}\n",
       "\n",
       ".xr-array-wrap > label {\n",
       "  grid-column: 1;\n",
       "  vertical-align: top;\n",
       "}\n",
       "\n",
       ".xr-preview {\n",
       "  color: var(--xr-font-color3);\n",
       "}\n",
       "\n",
       ".xr-array-preview,\n",
       ".xr-array-data {\n",
       "  padding: 0 5px !important;\n",
       "  grid-column: 2;\n",
       "}\n",
       "\n",
       ".xr-array-data,\n",
       ".xr-array-in:checked ~ .xr-array-preview {\n",
       "  display: none;\n",
       "}\n",
       "\n",
       ".xr-array-in:checked ~ .xr-array-data,\n",
       ".xr-array-preview {\n",
       "  display: inline-block;\n",
       "}\n",
       "\n",
       ".xr-dim-list {\n",
       "  display: inline-block !important;\n",
       "  list-style: none;\n",
       "  padding: 0 !important;\n",
       "  margin: 0;\n",
       "}\n",
       "\n",
       ".xr-dim-list li {\n",
       "  display: inline-block;\n",
       "  padding: 0;\n",
       "  margin: 0;\n",
       "}\n",
       "\n",
       ".xr-dim-list:before {\n",
       "  content: '(';\n",
       "}\n",
       "\n",
       ".xr-dim-list:after {\n",
       "  content: ')';\n",
       "}\n",
       "\n",
       ".xr-dim-list li:not(:last-child):after {\n",
       "  content: ',';\n",
       "  padding-right: 5px;\n",
       "}\n",
       "\n",
       ".xr-has-index {\n",
       "  font-weight: bold;\n",
       "}\n",
       "\n",
       ".xr-var-list,\n",
       ".xr-var-item {\n",
       "  display: contents;\n",
       "}\n",
       "\n",
       ".xr-var-item > div,\n",
       ".xr-var-item label,\n",
       ".xr-var-item > .xr-var-name span {\n",
       "  background-color: var(--xr-background-color-row-even);\n",
       "  margin-bottom: 0;\n",
       "}\n",
       "\n",
       ".xr-var-item > .xr-var-name:hover span {\n",
       "  padding-right: 5px;\n",
       "}\n",
       "\n",
       ".xr-var-list > li:nth-child(odd) > div,\n",
       ".xr-var-list > li:nth-child(odd) > label,\n",
       ".xr-var-list > li:nth-child(odd) > .xr-var-name span {\n",
       "  background-color: var(--xr-background-color-row-odd);\n",
       "}\n",
       "\n",
       ".xr-var-name {\n",
       "  grid-column: 1;\n",
       "}\n",
       "\n",
       ".xr-var-dims {\n",
       "  grid-column: 2;\n",
       "}\n",
       "\n",
       ".xr-var-dtype {\n",
       "  grid-column: 3;\n",
       "  text-align: right;\n",
       "  color: var(--xr-font-color2);\n",
       "}\n",
       "\n",
       ".xr-var-preview {\n",
       "  grid-column: 4;\n",
       "}\n",
       "\n",
       ".xr-var-name,\n",
       ".xr-var-dims,\n",
       ".xr-var-dtype,\n",
       ".xr-preview,\n",
       ".xr-attrs dt {\n",
       "  white-space: nowrap;\n",
       "  overflow: hidden;\n",
       "  text-overflow: ellipsis;\n",
       "  padding-right: 10px;\n",
       "}\n",
       "\n",
       ".xr-var-name:hover,\n",
       ".xr-var-dims:hover,\n",
       ".xr-var-dtype:hover,\n",
       ".xr-attrs dt:hover {\n",
       "  overflow: visible;\n",
       "  width: auto;\n",
       "  z-index: 1;\n",
       "}\n",
       "\n",
       ".xr-var-attrs,\n",
       ".xr-var-data {\n",
       "  display: none;\n",
       "  background-color: var(--xr-background-color) !important;\n",
       "  padding-bottom: 5px !important;\n",
       "}\n",
       "\n",
       ".xr-var-attrs-in:checked ~ .xr-var-attrs,\n",
       ".xr-var-data-in:checked ~ .xr-var-data {\n",
       "  display: block;\n",
       "}\n",
       "\n",
       ".xr-var-data > table {\n",
       "  float: right;\n",
       "}\n",
       "\n",
       ".xr-var-name span,\n",
       ".xr-var-data,\n",
       ".xr-attrs {\n",
       "  padding-left: 25px !important;\n",
       "}\n",
       "\n",
       ".xr-attrs,\n",
       ".xr-var-attrs,\n",
       ".xr-var-data {\n",
       "  grid-column: 1 / -1;\n",
       "}\n",
       "\n",
       "dl.xr-attrs {\n",
       "  padding: 0;\n",
       "  margin: 0;\n",
       "  display: grid;\n",
       "  grid-template-columns: 125px auto;\n",
       "}\n",
       "\n",
       ".xr-attrs dt,\n",
       ".xr-attrs dd {\n",
       "  padding: 0;\n",
       "  margin: 0;\n",
       "  float: left;\n",
       "  padding-right: 10px;\n",
       "  width: auto;\n",
       "}\n",
       "\n",
       ".xr-attrs dt {\n",
       "  font-weight: normal;\n",
       "  grid-column: 1;\n",
       "}\n",
       "\n",
       ".xr-attrs dt:hover span {\n",
       "  display: inline-block;\n",
       "  background: var(--xr-background-color);\n",
       "  padding-right: 10px;\n",
       "}\n",
       "\n",
       ".xr-attrs dd {\n",
       "  grid-column: 2;\n",
       "  white-space: pre-wrap;\n",
       "  word-break: break-all;\n",
       "}\n",
       "\n",
       ".xr-icon-database,\n",
       ".xr-icon-file-text2 {\n",
       "  display: inline-block;\n",
       "  vertical-align: middle;\n",
       "  width: 1em;\n",
       "  height: 1.5em !important;\n",
       "  stroke-width: 0;\n",
       "  stroke: currentColor;\n",
       "  fill: currentColor;\n",
       "}\n",
       "</style><pre class='xr-text-repr-fallback'>&lt;xarray.DataArray (year: 62, day: 182)&gt;\n",
       "array([[276.16808832, 276.13950477, 276.93443771, ..., 268.10918672,\n",
       "        268.59528213, 267.55744015],\n",
       "       [276.5017047 , 275.41604436, 275.08899836, ..., 269.68597876,\n",
       "        270.43935104, 270.42338071],\n",
       "       [280.39367444, 279.28859421, 279.41969505, ..., 268.06725432,\n",
       "        268.36153158, 269.47920718],\n",
       "       ...,\n",
       "       [278.17817982, 277.67370159, 277.08036224, ..., 274.54490688,\n",
       "        272.2940681 , 271.56976997],\n",
       "       [278.63402285, 276.58227022, 275.35381045, ..., 268.22280687,\n",
       "        267.72314346, 269.20495106],\n",
       "       [281.43115127, 280.09677267, 280.45708515, ..., 276.20262387,\n",
       "        274.94833392, 274.08469342]])\n",
       "Coordinates:\n",
       "  * year     (year) int64 1959 1960 1961 1962 1963 ... 2016 2017 2018 2019 2020\n",
       "  * day      (day) int64 0 1 2 3 4 5 6 7 8 ... 174 175 176 177 178 179 180 181</pre><div class='xr-wrap' hidden><div class='xr-header'><div class='xr-obj-type'>xarray.DataArray</div><div class='xr-array-name'></div><ul class='xr-dim-list'><li><span class='xr-has-index'>year</span>: 62</li><li><span class='xr-has-index'>day</span>: 182</li></ul></div><ul class='xr-sections'><li class='xr-section-item'><div class='xr-array-wrap'><input id='section-65dc249e-ea27-419c-a08a-f8d292070c5e' class='xr-array-in' type='checkbox' checked><label for='section-65dc249e-ea27-419c-a08a-f8d292070c5e' title='Show/hide data repr'><svg class='icon xr-icon-database'><use xlink:href='#icon-database'></use></svg></label><div class='xr-array-preview xr-preview'><span>276.2 276.1 276.9 278.6 279.2 277.8 ... 275.8 275.8 276.2 274.9 274.1</span></div><div class='xr-array-data'><pre>array([[276.16808832, 276.13950477, 276.93443771, ..., 268.10918672,\n",
       "        268.59528213, 267.55744015],\n",
       "       [276.5017047 , 275.41604436, 275.08899836, ..., 269.68597876,\n",
       "        270.43935104, 270.42338071],\n",
       "       [280.39367444, 279.28859421, 279.41969505, ..., 268.06725432,\n",
       "        268.36153158, 269.47920718],\n",
       "       ...,\n",
       "       [278.17817982, 277.67370159, 277.08036224, ..., 274.54490688,\n",
       "        272.2940681 , 271.56976997],\n",
       "       [278.63402285, 276.58227022, 275.35381045, ..., 268.22280687,\n",
       "        267.72314346, 269.20495106],\n",
       "       [281.43115127, 280.09677267, 280.45708515, ..., 276.20262387,\n",
       "        274.94833392, 274.08469342]])</pre></div></div></li><li class='xr-section-item'><input id='section-fc61a2db-c2de-4928-9be1-c742c5737986' class='xr-section-summary-in' type='checkbox'  checked><label for='section-fc61a2db-c2de-4928-9be1-c742c5737986' class='xr-section-summary' >Coordinates: <span>(2)</span></label><div class='xr-section-inline-details'></div><div class='xr-section-details'><ul class='xr-var-list'><li class='xr-var-item'><div class='xr-var-name'><span class='xr-has-index'>year</span></div><div class='xr-var-dims'>(year)</div><div class='xr-var-dtype'>int64</div><div class='xr-var-preview xr-preview'>1959 1960 1961 ... 2018 2019 2020</div><input id='attrs-abdc73c5-5025-4471-afda-7c0e99aae074' class='xr-var-attrs-in' type='checkbox' disabled><label for='attrs-abdc73c5-5025-4471-afda-7c0e99aae074' title='Show/Hide attributes'><svg class='icon xr-icon-file-text2'><use xlink:href='#icon-file-text2'></use></svg></label><input id='data-d5b04fe4-2dac-45cd-9413-4abc50f73e3b' class='xr-var-data-in' type='checkbox'><label for='data-d5b04fe4-2dac-45cd-9413-4abc50f73e3b' title='Show/Hide data repr'><svg class='icon xr-icon-database'><use xlink:href='#icon-database'></use></svg></label><div class='xr-var-attrs'><dl class='xr-attrs'></dl></div><div class='xr-var-data'><pre>array([1959, 1960, 1961, 1962, 1963, 1964, 1965, 1966, 1967, 1968, 1969, 1970,\n",
       "       1971, 1972, 1973, 1974, 1975, 1976, 1977, 1978, 1979, 1980, 1981, 1982,\n",
       "       1983, 1984, 1985, 1986, 1987, 1988, 1989, 1990, 1991, 1992, 1993, 1994,\n",
       "       1995, 1996, 1997, 1998, 1999, 2000, 2001, 2002, 2003, 2004, 2005, 2006,\n",
       "       2007, 2008, 2009, 2010, 2011, 2012, 2013, 2014, 2015, 2016, 2017, 2018,\n",
       "       2019, 2020])</pre></div></li><li class='xr-var-item'><div class='xr-var-name'><span class='xr-has-index'>day</span></div><div class='xr-var-dims'>(day)</div><div class='xr-var-dtype'>int64</div><div class='xr-var-preview xr-preview'>0 1 2 3 4 5 ... 177 178 179 180 181</div><input id='attrs-756706da-6bd8-4177-8e76-f96b924f9174' class='xr-var-attrs-in' type='checkbox' disabled><label for='attrs-756706da-6bd8-4177-8e76-f96b924f9174' title='Show/Hide attributes'><svg class='icon xr-icon-file-text2'><use xlink:href='#icon-file-text2'></use></svg></label><input id='data-5eadf059-6480-43bf-9d0e-20d00e4ed3ce' class='xr-var-data-in' type='checkbox'><label for='data-5eadf059-6480-43bf-9d0e-20d00e4ed3ce' title='Show/Hide data repr'><svg class='icon xr-icon-database'><use xlink:href='#icon-database'></use></svg></label><div class='xr-var-attrs'><dl class='xr-attrs'></dl></div><div class='xr-var-data'><pre>array([  0,   1,   2,   3,   4,   5,   6,   7,   8,   9,  10,  11,  12,  13,\n",
       "        14,  15,  16,  17,  18,  19,  20,  21,  22,  23,  24,  25,  26,  27,\n",
       "        28,  29,  30,  31,  32,  33,  34,  35,  36,  37,  38,  39,  40,  41,\n",
       "        42,  43,  44,  45,  46,  47,  48,  49,  50,  51,  52,  53,  54,  55,\n",
       "        56,  57,  58,  59,  60,  61,  62,  63,  64,  65,  66,  67,  68,  69,\n",
       "        70,  71,  72,  73,  74,  75,  76,  77,  78,  79,  80,  81,  82,  83,\n",
       "        84,  85,  86,  87,  88,  89,  90,  91,  92,  93,  94,  95,  96,  97,\n",
       "        98,  99, 100, 101, 102, 103, 104, 105, 106, 107, 108, 109, 110, 111,\n",
       "       112, 113, 114, 115, 116, 117, 118, 119, 120, 121, 122, 123, 124, 125,\n",
       "       126, 127, 128, 129, 130, 131, 132, 133, 134, 135, 136, 137, 138, 139,\n",
       "       140, 141, 142, 143, 144, 145, 146, 147, 148, 149, 150, 151, 152, 153,\n",
       "       154, 155, 156, 157, 158, 159, 160, 161, 162, 163, 164, 165, 166, 167,\n",
       "       168, 169, 170, 171, 172, 173, 174, 175, 176, 177, 178, 179, 180, 181])</pre></div></li></ul></div></li><li class='xr-section-item'><input id='section-f1be5dcc-b19b-4b7a-b812-e36cfa3f0092' class='xr-section-summary-in' type='checkbox' disabled ><label for='section-f1be5dcc-b19b-4b7a-b812-e36cfa3f0092' class='xr-section-summary'  title='Expand/collapse section'>Attributes: <span>(0)</span></label><div class='xr-section-inline-details'></div><div class='xr-section-details'><dl class='xr-attrs'></dl></div></li></ul></div></div>"
      ],
      "text/plain": [
       "<xarray.DataArray (year: 62, day: 182)>\n",
       "array([[276.16808832, 276.13950477, 276.93443771, ..., 268.10918672,\n",
       "        268.59528213, 267.55744015],\n",
       "       [276.5017047 , 275.41604436, 275.08899836, ..., 269.68597876,\n",
       "        270.43935104, 270.42338071],\n",
       "       [280.39367444, 279.28859421, 279.41969505, ..., 268.06725432,\n",
       "        268.36153158, 269.47920718],\n",
       "       ...,\n",
       "       [278.17817982, 277.67370159, 277.08036224, ..., 274.54490688,\n",
       "        272.2940681 , 271.56976997],\n",
       "       [278.63402285, 276.58227022, 275.35381045, ..., 268.22280687,\n",
       "        267.72314346, 269.20495106],\n",
       "       [281.43115127, 280.09677267, 280.45708515, ..., 276.20262387,\n",
       "        274.94833392, 274.08469342]])\n",
       "Coordinates:\n",
       "  * year     (year) int64 1959 1960 1961 1962 1963 ... 2016 2017 2018 2019 2020\n",
       "  * day      (day) int64 0 1 2 3 4 5 6 7 8 ... 174 175 176 177 178 179 180 181"
      ]
     },
     "execution_count": 10,
     "metadata": {},
     "output_type": "execute_result"
    }
   ],
   "source": [
    "#now calculate weights\n",
    "weights=np.cos(np.deg2rad(eur_t.lat))\n",
    "e_t_weight = eur_t.weighted(weights).mean(dim=\"lon\").mean(dim=\"lat\") #average over the full area\n",
    "e_t_weight"
   ]
  },
  {
   "cell_type": "code",
   "execution_count": 17,
   "id": "eaa692e1-98cc-497f-b84f-cecca689a144",
   "metadata": {},
   "outputs": [
    {
     "name": "stdout",
     "output_type": "stream",
     "text": [
      "(62, 182)\n",
      "(62, 182)\n"
     ]
    }
   ],
   "source": [
    "##calculate daily anomalies \n",
    "dailymean_t = np.nanmean(e_t_weight,axis=1)\n",
    "anom_t=np.zeros_like(e_t_weight)\n",
    "for t in np.arange(e_t_weight.shape[1]):\n",
    "     anom_t[:,t] = e_t_weight[:,t] - dailymean_t\n",
    "print(anom_t.shape)\n",
    "\n",
    "#or daily median based on the weighted data\n",
    "dailymed_t = np.nanmedian(anom_t,axis=1)\n",
    "med_t=np.zeros_like(anom_t)\n",
    "for t in np.arange(anom_t.shape[1]):\n",
    "     med_t[:,t] = anom_t[:,t] - dailymed_t\n",
    "print(med_t.shape)"
   ]
  },
  {
   "cell_type": "code",
   "execution_count": 35,
   "id": "9b21425e-280b-4307-a0bd-80e209dacbf6",
   "metadata": {},
   "outputs": [],
   "source": [
    "##flatten\n",
    "te1 = anom_t\n",
    "\n",
    "te1 = np.reshape(te1, (62*182))\n",
    "e_st = np.empty((62*182))"
   ]
  },
  {
   "cell_type": "code",
   "execution_count": 36,
   "id": "bd8752ba-80af-4301-ab93-b59517e580ba",
   "metadata": {},
   "outputs": [],
   "source": [
    "#check for NaNs\n",
    "if np.any(np.isnan(te1)) or np.any(np.isinf(te1)):\n",
    "    print(\"NaN or Inf values found in te1!\")"
   ]
  },
  {
   "cell_type": "code",
   "execution_count": 37,
   "id": "fa02055f-1c75-4384-8b53-88471ce6c294",
   "metadata": {},
   "outputs": [],
   "source": [
    "#create empty arrays for neg and pos classification\n",
    "pos = []\n",
    "neg = []"
   ]
  },
  {
   "cell_type": "code",
   "execution_count": 38,
   "id": "bb7d8d2c-691f-4579-8a1e-b61074abe083",
   "metadata": {},
   "outputs": [
    {
     "data": {
      "text/plain": [
       "array([7.68869382, 7.66011027, 8.45504321, ..., 4.88880549, 3.63451554,\n",
       "       2.77087504])"
      ]
     },
     "execution_count": 38,
     "metadata": {},
     "output_type": "execute_result"
    }
   ],
   "source": [
    "te1"
   ]
  },
  {
   "cell_type": "raw",
   "id": "b6c9c77c-4372-4745-b5b2-680d0d634344",
   "metadata": {
    "jupyter": {
     "source_hidden": true
    }
   },
   "source": [
    "#dump daily anomalies\n",
    "pickle.dump(te1, open(\"eur_temp_ANOMvalues.p\", 'wb'))"
   ]
  },
  {
   "cell_type": "code",
   "execution_count": 39,
   "id": "654fa5ac-858d-4850-9dcd-7007fee8eceb",
   "metadata": {
    "scrolled": true
   },
   "outputs": [],
   "source": [
    "#loop and classify anomalies\n",
    "for i in range(0,62*182):\n",
    "        if te1[i] > 0:\n",
    "            e_st[i] = 1\n",
    "            pos.append(1)\n",
    "            \n",
    "        elif te1[i] < 0:\n",
    "            #print(\"negative\")\n",
    "            e_st[i] = 0\n",
    "            neg.append(0)\n",
    "            \n",
    "        ##alternatine in an attempt to make arrays ... even? lol  \n",
    "        elif te1[i] == 0:\n",
    "            if len(pos) <= len(neg):\n",
    "                e_st[i] = 1\n",
    "                pos.append(1)\n",
    "            else:\n",
    "                e_st[i] = 0\n",
    "                neg.append(0)"
   ]
  },
  {
   "cell_type": "code",
   "execution_count": 40,
   "id": "129c5562-c723-49c0-a4e6-d7b1f7218e93",
   "metadata": {},
   "outputs": [
    {
     "data": {
      "text/plain": [
       "array([1., 1., 1., ..., 1., 1., 1.])"
      ]
     },
     "execution_count": 40,
     "metadata": {},
     "output_type": "execute_result"
    }
   ],
   "source": [
    "e_st"
   ]
  },
  {
   "cell_type": "code",
   "execution_count": 41,
   "id": "4f07452f-b6c9-4f67-ac72-75d07fbfcf7a",
   "metadata": {},
   "outputs": [
    {
     "name": "stdout",
     "output_type": "stream",
     "text": [
      "5659\n",
      "5625\n"
     ]
    }
   ],
   "source": [
    "print(len(neg))\n",
    "print(len(pos))"
   ]
  },
  {
   "cell_type": "code",
   "execution_count": 42,
   "id": "6edbe908-023f-420b-ad49-166f7cba5e06",
   "metadata": {},
   "outputs": [],
   "source": [
    "pickle.dump(e_st, open(\"classed_europetemps_anom.p\", 'wb'))"
   ]
  },
  {
   "cell_type": "code",
   "execution_count": null,
   "id": "4689804f-3e08-4d4d-9e8d-768c6eaa66f5",
   "metadata": {},
   "outputs": [],
   "source": []
  }
 ],
 "metadata": {
  "kernelspec": {
   "display_name": "Python 3 August 2021 Environment",
   "language": "python",
   "name": "aug21"
  },
  "language_info": {
   "codemirror_mode": {
    "name": "ipython",
    "version": 3
   },
   "file_extension": ".py",
   "mimetype": "text/x-python",
   "name": "python",
   "nbconvert_exporter": "python",
   "pygments_lexer": "ipython3",
   "version": "3.9.7"
  }
 },
 "nbformat": 4,
 "nbformat_minor": 5
}
