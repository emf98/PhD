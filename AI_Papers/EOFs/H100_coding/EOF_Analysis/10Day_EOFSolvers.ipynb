{
 "cells": [
  {
   "cell_type": "markdown",
   "id": "e10c523d",
   "metadata": {},
   "source": [
    "#### Sequential Feature Selection of PCs for Random Forest model using PV/GPH/EHF as input.\n",
    "\n",
    "File duplicated on April 23, 2025 and localized within the H100 cluster. \n",
    "I would like to identify the # of nodes that represent >80% of the variance for each feature. Then, I will do two models. \n",
    "\n",
    "This one is for 10 days rather than 14. "
   ]
  },
  {
   "cell_type": "code",
   "execution_count": 1,
   "id": "3507e34d",
   "metadata": {
    "collapsed": true,
    "jupyter": {
     "outputs_hidden": true
    },
    "scrolled": true
   },
   "outputs": [
    {
     "name": "stderr",
     "output_type": "stream",
     "text": [
      "2025-04-24 00:14:29.552572: I tensorflow/core/util/port.cc:113] oneDNN custom operations are on. You may see slightly different numerical results due to floating-point round-off errors from different computation orders. To turn them off, set the environment variable `TF_ENABLE_ONEDNN_OPTS=0`.\n",
      "2025-04-24 00:14:29.582887: E external/local_xla/xla/stream_executor/cuda/cuda_dnn.cc:9373] Unable to register cuDNN factory: Attempting to register factory for plugin cuDNN when one has already been registered\n",
      "2025-04-24 00:14:29.582907: E external/local_xla/xla/stream_executor/cuda/cuda_fft.cc:607] Unable to register cuFFT factory: Attempting to register factory for plugin cuFFT when one has already been registered\n",
      "2025-04-24 00:14:29.583709: E external/local_xla/xla/stream_executor/cuda/cuda_blas.cc:1534] Unable to register cuBLAS factory: Attempting to register factory for plugin cuBLAS when one has already been registered\n",
      "2025-04-24 00:14:29.588451: I tensorflow/core/platform/cpu_feature_guard.cc:183] This TensorFlow binary is optimized to use available CPU instructions in performance-critical operations.\n",
      "To enable the following instructions: SSE3 SSE4.1 SSE4.2 AVX, in other operations, rebuild TensorFlow with the appropriate compiler flags.\n"
     ]
    }
   ],
   "source": [
    "# relevant import statements\n",
    "import math\n",
    "import pickle\n",
    "import random\n",
    "\n",
    "##just to stop the excess number of warnings\n",
    "import warnings\n",
    "from random import randint, sample, seed\n",
    "\n",
    "import cartopy.feature as cf\n",
    "import cartopy.util  # Requires separate import\n",
    "import matplotlib.colors as mcolors\n",
    "import matplotlib.path as mpath\n",
    "\n",
    "# plotting related imports\n",
    "import matplotlib.pyplot as plt\n",
    "import numpy as np\n",
    "import pandas as pd\n",
    "import seaborn as sns  # statistical data visualization\n",
    "import xarray as xr\n",
    "from cartopy import crs as ccrs  # Useful for plotting maps\n",
    "from cartopy.mpl.ticker import LatitudeFormatter, LongitudeFormatter\n",
    "from cartopy.util import add_cyclic_point\n",
    "from matplotlib import rcParams  # For changing text properties\n",
    "from scipy.ndimage import gaussian_filter\n",
    "from sklearn.feature_selection import SelectFromModel\n",
    "from sklearn.metrics import (\n",
    "    accuracy_score,\n",
    "    brier_score_loss,\n",
    "    mean_squared_error,\n",
    "    r2_score,\n",
    ")\n",
    "from sklearn.model_selection import train_test_split\n",
    "\n",
    "warnings.filterwarnings(\"ignore\")\n",
    "\n",
    "##import tensorflow/keras related files\n",
    "import tensorflow as tf\n",
    "import tensorflow.keras.backend as K\n",
    "from eofs.standard import Eof\n",
    "from tensorflow import keras\n",
    "from tensorflow.keras import (\n",
    "    Input,\n",
    "    Sequential,\n",
    "    constraints,\n",
    "    initializers,\n",
    "    layers,\n",
    "    optimizers,\n",
    "    regularizers,\n",
    ")\n",
    "from tensorflow.keras.callbacks import EarlyStopping, ModelCheckpoint\n",
    "from tensorflow.keras.layers import (\n",
    "    GRU,\n",
    "    LSTM,\n",
    "    Activation,\n",
    "    Bidirectional,\n",
    "    Dense,\n",
    "    Dropout,\n",
    "    Embedding,\n",
    "    Flatten,\n",
    "    InputSpec,\n",
    "    Layer,\n",
    "    Reshape,\n",
    ")\n",
    "from tensorflow.keras.models import Model\n",
    "from tensorflow.keras.utils import to_categorical\n",
    "\n",
    "# tf.compat.v1.disable_v2_behavior() # <-- HERE !\n",
    "\n",
    "\n",
    "tf.compat.v1.disable_eager_execution()\n",
    "import investigate"
   ]
  },
  {
   "cell_type": "markdown",
   "id": "18f73728",
   "metadata": {},
   "source": [
    "The bulk of this file to start is copied from the previous EOF file/my EOF test file. \n",
    "\n",
    "##### First, I am going to pickle in the input data. I will then remove the seasonal climo from the dataset...\n",
    "\n",
    "I had to actually download the data locally and upload it here to the H100 cluster in the ./Dissertation_Coding/data folder because I could not call it from my home directory. "
   ]
  },
  {
   "cell_type": "code",
   "execution_count": 2,
   "id": "4fed34ec",
   "metadata": {},
   "outputs": [],
   "source": [
    "# load input data\n",
    "infile = open(\"../../data/extend_pv350pt.p\",\"rb\",)\n",
    "pv_input = pickle.load(infile)  ##pv on an isentropic surface, 350\n",
    "infile.close()\n",
    "\n",
    "infile = open(\"../../data/1959ZMeddyheatflux.p\",\"rb\",)\n",
    "ehf_input = pickle.load(infile)  ##ZMehf vertical cross section along longitudes\n",
    "infile.close()\n",
    "\n",
    "infile = open(\"../../data/1959gph.p\",\"rb\",)\n",
    "gph_input = pickle.load(infile)  ##ZMehf vertical cross section along longitudes\n",
    "infile.close()"
   ]
  },
  {
   "cell_type": "code",
   "execution_count": 3,
   "id": "415bec90",
   "metadata": {},
   "outputs": [
    {
     "data": {
      "text/plain": [
       "(63, 183, 24, 181)"
      ]
     },
     "execution_count": 3,
     "metadata": {},
     "output_type": "execute_result"
    }
   ],
   "source": [
    "pv_input.shape  ##63 years, october through march, 16 lats (90,60), all lons.\n",
    "#will need to remove the last year. "
   ]
  },
  {
   "cell_type": "code",
   "execution_count": 4,
   "id": "8f905589",
   "metadata": {},
   "outputs": [
    {
     "data": {
      "text/plain": [
       "(62, 183, 37, 180)"
      ]
     },
     "execution_count": 4,
     "metadata": {},
     "output_type": "execute_result"
    }
   ],
   "source": [
    "gph_input.shape"
   ]
  },
  {
   "cell_type": "code",
   "execution_count": 5,
   "id": "276c16ca",
   "metadata": {},
   "outputs": [],
   "source": [
    "#remove extra pv and gph year\n",
    "pv_input = np.delete(pv_input, [62], 0)"
   ]
  },
  {
   "cell_type": "code",
   "execution_count": 6,
   "id": "94464b0f",
   "metadata": {},
   "outputs": [
    {
     "data": {
      "text/plain": [
       "(62, 183, 37, 180)"
      ]
     },
     "execution_count": 6,
     "metadata": {},
     "output_type": "execute_result"
    }
   ],
   "source": [
    "ehf_input.shape"
   ]
  },
  {
   "cell_type": "code",
   "execution_count": 7,
   "id": "b5192cb0",
   "metadata": {},
   "outputs": [
    {
     "data": {
      "text/plain": [
       "(62, 183, 24, 181)"
      ]
     },
     "execution_count": 7,
     "metadata": {},
     "output_type": "execute_result"
    }
   ],
   "source": [
    "pv_input.shape #again lol"
   ]
  },
  {
   "cell_type": "code",
   "execution_count": 8,
   "id": "8d5ee653",
   "metadata": {},
   "outputs": [],
   "source": [
    "## remove leap day.\n",
    "pv_input = np.delete(pv_input, [151], 1)\n",
    "ehf_input = np.delete(ehf_input, [151], 1)\n",
    "gph_input = np.delete(gph_input, [151], 1)"
   ]
  },
  {
   "cell_type": "code",
   "execution_count": 9,
   "id": "6a2cb10d",
   "metadata": {},
   "outputs": [],
   "source": [
    "##remove seasonal climo \n",
    "def daily_anom(target):\n",
    "    dailymean = np.nanmean(target, axis=1)\n",
    "    anom = np.zeros_like(target)\n",
    "    for t in np.arange(target.shape[1]):\n",
    "        anom[:, t, :, :] = target[:, t, :, :] - dailymean\n",
    "    return anom;"
   ]
  },
  {
   "cell_type": "code",
   "execution_count": 10,
   "id": "abe3a999",
   "metadata": {},
   "outputs": [
    {
     "name": "stdout",
     "output_type": "stream",
     "text": [
      "ANOM PV shape:  (62, 182, 24, 181)\n",
      "ANOM EHF shape:  (62, 182, 37, 180)\n",
      "ANOM GPH shape:  (62, 182, 37, 180)\n"
     ]
    }
   ],
   "source": [
    "##take seasonal daily average/remove seasonal climatology\n",
    "anom_pv = daily_anom(pv_input)\n",
    "print(\"ANOM PV shape: \",anom_pv.shape)\n",
    "\n",
    "anom_ehf = daily_anom(ehf_input)\n",
    "print(\"ANOM EHF shape: \",anom_ehf.shape)\n",
    "\n",
    "anom_gph = daily_anom(gph_input)\n",
    "print(\"ANOM GPH shape: \",anom_gph.shape)"
   ]
  },
  {
   "cell_type": "code",
   "execution_count": 11,
   "id": "6de8b914",
   "metadata": {},
   "outputs": [],
   "source": [
    "##check for NaNs\n",
    "if np.any(np.isnan(anom_pv)) or np.any(np.isinf(anom_pv)):\n",
    "    print(\"NaN or Inf values found in PV!\")\n",
    "\n",
    "if np.any(np.isnan(anom_ehf)) or np.any(np.isinf(anom_ehf)):\n",
    "    print(\"NaN or Inf values found in EHF!\")\n",
    "\n",
    "if np.any(np.isnan(anom_gph)) or np.any(np.isinf(anom_gph)):\n",
    "    print(\"NaN or Inf values found in GPH!\")"
   ]
  },
  {
   "cell_type": "code",
   "execution_count": 15,
   "id": "232bdc15",
   "metadata": {},
   "outputs": [
    {
     "data": {
      "text/plain": [
       "(62, 151, 24, 181)"
      ]
     },
     "execution_count": 15,
     "metadata": {},
     "output_type": "execute_result"
    }
   ],
   "source": [
    "anom_pv[:62, 21:172, :, :].shape ##check date length\n",
    "# anom_pv[:62,31:,:,:].shape"
   ]
  },
  {
   "cell_type": "code",
   "execution_count": 16,
   "id": "f3f8b84d",
   "metadata": {},
   "outputs": [
    {
     "name": "stdout",
     "output_type": "stream",
     "text": [
      "(9362, 24, 181)\n",
      "(9362, 37, 180)\n",
      "(9362, 37, 180)\n"
     ]
    }
   ],
   "source": [
    "##flatten array to just the dates relevant to my models. \n",
    "flat_anom_pv = anom_pv[:62, 21:172, :, :].reshape((62 * 151, 24, 181))\n",
    "print(flat_anom_pv.shape)\n",
    "\n",
    "flat_EHFanom = anom_ehf[:62, 21:172, :, :].reshape((62 * 151, 37, 180))\n",
    "print(flat_EHFanom.shape)\n",
    "\n",
    "flat_GPHanom = anom_gph[:62, 21:172, :, :].reshape((62 * 151, 37, 180))\n",
    "print(flat_GPHanom.shape)"
   ]
  },
  {
   "cell_type": "markdown",
   "id": "8325ba38",
   "metadata": {},
   "source": [
    "#### Great, so I have everything uploaded and reduced to daily anomalies with the seasonal climo removed. Fantastic, lol. \n",
    "\n",
    "Now I need to weight appropriately. lol. \n",
    "\n",
    "I do not need to do this for EHF or GPH since I already reduced them. "
   ]
  },
  {
   "cell_type": "code",
   "execution_count": 17,
   "id": "474ef56d",
   "metadata": {},
   "outputs": [],
   "source": [
    "##I DID NOT USE THIS FOR THE EOFs, JUST TRIED TO CALCULATE HERE...\n",
    "flat_anom = xr.DataArray(\n",
    "    data=flat_anom_pv,\n",
    "    dims=[\"dates\", \"lat\", \"lon\"],\n",
    "    coords=dict(\n",
    "        dates=range(0, 9362, 1), lat=np.arange(90, 43, -2), lon=np.arange(0, 362, 2)\n",
    "    ),\n",
    ")\n",
    "wgts = np.cos(flat_anom.lat / 180 * np.pi) ** 0.5\n",
    "flat_PVanom = flat_anom * wgts\n",
    "# weights=np.cos(np.deg2rad(flat_anom.lat))\n",
    "# flat_anom = flat_anom.weighted(weights).mean(dim=\"lon\").mean(dim=\"lat\") #average over the full area\n",
    "# flat_anom"
   ]
  },
  {
   "cell_type": "code",
   "execution_count": 18,
   "id": "a2317c82",
   "metadata": {},
   "outputs": [
    {
     "data": {
      "text/plain": [
       "(9362, 24, 181)"
      ]
     },
     "execution_count": 18,
     "metadata": {},
     "output_type": "execute_result"
    }
   ],
   "source": [
    "flat_PVanom.values.shape"
   ]
  },
  {
   "cell_type": "markdown",
   "id": "47399c0b",
   "metadata": {},
   "source": [
    "##### Attempt at EOF analysis/PC decomp based on Zheng's example code. "
   ]
  },
  {
   "cell_type": "code",
   "execution_count": 19,
   "id": "158c1cb6",
   "metadata": {},
   "outputs": [],
   "source": [
    "# EOF, the code above had selection of certain pressure levels and latitude bands. I do not need to do that here.\n",
    "PVsolver = Eof(flat_PVanom.values)\n",
    "EHFsolver = Eof(flat_EHFanom)\n",
    "GPHsolver = Eof(flat_GPHanom)"
   ]
  },
  {
   "cell_type": "code",
   "execution_count": 20,
   "id": "cadd10c9",
   "metadata": {},
   "outputs": [
    {
     "name": "stdout",
     "output_type": "stream",
     "text": [
      "Pickle Out Solvers ...\n"
     ]
    }
   ],
   "source": [
    "print(\"Pickle Out Solvers ...\")\n",
    "pickle.dump(PVsolver, open(\"PVsolver_10days.p\", 'wb'))\n",
    "pickle.dump(EHFsolver, open(\"EHFsolver_10days.p\", 'wb'))\n",
    "pickle.dump(GPHsolver, open(\"GPHsolver_10days.p\", 'wb'))"
   ]
  },
  {
   "cell_type": "code",
   "execution_count": 21,
   "id": "5508b958",
   "metadata": {},
   "outputs": [
    {
     "data": {
      "text/plain": [
       "[<matplotlib.lines.Line2D at 0x155420f89930>]"
      ]
     },
     "execution_count": 21,
     "metadata": {},
     "output_type": "execute_result"
    },
    {
     "data": {
      "image/png": "[encoded data removed]",
      "text/plain": [
       "<Figure size 640x480 with 1 Axes>"
      ]
     },
     "metadata": {},
     "output_type": "display_data"
    }
   ],
   "source": [
    "##loop through modes to find when highest % variance is reached for each dataset. \n",
    "variance = []\n",
    "for i in range(1, 400):\n",
    "    ##select the desired number of eofs\n",
    "    nmode = i\n",
    "    # print(nmode)\n",
    "    EOF = PVsolver.eofs(neofs=nmode, eofscaling=0)\n",
    "    # print(type(EOF),np.shape(EOF))\n",
    "    ##make the EOF 2-dimensional\n",
    "    EOF2d = EOF.reshape(EOF.shape[0], EOF.shape[-2] * EOF.shape[-1])\n",
    "    # print(np.shape(EOF2d))\n",
    "    pv = np.dot(EOF2d, np.transpose(EOF2d))\n",
    "    EOF_nw2d = EOF2d\n",
    "    # print(pv.shape)\n",
    "    eigenv = PVsolver.eigenvalues(neigs=nmode)\n",
    "    VarEx = PVsolver.varianceFraction(neigs=nmode) * 100\n",
    "    variance.append(sum(VarEx))\n",
    "plt.title(\"PV PCs\")\n",
    "plt.plot(np.arange(1, 400), variance)"
   ]
  },
  {
   "cell_type": "code",
   "execution_count": 22,
   "id": "e2e552b0",
   "metadata": {},
   "outputs": [
    {
     "data": {
      "text/plain": [
       "[<matplotlib.lines.Line2D at 0x155420e7d540>]"
      ]
     },
     "execution_count": 22,
     "metadata": {},
     "output_type": "execute_result"
    },
    {
     "data": {
      "image/png": "[encoded data removed]",
      "text/plain": [
       "<Figure size 640x480 with 1 Axes>"
      ]
     },
     "metadata": {},
     "output_type": "display_data"
    }
   ],
   "source": [
    "variance = []\n",
    "for i in range(1, 100):\n",
    "    ##select the desired number of eofs\n",
    "    nmode = i\n",
    "    # print(nmode)\n",
    "    EOF = EHFsolver.eofs(neofs=nmode, eofscaling=0)\n",
    "    # print(type(EOF),np.shape(EOF))\n",
    "    ##make the EOF 2-dimensional\n",
    "    EOF2d = EOF.reshape(EOF.shape[0], EOF.shape[-2] * EOF.shape[-1])\n",
    "    # print(np.shape(EOF2d))\n",
    "    pv = np.dot(EOF2d, np.transpose(EOF2d))\n",
    "    EOF_nw2d = EOF2d\n",
    "    # print(pv.shape)\n",
    "    eigenv = EHFsolver.eigenvalues(neigs=nmode)\n",
    "    VarEx = EHFsolver.varianceFraction(neigs=nmode) * 100\n",
    "    variance.append(sum(VarEx))\n",
    "plt.title(\"EHF PCs\")\n",
    "plt.plot(np.arange(1, 100), variance)"
   ]
  },
  {
   "cell_type": "code",
   "execution_count": 23,
   "id": "84591484",
   "metadata": {},
   "outputs": [
    {
     "data": {
      "text/plain": [
       "[<matplotlib.lines.Line2D at 0x155420eefca0>]"
      ]
     },
     "execution_count": 23,
     "metadata": {},
     "output_type": "execute_result"
    },
    {
     "data": {
      "image/png": "[encoded data removed]",
      "text/plain": [
       "<Figure size 640x480 with 1 Axes>"
      ]
     },
     "metadata": {},
     "output_type": "display_data"
    }
   ],
   "source": [
    "variance = []\n",
    "for i in range(1, 50):\n",
    "    ##select the desired number of eofs\n",
    "    nmode = i\n",
    "    # print(nmode)\n",
    "    EOF = GPHsolver.eofs(neofs=nmode, eofscaling=0)\n",
    "    # print(type(EOF),np.shape(EOF))\n",
    "    ##make the EOF 2-dimensional\n",
    "    EOF2d = EOF.reshape(EOF.shape[0], EOF.shape[-2] * EOF.shape[-1])\n",
    "    # print(np.shape(EOF2d))\n",
    "    pv = np.dot(EOF2d, np.transpose(EOF2d))\n",
    "    EOF_nw2d = EOF2d\n",
    "    # print(pv.shape)\n",
    "    eigenv = GPHsolver.eigenvalues(neigs=nmode)\n",
    "    VarEx = GPHsolver.varianceFraction(neigs=nmode) * 100\n",
    "    variance.append(sum(VarEx))\n",
    "plt.title(\"GPH PCs\")\n",
    "plt.plot(np.arange(1, 50), variance)"
   ]
  },
  {
   "cell_type": "markdown",
   "id": "d5132bec",
   "metadata": {},
   "source": [
    "#### PV =| 200 PCs. \n",
    "#### EHF = 55 PCs. \n",
    "#### GPH = 12 PCs. \n",
    "\n",
    "Now run EOF analysis with the \"correct\" inital number of modes. "
   ]
  },
  {
   "cell_type": "code",
   "execution_count": null,
   "id": "2d420f83",
   "metadata": {},
   "outputs": [],
   "source": []
  }
 ],
 "metadata": {
  "kernelspec": {
   "display_name": "Python 3 (ipykernel)",
   "language": "python",
   "name": "python3"
  },
  "language_info": {
   "codemirror_mode": {
    "name": "ipython",
    "version": 3
   },
   "file_extension": ".py",
   "mimetype": "text/x-python",
   "name": "python",
   "nbconvert_exporter": "python",
   "pygments_lexer": "ipython3",
   "version": "3.10.12"
  }
 },
 "nbformat": 4,
 "nbformat_minor": 5
}
