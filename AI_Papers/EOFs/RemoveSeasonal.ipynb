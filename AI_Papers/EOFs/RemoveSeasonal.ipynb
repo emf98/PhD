{
 "cells": [
  {
   "cell_type": "markdown",
   "id": "2110b006-4e6b-45ac-98ce-5aef10e60cfe",
   "metadata": {},
   "source": [
    "### Remove leap day from data and remove seasonal climo. \n",
    "\n",
    "File created May 8th. "
   ]
  },
  {
   "cell_type": "code",
   "execution_count": 1,
   "id": "aeb7d658-c464-4761-8c1e-6ee44359cf92",
   "metadata": {},
   "outputs": [],
   "source": [
    "import numpy as np\n",
    "import math\n",
    "import pickle\n",
    "import pandas as pd"
   ]
  },
  {
   "cell_type": "code",
   "execution_count": 2,
   "id": "28357ffd-fbfa-4728-8d28-f6ac2c060a08",
   "metadata": {},
   "outputs": [],
   "source": [
    "# load input data\n",
    "infile = open(\"./processed_vertical_data/1959u.p\",\"rb\",)\n",
    "u_input = pickle.load(infile)  ##pv on an isentropic surface, 350\n",
    "infile.close()\n",
    "\n",
    "infile = open(\"./processed_vertical_data/1959ZMeddyheatflux.p\",\"rb\",)\n",
    "ehf_input = pickle.load(infile)  ##ZMehf vertical cross section along longitudes\n",
    "infile.close()\n",
    "\n",
    "infile = open(\"./processed_vertical_data/1959gph.p\",\"rb\",)\n",
    "gph_input = pickle.load(infile)  ##ZMehf vertical cross section along longitudes\n",
    "infile.close()"
   ]
  },
  {
   "cell_type": "code",
   "execution_count": 3,
   "id": "f2666058-870b-4805-be0c-e3e235a7a69f",
   "metadata": {},
   "outputs": [
    {
     "name": "stdout",
     "output_type": "stream",
     "text": [
      "(62, 183, 37, 36)\n",
      "(62, 183, 37, 180)\n",
      "(62, 183, 37, 180)\n"
     ]
    }
   ],
   "source": [
    "print(u_input.shape)\n",
    "print(gph_input.shape)\n",
    "print(ehf_input.shape)"
   ]
  },
  {
   "cell_type": "code",
   "execution_count": 4,
   "id": "81229ff9-b9e0-421b-b918-567965fc20e9",
   "metadata": {},
   "outputs": [],
   "source": [
    "## remove leap day.\n",
    "u_input = np.delete(u_input, [151], 1)\n",
    "ehf_input = np.delete(ehf_input, [151], 1)\n",
    "gph_input = np.delete(gph_input, [151], 1)"
   ]
  },
  {
   "cell_type": "code",
   "execution_count": 5,
   "id": "917bf105-4f68-40ee-bb61-2170cc5511ee",
   "metadata": {},
   "outputs": [],
   "source": [
    "##remove seasonal climo \n",
    "def daily_anom(target):\n",
    "    dailymean = np.nanmean(target, axis=1)\n",
    "    anom = np.zeros_like(target)\n",
    "    for t in np.arange(target.shape[1]):\n",
    "        anom[:, t, :, :] = target[:, t, :, :] - dailymean\n",
    "    return anom;"
   ]
  },
  {
   "cell_type": "code",
   "execution_count": 6,
   "id": "23004894-2a66-4d69-8890-5a6adc47cb6a",
   "metadata": {},
   "outputs": [
    {
     "name": "stdout",
     "output_type": "stream",
     "text": [
      "ANOM U shape:  (62, 182, 37, 36)\n",
      "ANOM EHF shape:  (62, 182, 37, 180)\n",
      "ANOM GPH shape:  (62, 182, 37, 180)\n"
     ]
    }
   ],
   "source": [
    "##take seasonal daily average/remove seasonal climatology\n",
    "anom_u = daily_anom(u_input)\n",
    "print(\"ANOM U shape: \",anom_u.shape)\n",
    "\n",
    "anom_ehf = daily_anom(ehf_input)\n",
    "print(\"ANOM EHF shape: \",anom_ehf.shape)\n",
    "\n",
    "anom_gph = daily_anom(gph_input)\n",
    "print(\"ANOM GPH shape: \",anom_gph.shape)"
   ]
  },
  {
   "cell_type": "code",
   "execution_count": 7,
   "id": "87dea285-9378-4897-a3db-11fb6749d69c",
   "metadata": {},
   "outputs": [],
   "source": [
    "##check for NaNs\n",
    "if np.any(np.isnan(anom_u)) or np.any(np.isinf(anom_u)):\n",
    "    print(\"NaN or Inf values found in U!\")\n",
    "\n",
    "if np.any(np.isnan(anom_ehf)) or np.any(np.isinf(anom_ehf)):\n",
    "    print(\"NaN or Inf values found in EHF!\")\n",
    "\n",
    "if np.any(np.isnan(anom_gph)) or np.any(np.isinf(anom_gph)):\n",
    "    print(\"NaN or Inf values found in GPH!\")"
   ]
  },
  {
   "cell_type": "code",
   "execution_count": 9,
   "id": "29c17ecb-fe6a-43c9-95d2-5ce9c3d978a3",
   "metadata": {},
   "outputs": [],
   "source": [
    "##I did not flatten these so that the data can be changed according to lead time. \n",
    "pickle.dump(anom_u, open(\"./processed_vertical_data/vertanom_u.p\",\"wb\"))\n",
    "pickle.dump(anom_ehf, open(\"./processed_vertical_data/vertanom_ehf.p\",\"wb\"))\n",
    "pickle.dump(anom_gph, open(\"./processed_vertical_data/vertanom_gph.p\",\"wb\"))"
   ]
  },
  {
   "cell_type": "code",
   "execution_count": null,
   "id": "35cfde75-a5bd-4c5a-80c4-4f194462906b",
   "metadata": {},
   "outputs": [],
   "source": []
  }
 ],
 "metadata": {
  "kernelspec": {
   "display_name": "Python 3 (ipykernel)",
   "language": "python",
   "name": "python3"
  },
  "language_info": {
   "codemirror_mode": {
    "name": "ipython",
    "version": 3
   },
   "file_extension": ".py",
   "mimetype": "text/x-python",
   "name": "python",
   "nbconvert_exporter": "python",
   "pygments_lexer": "ipython3",
   "version": "3.11.7"
  }
 },
 "nbformat": 4,
 "nbformat_minor": 5
}
