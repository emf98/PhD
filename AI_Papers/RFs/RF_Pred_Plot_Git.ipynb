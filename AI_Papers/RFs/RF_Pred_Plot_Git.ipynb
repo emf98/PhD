{
 "cells": [
  {
   "cell_type": "markdown",
   "id": "f64388f0-bcce-42d3-872a-da66797433a0",
   "metadata": {},
   "source": [
    "### File for creating \"preceding  metrics\" plots for predictions using the RF model I trained ...\n",
    "\n",
    "3/6/2025\n",
    "\n",
    "Updated 4/11/2025 for 14-days\n",
    "\n",
    "Updated 4/16/2025 to only plot 3 features. It goes without saying that the data I used for this is not currently saved to GitHub because it is too large. "
   ]
  },
  {
   "cell_type": "code",
   "execution_count": 1,
   "id": "32f154ef-d813-4625-80db-ec9a7febeddc",
   "metadata": {},
   "outputs": [],
   "source": [
    "#relevant import statements\n",
    "import numpy as np\n",
    "import math\n",
    "import pandas as pd\n",
    "import xarray as xr \n",
    "import pickle \n",
    "import matplotlib.pyplot as plt"
   ]
  },
  {
   "cell_type": "markdown",
   "id": "52f12b60-073f-4e30-a974-3de63893cafc",
   "metadata": {},
   "source": [
    "Open and pre-process ellipse metrics. "
   ]
  },
  {
   "cell_type": "code",
   "execution_count": 2,
   "id": "6793afae-8a8c-4b1e-b680-ca76c68761b5",
   "metadata": {},
   "outputs": [],
   "source": [
    "##open ellipse metric files\n",
    "infile = open(\"./data/ellipse/era5_wind50_59.p\", 'rb') \n",
    "wind10 = pickle.load(infile)\n",
    "infile.close()\n",
    "\n",
    "infile = open(\"./data/ellipse/era5_size50_59.p\", 'rb') \n",
    "size10 = pickle.load(infile)\n",
    "infile.close()\n",
    "\n",
    "infile = open(\"./data/ellipse/era5_ratio50_59.p\", 'rb') \n",
    "rat10 = pickle.load(infile)\n",
    "infile.close()\n",
    "\n",
    "infile = open(\"./data/ellipse/era5_ephi50_59.p\", 'rb') \n",
    "ephi10 = pickle.load(infile)\n",
    "infile.close()\n",
    "\n",
    "infile = open(\"./data/ellipse/era5_cenlat50_59.p\", 'rb')\n",
    "cenlat10 = pickle.load(infile)\n",
    "infile.close()\n",
    "\n",
    "infile = open(\"./data/ellipse/era5_cenlon50_59.p\", 'rb')\n",
    "cenlon10 = pickle.load(infile)\n",
    "infile.close()\n",
    "\n",
    "infile = open(\"./data/gph/NA_gph_weightedANOM_500.p\", 'rb') \n",
    "gph = pickle.load(infile)\n",
    "infile.close()\n",
    "\n",
    "infile = open(\"./data/pv/CAP_pvu_weightedANOM_100.p\", 'rb') \n",
    "pv = pickle.load(infile)\n",
    "infile.close()"
   ]
  },
  {
   "cell_type": "code",
   "execution_count": 3,
   "id": "07f192f8-f47d-40ba-86af-c251d719945b",
   "metadata": {},
   "outputs": [],
   "source": [
    "#remove leap year\n",
    "wind10 = np.delete(wind10,[120],1)\n",
    "rat10 = np.delete(rat10,[120],1)\n",
    "cenlat10 = np.delete(cenlat10,[120],1)\n",
    "cenlon10 = np.delete(cenlon10,[120],1)\n",
    "size10 = np.delete(size10,[120],1)\n",
    "ephi10 = np.delete(ephi10,[120],1)"
   ]
  },
  {
   "cell_type": "code",
   "execution_count": 4,
   "id": "9a79540a-0269-4068-89cf-56bf678d64ee",
   "metadata": {
    "collapsed": true,
    "jupyter": {
     "outputs_hidden": true
    }
   },
   "outputs": [
    {
     "name": "stdout",
     "output_type": "stream",
     "text": [
      "24\n",
      "144\n",
      "True\n",
      "24\n",
      "145\n",
      "True\n",
      "24\n",
      "146\n",
      "True\n",
      "24\n",
      "147\n",
      "True\n",
      "24\n",
      "148\n",
      "True\n",
      "24\n",
      "149\n",
      "True\n",
      "24\n",
      "150\n",
      "True\n",
      "29\n",
      "145\n",
      "True\n",
      "29\n",
      "146\n",
      "True\n",
      "29\n",
      "147\n",
      "True\n",
      "29\n",
      "148\n",
      "True\n",
      "29\n",
      "149\n",
      "True\n",
      "39\n",
      "149\n",
      "True\n",
      "39\n",
      "150\n",
      "True\n",
      "41\n",
      "144\n",
      "True\n"
     ]
    }
   ],
   "source": [
    "#remove NaNs\n",
    "indices = np.isnan(wind10)\n",
    "for i in range(0,63):\n",
    "    for j in range(0,151):\n",
    "        if indices[i,j] != False:\n",
    "            print(i)\n",
    "            print(j)\n",
    "            print(\"True\")\n",
    "            wind10[i,j] = 0\n",
    "            rat10[i,j] = 0\n",
    "            cenlat10[i,j] = 0\n",
    "            cenlon10[i,j] = 0\n",
    "            size10[i,j] = 0\n",
    "            ephi10[i,j] = 0"
   ]
  },
  {
   "cell_type": "markdown",
   "id": "c43c779e-b7c7-4236-afa3-b7e4532ddc71",
   "metadata": {},
   "source": [
    "The initial `input` file cell here is for all eight features. The second `input2` is for plotting the 3 most important features from the RF model. "
   ]
  },
  {
   "cell_type": "code",
   "execution_count": 5,
   "id": "011e50c7-0071-418e-9073-2f0aff8625bf",
   "metadata": {},
   "outputs": [],
   "source": [
    "input = np.empty((63,151,8))"
   ]
  },
  {
   "cell_type": "code",
   "execution_count": 6,
   "id": "0fa72c49-90bf-4672-9e4c-8ffa964883fe",
   "metadata": {},
   "outputs": [],
   "source": [
    "input[:,:,0] = wind10[:,:]\n",
    "input[:,:,1] = rat10[:,:]\n",
    "input[:,:,2] = cenlat10[:,:]\n",
    "input[:,:,3] = cenlon10[:,:]\n",
    "input[:,:,4] = size10[:,:]\n",
    "input[:,:,5] = ephi10[:,:]\n",
    "input[:,:,6] = gph[:,:]\n",
    "input[:,:,7] = pv[:,:]"
   ]
  },
  {
   "cell_type": "code",
   "execution_count": 7,
   "id": "92f52801-982d-4bb5-9194-f2227afcce02",
   "metadata": {},
   "outputs": [],
   "source": [
    "##reduced\n",
    "input2 = np.empty((63,137,3))\n",
    "input2[:,:,0] = wind10[:,:]\n",
    "input2[:,:,1] = cenlon10[:,:]\n",
    "input2[:,:,2] = size10[:,:]"
   ]
  },
  {
   "cell_type": "markdown",
   "id": "22ab59a0-0008-4322-a9af-15fedd8ed954",
   "metadata": {},
   "source": [
    "Now that the assembly is done ... We can plot. lol."
   ]
  },
  {
   "cell_type": "code",
   "execution_count": 8,
   "id": "88e7d07d-2b2f-40ab-84bf-4b8aaa15f409",
   "metadata": {
    "jupyter": {
     "source_hidden": true
    }
   },
   "outputs": [],
   "source": [
    "##open indice files\n",
    "infile = open(\"./RF_indices/range_indices_RF14.p\", 'rb') ##essentially just taking the ranges from the testing data (which is being plotted?)  \n",
    "ranges = pickle.load(infile)\n",
    "infile.close()\n",
    "\n",
    "infile = open(\"./RF_indices/posXtest_RF14.p\", 'rb') \n",
    "posXtest = pickle.load(infile)\n",
    "infile.close()\n",
    "\n",
    "infile = open(\"./RF_indices/FposXtest_RF14.p\", 'rb') \n",
    "FposXtest = pickle.load(infile)\n",
    "infile.close()\n",
    "\n",
    "infile = open(\"./RF_indices/negXtest_RF14.p\", 'rb') \n",
    "negXtest = pickle.load(infile)\n",
    "infile.close()\n",
    "\n",
    "infile = open(\"./RF_indices/FnegXtest_RF14.p\", 'rb') \n",
    "FnegXtest = pickle.load(infile)\n",
    "infile.close()"
   ]
  },
  {
   "cell_type": "code",
   "execution_count": 9,
   "id": "22f998c7-dd8d-4cef-9cfa-3752410e6131",
   "metadata": {},
   "outputs": [
    {
     "data": {
      "text/plain": [
       "(5, 151, 3)"
      ]
     },
     "execution_count": 9,
     "metadata": {},
     "output_type": "execute_result"
    }
   ],
   "source": [
    "##reduce input to just the testing data\n",
    "#nolag_Xtest = input[58:,:,:]\n",
    "nolag_Xtest = input2[58:,:137,:]\n",
    "nolag_Xtest.shape"
   ]
  },
  {
   "cell_type": "markdown",
   "id": "57e0ab9e-4adc-4703-b924-2d79a6810056",
   "metadata": {},
   "source": [
    "### These few cells will be for making box plots. "
   ]
  },
  {
   "cell_type": "code",
   "execution_count": 12,
   "id": "44bcdd59-038c-4cf3-b3e2-d4601e967942",
   "metadata": {},
   "outputs": [
    {
     "name": "stdout",
     "output_type": "stream",
     "text": [
      "(1800, 14, 3)\n",
      "4071\n"
     ]
    }
   ],
   "source": [
    "##Correct Positive Events\n",
    "pos_corr_events = []\n",
    "pos_corr_num = []\n",
    "pos_corr_total_events = []\n",
    "\n",
    "for i in range(0,5):\n",
    "    for j in range(0,137):\n",
    "        #index for the date being observed\n",
    "        date_index = ranges[i,j]\n",
    "        ##loop through indexes of positive and correct events\n",
    "        for k in range(len(posXtest)):\n",
    "            pos_index = posXtest[k]\n",
    "            if pos_index == date_index:\n",
    "                pos_corr_total_events.append(0)\n",
    "                pos_corr_num.append(0)\n",
    "                pos_corr_events.extend(nolag_Xtest[i,j,:])\n",
    "\n",
    "##reshape\n",
    "pos = np.array(pos_corr_events).reshape((len(pos_corr_num),1,3))\n",
    "print(pos.shape)\n",
    "print(len(pos_corr_total_events))\n",
    "##A LOT OF THE CORRECT POSITIVE EVENTS ARE WITHIN 20 DAYS OF THE START OF THE YEAR"
   ]
  },
  {
   "cell_type": "code",
   "execution_count": 13,
   "id": "c9a727cf-fb6d-46e2-9acb-2e626e08f818",
   "metadata": {},
   "outputs": [
    {
     "name": "stdout",
     "output_type": "stream",
     "text": [
      "(905, 14, 3)\n",
      "905\n"
     ]
    }
   ],
   "source": [
    "##FALSE Positive Events\n",
    "Fpos_corr_events = []\n",
    "Fpos_corr_num = []\n",
    "Fpos_corr_total_events = []\n",
    "\n",
    "for i in range(0,5):\n",
    "    for j in range(0,137):\n",
    "        #index for the date being observed\n",
    "        date_index = ranges[i,j]\n",
    "        ##loop through indexes of positive and correct events\n",
    "        for k in range(len(FposXtest)):\n",
    "            pos_index = FposXtest[k]\n",
    "            if pos_index == date_index:\n",
    "                Fpos_corr_total_events.append(0)\n",
    "                Fpos_corr_num.append(0)\n",
    "                Fpos_corr_events.extend(nolag_Xtest[i,j,:])\n",
    "##reshape\n",
    "Fpos = np.array(Fpos_corr_events).reshape((len(Fpos_corr_num),1,3))\n",
    "print(Fpos.shape)\n",
    "print(len(Fpos_corr_total_events))"
   ]
  },
  {
   "cell_type": "code",
   "execution_count": 15,
   "id": "8721d99e-536e-48fc-b835-6a2617ef5952",
   "metadata": {},
   "outputs": [
    {
     "name": "stdout",
     "output_type": "stream",
     "text": [
      "(5995, 14, 3)\n",
      "5995\n"
     ]
    }
   ],
   "source": [
    "##Correct Negative Events\n",
    "neg_corr_events = []\n",
    "neg_corr_num = []\n",
    "neg_corr_total_events = []\n",
    "\n",
    "for i in range(0,5):\n",
    "    for j in range(0,137):\n",
    "        #index for the date being observed\n",
    "        date_index = ranges[i,j]\n",
    "        ##loop through indexes of positive and correct events\n",
    "        for k in range(len(negXtest)):\n",
    "            neg_index = negXtest[k]\n",
    "            if neg_index == date_index:\n",
    "                neg_corr_total_events.append(0)\n",
    "                neg_corr_num.append(0)\n",
    "                neg_corr_events.extend(nolag_Xtest[i,j,:])\n",
    "##reshape\n",
    "neg = np.array(neg_corr_events).reshape((len(neg_corr_num),1,3))\n",
    "print(neg.shape)\n",
    "print(len(neg_corr_total_events))"
   ]
  },
  {
   "cell_type": "code",
   "execution_count": 14,
   "id": "025797a8-ce8a-4cd5-8474-460a0e0dd09c",
   "metadata": {},
   "outputs": [
    {
     "name": "stdout",
     "output_type": "stream",
     "text": [
      "(2289, 14, 3)\n",
      "2426\n"
     ]
    }
   ],
   "source": [
    "##FALSE Negative Events\n",
    "Fneg_corr_events = []\n",
    "Fneg_corr_num = []\n",
    "Fneg_corr_total_events = []\n",
    "\n",
    "for i in range(0,5):\n",
    "    for j in range(0,137):\n",
    "        #index for the date being observed\n",
    "        date_index = ranges[i,j]\n",
    "        ##loop through indexes of positive and correct events\n",
    "        for k in range(len(FnegXtest)):\n",
    "            neg_index = FnegXtest[k]\n",
    "            if neg_index == date_index:\n",
    "                Fneg_corr_total_events.append(0)\n",
    "                Fneg_corr_num.append(0)\n",
    "                Fneg_corr_events.extend(nolag_Xtest[i,j,:])\n",
    "\n",
    "##reshape\n",
    "Fneg = np.array(Fneg_corr_events).reshape((len(Fneg_corr_num),1,3))\n",
    "print(Fneg.shape)\n",
    "print(len(Fneg_corr_total_events))"
   ]
  },
  {
   "cell_type": "code",
   "execution_count": 33,
   "id": "9e854e9b-5656-4b21-be0a-3d52443f2731",
   "metadata": {},
   "outputs": [
    {
     "data": {
      "image/png": "[encoded data removed]",
      "text/plain": [
       "<Figure size 800x800 with 3 Axes>"
      ]
     },
     "metadata": {},
     "output_type": "display_data"
    }
   ],
   "source": [
    "import matplotlib.ticker as mticker\n",
    "myLocator = mticker.MultipleLocator(2)\n",
    "\n",
    "#metrics = [\"Wind (m/s)\", \"Ratio (m)\", \"Latitude ($^o$)\", \"Longitude ($^o$)\", \"Size (m$^2$)\", \"EPhi ($^o$)\", \"GPH (hPa)\", \"PV (m$^2$K/s kg)\"]\n",
    "metrics = [\"Wind (m/s)\", \"Longitude ($^o$)\", \"Size (m$^2$)\"]\n",
    "ticks = ['Correct +', 'Incorrect -', 'Correct -', 'Incorrect +'] #set tick numbers for dataset\n",
    "ind = [2, 4, 6, 8]  # the x locations for the groups\n",
    "w = 0.25 #box-plot width\n",
    "c = [\"midnightblue\",\"royalblue\",\"mediumvioletred\",\"magenta\"]\n",
    "fs = 12\n",
    "\n",
    "fig, axes = plt.subplots(3, 1, figsize=(8, 8))\n",
    "plt.suptitle(\"Distribution of Testing Data RF Input Features Prior to Temp Anomaly Predictions\", fontsize = 13, x=0.55)\n",
    "axes = axes.flatten()\n",
    "for i in range(0,3):\n",
    "\n",
    "    if i ==6:\n",
    "        C_pos = pos[:,0,i]\n",
    "        F_neg = Fneg[:,0,i]\n",
    "        C_neg = neg[:,0,i]\n",
    "        F_pos = Fpos[:,0,i]\n",
    "        \n",
    "        a1 =axes[i].boxplot([C_pos,F_neg,C_neg,F_pos], positions= [2,4,6,8], widths=w, patch_artist=True)\n",
    "        for bplot in (a1,):\n",
    "            for patch, color in zip(bplot['boxes'], c):\n",
    "                patch.set_facecolor(color)\n",
    "        axes[i].set_xticks(ind, ticks, fontsize = 10)\n",
    "        axes[i].set_ylabel(str(metrics[i]), fontsize = fs)\n",
    "        #axes[i].set_ylim(0,1)\n",
    "    else:\n",
    "        C_pos = pos[:,0,i]\n",
    "        F_neg = Fneg[:,0,i]\n",
    "        C_neg = neg[:,0,i]\n",
    "        F_pos = Fpos[:,0,i]\n",
    "        \n",
    "        a1 =axes[i].boxplot([C_pos,F_neg,C_neg,F_pos], positions= [2,4,6,8], widths=w, patch_artist=True)\n",
    "        for bplot in (a1,):\n",
    "            for patch, color in zip(bplot['boxes'], c):\n",
    "                patch.set_facecolor(color)\n",
    "        axes[i].set_xticks(ind, ticks, fontsize = 10)\n",
    "        axes[i].set_ylabel(str(metrics[i]), fontsize = fs)\n",
    "        #axes[i].set_ylim(0,1)\n",
    "    \n",
    "\n",
    "plt.tight_layout()\n",
    "plt.subplots_adjust(top=0.95)   \n",
    "plt.savefig(\"RF_features_beforePRED_BOXPLOT_14days.png\")\n",
    "plt.show()"
   ]
  },
  {
   "cell_type": "code",
   "execution_count": null,
   "id": "0f968a2f-dc90-4cfe-a519-395c10892e84",
   "metadata": {},
   "outputs": [],
   "source": []
  }
 ],
 "metadata": {
  "kernelspec": {
   "display_name": "Python 3 AI Environment",
   "language": "python",
   "name": "ai"
  },
  "language_info": {
   "codemirror_mode": {
    "name": "ipython",
    "version": 3
   },
   "file_extension": ".py",
   "mimetype": "text/x-python",
   "name": "python",
   "nbconvert_exporter": "python",
   "pygments_lexer": "ipython3",
   "version": "3.11.7"
  }
 },
 "nbformat": 4,
 "nbformat_minor": 5
}
